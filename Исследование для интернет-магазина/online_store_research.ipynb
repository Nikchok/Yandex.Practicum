{
 "cells": [
  {
   "cell_type": "markdown",
   "metadata": {},
   "source": [
    "# Исследование для интернет-магазина «Стримчик»"
   ]
  },
  {
   "cell_type": "markdown",
   "metadata": {},
   "source": [
    "Поступили исторические данные о продажах игр, оценки пользователей и экспертов, жанры и платформы из открытых источников. Требуется выявить определяющие успешность игры закономерности. Это позволит сделать ставку на потенциально популярный продукт и спланировать рекламные кампании. Имеются данные до 2016 года, нужно отработать принцип работы с данными.<br> В наборе данных попадается аббревиатура ESRB (Entertainment Software Rating Board) — это ассоциация, определяющая возрастной рейтинг компьютерных игр. ESRB оценивает игровой контент и присваивает ему подходящую возрастную категорию, например, «Для взрослых», «Для детей младшего возраста» или «Для подростков»."
   ]
  },
  {
   "cell_type": "markdown",
   "metadata": {},
   "source": [
    "**Содержание**"
   ]
  },
  {
   "cell_type": "markdown",
   "metadata": {},
   "source": [
    "**Шаг 1. Загрузка данных и изучение общей информации.**<br>\n",
    "**Шаг 2. Предварительная подготовка данных.**<br>\n",
    "**Шаг 3. Исследовательский анализ данных.**<br>\n",
    "**Шаг 4. Составление портрета пользователя каждого региона.**<br>\n",
    "**Шаг 5. Проверка гипотез.**<br>\n",
    "**Шаг 6. Общий вывод.**"
   ]
  },
  {
   "cell_type": "markdown",
   "metadata": {},
   "source": [
    "**Описание данных**<br>\n",
    "\n",
    "Name — название игры<br>\n",
    "Platform — платформа<br>\n",
    "Year_of_Release — год выпуска<br>\n",
    "Genre — жанр игры<br>\n",
    "NA_sales — продажи в Северной Америке (миллионы проданных копий)<br>\n",
    "EU_sales — продажи в Европе (миллионы проданных копий)<br>\n",
    "JP_sales — продажи в Японии (миллионы проданных копий)<br>\n",
    "Other_sales — продажи в других странах (миллионы проданных копий)<br>\n",
    "Critic_Score — оценка критиков (максимум 100)<br>\n",
    "User_Score — оценка пользователей (максимум 10)<br>\n",
    "Rating — рейтинг от организации ESRB (англ. Entertainment Software Rating Board). Эта ассоциация определяет рейтинг компьютерных игр и присваивает им подходящую возрастную категорию."
   ]
  },
  {
   "cell_type": "markdown",
   "metadata": {},
   "source": [
    "## Загрузка данных и изучение общей информации."
   ]
  },
  {
   "cell_type": "code",
   "execution_count": 1,
   "metadata": {},
   "outputs": [],
   "source": [
    "import pandas as pd\n",
    "import matplotlib.pyplot as plt\n",
    "import numpy as np\n",
    "import seaborn as sns\n",
    "from scipy import stats as st"
   ]
  },
  {
   "cell_type": "code",
   "execution_count": 2,
   "metadata": {},
   "outputs": [],
   "source": [
    "data = pd.read_csv('/datasets/games.csv')"
   ]
  },
  {
   "cell_type": "code",
   "execution_count": 3,
   "metadata": {},
   "outputs": [
    {
     "data": {
      "text/html": [
       "<div>\n",
       "<style scoped>\n",
       "    .dataframe tbody tr th:only-of-type {\n",
       "        vertical-align: middle;\n",
       "    }\n",
       "\n",
       "    .dataframe tbody tr th {\n",
       "        vertical-align: top;\n",
       "    }\n",
       "\n",
       "    .dataframe thead th {\n",
       "        text-align: right;\n",
       "    }\n",
       "</style>\n",
       "<table border=\"1\" class=\"dataframe\">\n",
       "  <thead>\n",
       "    <tr style=\"text-align: right;\">\n",
       "      <th></th>\n",
       "      <th>Name</th>\n",
       "      <th>Platform</th>\n",
       "      <th>Year_of_Release</th>\n",
       "      <th>Genre</th>\n",
       "      <th>NA_sales</th>\n",
       "      <th>EU_sales</th>\n",
       "      <th>JP_sales</th>\n",
       "      <th>Other_sales</th>\n",
       "      <th>Critic_Score</th>\n",
       "      <th>User_Score</th>\n",
       "      <th>Rating</th>\n",
       "    </tr>\n",
       "  </thead>\n",
       "  <tbody>\n",
       "    <tr>\n",
       "      <th>0</th>\n",
       "      <td>Wii Sports</td>\n",
       "      <td>Wii</td>\n",
       "      <td>2006.0</td>\n",
       "      <td>Sports</td>\n",
       "      <td>41.36</td>\n",
       "      <td>28.96</td>\n",
       "      <td>3.77</td>\n",
       "      <td>8.45</td>\n",
       "      <td>76.0</td>\n",
       "      <td>8</td>\n",
       "      <td>E</td>\n",
       "    </tr>\n",
       "    <tr>\n",
       "      <th>1</th>\n",
       "      <td>Super Mario Bros.</td>\n",
       "      <td>NES</td>\n",
       "      <td>1985.0</td>\n",
       "      <td>Platform</td>\n",
       "      <td>29.08</td>\n",
       "      <td>3.58</td>\n",
       "      <td>6.81</td>\n",
       "      <td>0.77</td>\n",
       "      <td>NaN</td>\n",
       "      <td>NaN</td>\n",
       "      <td>NaN</td>\n",
       "    </tr>\n",
       "    <tr>\n",
       "      <th>2</th>\n",
       "      <td>Mario Kart Wii</td>\n",
       "      <td>Wii</td>\n",
       "      <td>2008.0</td>\n",
       "      <td>Racing</td>\n",
       "      <td>15.68</td>\n",
       "      <td>12.76</td>\n",
       "      <td>3.79</td>\n",
       "      <td>3.29</td>\n",
       "      <td>82.0</td>\n",
       "      <td>8.3</td>\n",
       "      <td>E</td>\n",
       "    </tr>\n",
       "    <tr>\n",
       "      <th>3</th>\n",
       "      <td>Wii Sports Resort</td>\n",
       "      <td>Wii</td>\n",
       "      <td>2009.0</td>\n",
       "      <td>Sports</td>\n",
       "      <td>15.61</td>\n",
       "      <td>10.93</td>\n",
       "      <td>3.28</td>\n",
       "      <td>2.95</td>\n",
       "      <td>80.0</td>\n",
       "      <td>8</td>\n",
       "      <td>E</td>\n",
       "    </tr>\n",
       "    <tr>\n",
       "      <th>4</th>\n",
       "      <td>Pokemon Red/Pokemon Blue</td>\n",
       "      <td>GB</td>\n",
       "      <td>1996.0</td>\n",
       "      <td>Role-Playing</td>\n",
       "      <td>11.27</td>\n",
       "      <td>8.89</td>\n",
       "      <td>10.22</td>\n",
       "      <td>1.00</td>\n",
       "      <td>NaN</td>\n",
       "      <td>NaN</td>\n",
       "      <td>NaN</td>\n",
       "    </tr>\n",
       "    <tr>\n",
       "      <th>...</th>\n",
       "      <td>...</td>\n",
       "      <td>...</td>\n",
       "      <td>...</td>\n",
       "      <td>...</td>\n",
       "      <td>...</td>\n",
       "      <td>...</td>\n",
       "      <td>...</td>\n",
       "      <td>...</td>\n",
       "      <td>...</td>\n",
       "      <td>...</td>\n",
       "      <td>...</td>\n",
       "    </tr>\n",
       "    <tr>\n",
       "      <th>16710</th>\n",
       "      <td>Samurai Warriors: Sanada Maru</td>\n",
       "      <td>PS3</td>\n",
       "      <td>2016.0</td>\n",
       "      <td>Action</td>\n",
       "      <td>0.00</td>\n",
       "      <td>0.00</td>\n",
       "      <td>0.01</td>\n",
       "      <td>0.00</td>\n",
       "      <td>NaN</td>\n",
       "      <td>NaN</td>\n",
       "      <td>NaN</td>\n",
       "    </tr>\n",
       "    <tr>\n",
       "      <th>16711</th>\n",
       "      <td>LMA Manager 2007</td>\n",
       "      <td>X360</td>\n",
       "      <td>2006.0</td>\n",
       "      <td>Sports</td>\n",
       "      <td>0.00</td>\n",
       "      <td>0.01</td>\n",
       "      <td>0.00</td>\n",
       "      <td>0.00</td>\n",
       "      <td>NaN</td>\n",
       "      <td>NaN</td>\n",
       "      <td>NaN</td>\n",
       "    </tr>\n",
       "    <tr>\n",
       "      <th>16712</th>\n",
       "      <td>Haitaka no Psychedelica</td>\n",
       "      <td>PSV</td>\n",
       "      <td>2016.0</td>\n",
       "      <td>Adventure</td>\n",
       "      <td>0.00</td>\n",
       "      <td>0.00</td>\n",
       "      <td>0.01</td>\n",
       "      <td>0.00</td>\n",
       "      <td>NaN</td>\n",
       "      <td>NaN</td>\n",
       "      <td>NaN</td>\n",
       "    </tr>\n",
       "    <tr>\n",
       "      <th>16713</th>\n",
       "      <td>Spirits &amp; Spells</td>\n",
       "      <td>GBA</td>\n",
       "      <td>2003.0</td>\n",
       "      <td>Platform</td>\n",
       "      <td>0.01</td>\n",
       "      <td>0.00</td>\n",
       "      <td>0.00</td>\n",
       "      <td>0.00</td>\n",
       "      <td>NaN</td>\n",
       "      <td>NaN</td>\n",
       "      <td>NaN</td>\n",
       "    </tr>\n",
       "    <tr>\n",
       "      <th>16714</th>\n",
       "      <td>Winning Post 8 2016</td>\n",
       "      <td>PSV</td>\n",
       "      <td>2016.0</td>\n",
       "      <td>Simulation</td>\n",
       "      <td>0.00</td>\n",
       "      <td>0.00</td>\n",
       "      <td>0.01</td>\n",
       "      <td>0.00</td>\n",
       "      <td>NaN</td>\n",
       "      <td>NaN</td>\n",
       "      <td>NaN</td>\n",
       "    </tr>\n",
       "  </tbody>\n",
       "</table>\n",
       "<p>16715 rows × 11 columns</p>\n",
       "</div>"
      ],
      "text/plain": [
       "                                Name Platform  Year_of_Release         Genre  \\\n",
       "0                         Wii Sports      Wii           2006.0        Sports   \n",
       "1                  Super Mario Bros.      NES           1985.0      Platform   \n",
       "2                     Mario Kart Wii      Wii           2008.0        Racing   \n",
       "3                  Wii Sports Resort      Wii           2009.0        Sports   \n",
       "4           Pokemon Red/Pokemon Blue       GB           1996.0  Role-Playing   \n",
       "...                              ...      ...              ...           ...   \n",
       "16710  Samurai Warriors: Sanada Maru      PS3           2016.0        Action   \n",
       "16711               LMA Manager 2007     X360           2006.0        Sports   \n",
       "16712        Haitaka no Psychedelica      PSV           2016.0     Adventure   \n",
       "16713               Spirits & Spells      GBA           2003.0      Platform   \n",
       "16714            Winning Post 8 2016      PSV           2016.0    Simulation   \n",
       "\n",
       "       NA_sales  EU_sales  JP_sales  Other_sales  Critic_Score User_Score  \\\n",
       "0         41.36     28.96      3.77         8.45          76.0          8   \n",
       "1         29.08      3.58      6.81         0.77           NaN        NaN   \n",
       "2         15.68     12.76      3.79         3.29          82.0        8.3   \n",
       "3         15.61     10.93      3.28         2.95          80.0          8   \n",
       "4         11.27      8.89     10.22         1.00           NaN        NaN   \n",
       "...         ...       ...       ...          ...           ...        ...   \n",
       "16710      0.00      0.00      0.01         0.00           NaN        NaN   \n",
       "16711      0.00      0.01      0.00         0.00           NaN        NaN   \n",
       "16712      0.00      0.00      0.01         0.00           NaN        NaN   \n",
       "16713      0.01      0.00      0.00         0.00           NaN        NaN   \n",
       "16714      0.00      0.00      0.01         0.00           NaN        NaN   \n",
       "\n",
       "      Rating  \n",
       "0          E  \n",
       "1        NaN  \n",
       "2          E  \n",
       "3          E  \n",
       "4        NaN  \n",
       "...      ...  \n",
       "16710    NaN  \n",
       "16711    NaN  \n",
       "16712    NaN  \n",
       "16713    NaN  \n",
       "16714    NaN  \n",
       "\n",
       "[16715 rows x 11 columns]"
      ]
     },
     "metadata": {},
     "output_type": "display_data"
    },
    {
     "name": "stdout",
     "output_type": "stream",
     "text": [
      "<class 'pandas.core.frame.DataFrame'>\n",
      "RangeIndex: 16715 entries, 0 to 16714\n",
      "Data columns (total 11 columns):\n",
      " #   Column           Non-Null Count  Dtype  \n",
      "---  ------           --------------  -----  \n",
      " 0   Name             16713 non-null  object \n",
      " 1   Platform         16715 non-null  object \n",
      " 2   Year_of_Release  16446 non-null  float64\n",
      " 3   Genre            16713 non-null  object \n",
      " 4   NA_sales         16715 non-null  float64\n",
      " 5   EU_sales         16715 non-null  float64\n",
      " 6   JP_sales         16715 non-null  float64\n",
      " 7   Other_sales      16715 non-null  float64\n",
      " 8   Critic_Score     8137 non-null   float64\n",
      " 9   User_Score       10014 non-null  object \n",
      " 10  Rating           9949 non-null   object \n",
      "dtypes: float64(6), object(5)\n",
      "memory usage: 1.4+ MB\n"
     ]
    },
    {
     "data": {
      "text/html": [
       "<div>\n",
       "<style scoped>\n",
       "    .dataframe tbody tr th:only-of-type {\n",
       "        vertical-align: middle;\n",
       "    }\n",
       "\n",
       "    .dataframe tbody tr th {\n",
       "        vertical-align: top;\n",
       "    }\n",
       "\n",
       "    .dataframe thead th {\n",
       "        text-align: right;\n",
       "    }\n",
       "</style>\n",
       "<table border=\"1\" class=\"dataframe\">\n",
       "  <thead>\n",
       "    <tr style=\"text-align: right;\">\n",
       "      <th></th>\n",
       "      <th>Year_of_Release</th>\n",
       "      <th>NA_sales</th>\n",
       "      <th>EU_sales</th>\n",
       "      <th>JP_sales</th>\n",
       "      <th>Other_sales</th>\n",
       "      <th>Critic_Score</th>\n",
       "    </tr>\n",
       "  </thead>\n",
       "  <tbody>\n",
       "    <tr>\n",
       "      <th>count</th>\n",
       "      <td>16446.000000</td>\n",
       "      <td>16715.000000</td>\n",
       "      <td>16715.000000</td>\n",
       "      <td>16715.000000</td>\n",
       "      <td>16715.000000</td>\n",
       "      <td>8137.000000</td>\n",
       "    </tr>\n",
       "    <tr>\n",
       "      <th>mean</th>\n",
       "      <td>2006.484616</td>\n",
       "      <td>0.263377</td>\n",
       "      <td>0.145060</td>\n",
       "      <td>0.077617</td>\n",
       "      <td>0.047342</td>\n",
       "      <td>68.967679</td>\n",
       "    </tr>\n",
       "    <tr>\n",
       "      <th>std</th>\n",
       "      <td>5.877050</td>\n",
       "      <td>0.813604</td>\n",
       "      <td>0.503339</td>\n",
       "      <td>0.308853</td>\n",
       "      <td>0.186731</td>\n",
       "      <td>13.938165</td>\n",
       "    </tr>\n",
       "    <tr>\n",
       "      <th>min</th>\n",
       "      <td>1980.000000</td>\n",
       "      <td>0.000000</td>\n",
       "      <td>0.000000</td>\n",
       "      <td>0.000000</td>\n",
       "      <td>0.000000</td>\n",
       "      <td>13.000000</td>\n",
       "    </tr>\n",
       "    <tr>\n",
       "      <th>25%</th>\n",
       "      <td>2003.000000</td>\n",
       "      <td>0.000000</td>\n",
       "      <td>0.000000</td>\n",
       "      <td>0.000000</td>\n",
       "      <td>0.000000</td>\n",
       "      <td>60.000000</td>\n",
       "    </tr>\n",
       "    <tr>\n",
       "      <th>50%</th>\n",
       "      <td>2007.000000</td>\n",
       "      <td>0.080000</td>\n",
       "      <td>0.020000</td>\n",
       "      <td>0.000000</td>\n",
       "      <td>0.010000</td>\n",
       "      <td>71.000000</td>\n",
       "    </tr>\n",
       "    <tr>\n",
       "      <th>75%</th>\n",
       "      <td>2010.000000</td>\n",
       "      <td>0.240000</td>\n",
       "      <td>0.110000</td>\n",
       "      <td>0.040000</td>\n",
       "      <td>0.030000</td>\n",
       "      <td>79.000000</td>\n",
       "    </tr>\n",
       "    <tr>\n",
       "      <th>max</th>\n",
       "      <td>2016.000000</td>\n",
       "      <td>41.360000</td>\n",
       "      <td>28.960000</td>\n",
       "      <td>10.220000</td>\n",
       "      <td>10.570000</td>\n",
       "      <td>98.000000</td>\n",
       "    </tr>\n",
       "  </tbody>\n",
       "</table>\n",
       "</div>"
      ],
      "text/plain": [
       "       Year_of_Release      NA_sales      EU_sales      JP_sales  \\\n",
       "count     16446.000000  16715.000000  16715.000000  16715.000000   \n",
       "mean       2006.484616      0.263377      0.145060      0.077617   \n",
       "std           5.877050      0.813604      0.503339      0.308853   \n",
       "min        1980.000000      0.000000      0.000000      0.000000   \n",
       "25%        2003.000000      0.000000      0.000000      0.000000   \n",
       "50%        2007.000000      0.080000      0.020000      0.000000   \n",
       "75%        2010.000000      0.240000      0.110000      0.040000   \n",
       "max        2016.000000     41.360000     28.960000     10.220000   \n",
       "\n",
       "        Other_sales  Critic_Score  \n",
       "count  16715.000000   8137.000000  \n",
       "mean       0.047342     68.967679  \n",
       "std        0.186731     13.938165  \n",
       "min        0.000000     13.000000  \n",
       "25%        0.000000     60.000000  \n",
       "50%        0.010000     71.000000  \n",
       "75%        0.030000     79.000000  \n",
       "max       10.570000     98.000000  "
      ]
     },
     "execution_count": 3,
     "metadata": {},
     "output_type": "execute_result"
    }
   ],
   "source": [
    "display(data)\n",
    "data.info()\n",
    "data.describe()"
   ]
  },
  {
   "cell_type": "markdown",
   "metadata": {},
   "source": [
    "Загрузили данные и изучили общую информацию о датафрейме. В названиях столбцов не соблюдается нижний регистр. Наибольшее количество пропусков в столбцах, связанных с рейтингом. В глаза бросается неверный тип данных для столбцов Year_of_Release и User_Score."
   ]
  },
  {
   "cell_type": "markdown",
   "metadata": {},
   "source": [
    "## Предварительная подготовка данных."
   ]
  },
  {
   "cell_type": "code",
   "execution_count": 4,
   "metadata": {},
   "outputs": [
    {
     "data": {
      "text/plain": [
       "Index(['name', 'platform', 'year_of_release', 'genre', 'na_sales', 'eu_sales',\n",
       "       'jp_sales', 'other_sales', 'critic_score', 'user_score', 'rating'],\n",
       "      dtype='object')"
      ]
     },
     "execution_count": 4,
     "metadata": {},
     "output_type": "execute_result"
    }
   ],
   "source": [
    "#Приведем названия столбцов к нижнему регистру.\n",
    "data.columns = data.columns.str.lower()\n",
    "data.columns"
   ]
  },
  {
   "cell_type": "code",
   "execution_count": 5,
   "metadata": {},
   "outputs": [
    {
     "name": "stdout",
     "output_type": "stream",
     "text": [
      "critic_score       8578\n",
      "rating             6766\n",
      "user_score         6701\n",
      "year_of_release     269\n",
      "name                  2\n",
      "genre                 2\n",
      "platform              0\n",
      "na_sales              0\n",
      "eu_sales              0\n",
      "jp_sales              0\n",
      "other_sales           0\n",
      "dtype: int64\n"
     ]
    }
   ],
   "source": [
    "#Узнаем количество пропущенных значений.\n",
    "print(data.isna().sum().sort_values(ascending=False))"
   ]
  },
  {
   "cell_type": "code",
   "execution_count": 6,
   "metadata": {},
   "outputs": [],
   "source": [
    "#Пойдём по порядку, в столбце name 2 пропуска - удалим их.\n",
    "data.dropna(subset=['name'], inplace=True)"
   ]
  },
  {
   "cell_type": "code",
   "execution_count": 7,
   "metadata": {},
   "outputs": [],
   "source": [
    "#Конечно же, можно восстановить некоторую информацию судя по названию игры,\n",
    "#но так как пропуски в столбце года выпуска составляют не более 2% - избавимся и от них.\n",
    "data.dropna(subset=['year_of_release'], inplace=True)"
   ]
  },
  {
   "cell_type": "code",
   "execution_count": 8,
   "metadata": {},
   "outputs": [
    {
     "name": "stdout",
     "output_type": "stream",
     "text": [
      "Количество явных дубликатов: 0\n"
     ]
    }
   ],
   "source": [
    "print(f'Количество явных дубликатов:', data.duplicated().sum())"
   ]
  },
  {
   "cell_type": "markdown",
   "metadata": {},
   "source": [
    "Изменить тип данных столбца user_score не вышло, разберемся, в чем дело."
   ]
  },
  {
   "cell_type": "code",
   "execution_count": 9,
   "metadata": {},
   "outputs": [
    {
     "data": {
      "text/plain": [
       "array(['8', nan, '8.3', '8.5', '6.6', '8.4', '8.6', '7.7', '6.3', '7.4',\n",
       "       '8.2', '9', '7.9', '8.1', '8.7', '7.1', '3.4', '5.3', '4.8', '3.2',\n",
       "       '8.9', '6.4', '7.8', '7.5', '2.6', '7.2', '9.2', '7', '7.3', '4.3',\n",
       "       '7.6', '5.7', '5', '9.1', '6.5', 'tbd', '8.8', '6.9', '9.4', '6.8',\n",
       "       '6.1', '6.7', '5.4', '4', '4.9', '4.5', '9.3', '6.2', '4.2', '6',\n",
       "       '3.7', '4.1', '5.8', '5.6', '5.5', '4.4', '4.6', '5.9', '3.9',\n",
       "       '3.1', '2.9', '5.2', '3.3', '4.7', '5.1', '3.5', '2.5', '1.9', '3',\n",
       "       '2.7', '2.2', '2', '9.5', '2.1', '3.6', '2.8', '1.8', '3.8', '0',\n",
       "       '1.6', '9.6', '2.4', '1.7', '1.1', '0.3', '1.5', '0.7', '1.2',\n",
       "       '2.3', '0.5', '1.3', '0.2', '0.6', '1.4', '0.9', '1', '9.7'],\n",
       "      dtype=object)"
      ]
     },
     "execution_count": 9,
     "metadata": {},
     "output_type": "execute_result"
    }
   ],
   "source": [
    "#Узнаем уникальные значения столбца оценки пользователей.\n",
    "data.user_score.unique()"
   ]
  },
  {
   "cell_type": "markdown",
   "metadata": {},
   "source": [
    "Выявлено незнакомое значение tbd. Расшифровывается это как \"предстоит определить\". Годы выпуска игр со значением \"to be determined\" затронуты разные, поэтому явных закономерностей не прослеживается."
   ]
  },
  {
   "cell_type": "code",
   "execution_count": 10,
   "metadata": {},
   "outputs": [],
   "source": [
    "#Для текущего исследования заменим tbd на NaN и сменим тип данных.\n",
    "data.loc[data['user_score'] == 'tbd', 'user_score'] = np.nan"
   ]
  },
  {
   "cell_type": "code",
   "execution_count": 11,
   "metadata": {},
   "outputs": [],
   "source": [
    "#Приведем год выпуска к целочисленному типу, а столбец 'user_score' - к типу вещественных чисел.\n",
    "data['year_of_release'] = data['year_of_release'].astype(int)\n",
    "data['user_score'] = data['user_score'].astype(float)"
   ]
  },
  {
   "cell_type": "code",
   "execution_count": 12,
   "metadata": {},
   "outputs": [
    {
     "data": {
      "text/plain": [
       "array(['E', 'NR', 'M', 'T', 'E10+', 'K-A', 'AO', 'EC', 'RP'], dtype=object)"
      ]
     },
     "execution_count": 12,
     "metadata": {},
     "output_type": "execute_result"
    }
   ],
   "source": [
    "#Отдельное внимание уделим пропускам в столбце 'rating' - игры, которым рейтинг не назначен по различным причинам.\n",
    "#Для наглядности заменим пропуск значением \"NR\"\n",
    "data['rating'] = data['rating'].fillna('NR')\n",
    "data['rating'].unique()"
   ]
  },
  {
   "cell_type": "markdown",
   "metadata": {},
   "source": [
    "В датасете присутствуют игры с 1980 года, а ESRB была основана в 1994 - не всем играм был присвоен этот рейтинг."
   ]
  },
  {
   "cell_type": "code",
   "execution_count": 13,
   "metadata": {},
   "outputs": [],
   "source": [
    "#Посчитаем суммарные продажи во всех регионах и запишем их в отдельный столбец.\n",
    "data['total_sales'] = data['na_sales'] + data['eu_sales'] + data['jp_sales'] + data['other_sales']"
   ]
  },
  {
   "cell_type": "code",
   "execution_count": 14,
   "metadata": {},
   "outputs": [
    {
     "data": {
      "text/html": [
       "<div>\n",
       "<style scoped>\n",
       "    .dataframe tbody tr th:only-of-type {\n",
       "        vertical-align: middle;\n",
       "    }\n",
       "\n",
       "    .dataframe tbody tr th {\n",
       "        vertical-align: top;\n",
       "    }\n",
       "\n",
       "    .dataframe thead th {\n",
       "        text-align: right;\n",
       "    }\n",
       "</style>\n",
       "<table border=\"1\" class=\"dataframe\">\n",
       "  <thead>\n",
       "    <tr style=\"text-align: right;\">\n",
       "      <th></th>\n",
       "      <th>index</th>\n",
       "      <th>name</th>\n",
       "      <th>platform</th>\n",
       "      <th>year_of_release</th>\n",
       "      <th>genre</th>\n",
       "      <th>na_sales</th>\n",
       "      <th>eu_sales</th>\n",
       "      <th>jp_sales</th>\n",
       "      <th>other_sales</th>\n",
       "      <th>critic_score</th>\n",
       "      <th>user_score</th>\n",
       "      <th>rating</th>\n",
       "      <th>total_sales</th>\n",
       "    </tr>\n",
       "  </thead>\n",
       "  <tbody>\n",
       "    <tr>\n",
       "      <th>0</th>\n",
       "      <td>0</td>\n",
       "      <td>Wii Sports</td>\n",
       "      <td>Wii</td>\n",
       "      <td>2006</td>\n",
       "      <td>Sports</td>\n",
       "      <td>41.36</td>\n",
       "      <td>28.96</td>\n",
       "      <td>3.77</td>\n",
       "      <td>8.45</td>\n",
       "      <td>76.0</td>\n",
       "      <td>8.0</td>\n",
       "      <td>E</td>\n",
       "      <td>82.54</td>\n",
       "    </tr>\n",
       "    <tr>\n",
       "      <th>1</th>\n",
       "      <td>1</td>\n",
       "      <td>Super Mario Bros.</td>\n",
       "      <td>NES</td>\n",
       "      <td>1985</td>\n",
       "      <td>Platform</td>\n",
       "      <td>29.08</td>\n",
       "      <td>3.58</td>\n",
       "      <td>6.81</td>\n",
       "      <td>0.77</td>\n",
       "      <td>NaN</td>\n",
       "      <td>NaN</td>\n",
       "      <td>NR</td>\n",
       "      <td>40.24</td>\n",
       "    </tr>\n",
       "    <tr>\n",
       "      <th>2</th>\n",
       "      <td>2</td>\n",
       "      <td>Mario Kart Wii</td>\n",
       "      <td>Wii</td>\n",
       "      <td>2008</td>\n",
       "      <td>Racing</td>\n",
       "      <td>15.68</td>\n",
       "      <td>12.76</td>\n",
       "      <td>3.79</td>\n",
       "      <td>3.29</td>\n",
       "      <td>82.0</td>\n",
       "      <td>8.3</td>\n",
       "      <td>E</td>\n",
       "      <td>35.52</td>\n",
       "    </tr>\n",
       "    <tr>\n",
       "      <th>3</th>\n",
       "      <td>3</td>\n",
       "      <td>Wii Sports Resort</td>\n",
       "      <td>Wii</td>\n",
       "      <td>2009</td>\n",
       "      <td>Sports</td>\n",
       "      <td>15.61</td>\n",
       "      <td>10.93</td>\n",
       "      <td>3.28</td>\n",
       "      <td>2.95</td>\n",
       "      <td>80.0</td>\n",
       "      <td>8.0</td>\n",
       "      <td>E</td>\n",
       "      <td>32.77</td>\n",
       "    </tr>\n",
       "    <tr>\n",
       "      <th>4</th>\n",
       "      <td>4</td>\n",
       "      <td>Pokemon Red/Pokemon Blue</td>\n",
       "      <td>GB</td>\n",
       "      <td>1996</td>\n",
       "      <td>Role-Playing</td>\n",
       "      <td>11.27</td>\n",
       "      <td>8.89</td>\n",
       "      <td>10.22</td>\n",
       "      <td>1.00</td>\n",
       "      <td>NaN</td>\n",
       "      <td>NaN</td>\n",
       "      <td>NR</td>\n",
       "      <td>31.38</td>\n",
       "    </tr>\n",
       "    <tr>\n",
       "      <th>...</th>\n",
       "      <td>...</td>\n",
       "      <td>...</td>\n",
       "      <td>...</td>\n",
       "      <td>...</td>\n",
       "      <td>...</td>\n",
       "      <td>...</td>\n",
       "      <td>...</td>\n",
       "      <td>...</td>\n",
       "      <td>...</td>\n",
       "      <td>...</td>\n",
       "      <td>...</td>\n",
       "      <td>...</td>\n",
       "      <td>...</td>\n",
       "    </tr>\n",
       "    <tr>\n",
       "      <th>16439</th>\n",
       "      <td>16710</td>\n",
       "      <td>Samurai Warriors: Sanada Maru</td>\n",
       "      <td>PS3</td>\n",
       "      <td>2016</td>\n",
       "      <td>Action</td>\n",
       "      <td>0.00</td>\n",
       "      <td>0.00</td>\n",
       "      <td>0.01</td>\n",
       "      <td>0.00</td>\n",
       "      <td>NaN</td>\n",
       "      <td>NaN</td>\n",
       "      <td>NR</td>\n",
       "      <td>0.01</td>\n",
       "    </tr>\n",
       "    <tr>\n",
       "      <th>16440</th>\n",
       "      <td>16711</td>\n",
       "      <td>LMA Manager 2007</td>\n",
       "      <td>X360</td>\n",
       "      <td>2006</td>\n",
       "      <td>Sports</td>\n",
       "      <td>0.00</td>\n",
       "      <td>0.01</td>\n",
       "      <td>0.00</td>\n",
       "      <td>0.00</td>\n",
       "      <td>NaN</td>\n",
       "      <td>NaN</td>\n",
       "      <td>NR</td>\n",
       "      <td>0.01</td>\n",
       "    </tr>\n",
       "    <tr>\n",
       "      <th>16441</th>\n",
       "      <td>16712</td>\n",
       "      <td>Haitaka no Psychedelica</td>\n",
       "      <td>PSV</td>\n",
       "      <td>2016</td>\n",
       "      <td>Adventure</td>\n",
       "      <td>0.00</td>\n",
       "      <td>0.00</td>\n",
       "      <td>0.01</td>\n",
       "      <td>0.00</td>\n",
       "      <td>NaN</td>\n",
       "      <td>NaN</td>\n",
       "      <td>NR</td>\n",
       "      <td>0.01</td>\n",
       "    </tr>\n",
       "    <tr>\n",
       "      <th>16442</th>\n",
       "      <td>16713</td>\n",
       "      <td>Spirits &amp; Spells</td>\n",
       "      <td>GBA</td>\n",
       "      <td>2003</td>\n",
       "      <td>Platform</td>\n",
       "      <td>0.01</td>\n",
       "      <td>0.00</td>\n",
       "      <td>0.00</td>\n",
       "      <td>0.00</td>\n",
       "      <td>NaN</td>\n",
       "      <td>NaN</td>\n",
       "      <td>NR</td>\n",
       "      <td>0.01</td>\n",
       "    </tr>\n",
       "    <tr>\n",
       "      <th>16443</th>\n",
       "      <td>16714</td>\n",
       "      <td>Winning Post 8 2016</td>\n",
       "      <td>PSV</td>\n",
       "      <td>2016</td>\n",
       "      <td>Simulation</td>\n",
       "      <td>0.00</td>\n",
       "      <td>0.00</td>\n",
       "      <td>0.01</td>\n",
       "      <td>0.00</td>\n",
       "      <td>NaN</td>\n",
       "      <td>NaN</td>\n",
       "      <td>NR</td>\n",
       "      <td>0.01</td>\n",
       "    </tr>\n",
       "  </tbody>\n",
       "</table>\n",
       "<p>16444 rows × 13 columns</p>\n",
       "</div>"
      ],
      "text/plain": [
       "       index                           name platform  year_of_release  \\\n",
       "0          0                     Wii Sports      Wii             2006   \n",
       "1          1              Super Mario Bros.      NES             1985   \n",
       "2          2                 Mario Kart Wii      Wii             2008   \n",
       "3          3              Wii Sports Resort      Wii             2009   \n",
       "4          4       Pokemon Red/Pokemon Blue       GB             1996   \n",
       "...      ...                            ...      ...              ...   \n",
       "16439  16710  Samurai Warriors: Sanada Maru      PS3             2016   \n",
       "16440  16711               LMA Manager 2007     X360             2006   \n",
       "16441  16712        Haitaka no Psychedelica      PSV             2016   \n",
       "16442  16713               Spirits & Spells      GBA             2003   \n",
       "16443  16714            Winning Post 8 2016      PSV             2016   \n",
       "\n",
       "              genre  na_sales  eu_sales  jp_sales  other_sales  critic_score  \\\n",
       "0            Sports     41.36     28.96      3.77         8.45          76.0   \n",
       "1          Platform     29.08      3.58      6.81         0.77           NaN   \n",
       "2            Racing     15.68     12.76      3.79         3.29          82.0   \n",
       "3            Sports     15.61     10.93      3.28         2.95          80.0   \n",
       "4      Role-Playing     11.27      8.89     10.22         1.00           NaN   \n",
       "...             ...       ...       ...       ...          ...           ...   \n",
       "16439        Action      0.00      0.00      0.01         0.00           NaN   \n",
       "16440        Sports      0.00      0.01      0.00         0.00           NaN   \n",
       "16441     Adventure      0.00      0.00      0.01         0.00           NaN   \n",
       "16442      Platform      0.01      0.00      0.00         0.00           NaN   \n",
       "16443    Simulation      0.00      0.00      0.01         0.00           NaN   \n",
       "\n",
       "       user_score rating  total_sales  \n",
       "0             8.0      E        82.54  \n",
       "1             NaN     NR        40.24  \n",
       "2             8.3      E        35.52  \n",
       "3             8.0      E        32.77  \n",
       "4             NaN     NR        31.38  \n",
       "...           ...    ...          ...  \n",
       "16439         NaN     NR         0.01  \n",
       "16440         NaN     NR         0.01  \n",
       "16441         NaN     NR         0.01  \n",
       "16442         NaN     NR         0.01  \n",
       "16443         NaN     NR         0.01  \n",
       "\n",
       "[16444 rows x 13 columns]"
      ]
     },
     "execution_count": 14,
     "metadata": {},
     "output_type": "execute_result"
    }
   ],
   "source": [
    "data.reset_index()"
   ]
  },
  {
   "cell_type": "code",
   "execution_count": 15,
   "metadata": {},
   "outputs": [
    {
     "data": {
      "text/html": [
       "<div>\n",
       "<style scoped>\n",
       "    .dataframe tbody tr th:only-of-type {\n",
       "        vertical-align: middle;\n",
       "    }\n",
       "\n",
       "    .dataframe tbody tr th {\n",
       "        vertical-align: top;\n",
       "    }\n",
       "\n",
       "    .dataframe thead th {\n",
       "        text-align: right;\n",
       "    }\n",
       "</style>\n",
       "<table border=\"1\" class=\"dataframe\">\n",
       "  <thead>\n",
       "    <tr style=\"text-align: right;\">\n",
       "      <th></th>\n",
       "      <th>name</th>\n",
       "      <th>platform</th>\n",
       "      <th>year_of_release</th>\n",
       "      <th>genre</th>\n",
       "      <th>na_sales</th>\n",
       "      <th>eu_sales</th>\n",
       "      <th>jp_sales</th>\n",
       "      <th>other_sales</th>\n",
       "      <th>critic_score</th>\n",
       "      <th>user_score</th>\n",
       "      <th>rating</th>\n",
       "      <th>total_sales</th>\n",
       "    </tr>\n",
       "  </thead>\n",
       "  <tbody>\n",
       "    <tr>\n",
       "      <th>0</th>\n",
       "      <td>Wii Sports</td>\n",
       "      <td>Wii</td>\n",
       "      <td>2006</td>\n",
       "      <td>Sports</td>\n",
       "      <td>41.36</td>\n",
       "      <td>28.96</td>\n",
       "      <td>3.77</td>\n",
       "      <td>8.45</td>\n",
       "      <td>76.0</td>\n",
       "      <td>8.0</td>\n",
       "      <td>E</td>\n",
       "      <td>82.54</td>\n",
       "    </tr>\n",
       "    <tr>\n",
       "      <th>1</th>\n",
       "      <td>Super Mario Bros.</td>\n",
       "      <td>NES</td>\n",
       "      <td>1985</td>\n",
       "      <td>Platform</td>\n",
       "      <td>29.08</td>\n",
       "      <td>3.58</td>\n",
       "      <td>6.81</td>\n",
       "      <td>0.77</td>\n",
       "      <td>NaN</td>\n",
       "      <td>NaN</td>\n",
       "      <td>NR</td>\n",
       "      <td>40.24</td>\n",
       "    </tr>\n",
       "    <tr>\n",
       "      <th>2</th>\n",
       "      <td>Mario Kart Wii</td>\n",
       "      <td>Wii</td>\n",
       "      <td>2008</td>\n",
       "      <td>Racing</td>\n",
       "      <td>15.68</td>\n",
       "      <td>12.76</td>\n",
       "      <td>3.79</td>\n",
       "      <td>3.29</td>\n",
       "      <td>82.0</td>\n",
       "      <td>8.3</td>\n",
       "      <td>E</td>\n",
       "      <td>35.52</td>\n",
       "    </tr>\n",
       "    <tr>\n",
       "      <th>3</th>\n",
       "      <td>Wii Sports Resort</td>\n",
       "      <td>Wii</td>\n",
       "      <td>2009</td>\n",
       "      <td>Sports</td>\n",
       "      <td>15.61</td>\n",
       "      <td>10.93</td>\n",
       "      <td>3.28</td>\n",
       "      <td>2.95</td>\n",
       "      <td>80.0</td>\n",
       "      <td>8.0</td>\n",
       "      <td>E</td>\n",
       "      <td>32.77</td>\n",
       "    </tr>\n",
       "    <tr>\n",
       "      <th>4</th>\n",
       "      <td>Pokemon Red/Pokemon Blue</td>\n",
       "      <td>GB</td>\n",
       "      <td>1996</td>\n",
       "      <td>Role-Playing</td>\n",
       "      <td>11.27</td>\n",
       "      <td>8.89</td>\n",
       "      <td>10.22</td>\n",
       "      <td>1.00</td>\n",
       "      <td>NaN</td>\n",
       "      <td>NaN</td>\n",
       "      <td>NR</td>\n",
       "      <td>31.38</td>\n",
       "    </tr>\n",
       "    <tr>\n",
       "      <th>...</th>\n",
       "      <td>...</td>\n",
       "      <td>...</td>\n",
       "      <td>...</td>\n",
       "      <td>...</td>\n",
       "      <td>...</td>\n",
       "      <td>...</td>\n",
       "      <td>...</td>\n",
       "      <td>...</td>\n",
       "      <td>...</td>\n",
       "      <td>...</td>\n",
       "      <td>...</td>\n",
       "      <td>...</td>\n",
       "    </tr>\n",
       "    <tr>\n",
       "      <th>16710</th>\n",
       "      <td>Samurai Warriors: Sanada Maru</td>\n",
       "      <td>PS3</td>\n",
       "      <td>2016</td>\n",
       "      <td>Action</td>\n",
       "      <td>0.00</td>\n",
       "      <td>0.00</td>\n",
       "      <td>0.01</td>\n",
       "      <td>0.00</td>\n",
       "      <td>NaN</td>\n",
       "      <td>NaN</td>\n",
       "      <td>NR</td>\n",
       "      <td>0.01</td>\n",
       "    </tr>\n",
       "    <tr>\n",
       "      <th>16711</th>\n",
       "      <td>LMA Manager 2007</td>\n",
       "      <td>X360</td>\n",
       "      <td>2006</td>\n",
       "      <td>Sports</td>\n",
       "      <td>0.00</td>\n",
       "      <td>0.01</td>\n",
       "      <td>0.00</td>\n",
       "      <td>0.00</td>\n",
       "      <td>NaN</td>\n",
       "      <td>NaN</td>\n",
       "      <td>NR</td>\n",
       "      <td>0.01</td>\n",
       "    </tr>\n",
       "    <tr>\n",
       "      <th>16712</th>\n",
       "      <td>Haitaka no Psychedelica</td>\n",
       "      <td>PSV</td>\n",
       "      <td>2016</td>\n",
       "      <td>Adventure</td>\n",
       "      <td>0.00</td>\n",
       "      <td>0.00</td>\n",
       "      <td>0.01</td>\n",
       "      <td>0.00</td>\n",
       "      <td>NaN</td>\n",
       "      <td>NaN</td>\n",
       "      <td>NR</td>\n",
       "      <td>0.01</td>\n",
       "    </tr>\n",
       "    <tr>\n",
       "      <th>16713</th>\n",
       "      <td>Spirits &amp; Spells</td>\n",
       "      <td>GBA</td>\n",
       "      <td>2003</td>\n",
       "      <td>Platform</td>\n",
       "      <td>0.01</td>\n",
       "      <td>0.00</td>\n",
       "      <td>0.00</td>\n",
       "      <td>0.00</td>\n",
       "      <td>NaN</td>\n",
       "      <td>NaN</td>\n",
       "      <td>NR</td>\n",
       "      <td>0.01</td>\n",
       "    </tr>\n",
       "    <tr>\n",
       "      <th>16714</th>\n",
       "      <td>Winning Post 8 2016</td>\n",
       "      <td>PSV</td>\n",
       "      <td>2016</td>\n",
       "      <td>Simulation</td>\n",
       "      <td>0.00</td>\n",
       "      <td>0.00</td>\n",
       "      <td>0.01</td>\n",
       "      <td>0.00</td>\n",
       "      <td>NaN</td>\n",
       "      <td>NaN</td>\n",
       "      <td>NR</td>\n",
       "      <td>0.01</td>\n",
       "    </tr>\n",
       "  </tbody>\n",
       "</table>\n",
       "<p>16444 rows × 12 columns</p>\n",
       "</div>"
      ],
      "text/plain": [
       "                                name platform  year_of_release         genre  \\\n",
       "0                         Wii Sports      Wii             2006        Sports   \n",
       "1                  Super Mario Bros.      NES             1985      Platform   \n",
       "2                     Mario Kart Wii      Wii             2008        Racing   \n",
       "3                  Wii Sports Resort      Wii             2009        Sports   \n",
       "4           Pokemon Red/Pokemon Blue       GB             1996  Role-Playing   \n",
       "...                              ...      ...              ...           ...   \n",
       "16710  Samurai Warriors: Sanada Maru      PS3             2016        Action   \n",
       "16711               LMA Manager 2007     X360             2006        Sports   \n",
       "16712        Haitaka no Psychedelica      PSV             2016     Adventure   \n",
       "16713               Spirits & Spells      GBA             2003      Platform   \n",
       "16714            Winning Post 8 2016      PSV             2016    Simulation   \n",
       "\n",
       "       na_sales  eu_sales  jp_sales  other_sales  critic_score  user_score  \\\n",
       "0         41.36     28.96      3.77         8.45          76.0         8.0   \n",
       "1         29.08      3.58      6.81         0.77           NaN         NaN   \n",
       "2         15.68     12.76      3.79         3.29          82.0         8.3   \n",
       "3         15.61     10.93      3.28         2.95          80.0         8.0   \n",
       "4         11.27      8.89     10.22         1.00           NaN         NaN   \n",
       "...         ...       ...       ...          ...           ...         ...   \n",
       "16710      0.00      0.00      0.01         0.00           NaN         NaN   \n",
       "16711      0.00      0.01      0.00         0.00           NaN         NaN   \n",
       "16712      0.00      0.00      0.01         0.00           NaN         NaN   \n",
       "16713      0.01      0.00      0.00         0.00           NaN         NaN   \n",
       "16714      0.00      0.00      0.01         0.00           NaN         NaN   \n",
       "\n",
       "      rating  total_sales  \n",
       "0          E        82.54  \n",
       "1         NR        40.24  \n",
       "2          E        35.52  \n",
       "3          E        32.77  \n",
       "4         NR        31.38  \n",
       "...      ...          ...  \n",
       "16710     NR         0.01  \n",
       "16711     NR         0.01  \n",
       "16712     NR         0.01  \n",
       "16713     NR         0.01  \n",
       "16714     NR         0.01  \n",
       "\n",
       "[16444 rows x 12 columns]"
      ]
     },
     "metadata": {},
     "output_type": "display_data"
    }
   ],
   "source": [
    "display(data)"
   ]
  },
  {
   "cell_type": "code",
   "execution_count": 16,
   "metadata": {},
   "outputs": [
    {
     "name": "stdout",
     "output_type": "stream",
     "text": [
      "user_score         8981\n",
      "critic_score       8461\n",
      "name                  0\n",
      "platform              0\n",
      "year_of_release       0\n",
      "genre                 0\n",
      "na_sales              0\n",
      "eu_sales              0\n",
      "jp_sales              0\n",
      "other_sales           0\n",
      "rating                0\n",
      "total_sales           0\n",
      "dtype: int64\n"
     ]
    }
   ],
   "source": [
    "#Проверим оставшееся количество пропущенных значений.\n",
    "print(data.isna().sum().sort_values(ascending=False))"
   ]
  },
  {
   "cell_type": "markdown",
   "metadata": {},
   "source": [
    "Предполагаю, что большое количество пропусков в оценках вызвано тем, что игры недавно анонсировали и оценка еще не успела сформироваться, либо же игры были выпущены достаточно давно и в то время их просто не оценивали. Пропущенные значения оценок заменить нечем, оставим их без изменений."
   ]
  },
  {
   "cell_type": "markdown",
   "metadata": {},
   "source": [
    "Выполнена предварительная обработка данных - приведены названия столбцов к нижнему регистру, удалены пропущенные значения, преобразован тип данных в нужных столбцах, посчитаны суммарные продажи во всех регионах и добавлен новый столбец. В оценках пользователей и критиков пропущено около 55% и 52% значений соответственно. В датасете присутствуют игры с 1980 года, но не всем играм был присвоен рейтинг ESRB - пропущенные значения были заменены на \"no rating\"."
   ]
  },
  {
   "cell_type": "markdown",
   "metadata": {},
   "source": [
    "## Исследовательский анализ данных."
   ]
  },
  {
   "cell_type": "code",
   "execution_count": 17,
   "metadata": {},
   "outputs": [
    {
     "data": {
      "text/html": [
       "<div>\n",
       "<style scoped>\n",
       "    .dataframe tbody tr th:only-of-type {\n",
       "        vertical-align: middle;\n",
       "    }\n",
       "\n",
       "    .dataframe tbody tr th {\n",
       "        vertical-align: top;\n",
       "    }\n",
       "\n",
       "    .dataframe thead th {\n",
       "        text-align: right;\n",
       "    }\n",
       "</style>\n",
       "<table border=\"1\" class=\"dataframe\">\n",
       "  <thead>\n",
       "    <tr style=\"text-align: right;\">\n",
       "      <th></th>\n",
       "      <th>name</th>\n",
       "    </tr>\n",
       "    <tr>\n",
       "      <th>year_of_release</th>\n",
       "      <th></th>\n",
       "    </tr>\n",
       "  </thead>\n",
       "  <tbody>\n",
       "    <tr>\n",
       "      <th>1980</th>\n",
       "      <td>9</td>\n",
       "    </tr>\n",
       "    <tr>\n",
       "      <th>1981</th>\n",
       "      <td>46</td>\n",
       "    </tr>\n",
       "    <tr>\n",
       "      <th>1982</th>\n",
       "      <td>36</td>\n",
       "    </tr>\n",
       "    <tr>\n",
       "      <th>1983</th>\n",
       "      <td>17</td>\n",
       "    </tr>\n",
       "    <tr>\n",
       "      <th>1984</th>\n",
       "      <td>14</td>\n",
       "    </tr>\n",
       "    <tr>\n",
       "      <th>1985</th>\n",
       "      <td>14</td>\n",
       "    </tr>\n",
       "    <tr>\n",
       "      <th>1986</th>\n",
       "      <td>21</td>\n",
       "    </tr>\n",
       "    <tr>\n",
       "      <th>1987</th>\n",
       "      <td>16</td>\n",
       "    </tr>\n",
       "    <tr>\n",
       "      <th>1988</th>\n",
       "      <td>15</td>\n",
       "    </tr>\n",
       "    <tr>\n",
       "      <th>1989</th>\n",
       "      <td>17</td>\n",
       "    </tr>\n",
       "    <tr>\n",
       "      <th>1990</th>\n",
       "      <td>16</td>\n",
       "    </tr>\n",
       "    <tr>\n",
       "      <th>1991</th>\n",
       "      <td>41</td>\n",
       "    </tr>\n",
       "    <tr>\n",
       "      <th>1992</th>\n",
       "      <td>43</td>\n",
       "    </tr>\n",
       "    <tr>\n",
       "      <th>1993</th>\n",
       "      <td>60</td>\n",
       "    </tr>\n",
       "    <tr>\n",
       "      <th>1994</th>\n",
       "      <td>121</td>\n",
       "    </tr>\n",
       "    <tr>\n",
       "      <th>1995</th>\n",
       "      <td>219</td>\n",
       "    </tr>\n",
       "    <tr>\n",
       "      <th>1996</th>\n",
       "      <td>263</td>\n",
       "    </tr>\n",
       "    <tr>\n",
       "      <th>1997</th>\n",
       "      <td>289</td>\n",
       "    </tr>\n",
       "    <tr>\n",
       "      <th>1998</th>\n",
       "      <td>379</td>\n",
       "    </tr>\n",
       "    <tr>\n",
       "      <th>1999</th>\n",
       "      <td>338</td>\n",
       "    </tr>\n",
       "    <tr>\n",
       "      <th>2000</th>\n",
       "      <td>350</td>\n",
       "    </tr>\n",
       "    <tr>\n",
       "      <th>2001</th>\n",
       "      <td>482</td>\n",
       "    </tr>\n",
       "    <tr>\n",
       "      <th>2002</th>\n",
       "      <td>829</td>\n",
       "    </tr>\n",
       "    <tr>\n",
       "      <th>2003</th>\n",
       "      <td>775</td>\n",
       "    </tr>\n",
       "    <tr>\n",
       "      <th>2004</th>\n",
       "      <td>762</td>\n",
       "    </tr>\n",
       "    <tr>\n",
       "      <th>2005</th>\n",
       "      <td>939</td>\n",
       "    </tr>\n",
       "    <tr>\n",
       "      <th>2006</th>\n",
       "      <td>1006</td>\n",
       "    </tr>\n",
       "    <tr>\n",
       "      <th>2007</th>\n",
       "      <td>1197</td>\n",
       "    </tr>\n",
       "    <tr>\n",
       "      <th>2008</th>\n",
       "      <td>1427</td>\n",
       "    </tr>\n",
       "    <tr>\n",
       "      <th>2009</th>\n",
       "      <td>1426</td>\n",
       "    </tr>\n",
       "    <tr>\n",
       "      <th>2010</th>\n",
       "      <td>1255</td>\n",
       "    </tr>\n",
       "    <tr>\n",
       "      <th>2011</th>\n",
       "      <td>1136</td>\n",
       "    </tr>\n",
       "    <tr>\n",
       "      <th>2012</th>\n",
       "      <td>653</td>\n",
       "    </tr>\n",
       "    <tr>\n",
       "      <th>2013</th>\n",
       "      <td>544</td>\n",
       "    </tr>\n",
       "    <tr>\n",
       "      <th>2014</th>\n",
       "      <td>581</td>\n",
       "    </tr>\n",
       "    <tr>\n",
       "      <th>2015</th>\n",
       "      <td>606</td>\n",
       "    </tr>\n",
       "    <tr>\n",
       "      <th>2016</th>\n",
       "      <td>502</td>\n",
       "    </tr>\n",
       "  </tbody>\n",
       "</table>\n",
       "</div>"
      ],
      "text/plain": [
       "                 name\n",
       "year_of_release      \n",
       "1980                9\n",
       "1981               46\n",
       "1982               36\n",
       "1983               17\n",
       "1984               14\n",
       "1985               14\n",
       "1986               21\n",
       "1987               16\n",
       "1988               15\n",
       "1989               17\n",
       "1990               16\n",
       "1991               41\n",
       "1992               43\n",
       "1993               60\n",
       "1994              121\n",
       "1995              219\n",
       "1996              263\n",
       "1997              289\n",
       "1998              379\n",
       "1999              338\n",
       "2000              350\n",
       "2001              482\n",
       "2002              829\n",
       "2003              775\n",
       "2004              762\n",
       "2005              939\n",
       "2006             1006\n",
       "2007             1197\n",
       "2008             1427\n",
       "2009             1426\n",
       "2010             1255\n",
       "2011             1136\n",
       "2012              653\n",
       "2013              544\n",
       "2014              581\n",
       "2015              606\n",
       "2016              502"
      ]
     },
     "execution_count": 17,
     "metadata": {},
     "output_type": "execute_result"
    }
   ],
   "source": [
    "#Посмотрим, сколько игр выпускалось в разные годы.\n",
    "game_by_year = data.groupby('year_of_release')['name'].count().to_frame()\n",
    "game_by_year"
   ]
  },
  {
   "cell_type": "markdown",
   "metadata": {},
   "source": [
    "Первые 15 лет выпускалось достаточно малое количество игр."
   ]
  },
  {
   "cell_type": "code",
   "execution_count": 18,
   "metadata": {},
   "outputs": [
    {
     "data": {
      "image/png": "[encoded data removed]",
      "text/plain": [
       "<Figure size 720x576 with 1 Axes>"
      ]
     },
     "metadata": {
      "needs_background": "light"
     },
     "output_type": "display_data"
    }
   ],
   "source": [
    "#Визуалируем полученную информацию и увидим, важны ли данные за все периоды.\n",
    "game_by_year.plot(\n",
    "    kind = 'bar', \n",
    "    figsize=(10, 8),\n",
    "    ec='black',\n",
    "    legend=False,\n",
    "    xlabel = 'год выпуска',\n",
    "    title = 'Количество выпускаемых игр по годам'\n",
    ")\n",
    "plt.show()"
   ]
  },
  {
   "cell_type": "markdown",
   "metadata": {},
   "source": [
    "По графику наблюдаем стремительный рост с 1995 года, возможно, связанный с ростом технических характеристик компьютеров - данными за первые 15 лет можно пренебречь. Максимальные значения приходятся на 2008-2009 гг. После же видим заметное сокращение выпуска, по всей видимости, связанное с ростом распространения мобильных платформ, которые не фигурируют в датасете."
   ]
  },
  {
   "cell_type": "code",
   "execution_count": 19,
   "metadata": {},
   "outputs": [
    {
     "data": {
      "text/html": [
       "<div>\n",
       "<style scoped>\n",
       "    .dataframe tbody tr th:only-of-type {\n",
       "        vertical-align: middle;\n",
       "    }\n",
       "\n",
       "    .dataframe tbody tr th {\n",
       "        vertical-align: top;\n",
       "    }\n",
       "\n",
       "    .dataframe thead th {\n",
       "        text-align: right;\n",
       "    }\n",
       "</style>\n",
       "<table border=\"1\" class=\"dataframe\">\n",
       "  <thead>\n",
       "    <tr style=\"text-align: right;\">\n",
       "      <th></th>\n",
       "      <th>total_sales</th>\n",
       "    </tr>\n",
       "    <tr>\n",
       "      <th>platform</th>\n",
       "      <th></th>\n",
       "    </tr>\n",
       "  </thead>\n",
       "  <tbody>\n",
       "    <tr>\n",
       "      <th>PS2</th>\n",
       "      <td>1233.56</td>\n",
       "    </tr>\n",
       "    <tr>\n",
       "      <th>X360</th>\n",
       "      <td>961.24</td>\n",
       "    </tr>\n",
       "    <tr>\n",
       "      <th>PS3</th>\n",
       "      <td>931.34</td>\n",
       "    </tr>\n",
       "    <tr>\n",
       "      <th>Wii</th>\n",
       "      <td>891.18</td>\n",
       "    </tr>\n",
       "    <tr>\n",
       "      <th>DS</th>\n",
       "      <td>802.78</td>\n",
       "    </tr>\n",
       "    <tr>\n",
       "      <th>PS</th>\n",
       "      <td>727.58</td>\n",
       "    </tr>\n",
       "    <tr>\n",
       "      <th>PS4</th>\n",
       "      <td>314.14</td>\n",
       "    </tr>\n",
       "    <tr>\n",
       "      <th>GBA</th>\n",
       "      <td>312.88</td>\n",
       "    </tr>\n",
       "    <tr>\n",
       "      <th>PSP</th>\n",
       "      <td>289.53</td>\n",
       "    </tr>\n",
       "    <tr>\n",
       "      <th>3DS</th>\n",
       "      <td>257.81</td>\n",
       "    </tr>\n",
       "    <tr>\n",
       "      <th>PC</th>\n",
       "      <td>255.76</td>\n",
       "    </tr>\n",
       "    <tr>\n",
       "      <th>GB</th>\n",
       "      <td>254.43</td>\n",
       "    </tr>\n",
       "    <tr>\n",
       "      <th>XB</th>\n",
       "      <td>251.57</td>\n",
       "    </tr>\n",
       "    <tr>\n",
       "      <th>NES</th>\n",
       "      <td>251.05</td>\n",
       "    </tr>\n",
       "    <tr>\n",
       "      <th>N64</th>\n",
       "      <td>218.01</td>\n",
       "    </tr>\n",
       "    <tr>\n",
       "      <th>SNES</th>\n",
       "      <td>200.04</td>\n",
       "    </tr>\n",
       "    <tr>\n",
       "      <th>GC</th>\n",
       "      <td>196.73</td>\n",
       "    </tr>\n",
       "    <tr>\n",
       "      <th>XOne</th>\n",
       "      <td>159.32</td>\n",
       "    </tr>\n",
       "    <tr>\n",
       "      <th>2600</th>\n",
       "      <td>86.48</td>\n",
       "    </tr>\n",
       "    <tr>\n",
       "      <th>WiiU</th>\n",
       "      <td>82.19</td>\n",
       "    </tr>\n",
       "    <tr>\n",
       "      <th>PSV</th>\n",
       "      <td>53.81</td>\n",
       "    </tr>\n",
       "    <tr>\n",
       "      <th>SAT</th>\n",
       "      <td>33.59</td>\n",
       "    </tr>\n",
       "    <tr>\n",
       "      <th>GEN</th>\n",
       "      <td>28.35</td>\n",
       "    </tr>\n",
       "    <tr>\n",
       "      <th>DC</th>\n",
       "      <td>15.95</td>\n",
       "    </tr>\n",
       "    <tr>\n",
       "      <th>SCD</th>\n",
       "      <td>1.86</td>\n",
       "    </tr>\n",
       "    <tr>\n",
       "      <th>NG</th>\n",
       "      <td>1.44</td>\n",
       "    </tr>\n",
       "    <tr>\n",
       "      <th>WS</th>\n",
       "      <td>1.42</td>\n",
       "    </tr>\n",
       "    <tr>\n",
       "      <th>TG16</th>\n",
       "      <td>0.16</td>\n",
       "    </tr>\n",
       "    <tr>\n",
       "      <th>3DO</th>\n",
       "      <td>0.10</td>\n",
       "    </tr>\n",
       "    <tr>\n",
       "      <th>GG</th>\n",
       "      <td>0.04</td>\n",
       "    </tr>\n",
       "    <tr>\n",
       "      <th>PCFX</th>\n",
       "      <td>0.03</td>\n",
       "    </tr>\n",
       "  </tbody>\n",
       "</table>\n",
       "</div>"
      ],
      "text/plain": [
       "          total_sales\n",
       "platform             \n",
       "PS2           1233.56\n",
       "X360           961.24\n",
       "PS3            931.34\n",
       "Wii            891.18\n",
       "DS             802.78\n",
       "PS             727.58\n",
       "PS4            314.14\n",
       "GBA            312.88\n",
       "PSP            289.53\n",
       "3DS            257.81\n",
       "PC             255.76\n",
       "GB             254.43\n",
       "XB             251.57\n",
       "NES            251.05\n",
       "N64            218.01\n",
       "SNES           200.04\n",
       "GC             196.73\n",
       "XOne           159.32\n",
       "2600            86.48\n",
       "WiiU            82.19\n",
       "PSV             53.81\n",
       "SAT             33.59\n",
       "GEN             28.35\n",
       "DC              15.95\n",
       "SCD              1.86\n",
       "NG               1.44\n",
       "WS               1.42\n",
       "TG16             0.16\n",
       "3DO              0.10\n",
       "GG               0.04\n",
       "PCFX             0.03"
      ]
     },
     "execution_count": 19,
     "metadata": {},
     "output_type": "execute_result"
    }
   ],
   "source": [
    "#Посмотрим, как менялись продажи по платформам. Выберем платформы с наибольшими суммарными продажами.\n",
    "data_platform = data.groupby('platform')['total_sales'].sum().sort_values(ascending=False).to_frame()\n",
    "data_platform"
   ]
  },
  {
   "cell_type": "code",
   "execution_count": 20,
   "metadata": {},
   "outputs": [
    {
     "data": {
      "image/png": "[encoded data removed]",
      "text/plain": [
       "<Figure size 720x576 with 1 Axes>"
      ]
     },
     "metadata": {
      "needs_background": "light"
     },
     "output_type": "display_data"
    }
   ],
   "source": [
    "#Визуализация платформ с наибольшим суммарными продажами.\n",
    "data_platform.head(5).plot(\n",
    "    kind = 'bar', \n",
    "    figsize=(10, 8),\n",
    "    ec='black',\n",
    "    legend=False,\n",
    "    xlabel = 'платформа',\n",
    "    title = 'Топ-5 продаж по платформам'\n",
    ")\n",
    "plt.show()"
   ]
  },
  {
   "cell_type": "code",
   "execution_count": 21,
   "metadata": {},
   "outputs": [
    {
     "data": {
      "image/png": "[encoded data removed]",
      "text/plain": [
       "<Figure size 720x576 with 1 Axes>"
      ]
     },
     "metadata": {
      "needs_background": "light"
     },
     "output_type": "display_data"
    }
   ],
   "source": [
    "#Построим распределение по годам суммарных продаж PS2.\n",
    "data[data['platform'] == 'PS2'].pivot_table(index = 'year_of_release', \n",
    "                                                   values = 'total_sales', \n",
    "                                                   aggfunc = 'sum').plot(\n",
    "kind = 'bar', figsize = (10,8), ec='black', legend=False)\n",
    "plt.title('Распределение суммарных продаж PS2 по годам')\n",
    "plt.xlabel('год')\n",
    "plt.ylabel('количество проданных копий игр, млн')\n",
    "plt.show()"
   ]
  },
  {
   "cell_type": "code",
   "execution_count": 22,
   "metadata": {},
   "outputs": [
    {
     "data": {
      "image/png": "[encoded data removed]",
      "text/plain": [
       "<Figure size 720x576 with 1 Axes>"
      ]
     },
     "metadata": {
      "needs_background": "light"
     },
     "output_type": "display_data"
    }
   ],
   "source": [
    "#Построим распределение по годам суммарных продаж X360.\n",
    "data[data['platform'] == 'X360'].pivot_table(index = 'year_of_release', \n",
    "                                                   values = 'total_sales', \n",
    "                                                   aggfunc = 'sum').plot(\n",
    "kind = 'bar', figsize = (10,8), ec='black', legend=False)\n",
    "plt.title('Распределение суммарных продаж X360 по годам')\n",
    "plt.xlabel('год')\n",
    "plt.ylabel('количество проданных копий игр, млн')\n",
    "plt.show()"
   ]
  },
  {
   "cell_type": "code",
   "execution_count": 23,
   "metadata": {},
   "outputs": [
    {
     "data": {
      "image/png": "[encoded data removed]",
      "text/plain": [
       "<Figure size 720x576 with 1 Axes>"
      ]
     },
     "metadata": {
      "needs_background": "light"
     },
     "output_type": "display_data"
    }
   ],
   "source": [
    "#Построим распределение по годам суммарных продаж PS3.\n",
    "data[data['platform'] == 'PS3'].pivot_table(index = 'year_of_release', \n",
    "                                                   values = 'total_sales', \n",
    "                                                   aggfunc = 'sum').plot(\n",
    "kind = 'bar', figsize = (10,8), ec='black', legend=False)\n",
    "plt.title('Распределение суммарных продаж PS3 по годам')\n",
    "plt.xlabel('год')\n",
    "plt.ylabel('количество проданных копий игр, млн')\n",
    "plt.show()"
   ]
  },
  {
   "cell_type": "code",
   "execution_count": 24,
   "metadata": {},
   "outputs": [
    {
     "data": {
      "image/png": "[encoded data removed]",
      "text/plain": [
       "<Figure size 720x576 with 1 Axes>"
      ]
     },
     "metadata": {
      "needs_background": "light"
     },
     "output_type": "display_data"
    }
   ],
   "source": [
    "#Построим распределение по годам суммарных продаж Wii.\n",
    "data[data['platform'] == 'Wii'].pivot_table(index = 'year_of_release', \n",
    "                                                   values = 'total_sales', \n",
    "                                                   aggfunc = 'sum').plot(\n",
    "kind = 'bar', figsize = (10,8), ec='black', legend=False)\n",
    "plt.title('Распределение суммарных продаж Wii по годам')\n",
    "plt.xlabel('год')\n",
    "plt.ylabel('количество проданных копий игр, млн')\n",
    "plt.show()"
   ]
  },
  {
   "cell_type": "code",
   "execution_count": 25,
   "metadata": {},
   "outputs": [
    {
     "data": {
      "image/png": "[encoded data removed]",
      "text/plain": [
       "<Figure size 720x576 with 1 Axes>"
      ]
     },
     "metadata": {
      "needs_background": "light"
     },
     "output_type": "display_data"
    }
   ],
   "source": [
    "#Построим распределение по годам суммарных продаж DS.\n",
    "data[data['platform'] == 'DS'].pivot_table(index = 'year_of_release', \n",
    "                                                   values = 'total_sales', \n",
    "                                                   aggfunc = 'sum').plot(\n",
    "kind = 'bar', figsize = (10,8), ec='black', legend=False)\n",
    "plt.title('Распределение суммарных продаж DS по годам')\n",
    "plt.xlabel('год')\n",
    "plt.ylabel('количество проданных копий игр, млн')\n",
    "plt.show()"
   ]
  },
  {
   "cell_type": "markdown",
   "metadata": {},
   "source": [
    "Топ-5 платформ по количеству проданных копий игр: PS2, X360, PS3, Wii, DS. Судя по графикам, отдельно взятая популярная платформа существует в среднем 7-8 лет, а пиковая величина продаж приходится на период в 4-5 лет."
   ]
  },
  {
   "cell_type": "code",
   "execution_count": 26,
   "metadata": {},
   "outputs": [
    {
     "data": {
      "text/html": [
       "<div>\n",
       "<style scoped>\n",
       "    .dataframe tbody tr th:only-of-type {\n",
       "        vertical-align: middle;\n",
       "    }\n",
       "\n",
       "    .dataframe tbody tr th {\n",
       "        vertical-align: top;\n",
       "    }\n",
       "\n",
       "    .dataframe thead th {\n",
       "        text-align: right;\n",
       "    }\n",
       "</style>\n",
       "<table border=\"1\" class=\"dataframe\">\n",
       "  <thead>\n",
       "    <tr style=\"text-align: right;\">\n",
       "      <th></th>\n",
       "      <th>name</th>\n",
       "      <th>platform</th>\n",
       "      <th>year_of_release</th>\n",
       "      <th>genre</th>\n",
       "      <th>na_sales</th>\n",
       "      <th>eu_sales</th>\n",
       "      <th>jp_sales</th>\n",
       "      <th>other_sales</th>\n",
       "      <th>critic_score</th>\n",
       "      <th>user_score</th>\n",
       "      <th>rating</th>\n",
       "      <th>total_sales</th>\n",
       "    </tr>\n",
       "  </thead>\n",
       "  <tbody>\n",
       "    <tr>\n",
       "      <th>16</th>\n",
       "      <td>Grand Theft Auto V</td>\n",
       "      <td>PS3</td>\n",
       "      <td>2013</td>\n",
       "      <td>Action</td>\n",
       "      <td>7.02</td>\n",
       "      <td>9.09</td>\n",
       "      <td>0.98</td>\n",
       "      <td>3.96</td>\n",
       "      <td>97.0</td>\n",
       "      <td>8.2</td>\n",
       "      <td>M</td>\n",
       "      <td>21.05</td>\n",
       "    </tr>\n",
       "    <tr>\n",
       "      <th>23</th>\n",
       "      <td>Grand Theft Auto V</td>\n",
       "      <td>X360</td>\n",
       "      <td>2013</td>\n",
       "      <td>Action</td>\n",
       "      <td>9.66</td>\n",
       "      <td>5.14</td>\n",
       "      <td>0.06</td>\n",
       "      <td>1.41</td>\n",
       "      <td>97.0</td>\n",
       "      <td>8.1</td>\n",
       "      <td>M</td>\n",
       "      <td>16.27</td>\n",
       "    </tr>\n",
       "    <tr>\n",
       "      <th>31</th>\n",
       "      <td>Call of Duty: Black Ops 3</td>\n",
       "      <td>PS4</td>\n",
       "      <td>2015</td>\n",
       "      <td>Shooter</td>\n",
       "      <td>6.03</td>\n",
       "      <td>5.86</td>\n",
       "      <td>0.36</td>\n",
       "      <td>2.38</td>\n",
       "      <td>NaN</td>\n",
       "      <td>NaN</td>\n",
       "      <td>NR</td>\n",
       "      <td>14.63</td>\n",
       "    </tr>\n",
       "    <tr>\n",
       "      <th>33</th>\n",
       "      <td>Pokemon X/Pokemon Y</td>\n",
       "      <td>3DS</td>\n",
       "      <td>2013</td>\n",
       "      <td>Role-Playing</td>\n",
       "      <td>5.28</td>\n",
       "      <td>4.19</td>\n",
       "      <td>4.35</td>\n",
       "      <td>0.78</td>\n",
       "      <td>NaN</td>\n",
       "      <td>NaN</td>\n",
       "      <td>NR</td>\n",
       "      <td>14.60</td>\n",
       "    </tr>\n",
       "    <tr>\n",
       "      <th>34</th>\n",
       "      <td>Call of Duty: Black Ops II</td>\n",
       "      <td>PS3</td>\n",
       "      <td>2012</td>\n",
       "      <td>Shooter</td>\n",
       "      <td>4.99</td>\n",
       "      <td>5.73</td>\n",
       "      <td>0.65</td>\n",
       "      <td>2.42</td>\n",
       "      <td>83.0</td>\n",
       "      <td>5.3</td>\n",
       "      <td>M</td>\n",
       "      <td>13.79</td>\n",
       "    </tr>\n",
       "    <tr>\n",
       "      <th>...</th>\n",
       "      <td>...</td>\n",
       "      <td>...</td>\n",
       "      <td>...</td>\n",
       "      <td>...</td>\n",
       "      <td>...</td>\n",
       "      <td>...</td>\n",
       "      <td>...</td>\n",
       "      <td>...</td>\n",
       "      <td>...</td>\n",
       "      <td>...</td>\n",
       "      <td>...</td>\n",
       "      <td>...</td>\n",
       "    </tr>\n",
       "    <tr>\n",
       "      <th>16703</th>\n",
       "      <td>Strawberry Nauts</td>\n",
       "      <td>PSV</td>\n",
       "      <td>2016</td>\n",
       "      <td>Adventure</td>\n",
       "      <td>0.00</td>\n",
       "      <td>0.00</td>\n",
       "      <td>0.01</td>\n",
       "      <td>0.00</td>\n",
       "      <td>NaN</td>\n",
       "      <td>NaN</td>\n",
       "      <td>NR</td>\n",
       "      <td>0.01</td>\n",
       "    </tr>\n",
       "    <tr>\n",
       "      <th>16707</th>\n",
       "      <td>Aiyoku no Eustia</td>\n",
       "      <td>PSV</td>\n",
       "      <td>2014</td>\n",
       "      <td>Misc</td>\n",
       "      <td>0.00</td>\n",
       "      <td>0.00</td>\n",
       "      <td>0.01</td>\n",
       "      <td>0.00</td>\n",
       "      <td>NaN</td>\n",
       "      <td>NaN</td>\n",
       "      <td>NR</td>\n",
       "      <td>0.01</td>\n",
       "    </tr>\n",
       "    <tr>\n",
       "      <th>16710</th>\n",
       "      <td>Samurai Warriors: Sanada Maru</td>\n",
       "      <td>PS3</td>\n",
       "      <td>2016</td>\n",
       "      <td>Action</td>\n",
       "      <td>0.00</td>\n",
       "      <td>0.00</td>\n",
       "      <td>0.01</td>\n",
       "      <td>0.00</td>\n",
       "      <td>NaN</td>\n",
       "      <td>NaN</td>\n",
       "      <td>NR</td>\n",
       "      <td>0.01</td>\n",
       "    </tr>\n",
       "    <tr>\n",
       "      <th>16712</th>\n",
       "      <td>Haitaka no Psychedelica</td>\n",
       "      <td>PSV</td>\n",
       "      <td>2016</td>\n",
       "      <td>Adventure</td>\n",
       "      <td>0.00</td>\n",
       "      <td>0.00</td>\n",
       "      <td>0.01</td>\n",
       "      <td>0.00</td>\n",
       "      <td>NaN</td>\n",
       "      <td>NaN</td>\n",
       "      <td>NR</td>\n",
       "      <td>0.01</td>\n",
       "    </tr>\n",
       "    <tr>\n",
       "      <th>16714</th>\n",
       "      <td>Winning Post 8 2016</td>\n",
       "      <td>PSV</td>\n",
       "      <td>2016</td>\n",
       "      <td>Simulation</td>\n",
       "      <td>0.00</td>\n",
       "      <td>0.00</td>\n",
       "      <td>0.01</td>\n",
       "      <td>0.00</td>\n",
       "      <td>NaN</td>\n",
       "      <td>NaN</td>\n",
       "      <td>NR</td>\n",
       "      <td>0.01</td>\n",
       "    </tr>\n",
       "  </tbody>\n",
       "</table>\n",
       "<p>2886 rows × 12 columns</p>\n",
       "</div>"
      ],
      "text/plain": [
       "                                name platform  year_of_release         genre  \\\n",
       "16                Grand Theft Auto V      PS3             2013        Action   \n",
       "23                Grand Theft Auto V     X360             2013        Action   \n",
       "31         Call of Duty: Black Ops 3      PS4             2015       Shooter   \n",
       "33               Pokemon X/Pokemon Y      3DS             2013  Role-Playing   \n",
       "34        Call of Duty: Black Ops II      PS3             2012       Shooter   \n",
       "...                              ...      ...              ...           ...   \n",
       "16703               Strawberry Nauts      PSV             2016     Adventure   \n",
       "16707               Aiyoku no Eustia      PSV             2014          Misc   \n",
       "16710  Samurai Warriors: Sanada Maru      PS3             2016        Action   \n",
       "16712        Haitaka no Psychedelica      PSV             2016     Adventure   \n",
       "16714            Winning Post 8 2016      PSV             2016    Simulation   \n",
       "\n",
       "       na_sales  eu_sales  jp_sales  other_sales  critic_score  user_score  \\\n",
       "16         7.02      9.09      0.98         3.96          97.0         8.2   \n",
       "23         9.66      5.14      0.06         1.41          97.0         8.1   \n",
       "31         6.03      5.86      0.36         2.38           NaN         NaN   \n",
       "33         5.28      4.19      4.35         0.78           NaN         NaN   \n",
       "34         4.99      5.73      0.65         2.42          83.0         5.3   \n",
       "...         ...       ...       ...          ...           ...         ...   \n",
       "16703      0.00      0.00      0.01         0.00           NaN         NaN   \n",
       "16707      0.00      0.00      0.01         0.00           NaN         NaN   \n",
       "16710      0.00      0.00      0.01         0.00           NaN         NaN   \n",
       "16712      0.00      0.00      0.01         0.00           NaN         NaN   \n",
       "16714      0.00      0.00      0.01         0.00           NaN         NaN   \n",
       "\n",
       "      rating  total_sales  \n",
       "16         M        21.05  \n",
       "23         M        16.27  \n",
       "31        NR        14.63  \n",
       "33        NR        14.60  \n",
       "34         M        13.79  \n",
       "...      ...          ...  \n",
       "16703     NR         0.01  \n",
       "16707     NR         0.01  \n",
       "16710     NR         0.01  \n",
       "16712     NR         0.01  \n",
       "16714     NR         0.01  \n",
       "\n",
       "[2886 rows x 12 columns]"
      ]
     },
     "execution_count": 26,
     "metadata": {},
     "output_type": "execute_result"
    }
   ],
   "source": [
    "#Актуальным периодом для платформ примем отрезок времени самых активных продаж - 5 лет.\n",
    "actual_data = data.query('year_of_release > 2011')\n",
    "actual_data"
   ]
  },
  {
   "cell_type": "code",
   "execution_count": 27,
   "metadata": {},
   "outputs": [
    {
     "data": {
      "text/html": [
       "<div>\n",
       "<style scoped>\n",
       "    .dataframe tbody tr th:only-of-type {\n",
       "        vertical-align: middle;\n",
       "    }\n",
       "\n",
       "    .dataframe tbody tr th {\n",
       "        vertical-align: top;\n",
       "    }\n",
       "\n",
       "    .dataframe thead th {\n",
       "        text-align: right;\n",
       "    }\n",
       "</style>\n",
       "<table border=\"1\" class=\"dataframe\">\n",
       "  <thead>\n",
       "    <tr style=\"text-align: right;\">\n",
       "      <th>year_of_release</th>\n",
       "      <th>2012</th>\n",
       "      <th>2013</th>\n",
       "      <th>2014</th>\n",
       "      <th>2015</th>\n",
       "      <th>2016</th>\n",
       "    </tr>\n",
       "    <tr>\n",
       "      <th>platform</th>\n",
       "      <th></th>\n",
       "      <th></th>\n",
       "      <th></th>\n",
       "      <th></th>\n",
       "      <th></th>\n",
       "    </tr>\n",
       "  </thead>\n",
       "  <tbody>\n",
       "    <tr>\n",
       "      <th>3DS</th>\n",
       "      <td>93.0</td>\n",
       "      <td>91.0</td>\n",
       "      <td>80.0</td>\n",
       "      <td>86.0</td>\n",
       "      <td>46.0</td>\n",
       "    </tr>\n",
       "    <tr>\n",
       "      <th>DS</th>\n",
       "      <td>23.0</td>\n",
       "      <td>8.0</td>\n",
       "      <td>-</td>\n",
       "      <td>-</td>\n",
       "      <td>-</td>\n",
       "    </tr>\n",
       "    <tr>\n",
       "      <th>PC</th>\n",
       "      <td>61.0</td>\n",
       "      <td>38.0</td>\n",
       "      <td>47.0</td>\n",
       "      <td>50.0</td>\n",
       "      <td>54.0</td>\n",
       "    </tr>\n",
       "    <tr>\n",
       "      <th>PS3</th>\n",
       "      <td>148.0</td>\n",
       "      <td>126.0</td>\n",
       "      <td>108.0</td>\n",
       "      <td>73.0</td>\n",
       "      <td>38.0</td>\n",
       "    </tr>\n",
       "    <tr>\n",
       "      <th>PS4</th>\n",
       "      <td>-</td>\n",
       "      <td>16.0</td>\n",
       "      <td>75.0</td>\n",
       "      <td>137.0</td>\n",
       "      <td>164.0</td>\n",
       "    </tr>\n",
       "    <tr>\n",
       "      <th>PSP</th>\n",
       "      <td>106.0</td>\n",
       "      <td>54.0</td>\n",
       "      <td>10.0</td>\n",
       "      <td>3.0</td>\n",
       "      <td>-</td>\n",
       "    </tr>\n",
       "    <tr>\n",
       "      <th>PSV</th>\n",
       "      <td>53.0</td>\n",
       "      <td>63.0</td>\n",
       "      <td>100.0</td>\n",
       "      <td>110.0</td>\n",
       "      <td>85.0</td>\n",
       "    </tr>\n",
       "    <tr>\n",
       "      <th>Wii</th>\n",
       "      <td>31.0</td>\n",
       "      <td>12.0</td>\n",
       "      <td>6.0</td>\n",
       "      <td>4.0</td>\n",
       "      <td>1.0</td>\n",
       "    </tr>\n",
       "    <tr>\n",
       "      <th>WiiU</th>\n",
       "      <td>32.0</td>\n",
       "      <td>42.0</td>\n",
       "      <td>31.0</td>\n",
       "      <td>28.0</td>\n",
       "      <td>14.0</td>\n",
       "    </tr>\n",
       "    <tr>\n",
       "      <th>X360</th>\n",
       "      <td>106.0</td>\n",
       "      <td>75.0</td>\n",
       "      <td>63.0</td>\n",
       "      <td>35.0</td>\n",
       "      <td>13.0</td>\n",
       "    </tr>\n",
       "    <tr>\n",
       "      <th>XOne</th>\n",
       "      <td>-</td>\n",
       "      <td>19.0</td>\n",
       "      <td>61.0</td>\n",
       "      <td>80.0</td>\n",
       "      <td>87.0</td>\n",
       "    </tr>\n",
       "  </tbody>\n",
       "</table>\n",
       "</div>"
      ],
      "text/plain": [
       "year_of_release   2012   2013   2014   2015   2016\n",
       "platform                                          \n",
       "3DS               93.0   91.0   80.0   86.0   46.0\n",
       "DS                23.0    8.0      -      -      -\n",
       "PC                61.0   38.0   47.0   50.0   54.0\n",
       "PS3              148.0  126.0  108.0   73.0   38.0\n",
       "PS4                  -   16.0   75.0  137.0  164.0\n",
       "PSP              106.0   54.0   10.0    3.0      -\n",
       "PSV               53.0   63.0  100.0  110.0   85.0\n",
       "Wii               31.0   12.0    6.0    4.0    1.0\n",
       "WiiU              32.0   42.0   31.0   28.0   14.0\n",
       "X360             106.0   75.0   63.0   35.0   13.0\n",
       "XOne                 -   19.0   61.0   80.0   87.0"
      ]
     },
     "execution_count": 27,
     "metadata": {},
     "output_type": "execute_result"
    }
   ],
   "source": [
    "#Выведем количество выпускаемых игр для платформ по годам.\n",
    "actual_data.pivot_table(index='platform', columns='year_of_release', values='name', aggfunc='count', fill_value='-')"
   ]
  },
  {
   "cell_type": "code",
   "execution_count": 28,
   "metadata": {},
   "outputs": [
    {
     "data": {
      "text/html": [
       "<div>\n",
       "<style scoped>\n",
       "    .dataframe tbody tr th:only-of-type {\n",
       "        vertical-align: middle;\n",
       "    }\n",
       "\n",
       "    .dataframe tbody tr th {\n",
       "        vertical-align: top;\n",
       "    }\n",
       "\n",
       "    .dataframe thead th {\n",
       "        text-align: right;\n",
       "    }\n",
       "</style>\n",
       "<table border=\"1\" class=\"dataframe\">\n",
       "  <thead>\n",
       "    <tr style=\"text-align: right;\">\n",
       "      <th>year_of_release</th>\n",
       "      <th>2012</th>\n",
       "      <th>2013</th>\n",
       "      <th>2014</th>\n",
       "      <th>2015</th>\n",
       "      <th>2016</th>\n",
       "    </tr>\n",
       "    <tr>\n",
       "      <th>platform</th>\n",
       "      <th></th>\n",
       "      <th></th>\n",
       "      <th></th>\n",
       "      <th></th>\n",
       "      <th></th>\n",
       "    </tr>\n",
       "  </thead>\n",
       "  <tbody>\n",
       "    <tr>\n",
       "      <th>3DS</th>\n",
       "      <td>51.36</td>\n",
       "      <td>56.57</td>\n",
       "      <td>43.76</td>\n",
       "      <td>27.78</td>\n",
       "      <td>15.14</td>\n",
       "    </tr>\n",
       "    <tr>\n",
       "      <th>DS</th>\n",
       "      <td>11.01</td>\n",
       "      <td>1.54</td>\n",
       "      <td>-</td>\n",
       "      <td>-</td>\n",
       "      <td>-</td>\n",
       "    </tr>\n",
       "    <tr>\n",
       "      <th>PC</th>\n",
       "      <td>23.22</td>\n",
       "      <td>12.38</td>\n",
       "      <td>13.28</td>\n",
       "      <td>8.52</td>\n",
       "      <td>5.25</td>\n",
       "    </tr>\n",
       "    <tr>\n",
       "      <th>PS3</th>\n",
       "      <td>107.36</td>\n",
       "      <td>113.25</td>\n",
       "      <td>47.76</td>\n",
       "      <td>16.82</td>\n",
       "      <td>3.6</td>\n",
       "    </tr>\n",
       "    <tr>\n",
       "      <th>PS4</th>\n",
       "      <td>-</td>\n",
       "      <td>25.99</td>\n",
       "      <td>100.0</td>\n",
       "      <td>118.9</td>\n",
       "      <td>69.25</td>\n",
       "    </tr>\n",
       "    <tr>\n",
       "      <th>PSP</th>\n",
       "      <td>7.69</td>\n",
       "      <td>3.14</td>\n",
       "      <td>0.24</td>\n",
       "      <td>0.12</td>\n",
       "      <td>-</td>\n",
       "    </tr>\n",
       "    <tr>\n",
       "      <th>PSV</th>\n",
       "      <td>16.19</td>\n",
       "      <td>10.59</td>\n",
       "      <td>11.9</td>\n",
       "      <td>6.25</td>\n",
       "      <td>4.25</td>\n",
       "    </tr>\n",
       "    <tr>\n",
       "      <th>Wii</th>\n",
       "      <td>21.71</td>\n",
       "      <td>8.59</td>\n",
       "      <td>3.75</td>\n",
       "      <td>1.14</td>\n",
       "      <td>0.18</td>\n",
       "    </tr>\n",
       "    <tr>\n",
       "      <th>WiiU</th>\n",
       "      <td>17.56</td>\n",
       "      <td>21.65</td>\n",
       "      <td>22.03</td>\n",
       "      <td>16.35</td>\n",
       "      <td>4.6</td>\n",
       "    </tr>\n",
       "    <tr>\n",
       "      <th>X360</th>\n",
       "      <td>99.74</td>\n",
       "      <td>88.58</td>\n",
       "      <td>34.74</td>\n",
       "      <td>11.96</td>\n",
       "      <td>1.52</td>\n",
       "    </tr>\n",
       "    <tr>\n",
       "      <th>XOne</th>\n",
       "      <td>-</td>\n",
       "      <td>18.96</td>\n",
       "      <td>54.07</td>\n",
       "      <td>60.14</td>\n",
       "      <td>26.15</td>\n",
       "    </tr>\n",
       "  </tbody>\n",
       "</table>\n",
       "</div>"
      ],
      "text/plain": [
       "year_of_release    2012    2013   2014   2015   2016\n",
       "platform                                            \n",
       "3DS               51.36   56.57  43.76  27.78  15.14\n",
       "DS                11.01    1.54      -      -      -\n",
       "PC                23.22   12.38  13.28   8.52   5.25\n",
       "PS3              107.36  113.25  47.76  16.82    3.6\n",
       "PS4                   -   25.99  100.0  118.9  69.25\n",
       "PSP                7.69    3.14   0.24   0.12      -\n",
       "PSV               16.19   10.59   11.9   6.25   4.25\n",
       "Wii               21.71    8.59   3.75   1.14   0.18\n",
       "WiiU              17.56   21.65  22.03  16.35    4.6\n",
       "X360              99.74   88.58  34.74  11.96   1.52\n",
       "XOne                  -   18.96  54.07  60.14  26.15"
      ]
     },
     "execution_count": 28,
     "metadata": {},
     "output_type": "execute_result"
    }
   ],
   "source": [
    "#Выведем количество продаж для платформ по годам.\n",
    "actual_data.pivot_table(index='platform', columns='year_of_release', values='total_sales', aggfunc='sum', fill_value='-')"
   ]
  },
  {
   "cell_type": "markdown",
   "metadata": {},
   "source": [
    "Обратите внимание, что PSV - это PlayStation Vita, пятая серия приставки была выпущена только в 2020 году."
   ]
  },
  {
   "cell_type": "code",
   "execution_count": 29,
   "metadata": {},
   "outputs": [
    {
     "data": {
      "image/png": "[encoded data removed]",
      "text/plain": [
       "<Figure size 720x576 with 1 Axes>"
      ]
     },
     "metadata": {
      "needs_background": "light"
     },
     "output_type": "display_data"
    }
   ],
   "source": [
    "#Для наглядности построим графики динамики продаж по платформам за актуальный период.\n",
    "actual_data.pivot_table(\n",
    "    index='year_of_release', columns='platform', values='total_sales', aggfunc='sum').plot(figsize=(10, 8), grid=True)\n",
    "plt.title('Продажи с 2012 по 2016 по платформам')\n",
    "plt.xlabel('год')\n",
    "plt.ylabel('продажи (млн. копий)')\n",
    "plt.show()"
   ]
  },
  {
   "cell_type": "markdown",
   "metadata": {},
   "source": [
    "Было установлено, что наиболее актуальными платформами является PS4 и XOne. Портативные приставки, такие как PSP и DS потеряли свою актуальность - скорее всего, были вытеснены более популярным и быстро развивающимся рынком мобильных игр."
   ]
  },
  {
   "cell_type": "code",
   "execution_count": 30,
   "metadata": {},
   "outputs": [
    {
     "data": {
      "image/png": "[encoded data removed]",
      "text/plain": [
       "<Figure size 1440x1152 with 1 Axes>"
      ]
     },
     "metadata": {
      "needs_background": "light"
     },
     "output_type": "display_data"
    }
   ],
   "source": [
    "#Диаграмма размаха по глобальным продажам игр в разбивке по платформам.\n",
    "plt.figure(figsize=(20,16))\n",
    "sns.boxplot(data=actual_data, x = \"platform\", y= 'total_sales')\n",
    "plt.title('Глобальные продажи игр в разбивке по платформам')\n",
    "plt.xlabel('платформа')\n",
    "plt.ylabel('продажи (млн. копий)')\n",
    "plt.show()"
   ]
  },
  {
   "cell_type": "markdown",
   "metadata": {},
   "source": [
    "Судя по диаграмме, у первых четырех платформ имеется некоторое количество, весьма выбивающихся из общей картины продаж. Это или очень популярные игры, портированные на все перспективные платформы, а возможно, даже уникальные для одной из. Следующие платформы, начиная с DS и заканчивая PC, обладают всего одним таким значением - предполагаю, это популярные эксклюзивы."
   ]
  },
  {
   "cell_type": "code",
   "execution_count": 31,
   "metadata": {},
   "outputs": [
    {
     "data": {
      "image/png": "[encoded data removed]",
      "text/plain": [
       "<Figure size 1440x1152 with 1 Axes>"
      ]
     },
     "metadata": {
      "needs_background": "light"
     },
     "output_type": "display_data"
    }
   ],
   "source": [
    "#Диаграмма размаха по продажам игр в разбивке по платформам (до 1 млн.)\n",
    "plt.figure(figsize=(20,16))\n",
    "sns.boxplot(data=actual_data, x = \"platform\", y= 'total_sales')\n",
    "plt.ylim(0, 1)\n",
    "plt.title('Глобальные продажи игр в разбивке по платформам')\n",
    "plt.xlabel('платформа')\n",
    "plt.ylabel('продажи (млн. копий)')\n",
    "plt.show()"
   ]
  },
  {
   "cell_type": "markdown",
   "metadata": {},
   "source": [
    "Из более детализованной диаграммы наблюдаем, что самой надёжной платформой для разработчиков в плане продажи игр любых жанров является X360."
   ]
  },
  {
   "cell_type": "code",
   "execution_count": 32,
   "metadata": {},
   "outputs": [],
   "source": [
    "#Проверим, как влияют на продажи внутри самой популярной платформы актуального периода отзывы пользователей и критиков.\n",
    "score_PS4 = actual_data.query('platform == \"PS4\"')\n",
    "score_PS4 = score_PS4[['critic_score', 'user_score', 'total_sales']]"
   ]
  },
  {
   "cell_type": "code",
   "execution_count": 33,
   "metadata": {},
   "outputs": [
    {
     "name": "stdout",
     "output_type": "stream",
     "text": [
      "Корреляция между total_sales и critic_score составляет: 40.66%,\n",
      "Корреляция между total_sales и user_score составляет: -3.20%,\n",
      "Корреляция между total_sales и total_sales составляет: 100.00%,\n"
     ]
    }
   ],
   "source": [
    "#Посчитаем корреляцию между продажами и отзывами.\n",
    "for factor in score_PS4:\n",
    "    correlation = score_PS4['total_sales'].corr(score_PS4[factor])\n",
    "    print(f'Корреляция между total_sales и {factor} составляет: {correlation:0.2%},')"
   ]
  },
  {
   "cell_type": "code",
   "execution_count": 34,
   "metadata": {},
   "outputs": [
    {
     "data": {
      "image/png": "[encoded data removed]",
      "text/plain": [
       "<Figure size 720x576 with 1 Axes>"
      ]
     },
     "metadata": {
      "needs_background": "light"
     },
     "output_type": "display_data"
    }
   ],
   "source": [
    "#Визуализируем результаты - построим диаграмму рассеяния.\n",
    "score_PS4.plot(kind='scatter', x='critic_score', y='total_sales', figsize=(10,8), alpha=0.3, color='r', grid=True)\n",
    "plt.title('Зависимость продаж от оценки критиков')\n",
    "plt.xlabel('оценка критиков')\n",
    "plt.ylabel('продажи (млн. копий)')\n",
    "plt.show()"
   ]
  },
  {
   "cell_type": "markdown",
   "metadata": {},
   "source": [
    "Наблюдается слабый коэффициент корреляции. На диаграмме видим, что игры, низко оцененные критиками, обычно не становятся бестселлерами."
   ]
  },
  {
   "cell_type": "code",
   "execution_count": 35,
   "metadata": {},
   "outputs": [
    {
     "data": {
      "image/png": "[encoded data removed]",
      "text/plain": [
       "<Figure size 720x576 with 1 Axes>"
      ]
     },
     "metadata": {
      "needs_background": "light"
     },
     "output_type": "display_data"
    }
   ],
   "source": [
    "#Визуализируем результаты - построим диаграмму рассеяния.\n",
    "score_PS4.plot(kind='scatter', x='user_score', y='total_sales', figsize=(10,8), alpha=0.3, color='b', grid=True)\n",
    "plt.title('Зависимость продаж от оценки пользователей')\n",
    "plt.xlabel('оценка пользователей')\n",
    "plt.ylabel('продажи (млн. копий)')\n",
    "plt.show()"
   ]
  },
  {
   "cell_type": "markdown",
   "metadata": {},
   "source": [
    "В случае с оценкой пользователей результат несколько иной. А именно - люди покупают игры, невзирая на пользовательский рейтинг. Во всяком случае, игры со средней оценкой тоже неплохо продаются."
   ]
  },
  {
   "cell_type": "code",
   "execution_count": 36,
   "metadata": {},
   "outputs": [
    {
     "data": {
      "text/html": [
       "<div>\n",
       "<style scoped>\n",
       "    .dataframe tbody tr th:only-of-type {\n",
       "        vertical-align: middle;\n",
       "    }\n",
       "\n",
       "    .dataframe tbody tr th {\n",
       "        vertical-align: top;\n",
       "    }\n",
       "\n",
       "    .dataframe thead th {\n",
       "        text-align: right;\n",
       "    }\n",
       "</style>\n",
       "<table border=\"1\" class=\"dataframe\">\n",
       "  <thead>\n",
       "    <tr style=\"text-align: right;\">\n",
       "      <th></th>\n",
       "      <th>critic_score</th>\n",
       "      <th>user_score</th>\n",
       "      <th>total_sales</th>\n",
       "    </tr>\n",
       "  </thead>\n",
       "  <tbody>\n",
       "    <tr>\n",
       "      <th>critic_score</th>\n",
       "      <td>1.00</td>\n",
       "      <td>0.47</td>\n",
       "      <td>0.42</td>\n",
       "    </tr>\n",
       "    <tr>\n",
       "      <th>user_score</th>\n",
       "      <td>0.47</td>\n",
       "      <td>1.00</td>\n",
       "      <td>-0.07</td>\n",
       "    </tr>\n",
       "    <tr>\n",
       "      <th>total_sales</th>\n",
       "      <td>0.42</td>\n",
       "      <td>-0.07</td>\n",
       "      <td>1.00</td>\n",
       "    </tr>\n",
       "  </tbody>\n",
       "</table>\n",
       "</div>"
      ],
      "text/plain": [
       "              critic_score  user_score  total_sales\n",
       "critic_score          1.00        0.47         0.42\n",
       "user_score            0.47        1.00        -0.07\n",
       "total_sales           0.42       -0.07         1.00"
      ]
     },
     "execution_count": 36,
     "metadata": {},
     "output_type": "execute_result"
    }
   ],
   "source": [
    "#Рассмотрим остальные платформы - X360\n",
    "actual_data.query('platform == \"XOne\"')[['critic_score', 'user_score', 'total_sales']].corr().round(2)"
   ]
  },
  {
   "cell_type": "markdown",
   "metadata": {},
   "source": [
    "Похожая на PS4 ситуация с отзывами критиков."
   ]
  },
  {
   "cell_type": "code",
   "execution_count": 37,
   "metadata": {},
   "outputs": [
    {
     "data": {
      "text/html": [
       "<div>\n",
       "<style scoped>\n",
       "    .dataframe tbody tr th:only-of-type {\n",
       "        vertical-align: middle;\n",
       "    }\n",
       "\n",
       "    .dataframe tbody tr th {\n",
       "        vertical-align: top;\n",
       "    }\n",
       "\n",
       "    .dataframe thead th {\n",
       "        text-align: right;\n",
       "    }\n",
       "</style>\n",
       "<table border=\"1\" class=\"dataframe\">\n",
       "  <thead>\n",
       "    <tr style=\"text-align: right;\">\n",
       "      <th></th>\n",
       "      <th>critic_score</th>\n",
       "      <th>user_score</th>\n",
       "      <th>total_sales</th>\n",
       "    </tr>\n",
       "  </thead>\n",
       "  <tbody>\n",
       "    <tr>\n",
       "      <th>critic_score</th>\n",
       "      <td>1.00</td>\n",
       "      <td>0.82</td>\n",
       "      <td>-0.42</td>\n",
       "    </tr>\n",
       "    <tr>\n",
       "      <th>user_score</th>\n",
       "      <td>0.82</td>\n",
       "      <td>1.00</td>\n",
       "      <td>0.30</td>\n",
       "    </tr>\n",
       "    <tr>\n",
       "      <th>total_sales</th>\n",
       "      <td>-0.42</td>\n",
       "      <td>0.30</td>\n",
       "      <td>1.00</td>\n",
       "    </tr>\n",
       "  </tbody>\n",
       "</table>\n",
       "</div>"
      ],
      "text/plain": [
       "              critic_score  user_score  total_sales\n",
       "critic_score          1.00        0.82        -0.42\n",
       "user_score            0.82        1.00         0.30\n",
       "total_sales          -0.42        0.30         1.00"
      ]
     },
     "execution_count": 37,
     "metadata": {},
     "output_type": "execute_result"
    }
   ],
   "source": [
    "#Рассмотрим остальные платформы - Wii\n",
    "actual_data.query('platform == \"Wii\"')[['critic_score', 'user_score', 'total_sales']].corr().round(2)"
   ]
  },
  {
   "cell_type": "markdown",
   "metadata": {},
   "source": [
    "Наблюдается слабая отрицательная корреляция с оценками критиков и видим более сильную связь с оценками пользователей. Осмелюсь предположить, что объясняется это общей казуальностью платформы."
   ]
  },
  {
   "cell_type": "code",
   "execution_count": 38,
   "metadata": {},
   "outputs": [
    {
     "data": {
      "text/html": [
       "<div>\n",
       "<style scoped>\n",
       "    .dataframe tbody tr th:only-of-type {\n",
       "        vertical-align: middle;\n",
       "    }\n",
       "\n",
       "    .dataframe tbody tr th {\n",
       "        vertical-align: top;\n",
       "    }\n",
       "\n",
       "    .dataframe thead th {\n",
       "        text-align: right;\n",
       "    }\n",
       "</style>\n",
       "<table border=\"1\" class=\"dataframe\">\n",
       "  <thead>\n",
       "    <tr style=\"text-align: right;\">\n",
       "      <th></th>\n",
       "      <th>critic_score</th>\n",
       "      <th>user_score</th>\n",
       "      <th>total_sales</th>\n",
       "    </tr>\n",
       "  </thead>\n",
       "  <tbody>\n",
       "    <tr>\n",
       "      <th>critic_score</th>\n",
       "      <td>1.00</td>\n",
       "      <td>0.43</td>\n",
       "      <td>0.24</td>\n",
       "    </tr>\n",
       "    <tr>\n",
       "      <th>user_score</th>\n",
       "      <td>0.43</td>\n",
       "      <td>1.00</td>\n",
       "      <td>-0.12</td>\n",
       "    </tr>\n",
       "    <tr>\n",
       "      <th>total_sales</th>\n",
       "      <td>0.24</td>\n",
       "      <td>-0.12</td>\n",
       "      <td>1.00</td>\n",
       "    </tr>\n",
       "  </tbody>\n",
       "</table>\n",
       "</div>"
      ],
      "text/plain": [
       "              critic_score  user_score  total_sales\n",
       "critic_score          1.00        0.43         0.24\n",
       "user_score            0.43        1.00        -0.12\n",
       "total_sales           0.24       -0.12         1.00"
      ]
     },
     "execution_count": 38,
     "metadata": {},
     "output_type": "execute_result"
    }
   ],
   "source": [
    "#Рассмотрим остальные платформы - PC\n",
    "actual_data.query('platform == \"PC\"')[['critic_score', 'user_score', 'total_sales']].corr().round(2)"
   ]
  },
  {
   "cell_type": "markdown",
   "metadata": {},
   "source": [
    "Как видим, на большинство основных платформ оценки пользователей не влияют на продажи."
   ]
  },
  {
   "cell_type": "code",
   "execution_count": 39,
   "metadata": {},
   "outputs": [
    {
     "data": {
      "text/html": [
       "<div>\n",
       "<style scoped>\n",
       "    .dataframe tbody tr th:only-of-type {\n",
       "        vertical-align: middle;\n",
       "    }\n",
       "\n",
       "    .dataframe tbody tr th {\n",
       "        vertical-align: top;\n",
       "    }\n",
       "\n",
       "    .dataframe thead th {\n",
       "        text-align: right;\n",
       "    }\n",
       "</style>\n",
       "<table border=\"1\" class=\"dataframe\">\n",
       "  <thead>\n",
       "    <tr style=\"text-align: right;\">\n",
       "      <th></th>\n",
       "      <th>genre</th>\n",
       "    </tr>\n",
       "  </thead>\n",
       "  <tbody>\n",
       "    <tr>\n",
       "      <th>Action</th>\n",
       "      <td>1031</td>\n",
       "    </tr>\n",
       "    <tr>\n",
       "      <th>Role-Playing</th>\n",
       "      <td>370</td>\n",
       "    </tr>\n",
       "    <tr>\n",
       "      <th>Adventure</th>\n",
       "      <td>302</td>\n",
       "    </tr>\n",
       "    <tr>\n",
       "      <th>Sports</th>\n",
       "      <td>268</td>\n",
       "    </tr>\n",
       "    <tr>\n",
       "      <th>Shooter</th>\n",
       "      <td>235</td>\n",
       "    </tr>\n",
       "    <tr>\n",
       "      <th>Misc</th>\n",
       "      <td>192</td>\n",
       "    </tr>\n",
       "    <tr>\n",
       "      <th>Racing</th>\n",
       "      <td>115</td>\n",
       "    </tr>\n",
       "    <tr>\n",
       "      <th>Fighting</th>\n",
       "      <td>109</td>\n",
       "    </tr>\n",
       "    <tr>\n",
       "      <th>Platform</th>\n",
       "      <td>85</td>\n",
       "    </tr>\n",
       "    <tr>\n",
       "      <th>Simulation</th>\n",
       "      <td>80</td>\n",
       "    </tr>\n",
       "    <tr>\n",
       "      <th>Strategy</th>\n",
       "      <td>71</td>\n",
       "    </tr>\n",
       "    <tr>\n",
       "      <th>Puzzle</th>\n",
       "      <td>28</td>\n",
       "    </tr>\n",
       "  </tbody>\n",
       "</table>\n",
       "</div>"
      ],
      "text/plain": [
       "              genre\n",
       "Action         1031\n",
       "Role-Playing    370\n",
       "Adventure       302\n",
       "Sports          268\n",
       "Shooter         235\n",
       "Misc            192\n",
       "Racing          115\n",
       "Fighting        109\n",
       "Platform         85\n",
       "Simulation       80\n",
       "Strategy         71\n",
       "Puzzle           28"
      ]
     },
     "execution_count": 39,
     "metadata": {},
     "output_type": "execute_result"
    }
   ],
   "source": [
    "#Посмотрим на общее распределение игр по жанрам.\n",
    "actual_data['genre'].value_counts().to_frame()"
   ]
  },
  {
   "cell_type": "markdown",
   "metadata": {},
   "source": [
    "В целом, неудивительно, что экшн занимает лидирующую позицию в звании самого популярного жанра."
   ]
  },
  {
   "cell_type": "code",
   "execution_count": 40,
   "metadata": {},
   "outputs": [
    {
     "data": {
      "text/html": [
       "<div>\n",
       "<style scoped>\n",
       "    .dataframe tbody tr th:only-of-type {\n",
       "        vertical-align: middle;\n",
       "    }\n",
       "\n",
       "    .dataframe tbody tr th {\n",
       "        vertical-align: top;\n",
       "    }\n",
       "\n",
       "    .dataframe thead th {\n",
       "        text-align: right;\n",
       "    }\n",
       "</style>\n",
       "<table border=\"1\" class=\"dataframe\">\n",
       "  <thead>\n",
       "    <tr style=\"text-align: right;\">\n",
       "      <th></th>\n",
       "      <th>total_sales</th>\n",
       "    </tr>\n",
       "    <tr>\n",
       "      <th>genre</th>\n",
       "      <th></th>\n",
       "    </tr>\n",
       "  </thead>\n",
       "  <tbody>\n",
       "    <tr>\n",
       "      <th>Shooter</th>\n",
       "      <td>1.296723</td>\n",
       "    </tr>\n",
       "    <tr>\n",
       "      <th>Platform</th>\n",
       "      <td>0.717647</td>\n",
       "    </tr>\n",
       "    <tr>\n",
       "      <th>Sports</th>\n",
       "      <td>0.675634</td>\n",
       "    </tr>\n",
       "    <tr>\n",
       "      <th>Role-Playing</th>\n",
       "      <td>0.521081</td>\n",
       "    </tr>\n",
       "    <tr>\n",
       "      <th>Racing</th>\n",
       "      <td>0.465217</td>\n",
       "    </tr>\n",
       "    <tr>\n",
       "      <th>Misc</th>\n",
       "      <td>0.442917</td>\n",
       "    </tr>\n",
       "    <tr>\n",
       "      <th>Simulation</th>\n",
       "      <td>0.439000</td>\n",
       "    </tr>\n",
       "    <tr>\n",
       "      <th>Action</th>\n",
       "      <td>0.427856</td>\n",
       "    </tr>\n",
       "    <tr>\n",
       "      <th>Fighting</th>\n",
       "      <td>0.408165</td>\n",
       "    </tr>\n",
       "    <tr>\n",
       "      <th>Strategy</th>\n",
       "      <td>0.187887</td>\n",
       "    </tr>\n",
       "    <tr>\n",
       "      <th>Puzzle</th>\n",
       "      <td>0.174643</td>\n",
       "    </tr>\n",
       "    <tr>\n",
       "      <th>Adventure</th>\n",
       "      <td>0.097450</td>\n",
       "    </tr>\n",
       "  </tbody>\n",
       "</table>\n",
       "</div>"
      ],
      "text/plain": [
       "              total_sales\n",
       "genre                    \n",
       "Shooter          1.296723\n",
       "Platform         0.717647\n",
       "Sports           0.675634\n",
       "Role-Playing     0.521081\n",
       "Racing           0.465217\n",
       "Misc             0.442917\n",
       "Simulation       0.439000\n",
       "Action           0.427856\n",
       "Fighting         0.408165\n",
       "Strategy         0.187887\n",
       "Puzzle           0.174643\n",
       "Adventure        0.097450"
      ]
     },
     "execution_count": 40,
     "metadata": {},
     "output_type": "execute_result"
    }
   ],
   "source": [
    "#Выведем жанры, где игры стабильно приносят высокий доход\n",
    "genre_pivot = actual_data.pivot_table(index = 'genre',\n",
    "                       values = 'total_sales',\n",
    "                       aggfunc = 'mean').sort_values(ascending = False,\n",
    "                                                      by = 'total_sales')\n",
    "genre_pivot"
   ]
  },
  {
   "cell_type": "code",
   "execution_count": 41,
   "metadata": {
    "scrolled": true
   },
   "outputs": [
    {
     "data": {
      "image/png": "[encoded data removed]",
      "text/plain": [
       "<Figure size 720x576 with 1 Axes>"
      ]
     },
     "metadata": {
      "needs_background": "light"
     },
     "output_type": "display_data"
    }
   ],
   "source": [
    "#Визуализируем полученную информацию.\n",
    "genre_pivot.plot(kind = 'bar', figsize = (10,8), ec='black', legend=False)\n",
    "plt.title('Продажи по жанрам')\n",
    "plt.xlabel('жанр')\n",
    "plt.ylabel('продажи (млн. копий)')\n",
    "plt.show()"
   ]
  },
  {
   "cell_type": "markdown",
   "metadata": {},
   "source": [
    "Шутеры является и ярким представителем среди жанров, и лидером по продажам копий игр - здесь ничего удивительного, все любят пострелять. Платформеров на рынке представлено совсем немного, но жанр оказался популярен, с хорошим показателем продаж. Игры спортивного жанра также продаются стабильно - причиной тому пользующиеся спросом, ежегодно анонсируемые, слегка доработанные и актуализированные FIFA, NHL, UFC и т.д. Низкие продажи оказались у стратегий, пазлов и приключений."
   ]
  },
  {
   "cell_type": "markdown",
   "metadata": {},
   "source": [
    "## Составление портрета пользователя каждого региона."
   ]
  },
  {
   "cell_type": "code",
   "execution_count": 42,
   "metadata": {},
   "outputs": [
    {
     "data": {
      "image/png": "[encoded data removed]",
      "text/plain": [
       "<Figure size 720x576 with 1 Axes>"
      ]
     },
     "metadata": {},
     "output_type": "display_data"
    }
   ],
   "source": [
    "#Визуализируем данные по каждому региону.\n",
    "platform_na = actual_data.groupby('platform')['na_sales'].sum().sort_values(ascending=False).head(5)\n",
    "platform_na.plot(kind = 'pie', figsize=(10,8), autopct='%1.1f%%', title ='Топ-5 самых популярных платформ в Северной Америке')\n",
    "plt.ylabel(None)\n",
    "plt.show()"
   ]
  },
  {
   "cell_type": "code",
   "execution_count": 43,
   "metadata": {},
   "outputs": [
    {
     "data": {
      "image/png": "[encoded data removed]",
      "text/plain": [
       "<Figure size 720x576 with 1 Axes>"
      ]
     },
     "metadata": {},
     "output_type": "display_data"
    }
   ],
   "source": [
    "platform_eu = actual_data.groupby('platform')['eu_sales'].sum().sort_values(ascending=False).head(5)\n",
    "platform_eu.plot(kind = 'pie', figsize=(10,8),autopct='%1.1f%%', title ='Топ-5 самых популярных платформ в Европе')\n",
    "plt.ylabel(None)\n",
    "plt.show()"
   ]
  },
  {
   "cell_type": "code",
   "execution_count": 44,
   "metadata": {},
   "outputs": [
    {
     "data": {
      "image/png": "[encoded data removed]",
      "text/plain": [
       "<Figure size 720x576 with 1 Axes>"
      ]
     },
     "metadata": {},
     "output_type": "display_data"
    }
   ],
   "source": [
    "platform_jp = actual_data.groupby('platform')['jp_sales'].sum().sort_values(ascending=False).head(5)\n",
    "platform_jp.plot(kind = 'pie', figsize=(10,8),autopct='%1.1f%%', title ='Топ-5 самых популярных платформ в Японии')\n",
    "plt.ylabel(None)\n",
    "plt.show()"
   ]
  },
  {
   "cell_type": "markdown",
   "metadata": {},
   "source": [
    "Вполне ожидаемо, что на рынке Северной Америки доминирует приставка фирмы Microsoft. Европейцы же предпочитают PlayStation - как новую (по тем временам) приставку, так и прошлой версии. А вот в Японии огромной популярностью пользуется отечественная портативная приставка, которая, в свою очередь, особо не интересует американцев и европейцев."
   ]
  },
  {
   "cell_type": "code",
   "execution_count": 45,
   "metadata": {},
   "outputs": [
    {
     "data": {
      "image/png": "[encoded data removed]",
      "text/plain": [
       "<Figure size 720x576 with 1 Axes>"
      ]
     },
     "metadata": {},
     "output_type": "display_data"
    }
   ],
   "source": [
    "genre_na = actual_data.groupby('genre')['na_sales'].sum().sort_values(ascending=False).head(5)\n",
    "genre_na.plot(kind = 'pie', figsize=(10,8),autopct='%1.1f%%', title ='Топ-5 самых популярных жанров в Северной Америке')\n",
    "plt.ylabel(None)\n",
    "plt.show()"
   ]
  },
  {
   "cell_type": "code",
   "execution_count": 46,
   "metadata": {},
   "outputs": [
    {
     "data": {
      "image/png": "[encoded data removed]",
      "text/plain": [
       "<Figure size 720x576 with 1 Axes>"
      ]
     },
     "metadata": {},
     "output_type": "display_data"
    }
   ],
   "source": [
    "genre_eu = actual_data.groupby('genre')['eu_sales'].sum().sort_values(ascending=False).head(5)\n",
    "genre_eu.plot(kind = 'pie', figsize=(10,8),autopct='%1.1f%%', title ='Топ-5 самых популярных жанров в Европе')\n",
    "plt.ylabel(None)\n",
    "plt.show()"
   ]
  },
  {
   "cell_type": "code",
   "execution_count": 47,
   "metadata": {},
   "outputs": [
    {
     "data": {
      "image/png": "[encoded data removed]",
      "text/plain": [
       "<Figure size 720x576 with 1 Axes>"
      ]
     },
     "metadata": {},
     "output_type": "display_data"
    }
   ],
   "source": [
    "genre_jp = actual_data.groupby('genre')['jp_sales'].sum().sort_values(ascending=False).head(5)\n",
    "genre_jp.plot(kind = 'pie', figsize=(10,8),autopct='%1.1f%%', title ='Топ-5 самых популярных жанров в Японии')\n",
    "plt.ylabel(None)\n",
    "plt.show()"
   ]
  },
  {
   "cell_type": "markdown",
   "metadata": {},
   "source": [
    "Весьма похожие жанровые предпочтения у игроков из Америки и Европы - популярны здесь шутеры и игры жанра экшн. В Японии же, с их популярнейшей линейкой Final Fantasy, такие жанры, как JRPG в частности и RPG в целом заняли прочное место в сердцах местных игроков."
   ]
  },
  {
   "cell_type": "code",
   "execution_count": 48,
   "metadata": {},
   "outputs": [
    {
     "data": {
      "text/html": [
       "<div>\n",
       "<style scoped>\n",
       "    .dataframe tbody tr th:only-of-type {\n",
       "        vertical-align: middle;\n",
       "    }\n",
       "\n",
       "    .dataframe tbody tr th {\n",
       "        vertical-align: top;\n",
       "    }\n",
       "\n",
       "    .dataframe thead th {\n",
       "        text-align: right;\n",
       "    }\n",
       "</style>\n",
       "<table border=\"1\" class=\"dataframe\">\n",
       "  <thead>\n",
       "    <tr style=\"text-align: right;\">\n",
       "      <th></th>\n",
       "      <th>eu_sales</th>\n",
       "      <th>jp_sales</th>\n",
       "      <th>na_sales</th>\n",
       "    </tr>\n",
       "    <tr>\n",
       "      <th>rating</th>\n",
       "      <th></th>\n",
       "      <th></th>\n",
       "      <th></th>\n",
       "    </tr>\n",
       "  </thead>\n",
       "  <tbody>\n",
       "    <tr>\n",
       "      <th>E</th>\n",
       "      <td>113.03</td>\n",
       "      <td>28.33</td>\n",
       "      <td>114.37</td>\n",
       "    </tr>\n",
       "    <tr>\n",
       "      <th>E10+</th>\n",
       "      <td>55.37</td>\n",
       "      <td>8.19</td>\n",
       "      <td>75.70</td>\n",
       "    </tr>\n",
       "    <tr>\n",
       "      <th>M</th>\n",
       "      <td>193.96</td>\n",
       "      <td>21.20</td>\n",
       "      <td>231.57</td>\n",
       "    </tr>\n",
       "    <tr>\n",
       "      <th>NR</th>\n",
       "      <td>91.50</td>\n",
       "      <td>108.84</td>\n",
       "      <td>103.31</td>\n",
       "    </tr>\n",
       "    <tr>\n",
       "      <th>T</th>\n",
       "      <td>52.96</td>\n",
       "      <td>26.02</td>\n",
       "      <td>66.02</td>\n",
       "    </tr>\n",
       "  </tbody>\n",
       "</table>\n",
       "</div>"
      ],
      "text/plain": [
       "        eu_sales  jp_sales  na_sales\n",
       "rating                              \n",
       "E         113.03     28.33    114.37\n",
       "E10+       55.37      8.19     75.70\n",
       "M         193.96     21.20    231.57\n",
       "NR         91.50    108.84    103.31\n",
       "T          52.96     26.02     66.02"
      ]
     },
     "execution_count": 48,
     "metadata": {},
     "output_type": "execute_result"
    }
   ],
   "source": [
    "#Создадим сводную таблицу с продажами по регионам согласно рейтингу ESRB.\n",
    "data_esrb = (actual_data\n",
    "          .pivot_table(index='rating', values=['na_sales', 'eu_sales', 'jp_sales'], aggfunc='sum')\n",
    "          )\n",
    "data_esrb"
   ]
  },
  {
   "cell_type": "markdown",
   "metadata": {},
   "source": [
    "**Значения рейтинга ESRB:**<br>\n",
    "\n",
    "«E» («Everyone») — «Для всех»: Содержание вполне подходит для всех возрастов (ранее с 6 лет). Такие игры могут понравиться и взрослым. Игры с этим рейтингом могут содержать минимальное насилие, в основном «мультяшного» характера. <br>\n",
    "«E10+» («Everyone 10 and older») — «Для всех от 10 лет и старше»: Проекты с данным рейтингом могут содержать больше мультипликационного или мягкого насилия, или несколько откровенные сцены, или минимальное количество крови.<br>\n",
    "«T» («Teen») — «Подросткам»: Игра подходит для лиц от 13 лет. Проекты из данной категории могут содержать насилие, непристойные сцены, грубый юмор, в меру откровенное сексуальное содержимое, кровь или нечастое использование ненормативной лексики.<br>\n",
    "«M» («Mature») — «Для взрослых»: Материалы игры не подходят для лиц младше 17 лет. Проекты с данным рейтингом могут содержать жестокое насилие, большое количество крови с расчленением, непристойные сексуальные сцены или грубую ненормативную лексику."
   ]
  },
  {
   "cell_type": "markdown",
   "metadata": {},
   "source": [
    "Добавим новое значение для идентификации: «NR» («No Rating») — без рейтинга."
   ]
  },
  {
   "cell_type": "code",
   "execution_count": 49,
   "metadata": {},
   "outputs": [
    {
     "data": {
      "image/png": "[encoded data removed]",
      "text/plain": [
       "<Figure size 1440x1152 with 3 Axes>"
      ]
     },
     "metadata": {},
     "output_type": "display_data"
    }
   ],
   "source": [
    "colors = sns.color_palette('pastel')[ 0:5 ]\n",
    "\n",
    "data_esrb.plot(kind='pie', autopct='%1.1f%%', subplots=True, figsize = (20,16), startangle=180, legend=False, colors = colors, \n",
    "            wedgeprops=dict(width=0.75))\n",
    "\n",
    "plt.show()"
   ]
  },
  {
   "cell_type": "markdown",
   "metadata": {},
   "source": [
    "В Северной Америке и Европе преобладает рейтинг M, это пересекается с самыми популярными жанрами: Action и Shooter. В Японии же большинство игр приобретается без рейтинга. Объясняется это тем, что ESRB - это североамериканская компания. Скорее всего, основной массе игр в Японии назначается рейтинг местной/азиатской организацией."
   ]
  },
  {
   "cell_type": "markdown",
   "metadata": {},
   "source": [
    "## Проверка гипотез."
   ]
  },
  {
   "cell_type": "markdown",
   "metadata": {},
   "source": [
    "**Проверим гипотезу, что средние пользовательские рейтинги платформ Xbox One и PC одинаковые.**"
   ]
  },
  {
   "cell_type": "markdown",
   "metadata": {},
   "source": [
    "Сформулируем гипотезы:<br>\n",
    "\n",
    "Нулевая гипотеза: cредние пользовательские рейтинги платформ Xbox One и PC одинаковые.<br>\n",
    "Альтернативная гипотеза: средние пользовательские рейтинги платформ Xbox One и PC различаются."
   ]
  },
  {
   "cell_type": "code",
   "execution_count": 50,
   "metadata": {},
   "outputs": [],
   "source": [
    "#Создадим датафреймы c проверяемыми данными.\n",
    "xbox_df = actual_data.query('platform == \"XOne\"')\n",
    "pc_df = actual_data.query('platform == \"PC\"')"
   ]
  },
  {
   "cell_type": "code",
   "execution_count": 51,
   "metadata": {},
   "outputs": [
    {
     "name": "stdout",
     "output_type": "stream",
     "text": [
      "Средний пользовательский рейтинг Xbox One: 6.5\n",
      "Средний пользовательский рейтинг PC: 6.4\n",
      "p-значение: 0.5535080500643738\n",
      "Не удалось отвергнуть нулевую гипотезу\n"
     ]
    }
   ],
   "source": [
    "xbox_one = xbox_df['user_score'] \n",
    "pc = pc_df['user_score']\n",
    "\n",
    "print('Средний пользовательский рейтинг Xbox One: {:.1f}'.format(xbox_one.mean()))\n",
    "print('Средний пользовательский рейтинг PC: {:.1f}'.format(pc.mean()))\n",
    "\n",
    "results = st.ttest_ind(xbox_one, \n",
    "                       pc,\n",
    "                       nan_policy='omit')\n",
    "\n",
    "alpha = 0.05\n",
    "\n",
    "print('p-значение:', results.pvalue)\n",
    "\n",
    "if results.pvalue < alpha:\n",
    "    print('Отвергаем нулевую гипотезу')\n",
    "else:\n",
    "    print('Не удалось отвергнуть нулевую гипотезу')"
   ]
  },
  {
   "cell_type": "markdown",
   "metadata": {},
   "source": [
    "Не удалось отвергнуть гипотезу о равенстве средних пользовательских рейтингов платформ Xbox One и PC - средние пользовательские рейтинги с большой вероятностью равны."
   ]
  },
  {
   "cell_type": "markdown",
   "metadata": {},
   "source": [
    "**Проверим гипотезу, что средние пользовательские рейтинги жанров Action и Sports разные.**"
   ]
  },
  {
   "cell_type": "markdown",
   "metadata": {},
   "source": [
    "Сформулируем гипотезы:<br>\n",
    "\n",
    "Нулевая гипотеза: cредние пользовательские рейтинги жанров Action и Sports одинаковые.<br>\n",
    "Альтернативная гипотеза: средние пользовательские рейтинги жанров Action и Sports разные."
   ]
  },
  {
   "cell_type": "code",
   "execution_count": 52,
   "metadata": {},
   "outputs": [],
   "source": [
    "#Создадим датафреймы c проверяемыми данными.\n",
    "action_df = actual_data.query('genre == \"Action\"')\n",
    "sports_df = actual_data.query('genre == \"Sports\"')"
   ]
  },
  {
   "cell_type": "code",
   "execution_count": 53,
   "metadata": {},
   "outputs": [
    {
     "name": "stdout",
     "output_type": "stream",
     "text": [
      "Средний пользовательский рейтинг жанра Action: 6.8\n",
      "Средний пользовательский рейтинг жанра Sports: 5.5\n",
      "p-значение: 3.7163089460934874e-26\n",
      "Отвергаем нулевую гипотезу\n"
     ]
    }
   ],
   "source": [
    "action = action_df['user_score'] \n",
    "sports = sports_df['user_score']\n",
    "\n",
    "print('Средний пользовательский рейтинг жанра Action: {:.1f}'.format(action.mean()))\n",
    "print('Средний пользовательский рейтинг жанра Sports: {:.1f}'.format(sports.mean()))\n",
    "\n",
    "results = st.ttest_ind(action, \n",
    "                       sports,\n",
    "                       nan_policy='omit')\n",
    "\n",
    "alpha = 0.05\n",
    "\n",
    "print('p-значение:', results.pvalue)\n",
    "\n",
    "if results.pvalue < alpha:\n",
    "    print('Отвергаем нулевую гипотезу')\n",
    "else:\n",
    "    print('Не удалось отвергнуть нулевую гипотезу')"
   ]
  },
  {
   "cell_type": "markdown",
   "metadata": {},
   "source": [
    "Отвергаем гипотезу о равенстве средних пользовательских рейтингов жанров Action и Sports - средние пользовательские рейтинги с большой вероятностью отличаются."
   ]
  },
  {
   "cell_type": "markdown",
   "metadata": {},
   "source": [
    "## Общий вывод."
   ]
  },
  {
   "cell_type": "markdown",
   "metadata": {},
   "source": [
    "**1. Были загружен датасет с информацией о продажах игр, оценки пользователей и экспертов, жанры и платформы  и изучен данный материал.<br>\n",
    "  2. Выполнена предварительная обработка данных - приведены названия столбцов к нижнему регистру, удалены пропущенные значения, преобразован тип данных в нужных столбцах, посчитаны суммарные продажи во всех регионах и добавлен новый столбец.<br>\n",
    "  3. Произведен исследовательский анализ данных. Выявлено, что периодом с 1980 по 1994 в дальнейших расчетах можно пренебречь из-за малого количества выпускаемых игр на тот момент. Наблюдается стремительный рост с 1995 года, возможно, связанный с ростом технических характеристик компьютеров. Максимальные значения приходятся на 2008-2009 гг. После же видим заметное сокращение выпуска, по всей видимости, связанное с ростом распространения мобильных платформ. Актуальным периодом для платформ является отрезок времени самых активных продаж - 5 лет. Топ-5 платформ по количеству проданных копий игр: PS2, X360, PS3, Wii, DS. Судя по графикам, отдельно взятая популярная платформа существует в среднем 7-8 лет, а пиковая величина продаж приходится на период в 4-5 лет. Самой надёжной платформой для разработчиков в плане продажи игр любых жанров является X360. Экшн является и ярким представителем среди жанров, и лидером по продажам копий игр. По поводу РПГ можно сказать, что на рынке представлено много игр, но по продажам уступает место более популярному жанру - шутер. Минимальное количество игр и низкие продажи у стратегий и пазлов.<br>\n",
    "  4. Составлен портрет пользователя каждого региона. На рынке Северной Америки доминирует приставка фирмы Microsoft. Европейцы же предпочитают PlayStation - как новую (по тем временам) приставку, так и прошлой версии. А вот в Японии огромной популярностью пользуется отечественная портативная приставка, которая, в свою очередь, особо не интересует американцев и европейцев.Весьма похожие жанровые предпочтения у игроков из Америки и Европы - популярны здесь шутеры и игры жанра экшн. В Японии же занял прочное первое место у геймеров жанр RPG.<br>\n",
    "  5. Были проверены гипотезы:<br>\n",
    "  a) Средние пользовательские рейтинги платформ Xbox One и PC одинаковые - оказалось, что средние пользовательские рейтинги с большой вероятностью равны;<br>\n",
    "  b) Средние пользовательские рейтинги жанров Action и Sports разные (отвергнута).**"
   ]
  }
 ],
 "metadata": {
  "ExecuteTimeLog": [
   {
    "duration": 111,
    "start_time": "2023-09-18T07:43:36.880Z"
   },
   {
    "duration": 1273,
    "start_time": "2023-09-18T08:48:06.972Z"
   },
   {
    "duration": 188,
    "start_time": "2023-09-18T08:48:45.265Z"
   },
   {
    "duration": 96,
    "start_time": "2023-09-18T08:49:24.946Z"
   },
   {
    "duration": 56,
    "start_time": "2023-09-18T08:49:57.201Z"
   },
   {
    "duration": 7,
    "start_time": "2023-09-18T09:44:50.455Z"
   },
   {
    "duration": 13,
    "start_time": "2023-09-18T09:45:15.732Z"
   },
   {
    "duration": 315,
    "start_time": "2023-09-18T09:48:32.701Z"
   },
   {
    "duration": 6,
    "start_time": "2023-09-18T09:48:48.636Z"
   },
   {
    "duration": 13,
    "start_time": "2023-09-18T09:49:07.180Z"
   },
   {
    "duration": 12,
    "start_time": "2023-09-18T11:13:57.396Z"
   },
   {
    "duration": 45,
    "start_time": "2023-09-18T11:14:05.308Z"
   },
   {
    "duration": 13,
    "start_time": "2023-09-18T11:14:07.675Z"
   },
   {
    "duration": 8,
    "start_time": "2023-09-18T11:15:39.371Z"
   },
   {
    "duration": 10,
    "start_time": "2023-09-18T11:16:16.115Z"
   },
   {
    "duration": 8,
    "start_time": "2023-09-18T11:49:30.923Z"
   },
   {
    "duration": 1160,
    "start_time": "2023-09-18T11:49:36.274Z"
   },
   {
    "duration": 53,
    "start_time": "2023-09-18T11:49:37.436Z"
   },
   {
    "duration": 55,
    "start_time": "2023-09-18T11:49:37.491Z"
   },
   {
    "duration": 5,
    "start_time": "2023-09-18T11:49:37.548Z"
   },
   {
    "duration": 14,
    "start_time": "2023-09-18T11:49:37.555Z"
   },
   {
    "duration": 31,
    "start_time": "2023-09-18T11:49:37.570Z"
   },
   {
    "duration": 4,
    "start_time": "2023-09-18T11:54:31.549Z"
   },
   {
    "duration": 6,
    "start_time": "2023-09-18T11:55:46.108Z"
   },
   {
    "duration": 14,
    "start_time": "2023-09-18T11:55:59.580Z"
   },
   {
    "duration": 117,
    "start_time": "2023-09-18T12:02:21.147Z"
   },
   {
    "duration": 1361,
    "start_time": "2023-09-18T12:02:33.893Z"
   },
   {
    "duration": 60,
    "start_time": "2023-09-18T12:02:35.256Z"
   },
   {
    "duration": 63,
    "start_time": "2023-09-18T12:02:35.317Z"
   },
   {
    "duration": 5,
    "start_time": "2023-09-18T12:02:35.382Z"
   },
   {
    "duration": 21,
    "start_time": "2023-09-18T12:02:35.388Z"
   },
   {
    "duration": 16,
    "start_time": "2023-09-18T12:02:35.411Z"
   },
   {
    "duration": 35,
    "start_time": "2023-09-18T12:02:35.429Z"
   },
   {
    "duration": 10,
    "start_time": "2023-09-18T12:02:35.466Z"
   },
   {
    "duration": 95,
    "start_time": "2023-09-18T12:02:51.235Z"
   },
   {
    "duration": 11,
    "start_time": "2023-09-18T12:03:00.810Z"
   },
   {
    "duration": 1155,
    "start_time": "2023-09-18T12:03:23.705Z"
   },
   {
    "duration": 55,
    "start_time": "2023-09-18T12:03:24.861Z"
   },
   {
    "duration": 63,
    "start_time": "2023-09-18T12:03:24.918Z"
   },
   {
    "duration": 104,
    "start_time": "2023-09-18T12:03:24.984Z"
   },
   {
    "duration": 0,
    "start_time": "2023-09-18T12:03:25.090Z"
   },
   {
    "duration": 0,
    "start_time": "2023-09-18T12:03:25.092Z"
   },
   {
    "duration": 0,
    "start_time": "2023-09-18T12:03:25.093Z"
   },
   {
    "duration": 0,
    "start_time": "2023-09-18T12:03:25.094Z"
   },
   {
    "duration": 12,
    "start_time": "2023-09-18T12:03:46.354Z"
   },
   {
    "duration": 1217,
    "start_time": "2023-09-18T12:03:53.135Z"
   },
   {
    "duration": 55,
    "start_time": "2023-09-18T12:03:54.354Z"
   },
   {
    "duration": 68,
    "start_time": "2023-09-18T12:03:54.411Z"
   },
   {
    "duration": 96,
    "start_time": "2023-09-18T12:03:54.481Z"
   },
   {
    "duration": 0,
    "start_time": "2023-09-18T12:03:54.579Z"
   },
   {
    "duration": 0,
    "start_time": "2023-09-18T12:03:54.580Z"
   },
   {
    "duration": 0,
    "start_time": "2023-09-18T12:03:54.581Z"
   },
   {
    "duration": 0,
    "start_time": "2023-09-18T12:03:54.582Z"
   },
   {
    "duration": 5,
    "start_time": "2023-09-18T12:04:16.538Z"
   },
   {
    "duration": 8,
    "start_time": "2023-09-18T12:04:34.146Z"
   },
   {
    "duration": 1059,
    "start_time": "2023-09-18T12:04:40.776Z"
   },
   {
    "duration": 54,
    "start_time": "2023-09-18T12:04:41.836Z"
   },
   {
    "duration": 56,
    "start_time": "2023-09-18T12:04:41.892Z"
   },
   {
    "duration": 91,
    "start_time": "2023-09-18T12:04:41.950Z"
   },
   {
    "duration": 0,
    "start_time": "2023-09-18T12:04:42.050Z"
   },
   {
    "duration": 0,
    "start_time": "2023-09-18T12:04:42.051Z"
   },
   {
    "duration": 0,
    "start_time": "2023-09-18T12:04:42.052Z"
   },
   {
    "duration": 0,
    "start_time": "2023-09-18T12:04:42.053Z"
   },
   {
    "duration": 5,
    "start_time": "2023-09-18T12:04:52.802Z"
   },
   {
    "duration": 5,
    "start_time": "2023-09-18T12:05:14.034Z"
   },
   {
    "duration": 5,
    "start_time": "2023-09-18T12:05:36.273Z"
   },
   {
    "duration": 5,
    "start_time": "2023-09-18T12:05:53.042Z"
   },
   {
    "duration": 16,
    "start_time": "2023-09-18T12:10:17.351Z"
   },
   {
    "duration": 15,
    "start_time": "2023-09-18T12:10:46.799Z"
   },
   {
    "duration": 14,
    "start_time": "2023-09-18T12:11:00.872Z"
   },
   {
    "duration": 8,
    "start_time": "2023-09-18T12:36:45.817Z"
   },
   {
    "duration": 13,
    "start_time": "2023-09-18T13:07:40.256Z"
   },
   {
    "duration": 1222,
    "start_time": "2023-09-18T13:07:49.934Z"
   },
   {
    "duration": 55,
    "start_time": "2023-09-18T13:07:51.158Z"
   },
   {
    "duration": 58,
    "start_time": "2023-09-18T13:07:51.215Z"
   },
   {
    "duration": 4,
    "start_time": "2023-09-18T13:07:51.275Z"
   },
   {
    "duration": 40,
    "start_time": "2023-09-18T13:07:51.280Z"
   },
   {
    "duration": 35,
    "start_time": "2023-09-18T13:07:51.321Z"
   },
   {
    "duration": 22,
    "start_time": "2023-09-18T13:07:51.357Z"
   },
   {
    "duration": 26,
    "start_time": "2023-09-18T13:07:51.381Z"
   },
   {
    "duration": 18,
    "start_time": "2023-09-18T13:07:51.409Z"
   },
   {
    "duration": 1784,
    "start_time": "2023-09-18T13:07:51.430Z"
   },
   {
    "duration": 5,
    "start_time": "2023-09-18T13:08:25.945Z"
   },
   {
    "duration": 14,
    "start_time": "2023-09-18T13:08:40.872Z"
   },
   {
    "duration": 1286,
    "start_time": "2023-09-18T13:10:03.184Z"
   },
   {
    "duration": 14,
    "start_time": "2023-09-18T13:10:08.103Z"
   },
   {
    "duration": 1317,
    "start_time": "2023-09-18T13:10:14.876Z"
   },
   {
    "duration": 54,
    "start_time": "2023-09-18T13:10:16.195Z"
   },
   {
    "duration": 59,
    "start_time": "2023-09-18T13:10:16.251Z"
   },
   {
    "duration": 5,
    "start_time": "2023-09-18T13:10:16.312Z"
   },
   {
    "duration": 16,
    "start_time": "2023-09-18T13:10:16.320Z"
   },
   {
    "duration": 32,
    "start_time": "2023-09-18T13:10:16.337Z"
   },
   {
    "duration": 6,
    "start_time": "2023-09-18T13:10:16.371Z"
   },
   {
    "duration": 19,
    "start_time": "2023-09-18T13:10:16.379Z"
   },
   {
    "duration": 19,
    "start_time": "2023-09-18T13:10:16.400Z"
   },
   {
    "duration": 1098,
    "start_time": "2023-09-18T13:10:16.421Z"
   },
   {
    "duration": 0,
    "start_time": "2023-09-18T13:10:17.520Z"
   },
   {
    "duration": 3,
    "start_time": "2023-09-18T13:13:03.306Z"
   },
   {
    "duration": 4,
    "start_time": "2023-09-18T13:18:56.889Z"
   },
   {
    "duration": 5,
    "start_time": "2023-09-18T13:23:09.504Z"
   },
   {
    "duration": 5,
    "start_time": "2023-09-18T13:41:09.374Z"
   },
   {
    "duration": 489,
    "start_time": "2023-09-18T13:41:40.597Z"
   },
   {
    "duration": 6,
    "start_time": "2023-09-18T13:42:16.575Z"
   },
   {
    "duration": 12,
    "start_time": "2023-09-18T13:42:35.262Z"
   },
   {
    "duration": 56,
    "start_time": "2023-09-18T16:25:45.766Z"
   },
   {
    "duration": 8,
    "start_time": "2023-09-18T16:26:08.549Z"
   },
   {
    "duration": 1404,
    "start_time": "2023-09-18T16:26:17.933Z"
   },
   {
    "duration": 103,
    "start_time": "2023-09-18T16:26:19.340Z"
   },
   {
    "duration": 66,
    "start_time": "2023-09-18T16:26:19.447Z"
   },
   {
    "duration": 14,
    "start_time": "2023-09-18T16:26:19.515Z"
   },
   {
    "duration": 79,
    "start_time": "2023-09-18T16:26:19.531Z"
   },
   {
    "duration": 69,
    "start_time": "2023-09-18T16:26:19.611Z"
   },
   {
    "duration": 18,
    "start_time": "2023-09-18T16:26:19.682Z"
   },
   {
    "duration": 35,
    "start_time": "2023-09-18T16:26:19.702Z"
   },
   {
    "duration": 6,
    "start_time": "2023-09-18T16:26:19.739Z"
   },
   {
    "duration": 21,
    "start_time": "2023-09-18T16:26:19.747Z"
   },
   {
    "duration": 30,
    "start_time": "2023-09-18T16:26:19.770Z"
   },
   {
    "duration": 38,
    "start_time": "2023-09-18T16:26:19.802Z"
   },
   {
    "duration": 1282,
    "start_time": "2023-09-18T16:27:00.465Z"
   },
   {
    "duration": 58,
    "start_time": "2023-09-18T16:27:01.750Z"
   },
   {
    "duration": 609,
    "start_time": "2023-09-18T16:27:01.810Z"
   },
   {
    "duration": 4,
    "start_time": "2023-09-18T16:27:02.421Z"
   },
   {
    "duration": 38,
    "start_time": "2023-09-18T16:27:02.428Z"
   },
   {
    "duration": 48,
    "start_time": "2023-09-18T16:27:02.468Z"
   },
   {
    "duration": 24,
    "start_time": "2023-09-18T16:27:02.518Z"
   },
   {
    "duration": 26,
    "start_time": "2023-09-18T16:27:02.544Z"
   },
   {
    "duration": 7,
    "start_time": "2023-09-18T16:27:02.572Z"
   },
   {
    "duration": 30,
    "start_time": "2023-09-18T16:27:02.581Z"
   },
   {
    "duration": 37,
    "start_time": "2023-09-18T16:27:02.614Z"
   },
   {
    "duration": 42,
    "start_time": "2023-09-18T16:27:02.653Z"
   },
   {
    "duration": 43,
    "start_time": "2023-09-18T16:27:02.696Z"
   },
   {
    "duration": 67,
    "start_time": "2023-09-18T16:28:29.101Z"
   },
   {
    "duration": 8,
    "start_time": "2023-09-18T16:30:35.425Z"
   },
   {
    "duration": 11,
    "start_time": "2023-09-18T16:30:49.701Z"
   },
   {
    "duration": 23,
    "start_time": "2023-09-18T16:34:47.317Z"
   },
   {
    "duration": 1252,
    "start_time": "2023-09-18T16:34:52.881Z"
   },
   {
    "duration": 57,
    "start_time": "2023-09-18T16:34:54.135Z"
   },
   {
    "duration": 69,
    "start_time": "2023-09-18T16:34:54.194Z"
   },
   {
    "duration": 100,
    "start_time": "2023-09-18T16:34:54.265Z"
   },
   {
    "duration": 25,
    "start_time": "2023-09-18T16:34:54.368Z"
   },
   {
    "duration": 28,
    "start_time": "2023-09-18T16:34:54.395Z"
   },
   {
    "duration": 36,
    "start_time": "2023-09-18T16:34:54.425Z"
   },
   {
    "duration": 33,
    "start_time": "2023-09-18T16:34:54.463Z"
   },
   {
    "duration": 9,
    "start_time": "2023-09-18T16:34:54.498Z"
   },
   {
    "duration": 35,
    "start_time": "2023-09-18T16:34:54.509Z"
   },
   {
    "duration": 20,
    "start_time": "2023-09-18T16:34:54.546Z"
   },
   {
    "duration": 20,
    "start_time": "2023-09-18T16:34:54.567Z"
   },
   {
    "duration": 53,
    "start_time": "2023-09-18T16:34:54.589Z"
   },
   {
    "duration": 36,
    "start_time": "2023-09-18T16:34:54.644Z"
   },
   {
    "duration": 5,
    "start_time": "2023-09-18T16:35:09.296Z"
   },
   {
    "duration": 23,
    "start_time": "2023-09-18T16:35:12.505Z"
   },
   {
    "duration": 5,
    "start_time": "2023-09-18T16:35:40.308Z"
   },
   {
    "duration": 23,
    "start_time": "2023-09-18T16:35:42.749Z"
   },
   {
    "duration": 1227,
    "start_time": "2023-09-18T16:37:24.820Z"
   },
   {
    "duration": 58,
    "start_time": "2023-09-18T16:37:26.049Z"
   },
   {
    "duration": 66,
    "start_time": "2023-09-18T16:37:26.109Z"
   },
   {
    "duration": 5,
    "start_time": "2023-09-18T16:37:26.176Z"
   },
   {
    "duration": 19,
    "start_time": "2023-09-18T16:37:26.203Z"
   },
   {
    "duration": 56,
    "start_time": "2023-09-18T16:37:26.224Z"
   },
   {
    "duration": 21,
    "start_time": "2023-09-18T16:37:26.282Z"
   },
   {
    "duration": 30,
    "start_time": "2023-09-18T16:37:26.305Z"
   },
   {
    "duration": 29,
    "start_time": "2023-09-18T16:37:26.336Z"
   },
   {
    "duration": 16,
    "start_time": "2023-09-18T16:37:26.367Z"
   },
   {
    "duration": 27,
    "start_time": "2023-09-18T16:37:26.385Z"
   },
   {
    "duration": 16,
    "start_time": "2023-09-18T16:37:26.414Z"
   },
   {
    "duration": 32,
    "start_time": "2023-09-18T16:37:26.431Z"
   },
   {
    "duration": 31,
    "start_time": "2023-09-18T16:37:26.465Z"
   },
   {
    "duration": 1267,
    "start_time": "2023-09-18T16:39:08.073Z"
   },
   {
    "duration": 57,
    "start_time": "2023-09-18T16:39:09.342Z"
   },
   {
    "duration": 71,
    "start_time": "2023-09-18T16:39:09.401Z"
   },
   {
    "duration": 6,
    "start_time": "2023-09-18T16:39:09.475Z"
   },
   {
    "duration": 11,
    "start_time": "2023-09-18T16:39:09.502Z"
   },
   {
    "duration": 36,
    "start_time": "2023-09-18T16:39:09.515Z"
   },
   {
    "duration": 127,
    "start_time": "2023-09-18T16:39:09.553Z"
   },
   {
    "duration": 0,
    "start_time": "2023-09-18T16:39:09.682Z"
   },
   {
    "duration": 0,
    "start_time": "2023-09-18T16:39:09.683Z"
   },
   {
    "duration": 0,
    "start_time": "2023-09-18T16:39:09.684Z"
   },
   {
    "duration": 1,
    "start_time": "2023-09-18T16:39:09.685Z"
   },
   {
    "duration": 0,
    "start_time": "2023-09-18T16:39:09.687Z"
   },
   {
    "duration": 0,
    "start_time": "2023-09-18T16:39:09.688Z"
   },
   {
    "duration": 0,
    "start_time": "2023-09-18T16:39:09.689Z"
   },
   {
    "duration": 9,
    "start_time": "2023-09-18T16:39:28.737Z"
   },
   {
    "duration": 1186,
    "start_time": "2023-09-18T16:39:58.043Z"
   },
   {
    "duration": 59,
    "start_time": "2023-09-18T16:39:59.231Z"
   },
   {
    "duration": 63,
    "start_time": "2023-09-18T16:39:59.292Z"
   },
   {
    "duration": 5,
    "start_time": "2023-09-18T16:39:59.358Z"
   },
   {
    "duration": 87,
    "start_time": "2023-09-18T16:39:59.364Z"
   },
   {
    "duration": 135,
    "start_time": "2023-09-18T16:39:59.453Z"
   },
   {
    "duration": 41,
    "start_time": "2023-09-18T16:39:59.590Z"
   },
   {
    "duration": 48,
    "start_time": "2023-09-18T16:39:59.633Z"
   },
   {
    "duration": 26,
    "start_time": "2023-09-18T16:39:59.683Z"
   },
   {
    "duration": 27,
    "start_time": "2023-09-18T16:39:59.712Z"
   },
   {
    "duration": 48,
    "start_time": "2023-09-18T16:39:59.741Z"
   },
   {
    "duration": 57,
    "start_time": "2023-09-18T16:39:59.791Z"
   },
   {
    "duration": 87,
    "start_time": "2023-09-18T16:39:59.850Z"
   },
   {
    "duration": 135,
    "start_time": "2023-09-18T16:39:59.939Z"
   },
   {
    "duration": 25,
    "start_time": "2023-09-18T16:40:15.409Z"
   },
   {
    "duration": 26,
    "start_time": "2023-09-18T16:40:49.891Z"
   },
   {
    "duration": 1258,
    "start_time": "2023-09-18T16:40:56.699Z"
   },
   {
    "duration": 58,
    "start_time": "2023-09-18T16:40:57.959Z"
   },
   {
    "duration": 64,
    "start_time": "2023-09-18T16:40:58.018Z"
   },
   {
    "duration": 22,
    "start_time": "2023-09-18T16:40:58.083Z"
   },
   {
    "duration": 26,
    "start_time": "2023-09-18T16:40:58.107Z"
   },
   {
    "duration": 13,
    "start_time": "2023-09-18T16:40:58.135Z"
   },
   {
    "duration": 8,
    "start_time": "2023-09-18T16:40:58.150Z"
   },
   {
    "duration": 23,
    "start_time": "2023-09-18T16:40:58.160Z"
   },
   {
    "duration": 3,
    "start_time": "2023-09-18T16:40:58.185Z"
   },
   {
    "duration": 12,
    "start_time": "2023-09-18T16:40:58.190Z"
   },
   {
    "duration": 18,
    "start_time": "2023-09-18T16:40:58.203Z"
   },
   {
    "duration": 24,
    "start_time": "2023-09-18T16:40:58.223Z"
   },
   {
    "duration": 63,
    "start_time": "2023-09-18T16:40:58.249Z"
   },
   {
    "duration": 9,
    "start_time": "2023-09-18T16:40:58.314Z"
   },
   {
    "duration": 23,
    "start_time": "2023-09-18T16:41:16.451Z"
   },
   {
    "duration": 23,
    "start_time": "2023-09-18T16:41:30.323Z"
   },
   {
    "duration": 8,
    "start_time": "2023-09-18T16:48:38.594Z"
   },
   {
    "duration": 11,
    "start_time": "2023-09-18T16:48:48.921Z"
   },
   {
    "duration": 8,
    "start_time": "2023-09-18T16:48:55.265Z"
   },
   {
    "duration": 12,
    "start_time": "2023-09-18T16:49:01.214Z"
   },
   {
    "duration": 204,
    "start_time": "2023-09-18T16:53:32.991Z"
   },
   {
    "duration": 317,
    "start_time": "2023-09-18T16:56:09.886Z"
   },
   {
    "duration": 330,
    "start_time": "2023-09-18T17:17:42.774Z"
   },
   {
    "duration": 375,
    "start_time": "2023-09-18T17:18:06.863Z"
   },
   {
    "duration": 417,
    "start_time": "2023-09-18T17:18:48.767Z"
   },
   {
    "duration": 352,
    "start_time": "2023-09-18T17:19:29.991Z"
   },
   {
    "duration": 316,
    "start_time": "2023-09-18T17:20:14.967Z"
   },
   {
    "duration": 13,
    "start_time": "2023-09-18T18:07:05.025Z"
   },
   {
    "duration": 9,
    "start_time": "2023-09-18T18:07:29.431Z"
   },
   {
    "duration": 12,
    "start_time": "2023-09-18T18:07:42.881Z"
   },
   {
    "duration": 14,
    "start_time": "2023-09-18T18:07:56.271Z"
   },
   {
    "duration": 113,
    "start_time": "2023-09-18T18:09:02.757Z"
   },
   {
    "duration": 253,
    "start_time": "2023-09-18T18:09:18.151Z"
   },
   {
    "duration": 1256,
    "start_time": "2023-09-18T18:09:27.368Z"
   },
   {
    "duration": 63,
    "start_time": "2023-09-18T18:09:28.626Z"
   },
   {
    "duration": 71,
    "start_time": "2023-09-18T18:09:28.692Z"
   },
   {
    "duration": 5,
    "start_time": "2023-09-18T18:09:28.765Z"
   },
   {
    "duration": 23,
    "start_time": "2023-09-18T18:09:28.772Z"
   },
   {
    "duration": 65,
    "start_time": "2023-09-18T18:09:28.802Z"
   },
   {
    "duration": 23,
    "start_time": "2023-09-18T18:09:28.869Z"
   },
   {
    "duration": 29,
    "start_time": "2023-09-18T18:09:28.894Z"
   },
   {
    "duration": 9,
    "start_time": "2023-09-18T18:09:28.924Z"
   },
   {
    "duration": 17,
    "start_time": "2023-09-18T18:09:28.936Z"
   },
   {
    "duration": 15,
    "start_time": "2023-09-18T18:09:28.954Z"
   },
   {
    "duration": 28,
    "start_time": "2023-09-18T18:09:28.970Z"
   },
   {
    "duration": 38,
    "start_time": "2023-09-18T18:09:29.000Z"
   },
   {
    "duration": 22,
    "start_time": "2023-09-18T18:09:29.040Z"
   },
   {
    "duration": 27,
    "start_time": "2023-09-18T18:09:29.064Z"
   },
   {
    "duration": 96,
    "start_time": "2023-09-18T18:09:29.093Z"
   },
   {
    "duration": 0,
    "start_time": "2023-09-18T18:09:29.191Z"
   },
   {
    "duration": 373,
    "start_time": "2023-09-18T18:09:43.579Z"
   },
   {
    "duration": 16,
    "start_time": "2023-09-18T18:10:55.343Z"
   },
   {
    "duration": 410,
    "start_time": "2023-09-18T18:10:58.674Z"
   },
   {
    "duration": 1262,
    "start_time": "2023-09-18T18:11:12.968Z"
   },
   {
    "duration": 64,
    "start_time": "2023-09-18T18:11:14.232Z"
   },
   {
    "duration": 86,
    "start_time": "2023-09-18T18:11:14.298Z"
   },
   {
    "duration": 13,
    "start_time": "2023-09-18T18:11:14.401Z"
   },
   {
    "duration": 24,
    "start_time": "2023-09-18T18:11:14.416Z"
   },
   {
    "duration": 14,
    "start_time": "2023-09-18T18:11:14.442Z"
   },
   {
    "duration": 9,
    "start_time": "2023-09-18T18:11:14.458Z"
   },
   {
    "duration": 17,
    "start_time": "2023-09-18T18:11:14.469Z"
   },
   {
    "duration": 4,
    "start_time": "2023-09-18T18:11:14.488Z"
   },
   {
    "duration": 5,
    "start_time": "2023-09-18T18:11:14.501Z"
   },
   {
    "duration": 50,
    "start_time": "2023-09-18T18:11:14.508Z"
   },
   {
    "duration": 9,
    "start_time": "2023-09-18T18:11:14.560Z"
   },
   {
    "duration": 41,
    "start_time": "2023-09-18T18:11:14.572Z"
   },
   {
    "duration": 35,
    "start_time": "2023-09-18T18:11:14.617Z"
   },
   {
    "duration": 13,
    "start_time": "2023-09-18T18:11:14.657Z"
   },
   {
    "duration": 443,
    "start_time": "2023-09-18T18:11:14.672Z"
   },
   {
    "duration": 16,
    "start_time": "2023-09-18T18:11:15.118Z"
   },
   {
    "duration": 13,
    "start_time": "2023-09-18T18:11:39.467Z"
   },
   {
    "duration": 328,
    "start_time": "2023-09-18T18:11:42.792Z"
   },
   {
    "duration": 257,
    "start_time": "2023-09-18T18:12:35.268Z"
   },
   {
    "duration": 12,
    "start_time": "2023-09-18T18:13:06.168Z"
   },
   {
    "duration": 274,
    "start_time": "2023-09-18T18:13:10.281Z"
   },
   {
    "duration": 383,
    "start_time": "2023-09-18T18:14:59.393Z"
   },
   {
    "duration": 143,
    "start_time": "2023-09-18T18:16:13.919Z"
   },
   {
    "duration": 214,
    "start_time": "2023-09-18T18:17:21.017Z"
   },
   {
    "duration": 95,
    "start_time": "2023-09-18T18:19:52.156Z"
   },
   {
    "duration": 82,
    "start_time": "2023-09-18T18:20:00.451Z"
   },
   {
    "duration": 127,
    "start_time": "2023-09-18T18:20:22.339Z"
   },
   {
    "duration": 213,
    "start_time": "2023-09-18T18:20:25.556Z"
   },
   {
    "duration": 322,
    "start_time": "2023-09-18T18:20:51.715Z"
   },
   {
    "duration": 206,
    "start_time": "2023-09-18T18:27:39.167Z"
   },
   {
    "duration": 140,
    "start_time": "2023-09-18T19:17:19.215Z"
   },
   {
    "duration": 138,
    "start_time": "2023-09-18T19:17:49.366Z"
   },
   {
    "duration": 8,
    "start_time": "2023-09-18T19:23:12.673Z"
   },
   {
    "duration": 1481,
    "start_time": "2023-09-18T19:23:45.360Z"
   },
   {
    "duration": 1243,
    "start_time": "2023-09-18T19:24:04.069Z"
   },
   {
    "duration": 54,
    "start_time": "2023-09-18T19:24:05.314Z"
   },
   {
    "duration": 61,
    "start_time": "2023-09-18T19:24:05.370Z"
   },
   {
    "duration": 5,
    "start_time": "2023-09-18T19:24:05.434Z"
   },
   {
    "duration": 36,
    "start_time": "2023-09-18T19:24:05.440Z"
   },
   {
    "duration": 34,
    "start_time": "2023-09-18T19:24:05.478Z"
   },
   {
    "duration": 62,
    "start_time": "2023-09-18T19:24:05.514Z"
   },
   {
    "duration": 126,
    "start_time": "2023-09-18T19:24:05.578Z"
   },
   {
    "duration": 25,
    "start_time": "2023-09-18T19:24:05.706Z"
   },
   {
    "duration": 21,
    "start_time": "2023-09-18T19:24:05.734Z"
   },
   {
    "duration": 42,
    "start_time": "2023-09-18T19:24:05.757Z"
   },
   {
    "duration": 13,
    "start_time": "2023-09-18T19:24:05.801Z"
   },
   {
    "duration": 58,
    "start_time": "2023-09-18T19:24:05.816Z"
   },
   {
    "duration": 47,
    "start_time": "2023-09-18T19:24:05.876Z"
   },
   {
    "duration": 33,
    "start_time": "2023-09-18T19:24:05.925Z"
   },
   {
    "duration": 336,
    "start_time": "2023-09-18T19:24:05.960Z"
   },
   {
    "duration": 14,
    "start_time": "2023-09-18T19:24:06.301Z"
   },
   {
    "duration": 152,
    "start_time": "2023-09-18T19:24:06.317Z"
   },
   {
    "duration": 1390,
    "start_time": "2023-09-18T19:24:06.471Z"
   },
   {
    "duration": 1424,
    "start_time": "2023-09-18T19:24:29.994Z"
   },
   {
    "duration": 1354,
    "start_time": "2023-09-18T19:24:55.278Z"
   },
   {
    "duration": 14,
    "start_time": "2023-09-18T19:27:48.090Z"
   },
   {
    "duration": 16,
    "start_time": "2023-09-18T19:28:47.100Z"
   },
   {
    "duration": 1204,
    "start_time": "2023-09-18T19:29:01.336Z"
   },
   {
    "duration": 57,
    "start_time": "2023-09-18T19:29:02.542Z"
   },
   {
    "duration": 67,
    "start_time": "2023-09-18T19:29:02.601Z"
   },
   {
    "duration": 5,
    "start_time": "2023-09-18T19:29:02.670Z"
   },
   {
    "duration": 38,
    "start_time": "2023-09-18T19:29:02.677Z"
   },
   {
    "duration": 29,
    "start_time": "2023-09-18T19:29:02.717Z"
   },
   {
    "duration": 47,
    "start_time": "2023-09-18T19:29:02.748Z"
   },
   {
    "duration": 87,
    "start_time": "2023-09-18T19:29:02.797Z"
   },
   {
    "duration": 6,
    "start_time": "2023-09-18T19:29:02.886Z"
   },
   {
    "duration": 22,
    "start_time": "2023-09-18T19:29:02.894Z"
   },
   {
    "duration": 59,
    "start_time": "2023-09-18T19:29:02.917Z"
   },
   {
    "duration": 27,
    "start_time": "2023-09-18T19:29:02.977Z"
   },
   {
    "duration": 39,
    "start_time": "2023-09-18T19:29:03.006Z"
   },
   {
    "duration": 21,
    "start_time": "2023-09-18T19:29:03.047Z"
   },
   {
    "duration": 35,
    "start_time": "2023-09-18T19:29:03.070Z"
   },
   {
    "duration": 351,
    "start_time": "2023-09-18T19:29:03.106Z"
   },
   {
    "duration": 15,
    "start_time": "2023-09-18T19:29:03.459Z"
   },
   {
    "duration": 250,
    "start_time": "2023-09-18T19:29:03.476Z"
   },
   {
    "duration": 108,
    "start_time": "2023-09-18T19:29:03.727Z"
   },
   {
    "duration": 15,
    "start_time": "2023-09-18T19:29:30.354Z"
   },
   {
    "duration": 27,
    "start_time": "2023-09-18T19:29:48.407Z"
   },
   {
    "duration": 13,
    "start_time": "2023-09-18T19:30:27.519Z"
   },
   {
    "duration": 52,
    "start_time": "2023-09-18T19:31:17.093Z"
   },
   {
    "duration": 41,
    "start_time": "2023-09-18T19:31:42.220Z"
   },
   {
    "duration": 30,
    "start_time": "2023-09-18T19:32:09.589Z"
   },
   {
    "duration": 19,
    "start_time": "2023-09-18T19:32:40.606Z"
   },
   {
    "duration": 24,
    "start_time": "2023-09-18T19:32:54.114Z"
   },
   {
    "duration": 55,
    "start_time": "2023-09-18T19:33:23.036Z"
   },
   {
    "duration": 20,
    "start_time": "2023-09-18T19:33:40.754Z"
   },
   {
    "duration": 21,
    "start_time": "2023-09-18T19:33:55.643Z"
   },
   {
    "duration": 54,
    "start_time": "2023-09-18T19:34:01.736Z"
   },
   {
    "duration": 8,
    "start_time": "2023-09-18T19:37:03.431Z"
   },
   {
    "duration": 10,
    "start_time": "2023-09-18T19:37:23.602Z"
   },
   {
    "duration": 10,
    "start_time": "2023-09-18T19:37:54.062Z"
   },
   {
    "duration": 1236,
    "start_time": "2023-09-18T19:38:01.094Z"
   },
   {
    "duration": 60,
    "start_time": "2023-09-18T19:38:02.332Z"
   },
   {
    "duration": 71,
    "start_time": "2023-09-18T19:38:02.393Z"
   },
   {
    "duration": 6,
    "start_time": "2023-09-18T19:38:02.466Z"
   },
   {
    "duration": 32,
    "start_time": "2023-09-18T19:38:02.474Z"
   },
   {
    "duration": 11,
    "start_time": "2023-09-18T19:38:02.508Z"
   },
   {
    "duration": 13,
    "start_time": "2023-09-18T19:38:02.521Z"
   },
   {
    "duration": 33,
    "start_time": "2023-09-18T19:38:02.535Z"
   },
   {
    "duration": 44,
    "start_time": "2023-09-18T19:38:02.569Z"
   },
   {
    "duration": 28,
    "start_time": "2023-09-18T19:38:02.614Z"
   },
   {
    "duration": 21,
    "start_time": "2023-09-18T19:38:02.643Z"
   },
   {
    "duration": 11,
    "start_time": "2023-09-18T19:38:02.666Z"
   },
   {
    "duration": 25,
    "start_time": "2023-09-18T19:38:02.679Z"
   },
   {
    "duration": 24,
    "start_time": "2023-09-18T19:38:02.708Z"
   },
   {
    "duration": 11,
    "start_time": "2023-09-18T19:38:02.734Z"
   },
   {
    "duration": 355,
    "start_time": "2023-09-18T19:38:02.747Z"
   },
   {
    "duration": 14,
    "start_time": "2023-09-18T19:38:03.104Z"
   },
   {
    "duration": 172,
    "start_time": "2023-09-18T19:38:03.120Z"
   },
   {
    "duration": 6,
    "start_time": "2023-09-18T19:38:03.300Z"
   },
   {
    "duration": 112,
    "start_time": "2023-09-18T19:38:03.308Z"
   },
   {
    "duration": 9,
    "start_time": "2023-09-18T19:38:19.951Z"
   },
   {
    "duration": 10,
    "start_time": "2023-09-18T19:38:24.809Z"
   },
   {
    "duration": 84,
    "start_time": "2023-09-18T19:39:02.887Z"
   },
   {
    "duration": 9,
    "start_time": "2023-09-18T19:39:10.211Z"
   },
   {
    "duration": 9,
    "start_time": "2023-09-18T19:39:18.543Z"
   },
   {
    "duration": 4,
    "start_time": "2023-09-18T19:39:22.702Z"
   },
   {
    "duration": 5,
    "start_time": "2023-09-18T19:39:29.447Z"
   },
   {
    "duration": 6,
    "start_time": "2023-09-18T19:47:26.250Z"
   },
   {
    "duration": 12,
    "start_time": "2023-09-18T19:47:38.622Z"
   },
   {
    "duration": 9,
    "start_time": "2023-09-18T19:50:39.499Z"
   },
   {
    "duration": 9,
    "start_time": "2023-09-18T19:50:46.939Z"
   },
   {
    "duration": 9,
    "start_time": "2023-09-18T19:50:49.663Z"
   },
   {
    "duration": 11,
    "start_time": "2023-09-18T19:53:50.951Z"
   },
   {
    "duration": 5,
    "start_time": "2023-09-18T19:55:12.817Z"
   },
   {
    "duration": 9,
    "start_time": "2023-09-18T19:55:33.918Z"
   },
   {
    "duration": 17,
    "start_time": "2023-09-18T19:55:51.394Z"
   },
   {
    "duration": 7,
    "start_time": "2023-09-18T19:55:54.644Z"
   },
   {
    "duration": 23,
    "start_time": "2023-09-18T19:56:05.114Z"
   },
   {
    "duration": 24,
    "start_time": "2023-09-18T19:56:34.734Z"
   },
   {
    "duration": 197,
    "start_time": "2023-09-18T19:57:22.951Z"
   },
   {
    "duration": 13,
    "start_time": "2023-09-18T19:58:32.408Z"
   },
   {
    "duration": 224,
    "start_time": "2023-09-18T19:58:44.314Z"
   },
   {
    "duration": 216,
    "start_time": "2023-09-18T19:59:17.656Z"
   },
   {
    "duration": 224,
    "start_time": "2023-09-18T19:59:30.719Z"
   },
   {
    "duration": 207,
    "start_time": "2023-09-18T19:59:43.103Z"
   },
   {
    "duration": 170,
    "start_time": "2023-09-18T20:00:12.686Z"
   },
   {
    "duration": 1225,
    "start_time": "2023-09-18T20:00:29.803Z"
   },
   {
    "duration": 60,
    "start_time": "2023-09-18T20:00:31.030Z"
   },
   {
    "duration": 63,
    "start_time": "2023-09-18T20:00:31.092Z"
   },
   {
    "duration": 5,
    "start_time": "2023-09-18T20:00:31.158Z"
   },
   {
    "duration": 45,
    "start_time": "2023-09-18T20:00:31.165Z"
   },
   {
    "duration": 46,
    "start_time": "2023-09-18T20:00:31.212Z"
   },
   {
    "duration": 31,
    "start_time": "2023-09-18T20:00:31.261Z"
   },
   {
    "duration": 51,
    "start_time": "2023-09-18T20:00:31.294Z"
   },
   {
    "duration": 22,
    "start_time": "2023-09-18T20:00:31.347Z"
   },
   {
    "duration": 23,
    "start_time": "2023-09-18T20:00:31.372Z"
   },
   {
    "duration": 26,
    "start_time": "2023-09-18T20:00:31.397Z"
   },
   {
    "duration": 38,
    "start_time": "2023-09-18T20:00:31.425Z"
   },
   {
    "duration": 51,
    "start_time": "2023-09-18T20:00:31.465Z"
   },
   {
    "duration": 39,
    "start_time": "2023-09-18T20:00:31.518Z"
   },
   {
    "duration": 19,
    "start_time": "2023-09-18T20:00:31.559Z"
   },
   {
    "duration": 360,
    "start_time": "2023-09-18T20:00:31.580Z"
   },
   {
    "duration": 13,
    "start_time": "2023-09-18T20:00:31.942Z"
   },
   {
    "duration": 166,
    "start_time": "2023-09-18T20:00:31.957Z"
   },
   {
    "duration": 12,
    "start_time": "2023-09-18T20:00:32.124Z"
   },
   {
    "duration": 77,
    "start_time": "2023-09-18T20:00:32.138Z"
   },
   {
    "duration": 198,
    "start_time": "2023-09-18T20:00:42.095Z"
   },
   {
    "duration": 195,
    "start_time": "2023-09-18T20:01:51.151Z"
   },
   {
    "duration": 204,
    "start_time": "2023-09-18T20:01:54.928Z"
   },
   {
    "duration": 196,
    "start_time": "2023-09-18T20:02:23.162Z"
   },
   {
    "duration": 198,
    "start_time": "2023-09-18T20:05:26.617Z"
   },
   {
    "duration": 272,
    "start_time": "2023-09-18T20:06:29.329Z"
   },
   {
    "duration": 208,
    "start_time": "2023-09-18T20:06:47.268Z"
   },
   {
    "duration": 195,
    "start_time": "2023-09-18T20:07:03.697Z"
   },
   {
    "duration": 219,
    "start_time": "2023-09-18T20:07:35.793Z"
   },
   {
    "duration": 184,
    "start_time": "2023-09-18T20:08:13.769Z"
   },
   {
    "duration": 28,
    "start_time": "2023-09-18T20:28:42.946Z"
   },
   {
    "duration": 43,
    "start_time": "2023-09-19T07:44:42.216Z"
   },
   {
    "duration": 1330,
    "start_time": "2023-09-19T07:44:49.825Z"
   },
   {
    "duration": 177,
    "start_time": "2023-09-19T07:44:51.157Z"
   },
   {
    "duration": 54,
    "start_time": "2023-09-19T07:44:51.335Z"
   },
   {
    "duration": 4,
    "start_time": "2023-09-19T07:44:51.390Z"
   },
   {
    "duration": 19,
    "start_time": "2023-09-19T07:44:51.396Z"
   },
   {
    "duration": 17,
    "start_time": "2023-09-19T07:44:51.417Z"
   },
   {
    "duration": 9,
    "start_time": "2023-09-19T07:44:51.435Z"
   },
   {
    "duration": 34,
    "start_time": "2023-09-19T07:44:51.446Z"
   },
   {
    "duration": 16,
    "start_time": "2023-09-19T07:44:51.482Z"
   },
   {
    "duration": 24,
    "start_time": "2023-09-19T07:44:51.500Z"
   },
   {
    "duration": 37,
    "start_time": "2023-09-19T07:44:51.525Z"
   },
   {
    "duration": 60,
    "start_time": "2023-09-19T07:44:51.563Z"
   },
   {
    "duration": 55,
    "start_time": "2023-09-19T07:44:51.624Z"
   },
   {
    "duration": 30,
    "start_time": "2023-09-19T07:44:51.681Z"
   },
   {
    "duration": 40,
    "start_time": "2023-09-19T07:44:51.712Z"
   },
   {
    "duration": 292,
    "start_time": "2023-09-19T07:44:51.754Z"
   },
   {
    "duration": 11,
    "start_time": "2023-09-19T07:44:52.048Z"
   },
   {
    "duration": 135,
    "start_time": "2023-09-19T07:44:52.060Z"
   },
   {
    "duration": 181,
    "start_time": "2023-09-19T07:44:52.196Z"
   },
   {
    "duration": 182,
    "start_time": "2023-09-19T07:44:52.378Z"
   },
   {
    "duration": 183,
    "start_time": "2023-09-19T07:44:52.562Z"
   },
   {
    "duration": 182,
    "start_time": "2023-09-19T07:44:52.747Z"
   },
   {
    "duration": 184,
    "start_time": "2023-09-19T07:44:52.930Z"
   },
   {
    "duration": 119,
    "start_time": "2023-09-19T07:44:53.116Z"
   },
   {
    "duration": 24,
    "start_time": "2023-09-19T07:44:53.236Z"
   },
   {
    "duration": 22,
    "start_time": "2023-09-19T07:45:33.572Z"
   },
   {
    "duration": 22,
    "start_time": "2023-09-19T07:45:48.611Z"
   },
   {
    "duration": 58,
    "start_time": "2023-09-19T07:47:42.885Z"
   },
   {
    "duration": 21,
    "start_time": "2023-09-19T07:50:57.803Z"
   },
   {
    "duration": 339,
    "start_time": "2023-09-19T07:53:25.587Z"
   },
   {
    "duration": 1144,
    "start_time": "2023-09-19T07:57:27.000Z"
   },
   {
    "duration": 53,
    "start_time": "2023-09-19T07:57:28.146Z"
   },
   {
    "duration": 60,
    "start_time": "2023-09-19T07:57:28.201Z"
   },
   {
    "duration": 4,
    "start_time": "2023-09-19T07:57:28.264Z"
   },
   {
    "duration": 13,
    "start_time": "2023-09-19T07:57:28.270Z"
   },
   {
    "duration": 11,
    "start_time": "2023-09-19T07:57:28.285Z"
   },
   {
    "duration": 6,
    "start_time": "2023-09-19T07:57:28.298Z"
   },
   {
    "duration": 42,
    "start_time": "2023-09-19T07:57:28.306Z"
   },
   {
    "duration": 4,
    "start_time": "2023-09-19T07:57:28.351Z"
   },
   {
    "duration": 7,
    "start_time": "2023-09-19T07:57:28.359Z"
   },
   {
    "duration": 19,
    "start_time": "2023-09-19T07:57:28.368Z"
   },
   {
    "duration": 5,
    "start_time": "2023-09-19T07:57:28.389Z"
   },
   {
    "duration": 26,
    "start_time": "2023-09-19T07:57:28.396Z"
   },
   {
    "duration": 41,
    "start_time": "2023-09-19T07:57:28.424Z"
   },
   {
    "duration": 25,
    "start_time": "2023-09-19T07:57:28.467Z"
   },
   {
    "duration": 326,
    "start_time": "2023-09-19T07:57:28.493Z"
   },
   {
    "duration": 25,
    "start_time": "2023-09-19T07:57:28.820Z"
   },
   {
    "duration": 147,
    "start_time": "2023-09-19T07:57:28.847Z"
   },
   {
    "duration": 204,
    "start_time": "2023-09-19T07:57:28.996Z"
   },
   {
    "duration": 197,
    "start_time": "2023-09-19T07:57:29.202Z"
   },
   {
    "duration": 191,
    "start_time": "2023-09-19T07:57:29.401Z"
   },
   {
    "duration": 215,
    "start_time": "2023-09-19T07:57:29.593Z"
   },
   {
    "duration": 195,
    "start_time": "2023-09-19T07:57:29.810Z"
   },
   {
    "duration": 132,
    "start_time": "2023-09-19T07:57:30.007Z"
   },
   {
    "duration": 32,
    "start_time": "2023-09-19T07:57:30.145Z"
   },
   {
    "duration": 1147,
    "start_time": "2023-09-19T07:57:55.625Z"
   },
   {
    "duration": 53,
    "start_time": "2023-09-19T07:57:56.774Z"
   },
   {
    "duration": 63,
    "start_time": "2023-09-19T07:57:56.828Z"
   },
   {
    "duration": 4,
    "start_time": "2023-09-19T07:57:56.893Z"
   },
   {
    "duration": 12,
    "start_time": "2023-09-19T07:57:56.898Z"
   },
   {
    "duration": 11,
    "start_time": "2023-09-19T07:57:56.912Z"
   },
   {
    "duration": 6,
    "start_time": "2023-09-19T07:57:56.924Z"
   },
   {
    "duration": 20,
    "start_time": "2023-09-19T07:57:56.943Z"
   },
   {
    "duration": 3,
    "start_time": "2023-09-19T07:57:56.964Z"
   },
   {
    "duration": 9,
    "start_time": "2023-09-19T07:57:56.969Z"
   },
   {
    "duration": 24,
    "start_time": "2023-09-19T07:57:56.979Z"
   },
   {
    "duration": 4,
    "start_time": "2023-09-19T07:57:57.004Z"
   },
   {
    "duration": 28,
    "start_time": "2023-09-19T07:57:57.010Z"
   },
   {
    "duration": 30,
    "start_time": "2023-09-19T07:57:57.039Z"
   },
   {
    "duration": 9,
    "start_time": "2023-09-19T07:57:57.071Z"
   },
   {
    "duration": 307,
    "start_time": "2023-09-19T07:57:57.081Z"
   },
   {
    "duration": 10,
    "start_time": "2023-09-19T07:57:57.389Z"
   },
   {
    "duration": 140,
    "start_time": "2023-09-19T07:57:57.400Z"
   },
   {
    "duration": 185,
    "start_time": "2023-09-19T07:57:57.546Z"
   },
   {
    "duration": 190,
    "start_time": "2023-09-19T07:57:57.733Z"
   },
   {
    "duration": 185,
    "start_time": "2023-09-19T07:57:57.924Z"
   },
   {
    "duration": 188,
    "start_time": "2023-09-19T07:57:58.111Z"
   },
   {
    "duration": 181,
    "start_time": "2023-09-19T07:57:58.300Z"
   },
   {
    "duration": 102,
    "start_time": "2023-09-19T07:57:58.482Z"
   },
   {
    "duration": 26,
    "start_time": "2023-09-19T07:57:58.586Z"
   },
   {
    "duration": 1211,
    "start_time": "2023-09-19T07:59:03.064Z"
   },
   {
    "duration": 66,
    "start_time": "2023-09-19T07:59:04.278Z"
   },
   {
    "duration": 80,
    "start_time": "2023-09-19T07:59:04.347Z"
   },
   {
    "duration": 5,
    "start_time": "2023-09-19T07:59:04.443Z"
   },
   {
    "duration": 10,
    "start_time": "2023-09-19T07:59:04.449Z"
   },
   {
    "duration": 37,
    "start_time": "2023-09-19T07:59:04.460Z"
   },
   {
    "duration": 11,
    "start_time": "2023-09-19T07:59:04.499Z"
   },
   {
    "duration": 19,
    "start_time": "2023-09-19T07:59:04.511Z"
   },
   {
    "duration": 3,
    "start_time": "2023-09-19T07:59:04.532Z"
   },
   {
    "duration": 6,
    "start_time": "2023-09-19T07:59:04.537Z"
   },
   {
    "duration": 19,
    "start_time": "2023-09-19T07:59:04.544Z"
   },
   {
    "duration": 35,
    "start_time": "2023-09-19T07:59:04.565Z"
   },
   {
    "duration": 32,
    "start_time": "2023-09-19T07:59:04.602Z"
   },
   {
    "duration": 20,
    "start_time": "2023-09-19T07:59:04.636Z"
   },
   {
    "duration": 9,
    "start_time": "2023-09-19T07:59:04.658Z"
   },
   {
    "duration": 352,
    "start_time": "2023-09-19T07:59:04.668Z"
   },
   {
    "duration": 23,
    "start_time": "2023-09-19T07:59:05.022Z"
   },
   {
    "duration": 155,
    "start_time": "2023-09-19T07:59:05.047Z"
   },
   {
    "duration": 202,
    "start_time": "2023-09-19T07:59:05.203Z"
   },
   {
    "duration": 206,
    "start_time": "2023-09-19T07:59:05.406Z"
   },
   {
    "duration": 208,
    "start_time": "2023-09-19T07:59:05.614Z"
   },
   {
    "duration": 185,
    "start_time": "2023-09-19T07:59:05.824Z"
   },
   {
    "duration": 186,
    "start_time": "2023-09-19T07:59:06.011Z"
   },
   {
    "duration": 107,
    "start_time": "2023-09-19T07:59:06.199Z"
   },
   {
    "duration": 24,
    "start_time": "2023-09-19T07:59:06.307Z"
   },
   {
    "duration": 111,
    "start_time": "2023-09-19T07:59:06.344Z"
   },
   {
    "duration": 224,
    "start_time": "2023-09-19T07:59:51.946Z"
   },
   {
    "duration": 20,
    "start_time": "2023-09-19T08:00:21.790Z"
   },
   {
    "duration": 121,
    "start_time": "2023-09-19T08:00:37.915Z"
   },
   {
    "duration": 72802,
    "start_time": "2023-09-19T08:00:48.771Z"
   },
   {
    "duration": 102,
    "start_time": "2023-09-19T08:02:24.635Z"
   },
   {
    "duration": 212,
    "start_time": "2023-09-19T08:02:33.195Z"
   },
   {
    "duration": 1245,
    "start_time": "2023-09-19T08:03:00.270Z"
   },
   {
    "duration": 71,
    "start_time": "2023-09-19T08:03:01.517Z"
   },
   {
    "duration": 97,
    "start_time": "2023-09-19T08:03:01.590Z"
   },
   {
    "duration": 6,
    "start_time": "2023-09-19T08:03:01.690Z"
   },
   {
    "duration": 31,
    "start_time": "2023-09-19T08:03:01.697Z"
   },
   {
    "duration": 29,
    "start_time": "2023-09-19T08:03:01.730Z"
   },
   {
    "duration": 39,
    "start_time": "2023-09-19T08:03:01.762Z"
   },
   {
    "duration": 50,
    "start_time": "2023-09-19T08:03:01.802Z"
   },
   {
    "duration": 11,
    "start_time": "2023-09-19T08:03:01.855Z"
   },
   {
    "duration": 25,
    "start_time": "2023-09-19T08:03:01.870Z"
   },
   {
    "duration": 34,
    "start_time": "2023-09-19T08:03:01.897Z"
   },
   {
    "duration": 36,
    "start_time": "2023-09-19T08:03:01.933Z"
   },
   {
    "duration": 82,
    "start_time": "2023-09-19T08:03:01.973Z"
   },
   {
    "duration": 31,
    "start_time": "2023-09-19T08:03:02.057Z"
   },
   {
    "duration": 28,
    "start_time": "2023-09-19T08:03:02.090Z"
   },
   {
    "duration": 411,
    "start_time": "2023-09-19T08:03:02.120Z"
   },
   {
    "duration": 19,
    "start_time": "2023-09-19T08:03:02.533Z"
   },
   {
    "duration": 169,
    "start_time": "2023-09-19T08:03:02.554Z"
   },
   {
    "duration": 211,
    "start_time": "2023-09-19T08:03:02.725Z"
   },
   {
    "duration": 233,
    "start_time": "2023-09-19T08:03:02.938Z"
   },
   {
    "duration": 229,
    "start_time": "2023-09-19T08:03:03.173Z"
   },
   {
    "duration": 222,
    "start_time": "2023-09-19T08:03:03.404Z"
   },
   {
    "duration": 239,
    "start_time": "2023-09-19T08:03:03.628Z"
   },
   {
    "duration": 109,
    "start_time": "2023-09-19T08:03:03.869Z"
   },
   {
    "duration": 23,
    "start_time": "2023-09-19T08:03:03.980Z"
   },
   {
    "duration": 312,
    "start_time": "2023-09-19T08:03:04.004Z"
   },
   {
    "duration": 314,
    "start_time": "2023-09-19T08:04:00.308Z"
   },
   {
    "duration": 294,
    "start_time": "2023-09-19T08:05:56.708Z"
   },
   {
    "duration": 290,
    "start_time": "2023-09-19T08:06:18.755Z"
   },
   {
    "duration": 279,
    "start_time": "2023-09-19T08:06:44.668Z"
   },
   {
    "duration": 322,
    "start_time": "2023-09-19T08:07:01.171Z"
   },
   {
    "duration": 376,
    "start_time": "2023-09-19T08:07:28.645Z"
   },
   {
    "duration": 268,
    "start_time": "2023-09-19T08:08:08.484Z"
   },
   {
    "duration": 385,
    "start_time": "2023-09-19T08:10:53.468Z"
   },
   {
    "duration": 299,
    "start_time": "2023-09-19T08:11:47.005Z"
   },
   {
    "duration": 323,
    "start_time": "2023-09-19T08:12:08.837Z"
   },
   {
    "duration": 306,
    "start_time": "2023-09-19T08:12:25.893Z"
   },
   {
    "duration": 389,
    "start_time": "2023-09-19T08:14:26.405Z"
   },
   {
    "duration": 386,
    "start_time": "2023-09-19T08:19:42.333Z"
   },
   {
    "duration": 377,
    "start_time": "2023-09-19T08:20:08.028Z"
   },
   {
    "duration": 23,
    "start_time": "2023-09-19T08:24:26.517Z"
   },
   {
    "duration": 115,
    "start_time": "2023-09-19T08:29:06.878Z"
   },
   {
    "duration": 21,
    "start_time": "2023-09-19T08:29:16.644Z"
   },
   {
    "duration": 22,
    "start_time": "2023-09-19T08:29:41.597Z"
   },
   {
    "duration": 20,
    "start_time": "2023-09-19T08:32:20.550Z"
   },
   {
    "duration": 262,
    "start_time": "2023-09-19T08:56:52.482Z"
   },
   {
    "duration": 323,
    "start_time": "2023-09-19T08:58:23.842Z"
   },
   {
    "duration": 306,
    "start_time": "2023-09-19T08:59:05.197Z"
   },
   {
    "duration": 295,
    "start_time": "2023-09-19T08:59:14.778Z"
   },
   {
    "duration": 113,
    "start_time": "2023-09-19T09:05:07.235Z"
   },
   {
    "duration": 211,
    "start_time": "2023-09-19T09:06:07.985Z"
   },
   {
    "duration": 204,
    "start_time": "2023-09-19T09:06:23.809Z"
   },
   {
    "duration": 207,
    "start_time": "2023-09-19T09:08:13.585Z"
   },
   {
    "duration": 206,
    "start_time": "2023-09-19T09:08:52.569Z"
   },
   {
    "duration": 217,
    "start_time": "2023-09-19T09:09:27.673Z"
   },
   {
    "duration": 229,
    "start_time": "2023-09-19T09:10:14.618Z"
   },
   {
    "duration": 362,
    "start_time": "2023-09-19T09:10:24.450Z"
   },
   {
    "duration": 345,
    "start_time": "2023-09-19T09:20:59.785Z"
   },
   {
    "duration": 302,
    "start_time": "2023-09-19T09:21:23.144Z"
   },
   {
    "duration": 7,
    "start_time": "2023-09-19T09:30:54.039Z"
   },
   {
    "duration": 14,
    "start_time": "2023-09-19T09:31:17.424Z"
   },
   {
    "duration": 14,
    "start_time": "2023-09-19T09:31:28.295Z"
   },
   {
    "duration": 15,
    "start_time": "2023-09-19T09:31:53.414Z"
   },
   {
    "duration": 1161,
    "start_time": "2023-09-19T09:32:03.909Z"
   },
   {
    "duration": 51,
    "start_time": "2023-09-19T09:32:05.072Z"
   },
   {
    "duration": 53,
    "start_time": "2023-09-19T09:32:05.124Z"
   },
   {
    "duration": 5,
    "start_time": "2023-09-19T09:32:05.179Z"
   },
   {
    "duration": 12,
    "start_time": "2023-09-19T09:32:05.186Z"
   },
   {
    "duration": 10,
    "start_time": "2023-09-19T09:32:05.200Z"
   },
   {
    "duration": 7,
    "start_time": "2023-09-19T09:32:05.211Z"
   },
   {
    "duration": 37,
    "start_time": "2023-09-19T09:32:05.219Z"
   },
   {
    "duration": 4,
    "start_time": "2023-09-19T09:32:05.257Z"
   },
   {
    "duration": 8,
    "start_time": "2023-09-19T09:32:05.263Z"
   },
   {
    "duration": 10,
    "start_time": "2023-09-19T09:32:05.272Z"
   },
   {
    "duration": 14,
    "start_time": "2023-09-19T09:32:05.283Z"
   },
   {
    "duration": 22,
    "start_time": "2023-09-19T09:32:05.298Z"
   },
   {
    "duration": 30,
    "start_time": "2023-09-19T09:32:05.322Z"
   },
   {
    "duration": 9,
    "start_time": "2023-09-19T09:32:05.354Z"
   },
   {
    "duration": 303,
    "start_time": "2023-09-19T09:32:05.365Z"
   },
   {
    "duration": 12,
    "start_time": "2023-09-19T09:32:05.670Z"
   },
   {
    "duration": 134,
    "start_time": "2023-09-19T09:32:05.683Z"
   },
   {
    "duration": 180,
    "start_time": "2023-09-19T09:32:05.818Z"
   },
   {
    "duration": 181,
    "start_time": "2023-09-19T09:32:05.999Z"
   },
   {
    "duration": 190,
    "start_time": "2023-09-19T09:32:06.182Z"
   },
   {
    "duration": 172,
    "start_time": "2023-09-19T09:32:06.374Z"
   },
   {
    "duration": 172,
    "start_time": "2023-09-19T09:32:06.548Z"
   },
   {
    "duration": 94,
    "start_time": "2023-09-19T09:32:06.722Z"
   },
   {
    "duration": 30,
    "start_time": "2023-09-19T09:32:06.818Z"
   },
   {
    "duration": 18,
    "start_time": "2023-09-19T09:32:06.850Z"
   },
   {
    "duration": 316,
    "start_time": "2023-09-19T09:32:06.870Z"
   },
   {
    "duration": 107,
    "start_time": "2023-09-19T09:32:07.190Z"
   },
   {
    "duration": 321,
    "start_time": "2023-09-19T09:32:28.287Z"
   },
   {
    "duration": 54,
    "start_time": "2023-09-19T17:28:48.576Z"
   },
   {
    "duration": 1449,
    "start_time": "2023-09-19T17:28:57.850Z"
   },
   {
    "duration": 99,
    "start_time": "2023-09-19T17:28:59.301Z"
   },
   {
    "duration": 67,
    "start_time": "2023-09-19T17:28:59.401Z"
   },
   {
    "duration": 5,
    "start_time": "2023-09-19T17:28:59.470Z"
   },
   {
    "duration": 13,
    "start_time": "2023-09-19T17:28:59.477Z"
   },
   {
    "duration": 11,
    "start_time": "2023-09-19T17:28:59.491Z"
   },
   {
    "duration": 6,
    "start_time": "2023-09-19T17:28:59.504Z"
   },
   {
    "duration": 40,
    "start_time": "2023-09-19T17:28:59.511Z"
   },
   {
    "duration": 4,
    "start_time": "2023-09-19T17:28:59.553Z"
   },
   {
    "duration": 19,
    "start_time": "2023-09-19T17:28:59.559Z"
   },
   {
    "duration": 21,
    "start_time": "2023-09-19T17:28:59.580Z"
   },
   {
    "duration": 11,
    "start_time": "2023-09-19T17:28:59.602Z"
   },
   {
    "duration": 34,
    "start_time": "2023-09-19T17:28:59.615Z"
   },
   {
    "duration": 21,
    "start_time": "2023-09-19T17:28:59.652Z"
   },
   {
    "duration": 10,
    "start_time": "2023-09-19T17:28:59.674Z"
   },
   {
    "duration": 375,
    "start_time": "2023-09-19T17:28:59.686Z"
   },
   {
    "duration": 12,
    "start_time": "2023-09-19T17:29:00.063Z"
   },
   {
    "duration": 191,
    "start_time": "2023-09-19T17:29:00.077Z"
   },
   {
    "duration": 251,
    "start_time": "2023-09-19T17:29:00.270Z"
   },
   {
    "duration": 226,
    "start_time": "2023-09-19T17:29:00.523Z"
   },
   {
    "duration": 215,
    "start_time": "2023-09-19T17:29:00.751Z"
   },
   {
    "duration": 213,
    "start_time": "2023-09-19T17:29:00.968Z"
   },
   {
    "duration": 207,
    "start_time": "2023-09-19T17:29:01.183Z"
   },
   {
    "duration": 109,
    "start_time": "2023-09-19T17:29:01.392Z"
   },
   {
    "duration": 24,
    "start_time": "2023-09-19T17:29:01.503Z"
   },
   {
    "duration": 72,
    "start_time": "2023-09-19T17:29:01.528Z"
   },
   {
    "duration": 368,
    "start_time": "2023-09-19T17:29:01.602Z"
   },
   {
    "duration": 387,
    "start_time": "2023-09-19T17:29:01.972Z"
   },
   {
    "duration": 368,
    "start_time": "2023-09-19T17:31:26.635Z"
   },
   {
    "duration": 399,
    "start_time": "2023-09-19T17:31:56.131Z"
   },
   {
    "duration": 360,
    "start_time": "2023-09-19T17:32:31.442Z"
   },
   {
    "duration": 373,
    "start_time": "2023-09-19T17:34:12.399Z"
   },
   {
    "duration": 443,
    "start_time": "2023-09-19T17:36:24.077Z"
   },
   {
    "duration": 27,
    "start_time": "2023-09-19T17:40:45.979Z"
   },
   {
    "duration": 5,
    "start_time": "2023-09-19T17:41:24.187Z"
   },
   {
    "duration": 5,
    "start_time": "2023-09-19T17:41:26.855Z"
   },
   {
    "duration": 25,
    "start_time": "2023-09-19T17:41:40.018Z"
   },
   {
    "duration": 17,
    "start_time": "2023-09-19T17:43:23.380Z"
   },
   {
    "duration": 6,
    "start_time": "2023-09-19T17:44:28.014Z"
   },
   {
    "duration": 11,
    "start_time": "2023-09-19T17:44:30.005Z"
   },
   {
    "duration": 971,
    "start_time": "2023-09-19T17:46:51.403Z"
   },
   {
    "duration": 13,
    "start_time": "2023-09-19T17:47:02.669Z"
   },
   {
    "duration": 11,
    "start_time": "2023-09-19T17:47:13.174Z"
   },
   {
    "duration": 10,
    "start_time": "2023-09-19T17:48:59.467Z"
   },
   {
    "duration": 7,
    "start_time": "2023-09-19T17:49:11.887Z"
   },
   {
    "duration": 5,
    "start_time": "2023-09-19T17:49:42.535Z"
   },
   {
    "duration": 6,
    "start_time": "2023-09-19T17:53:30.256Z"
   },
   {
    "duration": 7,
    "start_time": "2023-09-19T17:53:46.415Z"
   },
   {
    "duration": 7,
    "start_time": "2023-09-19T17:54:00.391Z"
   },
   {
    "duration": 6,
    "start_time": "2023-09-19T17:54:06.976Z"
   },
   {
    "duration": 7,
    "start_time": "2023-09-19T17:55:08.485Z"
   },
   {
    "duration": 6,
    "start_time": "2023-09-19T17:55:20.888Z"
   },
   {
    "duration": 182,
    "start_time": "2023-09-19T17:57:37.826Z"
   },
   {
    "duration": 182,
    "start_time": "2023-09-19T17:57:48.121Z"
   },
   {
    "duration": 188,
    "start_time": "2023-09-19T17:59:26.499Z"
   },
   {
    "duration": 199,
    "start_time": "2023-09-19T18:00:29.950Z"
   },
   {
    "duration": 183,
    "start_time": "2023-09-19T18:00:41.804Z"
   },
   {
    "duration": 185,
    "start_time": "2023-09-19T18:01:10.819Z"
   },
   {
    "duration": 185,
    "start_time": "2023-09-19T18:04:41.544Z"
   },
   {
    "duration": 15,
    "start_time": "2023-09-19T18:21:36.556Z"
   },
   {
    "duration": 15,
    "start_time": "2023-09-19T18:23:32.072Z"
   },
   {
    "duration": 14,
    "start_time": "2023-09-19T18:28:08.326Z"
   },
   {
    "duration": 14,
    "start_time": "2023-09-19T18:28:53.959Z"
   },
   {
    "duration": 14,
    "start_time": "2023-09-19T18:30:49.768Z"
   },
   {
    "duration": 7,
    "start_time": "2023-09-19T18:42:28.966Z"
   },
   {
    "duration": 10,
    "start_time": "2023-09-19T18:46:21.351Z"
   },
   {
    "duration": 16,
    "start_time": "2023-09-19T18:46:32.462Z"
   },
   {
    "duration": 8,
    "start_time": "2023-09-19T18:47:25.031Z"
   },
   {
    "duration": 4,
    "start_time": "2023-09-19T18:50:01.959Z"
   },
   {
    "duration": 179,
    "start_time": "2023-09-19T18:50:08.713Z"
   },
   {
    "duration": 216,
    "start_time": "2023-09-19T18:50:45.585Z"
   },
   {
    "duration": 297,
    "start_time": "2023-09-19T18:51:00.832Z"
   },
   {
    "duration": 205,
    "start_time": "2023-09-19T18:51:09.486Z"
   },
   {
    "duration": 237,
    "start_time": "2023-09-19T18:51:25.366Z"
   },
   {
    "duration": 205,
    "start_time": "2023-09-19T18:51:36.173Z"
   },
   {
    "duration": 176,
    "start_time": "2023-09-19T18:51:54.263Z"
   },
   {
    "duration": 174,
    "start_time": "2023-09-19T18:52:06.866Z"
   },
   {
    "duration": 213,
    "start_time": "2023-09-19T18:52:52.099Z"
   },
   {
    "duration": 1267,
    "start_time": "2023-09-19T18:53:55.222Z"
   },
   {
    "duration": 59,
    "start_time": "2023-09-19T18:53:56.491Z"
   },
   {
    "duration": 65,
    "start_time": "2023-09-19T18:53:56.551Z"
   },
   {
    "duration": 192,
    "start_time": "2023-09-19T18:53:56.618Z"
   },
   {
    "duration": 61,
    "start_time": "2023-09-19T18:53:56.811Z"
   },
   {
    "duration": 24,
    "start_time": "2023-09-19T18:53:56.874Z"
   },
   {
    "duration": 20,
    "start_time": "2023-09-19T18:53:56.900Z"
   },
   {
    "duration": 27,
    "start_time": "2023-09-19T18:53:56.922Z"
   },
   {
    "duration": 3,
    "start_time": "2023-09-19T18:53:56.952Z"
   },
   {
    "duration": 20,
    "start_time": "2023-09-19T18:53:56.958Z"
   },
   {
    "duration": 30,
    "start_time": "2023-09-19T18:53:56.980Z"
   },
   {
    "duration": 17,
    "start_time": "2023-09-19T18:53:57.012Z"
   },
   {
    "duration": 28,
    "start_time": "2023-09-19T18:53:57.031Z"
   },
   {
    "duration": 29,
    "start_time": "2023-09-19T18:53:57.060Z"
   },
   {
    "duration": 29,
    "start_time": "2023-09-19T18:53:57.091Z"
   },
   {
    "duration": 363,
    "start_time": "2023-09-19T18:53:57.122Z"
   },
   {
    "duration": 12,
    "start_time": "2023-09-19T18:53:57.486Z"
   },
   {
    "duration": 161,
    "start_time": "2023-09-19T18:53:57.500Z"
   },
   {
    "duration": 217,
    "start_time": "2023-09-19T18:53:57.662Z"
   },
   {
    "duration": 217,
    "start_time": "2023-09-19T18:53:57.881Z"
   },
   {
    "duration": 228,
    "start_time": "2023-09-19T18:53:58.100Z"
   },
   {
    "duration": 221,
    "start_time": "2023-09-19T18:53:58.330Z"
   },
   {
    "duration": 210,
    "start_time": "2023-09-19T18:53:58.554Z"
   },
   {
    "duration": 113,
    "start_time": "2023-09-19T18:53:58.766Z"
   },
   {
    "duration": 24,
    "start_time": "2023-09-19T18:53:58.881Z"
   },
   {
    "duration": 47,
    "start_time": "2023-09-19T18:53:58.906Z"
   },
   {
    "duration": 371,
    "start_time": "2023-09-19T18:53:58.954Z"
   },
   {
    "duration": 400,
    "start_time": "2023-09-19T18:53:59.329Z"
   },
   {
    "duration": 392,
    "start_time": "2023-09-19T18:53:59.731Z"
   },
   {
    "duration": 6,
    "start_time": "2023-09-19T18:54:00.125Z"
   },
   {
    "duration": 48,
    "start_time": "2023-09-19T18:54:00.133Z"
   },
   {
    "duration": 266,
    "start_time": "2023-09-19T18:54:00.183Z"
   },
   {
    "duration": 198,
    "start_time": "2023-09-19T18:54:00.450Z"
   },
   {
    "duration": 13,
    "start_time": "2023-09-19T18:54:00.650Z"
   },
   {
    "duration": 69,
    "start_time": "2023-09-19T18:54:00.665Z"
   },
   {
    "duration": 75,
    "start_time": "2023-09-19T18:54:00.736Z"
   },
   {
    "duration": 41,
    "start_time": "2023-09-19T18:54:00.812Z"
   },
   {
    "duration": 221,
    "start_time": "2023-09-19T18:54:00.855Z"
   },
   {
    "duration": 240,
    "start_time": "2023-09-19T18:54:01.078Z"
   },
   {
    "duration": 16,
    "start_time": "2023-09-19T18:55:24.884Z"
   },
   {
    "duration": 215,
    "start_time": "2023-09-19T18:57:25.008Z"
   },
   {
    "duration": 215,
    "start_time": "2023-09-19T18:57:40.949Z"
   },
   {
    "duration": 201,
    "start_time": "2023-09-19T18:58:00.534Z"
   },
   {
    "duration": 82,
    "start_time": "2023-09-19T19:45:26.263Z"
   },
   {
    "duration": 87,
    "start_time": "2023-09-19T19:45:55.759Z"
   },
   {
    "duration": 93,
    "start_time": "2023-09-19T19:46:25.248Z"
   },
   {
    "duration": 126,
    "start_time": "2023-09-19T19:46:51.764Z"
   },
   {
    "duration": 208,
    "start_time": "2023-09-19T20:02:18.543Z"
   },
   {
    "duration": 146,
    "start_time": "2023-09-19T20:02:31.224Z"
   },
   {
    "duration": 130,
    "start_time": "2023-09-19T20:03:57.394Z"
   },
   {
    "duration": 140,
    "start_time": "2023-09-19T20:04:32.726Z"
   },
   {
    "duration": 140,
    "start_time": "2023-09-19T20:04:50.002Z"
   },
   {
    "duration": 129,
    "start_time": "2023-09-19T20:05:12.273Z"
   },
   {
    "duration": 139,
    "start_time": "2023-09-19T20:11:24.029Z"
   },
   {
    "duration": 129,
    "start_time": "2023-09-19T20:11:32.616Z"
   },
   {
    "duration": 126,
    "start_time": "2023-09-19T20:13:07.494Z"
   },
   {
    "duration": 125,
    "start_time": "2023-09-19T20:14:06.718Z"
   },
   {
    "duration": 139,
    "start_time": "2023-09-19T20:26:07.125Z"
   },
   {
    "duration": 130,
    "start_time": "2023-09-19T20:26:49.085Z"
   },
   {
    "duration": 211,
    "start_time": "2023-09-19T20:27:43.884Z"
   },
   {
    "duration": 54,
    "start_time": "2023-09-20T14:25:12.776Z"
   },
   {
    "duration": 8,
    "start_time": "2023-09-20T14:25:34.096Z"
   },
   {
    "duration": 1469,
    "start_time": "2023-09-20T14:25:41.870Z"
   },
   {
    "duration": 101,
    "start_time": "2023-09-20T14:25:43.342Z"
   },
   {
    "duration": 74,
    "start_time": "2023-09-20T14:25:43.445Z"
   },
   {
    "duration": 6,
    "start_time": "2023-09-20T14:25:43.521Z"
   },
   {
    "duration": 17,
    "start_time": "2023-09-20T14:25:43.548Z"
   },
   {
    "duration": 34,
    "start_time": "2023-09-20T14:25:43.570Z"
   },
   {
    "duration": 42,
    "start_time": "2023-09-20T14:25:43.606Z"
   },
   {
    "duration": 37,
    "start_time": "2023-09-20T14:25:43.651Z"
   },
   {
    "duration": 6,
    "start_time": "2023-09-20T14:25:43.690Z"
   },
   {
    "duration": 15,
    "start_time": "2023-09-20T14:25:43.698Z"
   },
   {
    "duration": 33,
    "start_time": "2023-09-20T14:25:43.715Z"
   },
   {
    "duration": 23,
    "start_time": "2023-09-20T14:25:43.750Z"
   },
   {
    "duration": 56,
    "start_time": "2023-09-20T14:25:43.775Z"
   },
   {
    "duration": 48,
    "start_time": "2023-09-20T14:25:43.834Z"
   },
   {
    "duration": 44,
    "start_time": "2023-09-20T14:25:43.884Z"
   },
   {
    "duration": 436,
    "start_time": "2023-09-20T14:25:43.929Z"
   },
   {
    "duration": 13,
    "start_time": "2023-09-20T14:25:44.368Z"
   },
   {
    "duration": 190,
    "start_time": "2023-09-20T14:25:44.383Z"
   },
   {
    "duration": 245,
    "start_time": "2023-09-20T14:25:44.575Z"
   },
   {
    "duration": 259,
    "start_time": "2023-09-20T14:25:44.821Z"
   },
   {
    "duration": 298,
    "start_time": "2023-09-20T14:25:45.082Z"
   },
   {
    "duration": 267,
    "start_time": "2023-09-20T14:25:45.382Z"
   },
   {
    "duration": 219,
    "start_time": "2023-09-20T14:25:45.651Z"
   },
   {
    "duration": 123,
    "start_time": "2023-09-20T14:25:45.873Z"
   },
   {
    "duration": 22,
    "start_time": "2023-09-20T14:25:45.998Z"
   },
   {
    "duration": 43,
    "start_time": "2023-09-20T14:25:46.022Z"
   },
   {
    "duration": 415,
    "start_time": "2023-09-20T14:25:46.067Z"
   },
   {
    "duration": 396,
    "start_time": "2023-09-20T14:25:46.486Z"
   },
   {
    "duration": 418,
    "start_time": "2023-09-20T14:25:46.884Z"
   },
   {
    "duration": 7,
    "start_time": "2023-09-20T14:25:47.304Z"
   },
   {
    "duration": 12,
    "start_time": "2023-09-20T14:25:47.313Z"
   },
   {
    "duration": 348,
    "start_time": "2023-09-20T14:25:47.327Z"
   },
   {
    "duration": 234,
    "start_time": "2023-09-20T14:25:47.677Z"
   },
   {
    "duration": 15,
    "start_time": "2023-09-20T14:25:47.914Z"
   },
   {
    "duration": 26,
    "start_time": "2023-09-20T14:25:47.931Z"
   },
   {
    "duration": 21,
    "start_time": "2023-09-20T14:25:47.960Z"
   },
   {
    "duration": 45,
    "start_time": "2023-09-20T14:25:47.982Z"
   },
   {
    "duration": 32,
    "start_time": "2023-09-20T14:25:48.029Z"
   },
   {
    "duration": 252,
    "start_time": "2023-09-20T14:25:48.063Z"
   },
   {
    "duration": 167,
    "start_time": "2023-09-20T14:25:48.318Z"
   },
   {
    "duration": 168,
    "start_time": "2023-09-20T14:25:48.487Z"
   },
   {
    "duration": 154,
    "start_time": "2023-09-20T14:25:48.660Z"
   },
   {
    "duration": 262,
    "start_time": "2023-09-20T14:25:48.817Z"
   },
   {
    "duration": 160,
    "start_time": "2023-09-20T14:25:49.081Z"
   },
   {
    "duration": 153,
    "start_time": "2023-09-20T14:25:49.243Z"
   },
   {
    "duration": 19,
    "start_time": "2023-09-20T14:25:49.399Z"
   },
   {
    "duration": 141,
    "start_time": "2023-09-20T14:30:22.799Z"
   },
   {
    "duration": 17,
    "start_time": "2023-09-20T14:36:17.375Z"
   },
   {
    "duration": 141,
    "start_time": "2023-09-20T14:36:22.318Z"
   },
   {
    "duration": 16,
    "start_time": "2023-09-20T14:36:53.702Z"
   },
   {
    "duration": 169,
    "start_time": "2023-09-20T14:37:02.717Z"
   },
   {
    "duration": 23,
    "start_time": "2023-09-20T14:51:56.660Z"
   },
   {
    "duration": 61,
    "start_time": "2023-09-20T20:34:08.369Z"
   },
   {
    "duration": 1583,
    "start_time": "2023-09-20T20:34:15.847Z"
   },
   {
    "duration": 146,
    "start_time": "2023-09-20T20:34:17.432Z"
   },
   {
    "duration": 62,
    "start_time": "2023-09-20T20:34:17.583Z"
   },
   {
    "duration": 12,
    "start_time": "2023-09-20T20:34:17.647Z"
   },
   {
    "duration": 18,
    "start_time": "2023-09-20T20:34:17.663Z"
   },
   {
    "duration": 26,
    "start_time": "2023-09-20T20:34:17.682Z"
   },
   {
    "duration": 7,
    "start_time": "2023-09-20T20:34:17.710Z"
   },
   {
    "duration": 19,
    "start_time": "2023-09-20T20:34:17.718Z"
   },
   {
    "duration": 15,
    "start_time": "2023-09-20T20:34:17.738Z"
   },
   {
    "duration": 19,
    "start_time": "2023-09-20T20:34:17.758Z"
   },
   {
    "duration": 13,
    "start_time": "2023-09-20T20:34:17.779Z"
   },
   {
    "duration": 6,
    "start_time": "2023-09-20T20:34:17.797Z"
   },
   {
    "duration": 38,
    "start_time": "2023-09-20T20:34:17.805Z"
   },
   {
    "duration": 31,
    "start_time": "2023-09-20T20:34:17.845Z"
   },
   {
    "duration": 12,
    "start_time": "2023-09-20T20:34:17.878Z"
   },
   {
    "duration": 389,
    "start_time": "2023-09-20T20:34:17.892Z"
   },
   {
    "duration": 24,
    "start_time": "2023-09-20T20:34:18.282Z"
   },
   {
    "duration": 200,
    "start_time": "2023-09-20T20:34:18.308Z"
   },
   {
    "duration": 229,
    "start_time": "2023-09-20T20:34:18.510Z"
   },
   {
    "duration": 207,
    "start_time": "2023-09-20T20:34:18.753Z"
   },
   {
    "duration": 264,
    "start_time": "2023-09-20T20:34:18.962Z"
   },
   {
    "duration": 282,
    "start_time": "2023-09-20T20:34:19.229Z"
   },
   {
    "duration": 273,
    "start_time": "2023-09-20T20:34:19.513Z"
   },
   {
    "duration": 107,
    "start_time": "2023-09-20T20:34:19.789Z"
   },
   {
    "duration": 32,
    "start_time": "2023-09-20T20:34:19.898Z"
   },
   {
    "duration": 52,
    "start_time": "2023-09-20T20:34:19.931Z"
   },
   {
    "duration": 368,
    "start_time": "2023-09-20T20:34:19.984Z"
   },
   {
    "duration": 412,
    "start_time": "2023-09-20T20:34:20.360Z"
   },
   {
    "duration": 420,
    "start_time": "2023-09-20T20:34:20.778Z"
   },
   {
    "duration": 9,
    "start_time": "2023-09-20T20:34:21.203Z"
   },
   {
    "duration": 32,
    "start_time": "2023-09-20T20:34:21.214Z"
   },
   {
    "duration": 217,
    "start_time": "2023-09-20T20:34:21.248Z"
   },
   {
    "duration": 189,
    "start_time": "2023-09-20T20:34:21.468Z"
   },
   {
    "duration": 20,
    "start_time": "2023-09-20T20:34:21.658Z"
   },
   {
    "duration": 20,
    "start_time": "2023-09-20T20:34:21.680Z"
   },
   {
    "duration": 12,
    "start_time": "2023-09-20T20:34:21.702Z"
   },
   {
    "duration": 10,
    "start_time": "2023-09-20T20:34:21.715Z"
   },
   {
    "duration": 46,
    "start_time": "2023-09-20T20:34:21.727Z"
   },
   {
    "duration": 207,
    "start_time": "2023-09-20T20:34:21.777Z"
   },
   {
    "duration": 125,
    "start_time": "2023-09-20T20:34:21.986Z"
   },
   {
    "duration": 136,
    "start_time": "2023-09-20T20:34:22.112Z"
   },
   {
    "duration": 151,
    "start_time": "2023-09-20T20:34:22.250Z"
   },
   {
    "duration": 276,
    "start_time": "2023-09-20T20:34:22.403Z"
   },
   {
    "duration": 145,
    "start_time": "2023-09-20T20:34:22.686Z"
   },
   {
    "duration": 165,
    "start_time": "2023-09-20T20:34:22.833Z"
   },
   {
    "duration": 18,
    "start_time": "2023-09-20T20:34:23.003Z"
   },
   {
    "duration": 346,
    "start_time": "2023-09-20T20:34:23.023Z"
   },
   {
    "duration": 214,
    "start_time": "2023-09-20T20:47:17.992Z"
   },
   {
    "duration": 219,
    "start_time": "2023-09-20T20:47:45.707Z"
   },
   {
    "duration": 194,
    "start_time": "2023-09-20T20:49:07.196Z"
   },
   {
    "duration": 348,
    "start_time": "2023-09-20T20:53:47.217Z"
   },
   {
    "duration": 19,
    "start_time": "2023-09-20T20:54:13.385Z"
   },
   {
    "duration": 194,
    "start_time": "2023-09-20T20:54:17.794Z"
   },
   {
    "duration": 30,
    "start_time": "2023-09-20T20:54:33.278Z"
   },
   {
    "duration": 163,
    "start_time": "2023-09-20T20:54:38.687Z"
   },
   {
    "duration": 9,
    "start_time": "2023-09-20T21:09:50.808Z"
   },
   {
    "duration": 7,
    "start_time": "2023-09-20T21:10:16.213Z"
   },
   {
    "duration": 10,
    "start_time": "2023-09-20T21:10:39.688Z"
   },
   {
    "duration": 17,
    "start_time": "2023-09-20T21:14:12.163Z"
   },
   {
    "duration": 13,
    "start_time": "2023-09-20T21:14:15.456Z"
   },
   {
    "duration": 1552,
    "start_time": "2023-09-20T21:14:39.394Z"
   },
   {
    "duration": 10,
    "start_time": "2023-09-20T21:15:42.882Z"
   },
   {
    "duration": 11,
    "start_time": "2023-09-20T21:15:53.293Z"
   },
   {
    "duration": 10,
    "start_time": "2023-09-20T21:16:25.790Z"
   },
   {
    "duration": 23,
    "start_time": "2023-09-20T21:16:35.877Z"
   },
   {
    "duration": 12,
    "start_time": "2023-09-20T21:16:46.438Z"
   },
   {
    "duration": 10,
    "start_time": "2023-09-20T21:16:53.087Z"
   },
   {
    "duration": 10,
    "start_time": "2023-09-20T21:16:59.699Z"
   },
   {
    "duration": 17,
    "start_time": "2023-09-20T21:17:14.660Z"
   },
   {
    "duration": 28,
    "start_time": "2023-09-20T21:17:19.127Z"
   },
   {
    "duration": 11,
    "start_time": "2023-09-20T21:17:43.074Z"
   },
   {
    "duration": 7,
    "start_time": "2023-09-20T21:17:48.325Z"
   },
   {
    "duration": 2958,
    "start_time": "2023-09-20T21:21:49.132Z"
   },
   {
    "duration": 7,
    "start_time": "2023-09-20T21:22:00.769Z"
   },
   {
    "duration": 9,
    "start_time": "2023-09-20T21:22:03.376Z"
   },
   {
    "duration": 2087,
    "start_time": "2023-09-20T21:22:13.011Z"
   },
   {
    "duration": 8,
    "start_time": "2023-09-20T21:22:17.721Z"
   },
   {
    "duration": 7,
    "start_time": "2023-09-20T21:22:23.108Z"
   },
   {
    "duration": 10,
    "start_time": "2023-09-20T21:28:13.172Z"
   },
   {
    "duration": 8,
    "start_time": "2023-09-20T21:28:22.896Z"
   },
   {
    "duration": 10,
    "start_time": "2023-09-20T21:34:35.700Z"
   },
   {
    "duration": 6,
    "start_time": "2023-09-20T21:36:09.013Z"
   },
   {
    "duration": 8,
    "start_time": "2023-09-20T21:36:20.396Z"
   },
   {
    "duration": 15,
    "start_time": "2023-09-20T21:36:23.559Z"
   },
   {
    "duration": 7,
    "start_time": "2023-09-20T21:37:20.820Z"
   },
   {
    "duration": 19,
    "start_time": "2023-09-20T21:37:22.868Z"
   },
   {
    "duration": 1565,
    "start_time": "2023-09-21T09:55:21.070Z"
   },
   {
    "duration": 244,
    "start_time": "2023-09-21T09:55:22.638Z"
   },
   {
    "duration": 78,
    "start_time": "2023-09-21T09:55:22.884Z"
   },
   {
    "duration": 6,
    "start_time": "2023-09-21T09:55:22.964Z"
   },
   {
    "duration": 18,
    "start_time": "2023-09-21T09:55:22.972Z"
   },
   {
    "duration": 12,
    "start_time": "2023-09-21T09:55:22.993Z"
   },
   {
    "duration": 7,
    "start_time": "2023-09-21T09:55:23.007Z"
   },
   {
    "duration": 49,
    "start_time": "2023-09-21T09:55:23.016Z"
   },
   {
    "duration": 5,
    "start_time": "2023-09-21T09:55:23.069Z"
   },
   {
    "duration": 20,
    "start_time": "2023-09-21T09:55:23.076Z"
   },
   {
    "duration": 10,
    "start_time": "2023-09-21T09:55:23.098Z"
   },
   {
    "duration": 11,
    "start_time": "2023-09-21T09:55:23.110Z"
   },
   {
    "duration": 44,
    "start_time": "2023-09-21T09:55:23.123Z"
   },
   {
    "duration": 25,
    "start_time": "2023-09-21T09:55:23.174Z"
   },
   {
    "duration": 12,
    "start_time": "2023-09-21T09:55:23.201Z"
   },
   {
    "duration": 397,
    "start_time": "2023-09-21T09:55:23.215Z"
   },
   {
    "duration": 15,
    "start_time": "2023-09-21T09:55:23.614Z"
   },
   {
    "duration": 184,
    "start_time": "2023-09-21T09:55:23.631Z"
   },
   {
    "duration": 235,
    "start_time": "2023-09-21T09:55:23.817Z"
   },
   {
    "duration": 238,
    "start_time": "2023-09-21T09:55:24.056Z"
   },
   {
    "duration": 240,
    "start_time": "2023-09-21T09:55:24.296Z"
   },
   {
    "duration": 261,
    "start_time": "2023-09-21T09:55:24.539Z"
   },
   {
    "duration": 245,
    "start_time": "2023-09-21T09:55:24.802Z"
   },
   {
    "duration": 139,
    "start_time": "2023-09-21T09:55:25.049Z"
   },
   {
    "duration": 101,
    "start_time": "2023-09-21T09:55:25.191Z"
   },
   {
    "duration": 32,
    "start_time": "2023-09-21T09:55:25.294Z"
   },
   {
    "duration": 365,
    "start_time": "2023-09-21T09:55:25.328Z"
   },
   {
    "duration": 414,
    "start_time": "2023-09-21T09:55:25.696Z"
   },
   {
    "duration": 413,
    "start_time": "2023-09-21T09:55:26.112Z"
   },
   {
    "duration": 8,
    "start_time": "2023-09-21T09:55:26.528Z"
   },
   {
    "duration": 34,
    "start_time": "2023-09-21T09:55:26.538Z"
   },
   {
    "duration": 221,
    "start_time": "2023-09-21T09:55:26.575Z"
   },
   {
    "duration": 241,
    "start_time": "2023-09-21T09:55:26.798Z"
   },
   {
    "duration": 31,
    "start_time": "2023-09-21T09:55:27.041Z"
   },
   {
    "duration": 97,
    "start_time": "2023-09-21T09:55:27.074Z"
   },
   {
    "duration": 28,
    "start_time": "2023-09-21T09:55:27.173Z"
   },
   {
    "duration": 101,
    "start_time": "2023-09-21T09:55:27.203Z"
   },
   {
    "duration": 37,
    "start_time": "2023-09-21T09:55:27.306Z"
   },
   {
    "duration": 229,
    "start_time": "2023-09-21T09:55:27.345Z"
   },
   {
    "duration": 145,
    "start_time": "2023-09-21T09:55:27.576Z"
   },
   {
    "duration": 157,
    "start_time": "2023-09-21T09:55:27.726Z"
   },
   {
    "duration": 151,
    "start_time": "2023-09-21T09:55:27.885Z"
   },
   {
    "duration": 263,
    "start_time": "2023-09-21T09:55:28.038Z"
   },
   {
    "duration": 168,
    "start_time": "2023-09-21T09:55:28.303Z"
   },
   {
    "duration": 137,
    "start_time": "2023-09-21T09:55:28.473Z"
   },
   {
    "duration": 20,
    "start_time": "2023-09-21T09:55:28.612Z"
   },
   {
    "duration": 292,
    "start_time": "2023-09-21T09:55:28.634Z"
   },
   {
    "duration": 44,
    "start_time": "2023-09-21T09:55:28.928Z"
   },
   {
    "duration": 41,
    "start_time": "2023-09-21T09:55:28.977Z"
   },
   {
    "duration": 18,
    "start_time": "2023-09-21T09:55:29.020Z"
   },
   {
    "duration": 40,
    "start_time": "2023-09-21T09:55:29.040Z"
   },
   {
    "duration": 1122,
    "start_time": "2023-09-21T13:42:04.817Z"
   },
   {
    "duration": 103,
    "start_time": "2023-09-21T13:42:05.941Z"
   },
   {
    "duration": 72,
    "start_time": "2023-09-21T13:42:06.046Z"
   },
   {
    "duration": 5,
    "start_time": "2023-09-21T13:42:06.121Z"
   },
   {
    "duration": 188,
    "start_time": "2023-09-21T13:42:06.128Z"
   },
   {
    "duration": 21,
    "start_time": "2023-09-21T13:42:06.318Z"
   },
   {
    "duration": 32,
    "start_time": "2023-09-21T13:42:06.340Z"
   },
   {
    "duration": 35,
    "start_time": "2023-09-21T13:42:06.374Z"
   },
   {
    "duration": 18,
    "start_time": "2023-09-21T13:42:06.411Z"
   },
   {
    "duration": 33,
    "start_time": "2023-09-21T13:42:06.432Z"
   },
   {
    "duration": 30,
    "start_time": "2023-09-21T13:42:06.467Z"
   },
   {
    "duration": 20,
    "start_time": "2023-09-21T13:42:06.498Z"
   },
   {
    "duration": 29,
    "start_time": "2023-09-21T13:42:06.519Z"
   },
   {
    "duration": 190,
    "start_time": "2023-09-21T13:42:06.550Z"
   },
   {
    "duration": 88,
    "start_time": "2023-09-21T13:42:06.741Z"
   },
   {
    "duration": 309,
    "start_time": "2023-09-21T13:42:06.830Z"
   },
   {
    "duration": 16,
    "start_time": "2023-09-21T13:42:07.140Z"
   },
   {
    "duration": 129,
    "start_time": "2023-09-21T13:42:07.158Z"
   },
   {
    "duration": 263,
    "start_time": "2023-09-21T13:42:07.289Z"
   },
   {
    "duration": 332,
    "start_time": "2023-09-21T13:42:07.554Z"
   },
   {
    "duration": 379,
    "start_time": "2023-09-21T13:42:07.888Z"
   },
   {
    "duration": 401,
    "start_time": "2023-09-21T13:42:08.268Z"
   },
   {
    "duration": 380,
    "start_time": "2023-09-21T13:42:08.670Z"
   },
   {
    "duration": 122,
    "start_time": "2023-09-21T13:42:09.051Z"
   },
   {
    "duration": 19,
    "start_time": "2023-09-21T13:42:09.175Z"
   },
   {
    "duration": 26,
    "start_time": "2023-09-21T13:42:09.195Z"
   },
   {
    "duration": 299,
    "start_time": "2023-09-21T13:42:09.222Z"
   },
   {
    "duration": 307,
    "start_time": "2023-09-21T13:42:09.524Z"
   },
   {
    "duration": 322,
    "start_time": "2023-09-21T13:42:09.834Z"
   },
   {
    "duration": 6,
    "start_time": "2023-09-21T13:42:10.158Z"
   },
   {
    "duration": 14,
    "start_time": "2023-09-21T13:42:10.165Z"
   },
   {
    "duration": 173,
    "start_time": "2023-09-21T13:42:10.180Z"
   },
   {
    "duration": 182,
    "start_time": "2023-09-21T13:42:10.355Z"
   },
   {
    "duration": 17,
    "start_time": "2023-09-21T13:42:10.539Z"
   },
   {
    "duration": 49,
    "start_time": "2023-09-21T13:42:10.558Z"
   },
   {
    "duration": 37,
    "start_time": "2023-09-21T13:42:10.609Z"
   },
   {
    "duration": 39,
    "start_time": "2023-09-21T13:42:10.648Z"
   },
   {
    "duration": 46,
    "start_time": "2023-09-21T13:42:10.688Z"
   },
   {
    "duration": 182,
    "start_time": "2023-09-21T13:42:10.735Z"
   },
   {
    "duration": 110,
    "start_time": "2023-09-21T13:42:10.919Z"
   },
   {
    "duration": 110,
    "start_time": "2023-09-21T13:42:11.031Z"
   },
   {
    "duration": 110,
    "start_time": "2023-09-21T13:42:11.143Z"
   },
   {
    "duration": 205,
    "start_time": "2023-09-21T13:42:11.255Z"
   },
   {
    "duration": 117,
    "start_time": "2023-09-21T13:42:11.462Z"
   },
   {
    "duration": 111,
    "start_time": "2023-09-21T13:42:11.581Z"
   },
   {
    "duration": 15,
    "start_time": "2023-09-21T13:42:11.693Z"
   },
   {
    "duration": 166,
    "start_time": "2023-09-21T13:42:11.709Z"
   },
   {
    "duration": 7,
    "start_time": "2023-09-21T13:42:11.877Z"
   },
   {
    "duration": 27,
    "start_time": "2023-09-21T13:42:11.885Z"
   },
   {
    "duration": 26,
    "start_time": "2023-09-21T13:42:11.913Z"
   },
   {
    "duration": 9,
    "start_time": "2023-09-21T13:42:11.940Z"
   },
   {
    "duration": 1573,
    "start_time": "2023-09-21T17:06:45.925Z"
   },
   {
    "duration": 106,
    "start_time": "2023-09-21T17:06:47.500Z"
   },
   {
    "duration": 79,
    "start_time": "2023-09-21T17:06:47.608Z"
   },
   {
    "duration": 5,
    "start_time": "2023-09-21T17:06:47.689Z"
   },
   {
    "duration": 14,
    "start_time": "2023-09-21T17:06:47.695Z"
   },
   {
    "duration": 23,
    "start_time": "2023-09-21T17:06:47.710Z"
   },
   {
    "duration": 7,
    "start_time": "2023-09-21T17:06:47.740Z"
   },
   {
    "duration": 17,
    "start_time": "2023-09-21T17:06:47.749Z"
   },
   {
    "duration": 6,
    "start_time": "2023-09-21T17:06:47.768Z"
   },
   {
    "duration": 16,
    "start_time": "2023-09-21T17:06:47.777Z"
   },
   {
    "duration": 16,
    "start_time": "2023-09-21T17:06:47.795Z"
   },
   {
    "duration": 14,
    "start_time": "2023-09-21T17:06:47.813Z"
   },
   {
    "duration": 34,
    "start_time": "2023-09-21T17:06:47.829Z"
   },
   {
    "duration": 23,
    "start_time": "2023-09-21T17:06:47.865Z"
   },
   {
    "duration": 9,
    "start_time": "2023-09-21T17:06:47.890Z"
   },
   {
    "duration": 398,
    "start_time": "2023-09-21T17:06:47.901Z"
   },
   {
    "duration": 12,
    "start_time": "2023-09-21T17:06:48.301Z"
   },
   {
    "duration": 160,
    "start_time": "2023-09-21T17:06:48.324Z"
   },
   {
    "duration": 216,
    "start_time": "2023-09-21T17:06:48.486Z"
   },
   {
    "duration": 232,
    "start_time": "2023-09-21T17:06:48.704Z"
   },
   {
    "duration": 222,
    "start_time": "2023-09-21T17:06:48.939Z"
   },
   {
    "duration": 224,
    "start_time": "2023-09-21T17:06:49.163Z"
   },
   {
    "duration": 222,
    "start_time": "2023-09-21T17:06:49.389Z"
   },
   {
    "duration": 118,
    "start_time": "2023-09-21T17:06:49.613Z"
   },
   {
    "duration": 45,
    "start_time": "2023-09-21T17:06:49.733Z"
   },
   {
    "duration": 42,
    "start_time": "2023-09-21T17:06:49.779Z"
   },
   {
    "duration": 388,
    "start_time": "2023-09-21T17:06:49.822Z"
   },
   {
    "duration": 431,
    "start_time": "2023-09-21T17:06:50.214Z"
   },
   {
    "duration": 408,
    "start_time": "2023-09-21T17:06:50.651Z"
   },
   {
    "duration": 7,
    "start_time": "2023-09-21T17:06:51.062Z"
   },
   {
    "duration": 21,
    "start_time": "2023-09-21T17:06:51.070Z"
   },
   {
    "duration": 216,
    "start_time": "2023-09-21T17:06:51.093Z"
   },
   {
    "duration": 209,
    "start_time": "2023-09-21T17:06:51.311Z"
   },
   {
    "duration": 16,
    "start_time": "2023-09-21T17:06:51.524Z"
   },
   {
    "duration": 15,
    "start_time": "2023-09-21T17:06:51.542Z"
   },
   {
    "duration": 37,
    "start_time": "2023-09-21T17:06:51.558Z"
   },
   {
    "duration": 57,
    "start_time": "2023-09-21T17:06:51.596Z"
   },
   {
    "duration": 64,
    "start_time": "2023-09-21T17:06:51.655Z"
   },
   {
    "duration": 262,
    "start_time": "2023-09-21T17:06:51.721Z"
   },
   {
    "duration": 143,
    "start_time": "2023-09-21T17:06:51.986Z"
   },
   {
    "duration": 154,
    "start_time": "2023-09-21T17:06:52.133Z"
   },
   {
    "duration": 158,
    "start_time": "2023-09-21T17:06:52.289Z"
   },
   {
    "duration": 229,
    "start_time": "2023-09-21T17:06:52.450Z"
   },
   {
    "duration": 162,
    "start_time": "2023-09-21T17:06:52.680Z"
   },
   {
    "duration": 138,
    "start_time": "2023-09-21T17:06:52.844Z"
   },
   {
    "duration": 17,
    "start_time": "2023-09-21T17:06:52.984Z"
   },
   {
    "duration": 250,
    "start_time": "2023-09-21T17:06:53.002Z"
   },
   {
    "duration": 7,
    "start_time": "2023-09-21T17:06:53.255Z"
   },
   {
    "duration": 20,
    "start_time": "2023-09-21T17:06:53.263Z"
   },
   {
    "duration": 21,
    "start_time": "2023-09-21T17:06:53.285Z"
   },
   {
    "duration": 22,
    "start_time": "2023-09-21T17:06:53.308Z"
   },
   {
    "duration": 718,
    "start_time": "2023-09-21T17:07:57.600Z"
   },
   {
    "duration": 8,
    "start_time": "2023-09-21T17:34:44.499Z"
   },
   {
    "duration": 155,
    "start_time": "2023-09-21T18:08:51.611Z"
   },
   {
    "duration": 6,
    "start_time": "2023-09-21T18:09:47.482Z"
   },
   {
    "duration": 7,
    "start_time": "2023-09-21T18:14:17.508Z"
   },
   {
    "duration": 142,
    "start_time": "2023-09-21T18:14:49.101Z"
   },
   {
    "duration": 1370,
    "start_time": "2023-09-21T18:15:45.415Z"
   },
   {
    "duration": 78,
    "start_time": "2023-09-21T18:15:46.787Z"
   },
   {
    "duration": 81,
    "start_time": "2023-09-21T18:15:46.867Z"
   },
   {
    "duration": 24,
    "start_time": "2023-09-21T18:15:46.951Z"
   },
   {
    "duration": 46,
    "start_time": "2023-09-21T18:15:46.977Z"
   },
   {
    "duration": 51,
    "start_time": "2023-09-21T18:15:47.025Z"
   },
   {
    "duration": 60,
    "start_time": "2023-09-21T18:15:47.077Z"
   },
   {
    "duration": 99,
    "start_time": "2023-09-21T18:15:47.144Z"
   },
   {
    "duration": 47,
    "start_time": "2023-09-21T18:15:47.249Z"
   },
   {
    "duration": 23,
    "start_time": "2023-09-21T18:15:47.298Z"
   },
   {
    "duration": 32,
    "start_time": "2023-09-21T18:15:47.323Z"
   },
   {
    "duration": 406,
    "start_time": "2023-09-21T18:15:47.357Z"
   },
   {
    "duration": 0,
    "start_time": "2023-09-21T18:15:47.765Z"
   },
   {
    "duration": 0,
    "start_time": "2023-09-21T18:15:47.766Z"
   },
   {
    "duration": 0,
    "start_time": "2023-09-21T18:15:47.768Z"
   },
   {
    "duration": 0,
    "start_time": "2023-09-21T18:15:47.769Z"
   },
   {
    "duration": 0,
    "start_time": "2023-09-21T18:15:47.770Z"
   },
   {
    "duration": 0,
    "start_time": "2023-09-21T18:15:47.771Z"
   },
   {
    "duration": 0,
    "start_time": "2023-09-21T18:15:47.772Z"
   },
   {
    "duration": 1,
    "start_time": "2023-09-21T18:15:47.773Z"
   },
   {
    "duration": 0,
    "start_time": "2023-09-21T18:15:47.775Z"
   },
   {
    "duration": 0,
    "start_time": "2023-09-21T18:15:47.776Z"
   },
   {
    "duration": 0,
    "start_time": "2023-09-21T18:15:47.777Z"
   },
   {
    "duration": 0,
    "start_time": "2023-09-21T18:15:47.778Z"
   },
   {
    "duration": 0,
    "start_time": "2023-09-21T18:15:47.779Z"
   },
   {
    "duration": 0,
    "start_time": "2023-09-21T18:15:47.781Z"
   },
   {
    "duration": 0,
    "start_time": "2023-09-21T18:15:47.782Z"
   },
   {
    "duration": 0,
    "start_time": "2023-09-21T18:15:47.783Z"
   },
   {
    "duration": 0,
    "start_time": "2023-09-21T18:15:47.784Z"
   },
   {
    "duration": 0,
    "start_time": "2023-09-21T18:15:47.785Z"
   },
   {
    "duration": 0,
    "start_time": "2023-09-21T18:15:47.786Z"
   },
   {
    "duration": 0,
    "start_time": "2023-09-21T18:15:47.787Z"
   },
   {
    "duration": 0,
    "start_time": "2023-09-21T18:15:47.788Z"
   },
   {
    "duration": 0,
    "start_time": "2023-09-21T18:15:47.789Z"
   },
   {
    "duration": 0,
    "start_time": "2023-09-21T18:15:47.791Z"
   },
   {
    "duration": 0,
    "start_time": "2023-09-21T18:15:47.792Z"
   },
   {
    "duration": 0,
    "start_time": "2023-09-21T18:15:47.793Z"
   },
   {
    "duration": 0,
    "start_time": "2023-09-21T18:15:47.794Z"
   },
   {
    "duration": 0,
    "start_time": "2023-09-21T18:15:47.795Z"
   },
   {
    "duration": 0,
    "start_time": "2023-09-21T18:15:47.796Z"
   },
   {
    "duration": 0,
    "start_time": "2023-09-21T18:15:47.797Z"
   },
   {
    "duration": 0,
    "start_time": "2023-09-21T18:15:47.798Z"
   },
   {
    "duration": 0,
    "start_time": "2023-09-21T18:15:47.799Z"
   },
   {
    "duration": 0,
    "start_time": "2023-09-21T18:15:47.800Z"
   },
   {
    "duration": 0,
    "start_time": "2023-09-21T18:15:47.801Z"
   },
   {
    "duration": 0,
    "start_time": "2023-09-21T18:15:47.802Z"
   },
   {
    "duration": 0,
    "start_time": "2023-09-21T18:15:47.803Z"
   },
   {
    "duration": 0,
    "start_time": "2023-09-21T18:15:47.825Z"
   },
   {
    "duration": 0,
    "start_time": "2023-09-21T18:15:47.826Z"
   },
   {
    "duration": 1,
    "start_time": "2023-09-21T18:15:47.826Z"
   },
   {
    "duration": 0,
    "start_time": "2023-09-21T18:15:47.827Z"
   },
   {
    "duration": 3,
    "start_time": "2023-09-21T18:15:47.828Z"
   },
   {
    "duration": 125,
    "start_time": "2023-09-21T18:17:54.271Z"
   },
   {
    "duration": 4,
    "start_time": "2023-09-21T18:20:23.989Z"
   },
   {
    "duration": 1219,
    "start_time": "2023-09-21T18:20:36.882Z"
   },
   {
    "duration": 66,
    "start_time": "2023-09-21T18:20:38.104Z"
   },
   {
    "duration": 81,
    "start_time": "2023-09-21T18:20:38.172Z"
   },
   {
    "duration": 7,
    "start_time": "2023-09-21T18:20:38.254Z"
   },
   {
    "duration": 31,
    "start_time": "2023-09-21T18:20:38.263Z"
   },
   {
    "duration": 57,
    "start_time": "2023-09-21T18:20:38.295Z"
   },
   {
    "duration": 19,
    "start_time": "2023-09-21T18:20:38.354Z"
   },
   {
    "duration": 46,
    "start_time": "2023-09-21T18:20:38.375Z"
   },
   {
    "duration": 14,
    "start_time": "2023-09-21T18:20:38.423Z"
   },
   {
    "duration": 37,
    "start_time": "2023-09-21T18:20:38.438Z"
   },
   {
    "duration": 40,
    "start_time": "2023-09-21T18:20:38.477Z"
   },
   {
    "duration": 38,
    "start_time": "2023-09-21T18:20:38.518Z"
   },
   {
    "duration": 22,
    "start_time": "2023-09-21T18:20:38.558Z"
   },
   {
    "duration": 58,
    "start_time": "2023-09-21T18:20:38.583Z"
   },
   {
    "duration": 24,
    "start_time": "2023-09-21T18:20:38.643Z"
   },
   {
    "duration": 27,
    "start_time": "2023-09-21T18:20:38.669Z"
   },
   {
    "duration": 377,
    "start_time": "2023-09-21T18:20:38.698Z"
   },
   {
    "duration": 11,
    "start_time": "2023-09-21T18:20:39.077Z"
   },
   {
    "duration": 168,
    "start_time": "2023-09-21T18:20:39.090Z"
   },
   {
    "duration": 216,
    "start_time": "2023-09-21T18:20:39.260Z"
   },
   {
    "duration": 219,
    "start_time": "2023-09-21T18:20:39.478Z"
   },
   {
    "duration": 218,
    "start_time": "2023-09-21T18:20:39.699Z"
   },
   {
    "duration": 195,
    "start_time": "2023-09-21T18:20:39.919Z"
   },
   {
    "duration": 242,
    "start_time": "2023-09-21T18:20:40.116Z"
   },
   {
    "duration": 120,
    "start_time": "2023-09-21T18:20:40.360Z"
   },
   {
    "duration": 23,
    "start_time": "2023-09-21T18:20:40.482Z"
   },
   {
    "duration": 44,
    "start_time": "2023-09-21T18:20:40.506Z"
   },
   {
    "duration": 402,
    "start_time": "2023-09-21T18:20:40.553Z"
   },
   {
    "duration": 391,
    "start_time": "2023-09-21T18:20:40.957Z"
   },
   {
    "duration": 392,
    "start_time": "2023-09-21T18:20:41.350Z"
   },
   {
    "duration": 7,
    "start_time": "2023-09-21T18:20:41.744Z"
   },
   {
    "duration": 26,
    "start_time": "2023-09-21T18:20:41.752Z"
   },
   {
    "duration": 201,
    "start_time": "2023-09-21T18:20:41.780Z"
   },
   {
    "duration": 197,
    "start_time": "2023-09-21T18:20:41.983Z"
   },
   {
    "duration": 12,
    "start_time": "2023-09-21T18:20:42.182Z"
   },
   {
    "duration": 32,
    "start_time": "2023-09-21T18:20:42.198Z"
   },
   {
    "duration": 17,
    "start_time": "2023-09-21T18:20:42.232Z"
   },
   {
    "duration": 11,
    "start_time": "2023-09-21T18:20:42.251Z"
   },
   {
    "duration": 18,
    "start_time": "2023-09-21T18:20:42.264Z"
   },
   {
    "duration": 220,
    "start_time": "2023-09-21T18:20:42.284Z"
   },
   {
    "duration": 126,
    "start_time": "2023-09-21T18:20:42.508Z"
   },
   {
    "duration": 130,
    "start_time": "2023-09-21T18:20:42.640Z"
   },
   {
    "duration": 136,
    "start_time": "2023-09-21T18:20:42.771Z"
   },
   {
    "duration": 230,
    "start_time": "2023-09-21T18:20:42.908Z"
   },
   {
    "duration": 140,
    "start_time": "2023-09-21T18:20:43.141Z"
   },
   {
    "duration": 149,
    "start_time": "2023-09-21T18:20:43.284Z"
   },
   {
    "duration": 19,
    "start_time": "2023-09-21T18:20:43.435Z"
   },
   {
    "duration": 219,
    "start_time": "2023-09-21T18:20:43.455Z"
   },
   {
    "duration": 7,
    "start_time": "2023-09-21T18:20:43.675Z"
   },
   {
    "duration": 149,
    "start_time": "2023-09-21T18:20:43.684Z"
   },
   {
    "duration": 159,
    "start_time": "2023-09-21T18:20:43.835Z"
   },
   {
    "duration": 53,
    "start_time": "2023-09-21T18:20:43.996Z"
   },
   {
    "duration": 5,
    "start_time": "2023-09-21T18:21:31.919Z"
   },
   {
    "duration": 1279,
    "start_time": "2023-09-21T18:21:37.100Z"
   },
   {
    "duration": 62,
    "start_time": "2023-09-21T18:21:38.380Z"
   },
   {
    "duration": 59,
    "start_time": "2023-09-21T18:21:38.444Z"
   },
   {
    "duration": 22,
    "start_time": "2023-09-21T18:21:38.504Z"
   },
   {
    "duration": 9,
    "start_time": "2023-09-21T18:21:38.529Z"
   },
   {
    "duration": 12,
    "start_time": "2023-09-21T18:21:38.540Z"
   },
   {
    "duration": 18,
    "start_time": "2023-09-21T18:21:38.554Z"
   },
   {
    "duration": 26,
    "start_time": "2023-09-21T18:21:38.573Z"
   },
   {
    "duration": 8,
    "start_time": "2023-09-21T18:21:38.600Z"
   },
   {
    "duration": 16,
    "start_time": "2023-09-21T18:21:38.609Z"
   },
   {
    "duration": 15,
    "start_time": "2023-09-21T18:21:38.627Z"
   },
   {
    "duration": 6,
    "start_time": "2023-09-21T18:21:38.645Z"
   },
   {
    "duration": 17,
    "start_time": "2023-09-21T18:21:38.652Z"
   },
   {
    "duration": 26,
    "start_time": "2023-09-21T18:21:38.671Z"
   },
   {
    "duration": 43,
    "start_time": "2023-09-21T18:21:38.698Z"
   },
   {
    "duration": 12,
    "start_time": "2023-09-21T18:21:38.743Z"
   },
   {
    "duration": 362,
    "start_time": "2023-09-21T18:21:38.757Z"
   },
   {
    "duration": 18,
    "start_time": "2023-09-21T18:21:39.123Z"
   },
   {
    "duration": 156,
    "start_time": "2023-09-21T18:21:39.143Z"
   },
   {
    "duration": 215,
    "start_time": "2023-09-21T18:21:39.301Z"
   },
   {
    "duration": 233,
    "start_time": "2023-09-21T18:21:39.517Z"
   },
   {
    "duration": 223,
    "start_time": "2023-09-21T18:21:39.752Z"
   },
   {
    "duration": 209,
    "start_time": "2023-09-21T18:21:39.977Z"
   },
   {
    "duration": 225,
    "start_time": "2023-09-21T18:21:40.187Z"
   },
   {
    "duration": 112,
    "start_time": "2023-09-21T18:21:40.414Z"
   },
   {
    "duration": 24,
    "start_time": "2023-09-21T18:21:40.527Z"
   },
   {
    "duration": 20,
    "start_time": "2023-09-21T18:21:40.552Z"
   },
   {
    "duration": 388,
    "start_time": "2023-09-21T18:21:40.574Z"
   },
   {
    "duration": 334,
    "start_time": "2023-09-21T18:21:40.964Z"
   },
   {
    "duration": 377,
    "start_time": "2023-09-21T18:21:41.299Z"
   },
   {
    "duration": 7,
    "start_time": "2023-09-21T18:21:41.677Z"
   },
   {
    "duration": 23,
    "start_time": "2023-09-21T18:21:41.685Z"
   },
   {
    "duration": 199,
    "start_time": "2023-09-21T18:21:41.710Z"
   },
   {
    "duration": 198,
    "start_time": "2023-09-21T18:21:41.911Z"
   },
   {
    "duration": 21,
    "start_time": "2023-09-21T18:21:42.112Z"
   },
   {
    "duration": 17,
    "start_time": "2023-09-21T18:21:42.135Z"
   },
   {
    "duration": 28,
    "start_time": "2023-09-21T18:21:42.154Z"
   },
   {
    "duration": 18,
    "start_time": "2023-09-21T18:21:42.185Z"
   },
   {
    "duration": 33,
    "start_time": "2023-09-21T18:21:42.205Z"
   },
   {
    "duration": 196,
    "start_time": "2023-09-21T18:21:42.240Z"
   },
   {
    "duration": 138,
    "start_time": "2023-09-21T18:21:42.443Z"
   },
   {
    "duration": 132,
    "start_time": "2023-09-21T18:21:42.582Z"
   },
   {
    "duration": 153,
    "start_time": "2023-09-21T18:21:42.715Z"
   },
   {
    "duration": 231,
    "start_time": "2023-09-21T18:21:42.870Z"
   },
   {
    "duration": 149,
    "start_time": "2023-09-21T18:21:43.103Z"
   },
   {
    "duration": 130,
    "start_time": "2023-09-21T18:21:43.254Z"
   },
   {
    "duration": 14,
    "start_time": "2023-09-21T18:21:43.386Z"
   },
   {
    "duration": 199,
    "start_time": "2023-09-21T18:21:43.402Z"
   },
   {
    "duration": 20,
    "start_time": "2023-09-21T18:21:43.604Z"
   },
   {
    "duration": 17,
    "start_time": "2023-09-21T18:21:43.626Z"
   },
   {
    "duration": 8,
    "start_time": "2023-09-21T18:21:43.646Z"
   },
   {
    "duration": 32,
    "start_time": "2023-09-21T18:21:43.656Z"
   },
   {
    "duration": 7,
    "start_time": "2023-09-21T18:23:29.985Z"
   },
   {
    "duration": 7,
    "start_time": "2023-09-21T18:25:40.076Z"
   },
   {
    "duration": 12,
    "start_time": "2023-09-21T18:25:46.261Z"
   },
   {
    "duration": 1371,
    "start_time": "2023-09-21T18:25:53.097Z"
   },
   {
    "duration": 53,
    "start_time": "2023-09-21T18:25:54.470Z"
   },
   {
    "duration": 76,
    "start_time": "2023-09-21T18:25:54.532Z"
   },
   {
    "duration": 5,
    "start_time": "2023-09-21T18:25:54.610Z"
   },
   {
    "duration": 22,
    "start_time": "2023-09-21T18:25:54.623Z"
   },
   {
    "duration": 19,
    "start_time": "2023-09-21T18:25:54.647Z"
   },
   {
    "duration": 16,
    "start_time": "2023-09-21T18:25:54.668Z"
   },
   {
    "duration": 27,
    "start_time": "2023-09-21T18:25:54.686Z"
   },
   {
    "duration": 5,
    "start_time": "2023-09-21T18:25:54.715Z"
   },
   {
    "duration": 11,
    "start_time": "2023-09-21T18:25:54.723Z"
   },
   {
    "duration": 12,
    "start_time": "2023-09-21T18:25:54.736Z"
   },
   {
    "duration": 9,
    "start_time": "2023-09-21T18:25:54.751Z"
   },
   {
    "duration": 5,
    "start_time": "2023-09-21T18:25:54.763Z"
   },
   {
    "duration": 28,
    "start_time": "2023-09-21T18:25:54.770Z"
   },
   {
    "duration": 57,
    "start_time": "2023-09-21T18:25:54.799Z"
   },
   {
    "duration": 14,
    "start_time": "2023-09-21T18:25:54.859Z"
   },
   {
    "duration": 389,
    "start_time": "2023-09-21T18:25:54.875Z"
   },
   {
    "duration": 13,
    "start_time": "2023-09-21T18:25:55.266Z"
   },
   {
    "duration": 198,
    "start_time": "2023-09-21T18:25:55.280Z"
   },
   {
    "duration": 231,
    "start_time": "2023-09-21T18:25:55.479Z"
   },
   {
    "duration": 281,
    "start_time": "2023-09-21T18:25:55.712Z"
   },
   {
    "duration": 276,
    "start_time": "2023-09-21T18:25:55.995Z"
   },
   {
    "duration": 228,
    "start_time": "2023-09-21T18:25:56.273Z"
   },
   {
    "duration": 258,
    "start_time": "2023-09-21T18:25:56.503Z"
   },
   {
    "duration": 139,
    "start_time": "2023-09-21T18:25:56.763Z"
   },
   {
    "duration": 39,
    "start_time": "2023-09-21T18:25:56.904Z"
   },
   {
    "duration": 44,
    "start_time": "2023-09-21T18:25:56.948Z"
   },
   {
    "duration": 413,
    "start_time": "2023-09-21T18:25:56.997Z"
   },
   {
    "duration": 404,
    "start_time": "2023-09-21T18:25:57.412Z"
   },
   {
    "duration": 415,
    "start_time": "2023-09-21T18:25:57.818Z"
   },
   {
    "duration": 10,
    "start_time": "2023-09-21T18:25:58.242Z"
   },
   {
    "duration": 13,
    "start_time": "2023-09-21T18:25:58.255Z"
   },
   {
    "duration": 233,
    "start_time": "2023-09-21T18:25:58.270Z"
   },
   {
    "duration": 216,
    "start_time": "2023-09-21T18:25:58.505Z"
   },
   {
    "duration": 39,
    "start_time": "2023-09-21T18:25:58.723Z"
   },
   {
    "duration": 53,
    "start_time": "2023-09-21T18:25:58.765Z"
   },
   {
    "duration": 35,
    "start_time": "2023-09-21T18:25:58.820Z"
   },
   {
    "duration": 12,
    "start_time": "2023-09-21T18:25:58.857Z"
   },
   {
    "duration": 27,
    "start_time": "2023-09-21T18:25:58.871Z"
   },
   {
    "duration": 225,
    "start_time": "2023-09-21T18:25:58.903Z"
   },
   {
    "duration": 161,
    "start_time": "2023-09-21T18:25:59.130Z"
   },
   {
    "duration": 169,
    "start_time": "2023-09-21T18:25:59.293Z"
   },
   {
    "duration": 154,
    "start_time": "2023-09-21T18:25:59.464Z"
   },
   {
    "duration": 260,
    "start_time": "2023-09-21T18:25:59.628Z"
   },
   {
    "duration": 141,
    "start_time": "2023-09-21T18:25:59.890Z"
   },
   {
    "duration": 142,
    "start_time": "2023-09-21T18:26:00.034Z"
   },
   {
    "duration": 17,
    "start_time": "2023-09-21T18:26:00.178Z"
   },
   {
    "duration": 301,
    "start_time": "2023-09-21T18:26:00.197Z"
   },
   {
    "duration": 8,
    "start_time": "2023-09-21T18:26:00.500Z"
   },
   {
    "duration": 60,
    "start_time": "2023-09-21T18:26:00.510Z"
   },
   {
    "duration": 73,
    "start_time": "2023-09-21T18:26:00.571Z"
   },
   {
    "duration": 48,
    "start_time": "2023-09-21T18:26:00.646Z"
   },
   {
    "duration": 288,
    "start_time": "2023-09-21T18:28:49.717Z"
   },
   {
    "duration": 457,
    "start_time": "2023-09-21T18:29:30.907Z"
   },
   {
    "duration": 8,
    "start_time": "2023-09-21T18:34:16.180Z"
   },
   {
    "duration": 9,
    "start_time": "2023-09-21T19:31:48.778Z"
   },
   {
    "duration": 106,
    "start_time": "2023-09-21T20:33:14.771Z"
   },
   {
    "duration": 99,
    "start_time": "2023-09-21T20:33:19.645Z"
   },
   {
    "duration": 220,
    "start_time": "2023-09-21T20:39:08.588Z"
   },
   {
    "duration": 1445,
    "start_time": "2023-09-21T20:39:26.029Z"
   },
   {
    "duration": 71,
    "start_time": "2023-09-21T20:39:27.476Z"
   },
   {
    "duration": 65,
    "start_time": "2023-09-21T20:39:27.549Z"
   },
   {
    "duration": 8,
    "start_time": "2023-09-21T20:39:27.616Z"
   },
   {
    "duration": 29,
    "start_time": "2023-09-21T20:39:27.636Z"
   },
   {
    "duration": 11,
    "start_time": "2023-09-21T20:39:27.667Z"
   },
   {
    "duration": 10,
    "start_time": "2023-09-21T20:39:27.680Z"
   },
   {
    "duration": 24,
    "start_time": "2023-09-21T20:39:27.692Z"
   },
   {
    "duration": 9,
    "start_time": "2023-09-21T20:39:27.718Z"
   },
   {
    "duration": 13,
    "start_time": "2023-09-21T20:39:27.737Z"
   },
   {
    "duration": 23,
    "start_time": "2023-09-21T20:39:27.755Z"
   },
   {
    "duration": 17,
    "start_time": "2023-09-21T20:39:27.779Z"
   },
   {
    "duration": 6,
    "start_time": "2023-09-21T20:39:27.798Z"
   },
   {
    "duration": 51,
    "start_time": "2023-09-21T20:39:27.807Z"
   },
   {
    "duration": 24,
    "start_time": "2023-09-21T20:39:27.862Z"
   },
   {
    "duration": 16,
    "start_time": "2023-09-21T20:39:27.888Z"
   },
   {
    "duration": 39,
    "start_time": "2023-09-21T20:39:27.905Z"
   },
   {
    "duration": 395,
    "start_time": "2023-09-21T20:39:27.946Z"
   },
   {
    "duration": 19,
    "start_time": "2023-09-21T20:39:28.343Z"
   },
   {
    "duration": 220,
    "start_time": "2023-09-21T20:39:28.363Z"
   },
   {
    "duration": 226,
    "start_time": "2023-09-21T20:39:28.585Z"
   },
   {
    "duration": 291,
    "start_time": "2023-09-21T20:39:28.813Z"
   },
   {
    "duration": 291,
    "start_time": "2023-09-21T20:39:29.106Z"
   },
   {
    "duration": 241,
    "start_time": "2023-09-21T20:39:29.399Z"
   },
   {
    "duration": 238,
    "start_time": "2023-09-21T20:39:29.642Z"
   },
   {
    "duration": 134,
    "start_time": "2023-09-21T20:39:29.882Z"
   },
   {
    "duration": 35,
    "start_time": "2023-09-21T20:39:30.018Z"
   },
   {
    "duration": 189,
    "start_time": "2023-09-21T20:39:30.055Z"
   },
   {
    "duration": 432,
    "start_time": "2023-09-21T20:39:30.247Z"
   },
   {
    "duration": 477,
    "start_time": "2023-09-21T20:39:30.681Z"
   },
   {
    "duration": 439,
    "start_time": "2023-09-21T20:39:31.161Z"
   },
   {
    "duration": 6,
    "start_time": "2023-09-21T20:39:31.602Z"
   },
   {
    "duration": 51,
    "start_time": "2023-09-21T20:39:31.610Z"
   },
   {
    "duration": 239,
    "start_time": "2023-09-21T20:39:31.663Z"
   },
   {
    "duration": 238,
    "start_time": "2023-09-21T20:39:31.904Z"
   },
   {
    "duration": 22,
    "start_time": "2023-09-21T20:39:32.147Z"
   },
   {
    "duration": 32,
    "start_time": "2023-09-21T20:39:32.171Z"
   },
   {
    "duration": 40,
    "start_time": "2023-09-21T20:39:32.205Z"
   },
   {
    "duration": 16,
    "start_time": "2023-09-21T20:39:32.247Z"
   },
   {
    "duration": 29,
    "start_time": "2023-09-21T20:39:32.265Z"
   },
   {
    "duration": 260,
    "start_time": "2023-09-21T20:39:32.299Z"
   },
   {
    "duration": 150,
    "start_time": "2023-09-21T20:39:32.561Z"
   },
   {
    "duration": 184,
    "start_time": "2023-09-21T20:39:32.713Z"
   },
   {
    "duration": 402,
    "start_time": "2023-09-21T20:39:32.899Z"
   },
   {
    "duration": 292,
    "start_time": "2023-09-21T20:39:33.303Z"
   },
   {
    "duration": 158,
    "start_time": "2023-09-21T20:39:33.597Z"
   },
   {
    "duration": 130,
    "start_time": "2023-09-21T20:39:33.757Z"
   },
   {
    "duration": 16,
    "start_time": "2023-09-21T20:39:33.889Z"
   },
   {
    "duration": 221,
    "start_time": "2023-09-21T20:39:33.907Z"
   },
   {
    "duration": 17,
    "start_time": "2023-09-21T20:39:34.130Z"
   },
   {
    "duration": 62,
    "start_time": "2023-09-21T20:39:34.150Z"
   },
   {
    "duration": 44,
    "start_time": "2023-09-21T20:39:34.214Z"
   },
   {
    "duration": 109,
    "start_time": "2023-09-21T20:39:34.260Z"
   },
   {
    "duration": 15,
    "start_time": "2023-09-21T20:44:09.055Z"
   },
   {
    "duration": 228,
    "start_time": "2023-09-21T20:44:16.847Z"
   },
   {
    "duration": 24,
    "start_time": "2023-09-21T20:44:40.912Z"
   },
   {
    "duration": 243,
    "start_time": "2023-09-21T20:44:45.907Z"
   },
   {
    "duration": 21,
    "start_time": "2023-09-21T20:48:01.877Z"
   },
   {
    "duration": 240,
    "start_time": "2023-09-21T20:48:11.837Z"
   },
   {
    "duration": 14,
    "start_time": "2023-09-21T20:58:08.105Z"
   },
   {
    "duration": 201,
    "start_time": "2023-09-21T20:58:11.638Z"
   },
   {
    "duration": 15,
    "start_time": "2023-09-21T20:59:14.485Z"
   },
   {
    "duration": 237,
    "start_time": "2023-09-21T20:59:25.658Z"
   },
   {
    "duration": 193,
    "start_time": "2023-09-21T21:10:26.580Z"
   },
   {
    "duration": 208,
    "start_time": "2023-09-21T21:12:18.222Z"
   },
   {
    "duration": 5,
    "start_time": "2023-09-21T21:16:47.929Z"
   },
   {
    "duration": 146,
    "start_time": "2023-09-21T21:16:56.296Z"
   },
   {
    "duration": 1338,
    "start_time": "2023-09-21T21:17:08.419Z"
   },
   {
    "duration": 57,
    "start_time": "2023-09-21T21:17:09.760Z"
   },
   {
    "duration": 148,
    "start_time": "2023-09-21T21:17:09.819Z"
   },
   {
    "duration": 6,
    "start_time": "2023-09-21T21:17:09.970Z"
   },
   {
    "duration": 89,
    "start_time": "2023-09-21T21:17:09.978Z"
   },
   {
    "duration": 234,
    "start_time": "2023-09-21T21:17:10.070Z"
   },
   {
    "duration": 139,
    "start_time": "2023-09-21T21:17:10.306Z"
   },
   {
    "duration": 370,
    "start_time": "2023-09-21T21:17:10.447Z"
   },
   {
    "duration": 294,
    "start_time": "2023-09-21T21:17:10.819Z"
   },
   {
    "duration": 141,
    "start_time": "2023-09-21T21:17:11.115Z"
   },
   {
    "duration": 125,
    "start_time": "2023-09-21T21:17:11.261Z"
   },
   {
    "duration": 108,
    "start_time": "2023-09-21T21:17:11.387Z"
   },
   {
    "duration": 190,
    "start_time": "2023-09-21T21:17:11.497Z"
   },
   {
    "duration": 330,
    "start_time": "2023-09-21T21:17:11.690Z"
   },
   {
    "duration": 217,
    "start_time": "2023-09-21T21:17:12.022Z"
   },
   {
    "duration": 284,
    "start_time": "2023-09-21T21:17:12.242Z"
   },
   {
    "duration": 148,
    "start_time": "2023-09-21T21:17:12.529Z"
   },
   {
    "duration": 510,
    "start_time": "2023-09-21T21:17:12.679Z"
   },
   {
    "duration": 14,
    "start_time": "2023-09-21T21:17:13.191Z"
   },
   {
    "duration": 222,
    "start_time": "2023-09-21T21:17:13.207Z"
   },
   {
    "duration": 259,
    "start_time": "2023-09-21T21:17:13.431Z"
   },
   {
    "duration": 246,
    "start_time": "2023-09-21T21:17:13.692Z"
   },
   {
    "duration": 232,
    "start_time": "2023-09-21T21:17:13.940Z"
   },
   {
    "duration": 240,
    "start_time": "2023-09-21T21:17:14.174Z"
   },
   {
    "duration": 228,
    "start_time": "2023-09-21T21:17:14.416Z"
   },
   {
    "duration": 122,
    "start_time": "2023-09-21T21:17:14.648Z"
   },
   {
    "duration": 22,
    "start_time": "2023-09-21T21:17:14.772Z"
   },
   {
    "duration": 82,
    "start_time": "2023-09-21T21:17:14.796Z"
   },
   {
    "duration": 406,
    "start_time": "2023-09-21T21:17:14.880Z"
   },
   {
    "duration": 406,
    "start_time": "2023-09-21T21:17:15.288Z"
   },
   {
    "duration": 498,
    "start_time": "2023-09-21T21:17:15.696Z"
   },
   {
    "duration": 9,
    "start_time": "2023-09-21T21:17:16.197Z"
   },
   {
    "duration": 26,
    "start_time": "2023-09-21T21:17:16.208Z"
   },
   {
    "duration": 212,
    "start_time": "2023-09-21T21:17:16.239Z"
   },
   {
    "duration": 230,
    "start_time": "2023-09-21T21:17:16.453Z"
   },
   {
    "duration": 14,
    "start_time": "2023-09-21T21:17:16.685Z"
   },
   {
    "duration": 26,
    "start_time": "2023-09-21T21:17:16.701Z"
   },
   {
    "duration": 31,
    "start_time": "2023-09-21T21:17:16.732Z"
   },
   {
    "duration": 25,
    "start_time": "2023-09-21T21:17:16.764Z"
   },
   {
    "duration": 33,
    "start_time": "2023-09-21T21:17:16.790Z"
   },
   {
    "duration": 243,
    "start_time": "2023-09-21T21:17:16.829Z"
   },
   {
    "duration": 141,
    "start_time": "2023-09-21T21:17:17.074Z"
   },
   {
    "duration": 144,
    "start_time": "2023-09-21T21:17:17.217Z"
   },
   {
    "duration": 149,
    "start_time": "2023-09-21T21:17:17.362Z"
   },
   {
    "duration": 249,
    "start_time": "2023-09-21T21:17:17.512Z"
   },
   {
    "duration": 134,
    "start_time": "2023-09-21T21:17:17.762Z"
   },
   {
    "duration": 148,
    "start_time": "2023-09-21T21:17:17.897Z"
   },
   {
    "duration": 17,
    "start_time": "2023-09-21T21:17:18.047Z"
   },
   {
    "duration": 219,
    "start_time": "2023-09-21T21:17:18.065Z"
   },
   {
    "duration": 124,
    "start_time": "2023-09-21T21:17:18.286Z"
   },
   {
    "duration": 0,
    "start_time": "2023-09-21T21:17:18.412Z"
   },
   {
    "duration": 0,
    "start_time": "2023-09-21T21:17:18.413Z"
   },
   {
    "duration": 0,
    "start_time": "2023-09-21T21:17:18.414Z"
   },
   {
    "duration": 0,
    "start_time": "2023-09-21T21:17:18.416Z"
   },
   {
    "duration": 18,
    "start_time": "2023-09-21T21:17:39.834Z"
   },
   {
    "duration": 1352,
    "start_time": "2023-09-21T21:17:57.788Z"
   },
   {
    "duration": 57,
    "start_time": "2023-09-21T21:17:59.148Z"
   },
   {
    "duration": 162,
    "start_time": "2023-09-21T21:17:59.207Z"
   },
   {
    "duration": 36,
    "start_time": "2023-09-21T21:17:59.371Z"
   },
   {
    "duration": 21,
    "start_time": "2023-09-21T21:17:59.410Z"
   },
   {
    "duration": 27,
    "start_time": "2023-09-21T21:17:59.433Z"
   },
   {
    "duration": 24,
    "start_time": "2023-09-21T21:17:59.462Z"
   },
   {
    "duration": 22,
    "start_time": "2023-09-21T21:17:59.488Z"
   },
   {
    "duration": 5,
    "start_time": "2023-09-21T21:17:59.512Z"
   },
   {
    "duration": 27,
    "start_time": "2023-09-21T21:17:59.519Z"
   },
   {
    "duration": 18,
    "start_time": "2023-09-21T21:17:59.548Z"
   },
   {
    "duration": 22,
    "start_time": "2023-09-21T21:17:59.567Z"
   },
   {
    "duration": 20,
    "start_time": "2023-09-21T21:17:59.591Z"
   },
   {
    "duration": 37,
    "start_time": "2023-09-21T21:17:59.614Z"
   },
   {
    "duration": 25,
    "start_time": "2023-09-21T21:17:59.653Z"
   },
   {
    "duration": 9,
    "start_time": "2023-09-21T21:17:59.679Z"
   },
   {
    "duration": 23,
    "start_time": "2023-09-21T21:17:59.690Z"
   },
   {
    "duration": 388,
    "start_time": "2023-09-21T21:17:59.714Z"
   },
   {
    "duration": 23,
    "start_time": "2023-09-21T21:18:00.103Z"
   },
   {
    "duration": 195,
    "start_time": "2023-09-21T21:18:00.128Z"
   },
   {
    "duration": 266,
    "start_time": "2023-09-21T21:18:00.325Z"
   },
   {
    "duration": 256,
    "start_time": "2023-09-21T21:18:00.593Z"
   },
   {
    "duration": 248,
    "start_time": "2023-09-21T21:18:00.852Z"
   },
   {
    "duration": 242,
    "start_time": "2023-09-21T21:18:01.102Z"
   },
   {
    "duration": 229,
    "start_time": "2023-09-21T21:18:01.347Z"
   },
   {
    "duration": 142,
    "start_time": "2023-09-21T21:18:01.578Z"
   },
   {
    "duration": 48,
    "start_time": "2023-09-21T21:18:01.722Z"
   },
   {
    "duration": 263,
    "start_time": "2023-09-21T21:18:01.773Z"
   },
   {
    "duration": 636,
    "start_time": "2023-09-21T21:18:02.038Z"
   },
   {
    "duration": 408,
    "start_time": "2023-09-21T21:18:02.676Z"
   },
   {
    "duration": 480,
    "start_time": "2023-09-21T21:18:03.086Z"
   },
   {
    "duration": 9,
    "start_time": "2023-09-21T21:18:03.569Z"
   },
   {
    "duration": 269,
    "start_time": "2023-09-21T21:18:03.580Z"
   },
   {
    "duration": 345,
    "start_time": "2023-09-21T21:18:03.852Z"
   },
   {
    "duration": 246,
    "start_time": "2023-09-21T21:18:04.198Z"
   },
   {
    "duration": 17,
    "start_time": "2023-09-21T21:18:04.449Z"
   },
   {
    "duration": 114,
    "start_time": "2023-09-21T21:18:04.468Z"
   },
   {
    "duration": 84,
    "start_time": "2023-09-21T21:18:04.584Z"
   },
   {
    "duration": 43,
    "start_time": "2023-09-21T21:18:04.669Z"
   },
   {
    "duration": 47,
    "start_time": "2023-09-21T21:18:04.714Z"
   },
   {
    "duration": 295,
    "start_time": "2023-09-21T21:18:04.765Z"
   },
   {
    "duration": 138,
    "start_time": "2023-09-21T21:18:05.062Z"
   },
   {
    "duration": 205,
    "start_time": "2023-09-21T21:18:05.202Z"
   },
   {
    "duration": 159,
    "start_time": "2023-09-21T21:18:05.409Z"
   },
   {
    "duration": 256,
    "start_time": "2023-09-21T21:18:05.570Z"
   },
   {
    "duration": 171,
    "start_time": "2023-09-21T21:18:05.828Z"
   },
   {
    "duration": 192,
    "start_time": "2023-09-21T21:18:06.001Z"
   },
   {
    "duration": 127,
    "start_time": "2023-09-21T21:18:06.194Z"
   },
   {
    "duration": 359,
    "start_time": "2023-09-21T21:18:06.325Z"
   },
   {
    "duration": 168,
    "start_time": "2023-09-21T21:18:06.686Z"
   },
   {
    "duration": 0,
    "start_time": "2023-09-21T21:18:06.862Z"
   },
   {
    "duration": 0,
    "start_time": "2023-09-21T21:18:06.866Z"
   },
   {
    "duration": 0,
    "start_time": "2023-09-21T21:18:06.870Z"
   },
   {
    "duration": 0,
    "start_time": "2023-09-21T21:18:06.872Z"
   },
   {
    "duration": 695,
    "start_time": "2023-09-21T21:19:26.341Z"
   },
   {
    "duration": 659,
    "start_time": "2023-09-21T21:20:30.450Z"
   },
   {
    "duration": 719,
    "start_time": "2023-09-21T21:20:52.183Z"
   },
   {
    "duration": 883,
    "start_time": "2023-09-21T21:21:05.844Z"
   },
   {
    "duration": 689,
    "start_time": "2023-09-21T21:21:36.020Z"
   },
   {
    "duration": 730,
    "start_time": "2023-09-21T21:22:01.946Z"
   },
   {
    "duration": 683,
    "start_time": "2023-09-21T21:22:11.947Z"
   },
   {
    "duration": 684,
    "start_time": "2023-09-21T21:22:37.696Z"
   },
   {
    "duration": 709,
    "start_time": "2023-09-21T21:22:58.951Z"
   },
   {
    "duration": 835,
    "start_time": "2023-09-21T21:23:09.861Z"
   },
   {
    "duration": 695,
    "start_time": "2023-09-21T21:23:22.572Z"
   },
   {
    "duration": 748,
    "start_time": "2023-09-21T21:23:35.453Z"
   },
   {
    "duration": 705,
    "start_time": "2023-09-21T21:23:53.805Z"
   },
   {
    "duration": 676,
    "start_time": "2023-09-21T21:24:04.034Z"
   },
   {
    "duration": 834,
    "start_time": "2023-09-21T21:25:20.122Z"
   },
   {
    "duration": 673,
    "start_time": "2023-09-21T21:26:23.289Z"
   },
   {
    "duration": 725,
    "start_time": "2023-09-21T21:26:42.854Z"
   },
   {
    "duration": 795,
    "start_time": "2023-09-21T21:27:00.296Z"
   },
   {
    "duration": 737,
    "start_time": "2023-09-21T21:27:10.479Z"
   },
   {
    "duration": 1009,
    "start_time": "2023-09-21T21:27:16.954Z"
   },
   {
    "duration": 804,
    "start_time": "2023-09-21T21:27:24.265Z"
   },
   {
    "duration": 411,
    "start_time": "2023-09-21T21:27:53.584Z"
   },
   {
    "duration": 21,
    "start_time": "2023-09-21T21:28:34.288Z"
   },
   {
    "duration": 564,
    "start_time": "2023-09-21T21:28:38.480Z"
   },
   {
    "duration": 225,
    "start_time": "2023-09-21T21:28:53.537Z"
   },
   {
    "duration": 639,
    "start_time": "2023-09-21T21:28:57.283Z"
   },
   {
    "duration": 1509,
    "start_time": "2023-09-21T21:29:04.283Z"
   },
   {
    "duration": 73,
    "start_time": "2023-09-21T21:29:05.795Z"
   },
   {
    "duration": 89,
    "start_time": "2023-09-21T21:29:05.870Z"
   },
   {
    "duration": 6,
    "start_time": "2023-09-21T21:29:05.964Z"
   },
   {
    "duration": 22,
    "start_time": "2023-09-21T21:29:05.972Z"
   },
   {
    "duration": 18,
    "start_time": "2023-09-21T21:29:05.997Z"
   },
   {
    "duration": 41,
    "start_time": "2023-09-21T21:29:06.017Z"
   },
   {
    "duration": 51,
    "start_time": "2023-09-21T21:29:06.060Z"
   },
   {
    "duration": 26,
    "start_time": "2023-09-21T21:29:06.114Z"
   },
   {
    "duration": 22,
    "start_time": "2023-09-21T21:29:06.142Z"
   },
   {
    "duration": 49,
    "start_time": "2023-09-21T21:29:06.166Z"
   },
   {
    "duration": 40,
    "start_time": "2023-09-21T21:29:06.217Z"
   },
   {
    "duration": 97,
    "start_time": "2023-09-21T21:29:06.258Z"
   },
   {
    "duration": 115,
    "start_time": "2023-09-21T21:29:06.359Z"
   },
   {
    "duration": 83,
    "start_time": "2023-09-21T21:29:06.475Z"
   },
   {
    "duration": 8,
    "start_time": "2023-09-21T21:29:06.560Z"
   },
   {
    "duration": 29,
    "start_time": "2023-09-21T21:29:06.570Z"
   },
   {
    "duration": 388,
    "start_time": "2023-09-21T21:29:06.601Z"
   },
   {
    "duration": 12,
    "start_time": "2023-09-21T21:29:06.990Z"
   },
   {
    "duration": 223,
    "start_time": "2023-09-21T21:29:07.004Z"
   },
   {
    "duration": 249,
    "start_time": "2023-09-21T21:29:07.229Z"
   },
   {
    "duration": 218,
    "start_time": "2023-09-21T21:29:07.480Z"
   },
   {
    "duration": 241,
    "start_time": "2023-09-21T21:29:07.700Z"
   },
   {
    "duration": 221,
    "start_time": "2023-09-21T21:29:07.943Z"
   },
   {
    "duration": 223,
    "start_time": "2023-09-21T21:29:08.166Z"
   },
   {
    "duration": 49,
    "start_time": "2023-09-21T21:29:08.391Z"
   },
   {
    "duration": 115,
    "start_time": "2023-09-21T21:29:08.446Z"
   },
   {
    "duration": 143,
    "start_time": "2023-09-21T21:29:08.562Z"
   },
   {
    "duration": 532,
    "start_time": "2023-09-21T21:29:08.707Z"
   },
   {
    "duration": 394,
    "start_time": "2023-09-21T21:29:09.242Z"
   },
   {
    "duration": 385,
    "start_time": "2023-09-21T21:29:09.638Z"
   },
   {
    "duration": 8,
    "start_time": "2023-09-21T21:29:10.030Z"
   },
   {
    "duration": 7,
    "start_time": "2023-09-21T21:29:10.040Z"
   },
   {
    "duration": 265,
    "start_time": "2023-09-21T21:29:10.049Z"
   },
   {
    "duration": 245,
    "start_time": "2023-09-21T21:29:10.316Z"
   },
   {
    "duration": 19,
    "start_time": "2023-09-21T21:29:10.563Z"
   },
   {
    "duration": 37,
    "start_time": "2023-09-21T21:29:10.584Z"
   },
   {
    "duration": 42,
    "start_time": "2023-09-21T21:29:10.628Z"
   },
   {
    "duration": 56,
    "start_time": "2023-09-21T21:29:10.671Z"
   },
   {
    "duration": 56,
    "start_time": "2023-09-21T21:29:10.729Z"
   },
   {
    "duration": 249,
    "start_time": "2023-09-21T21:29:10.789Z"
   },
   {
    "duration": 137,
    "start_time": "2023-09-21T21:29:11.044Z"
   },
   {
    "duration": 136,
    "start_time": "2023-09-21T21:29:11.183Z"
   },
   {
    "duration": 142,
    "start_time": "2023-09-21T21:29:11.326Z"
   },
   {
    "duration": 265,
    "start_time": "2023-09-21T21:29:11.470Z"
   },
   {
    "duration": 147,
    "start_time": "2023-09-21T21:29:11.737Z"
   },
   {
    "duration": 154,
    "start_time": "2023-09-21T21:29:11.886Z"
   },
   {
    "duration": 20,
    "start_time": "2023-09-21T21:29:12.042Z"
   },
   {
    "duration": 215,
    "start_time": "2023-09-21T21:29:12.065Z"
   },
   {
    "duration": 521,
    "start_time": "2023-09-21T21:29:12.282Z"
   },
   {
    "duration": 0,
    "start_time": "2023-09-21T21:29:12.805Z"
   },
   {
    "duration": 0,
    "start_time": "2023-09-21T21:29:12.807Z"
   },
   {
    "duration": 0,
    "start_time": "2023-09-21T21:29:12.808Z"
   },
   {
    "duration": 0,
    "start_time": "2023-09-21T21:29:12.809Z"
   },
   {
    "duration": 23,
    "start_time": "2023-09-21T21:29:43.658Z"
   },
   {
    "duration": 382,
    "start_time": "2023-09-21T21:29:48.289Z"
   },
   {
    "duration": 343,
    "start_time": "2023-09-21T21:31:19.477Z"
   },
   {
    "duration": 381,
    "start_time": "2023-09-21T21:31:58.609Z"
   },
   {
    "duration": 361,
    "start_time": "2023-09-21T21:32:07.897Z"
   },
   {
    "duration": 409,
    "start_time": "2023-09-21T21:32:18.392Z"
   },
   {
    "duration": 383,
    "start_time": "2023-09-21T21:32:34.618Z"
   },
   {
    "duration": 359,
    "start_time": "2023-09-21T21:32:44.414Z"
   },
   {
    "duration": 390,
    "start_time": "2023-09-21T21:32:52.666Z"
   },
   {
    "duration": 384,
    "start_time": "2023-09-21T21:33:00.602Z"
   },
   {
    "duration": 395,
    "start_time": "2023-09-21T21:33:45.602Z"
   },
   {
    "duration": 452,
    "start_time": "2023-09-21T21:36:48.030Z"
   },
   {
    "duration": 358,
    "start_time": "2023-09-21T21:36:54.639Z"
   },
   {
    "duration": 363,
    "start_time": "2023-09-21T21:36:58.557Z"
   },
   {
    "duration": 401,
    "start_time": "2023-09-21T21:37:05.686Z"
   },
   {
    "duration": 823,
    "start_time": "2023-09-21T21:38:37.965Z"
   },
   {
    "duration": 762,
    "start_time": "2023-09-21T21:38:50.509Z"
   },
   {
    "duration": 355,
    "start_time": "2023-09-21T21:38:58.709Z"
   },
   {
    "duration": 351,
    "start_time": "2023-09-21T21:39:36.453Z"
   },
   {
    "duration": 378,
    "start_time": "2023-09-21T21:39:50.397Z"
   },
   {
    "duration": 372,
    "start_time": "2023-09-21T21:40:26.220Z"
   },
   {
    "duration": 479,
    "start_time": "2023-09-21T21:40:44.224Z"
   },
   {
    "duration": 347,
    "start_time": "2023-09-21T21:40:57.173Z"
   },
   {
    "duration": 370,
    "start_time": "2023-09-21T21:41:18.907Z"
   },
   {
    "duration": 404,
    "start_time": "2023-09-21T21:41:30.261Z"
   },
   {
    "duration": 364,
    "start_time": "2023-09-21T21:41:39.325Z"
   },
   {
    "duration": 400,
    "start_time": "2023-09-21T21:42:20.608Z"
   },
   {
    "duration": 503,
    "start_time": "2023-09-21T21:42:43.071Z"
   },
   {
    "duration": 359,
    "start_time": "2023-09-21T21:44:29.506Z"
   },
   {
    "duration": 66,
    "start_time": "2023-09-22T05:23:21.507Z"
   },
   {
    "duration": 1632,
    "start_time": "2023-09-22T05:23:28.291Z"
   },
   {
    "duration": 120,
    "start_time": "2023-09-22T05:23:29.931Z"
   },
   {
    "duration": 103,
    "start_time": "2023-09-22T05:23:30.053Z"
   },
   {
    "duration": 7,
    "start_time": "2023-09-22T05:23:30.158Z"
   },
   {
    "duration": 37,
    "start_time": "2023-09-22T05:23:30.168Z"
   },
   {
    "duration": 42,
    "start_time": "2023-09-22T05:23:30.208Z"
   },
   {
    "duration": 29,
    "start_time": "2023-09-22T05:23:30.252Z"
   },
   {
    "duration": 89,
    "start_time": "2023-09-22T05:23:30.284Z"
   },
   {
    "duration": 62,
    "start_time": "2023-09-22T05:23:30.376Z"
   },
   {
    "duration": 56,
    "start_time": "2023-09-22T05:23:30.443Z"
   },
   {
    "duration": 53,
    "start_time": "2023-09-22T05:23:30.501Z"
   },
   {
    "duration": 47,
    "start_time": "2023-09-22T05:23:30.556Z"
   },
   {
    "duration": 66,
    "start_time": "2023-09-22T05:23:30.606Z"
   },
   {
    "duration": 100,
    "start_time": "2023-09-22T05:23:30.677Z"
   },
   {
    "duration": 57,
    "start_time": "2023-09-22T05:23:30.779Z"
   },
   {
    "duration": 53,
    "start_time": "2023-09-22T05:23:30.838Z"
   },
   {
    "duration": 67,
    "start_time": "2023-09-22T05:23:30.893Z"
   },
   {
    "duration": 486,
    "start_time": "2023-09-22T05:23:30.962Z"
   },
   {
    "duration": 13,
    "start_time": "2023-09-22T05:23:31.450Z"
   },
   {
    "duration": 199,
    "start_time": "2023-09-22T05:23:31.465Z"
   },
   {
    "duration": 222,
    "start_time": "2023-09-22T05:23:31.666Z"
   },
   {
    "duration": 237,
    "start_time": "2023-09-22T05:23:31.889Z"
   },
   {
    "duration": 263,
    "start_time": "2023-09-22T05:23:32.127Z"
   },
   {
    "duration": 251,
    "start_time": "2023-09-22T05:23:32.393Z"
   },
   {
    "duration": 230,
    "start_time": "2023-09-22T05:23:32.645Z"
   },
   {
    "duration": 120,
    "start_time": "2023-09-22T05:23:32.877Z"
   },
   {
    "duration": 45,
    "start_time": "2023-09-22T05:23:32.999Z"
   },
   {
    "duration": 24,
    "start_time": "2023-09-22T05:23:33.048Z"
   },
   {
    "duration": 383,
    "start_time": "2023-09-22T05:23:33.075Z"
   },
   {
    "duration": 376,
    "start_time": "2023-09-22T05:23:33.460Z"
   },
   {
    "duration": 414,
    "start_time": "2023-09-22T05:23:33.837Z"
   },
   {
    "duration": 7,
    "start_time": "2023-09-22T05:23:34.252Z"
   },
   {
    "duration": 23,
    "start_time": "2023-09-22T05:23:34.261Z"
   },
   {
    "duration": 218,
    "start_time": "2023-09-22T05:23:34.287Z"
   },
   {
    "duration": 199,
    "start_time": "2023-09-22T05:23:34.507Z"
   },
   {
    "duration": 31,
    "start_time": "2023-09-22T05:23:34.709Z"
   },
   {
    "duration": 19,
    "start_time": "2023-09-22T05:23:34.746Z"
   },
   {
    "duration": 30,
    "start_time": "2023-09-22T05:23:34.768Z"
   },
   {
    "duration": 15,
    "start_time": "2023-09-22T05:23:34.800Z"
   },
   {
    "duration": 31,
    "start_time": "2023-09-22T05:23:34.825Z"
   },
   {
    "duration": 222,
    "start_time": "2023-09-22T05:23:34.862Z"
   },
   {
    "duration": 150,
    "start_time": "2023-09-22T05:23:35.086Z"
   },
   {
    "duration": 130,
    "start_time": "2023-09-22T05:23:35.242Z"
   },
   {
    "duration": 167,
    "start_time": "2023-09-22T05:23:35.374Z"
   },
   {
    "duration": 228,
    "start_time": "2023-09-22T05:23:35.542Z"
   },
   {
    "duration": 190,
    "start_time": "2023-09-22T05:23:35.773Z"
   },
   {
    "duration": 181,
    "start_time": "2023-09-22T05:23:35.965Z"
   },
   {
    "duration": 20,
    "start_time": "2023-09-22T05:23:36.148Z"
   },
   {
    "duration": 413,
    "start_time": "2023-09-22T05:23:36.170Z"
   },
   {
    "duration": 9,
    "start_time": "2023-09-22T05:23:36.585Z"
   },
   {
    "duration": 54,
    "start_time": "2023-09-22T05:23:36.595Z"
   },
   {
    "duration": 31,
    "start_time": "2023-09-22T05:23:36.652Z"
   },
   {
    "duration": 23,
    "start_time": "2023-09-22T05:23:36.685Z"
   },
   {
    "duration": 17,
    "start_time": "2023-09-22T05:23:48.165Z"
   },
   {
    "duration": 18,
    "start_time": "2023-09-22T05:24:01.679Z"
   },
   {
    "duration": 18,
    "start_time": "2023-09-22T05:24:17.861Z"
   },
   {
    "duration": 789,
    "start_time": "2023-09-22T05:24:23.790Z"
   },
   {
    "duration": 22,
    "start_time": "2023-09-22T05:24:59.526Z"
   },
   {
    "duration": 344,
    "start_time": "2023-09-22T05:25:03.034Z"
   },
   {
    "duration": 154,
    "start_time": "2023-09-22T08:26:45.676Z"
   },
   {
    "duration": 1622,
    "start_time": "2023-09-22T08:44:01.051Z"
   },
   {
    "duration": 99,
    "start_time": "2023-09-22T08:44:02.675Z"
   },
   {
    "duration": 62,
    "start_time": "2023-09-22T08:44:02.776Z"
   },
   {
    "duration": 5,
    "start_time": "2023-09-22T08:44:02.840Z"
   },
   {
    "duration": 119,
    "start_time": "2023-09-22T08:44:02.847Z"
   },
   {
    "duration": 288,
    "start_time": "2023-09-22T08:44:02.968Z"
   },
   {
    "duration": 133,
    "start_time": "2023-09-22T08:44:03.258Z"
   },
   {
    "duration": 210,
    "start_time": "2023-09-22T08:44:03.393Z"
   },
   {
    "duration": 68,
    "start_time": "2023-09-22T08:44:03.605Z"
   },
   {
    "duration": 156,
    "start_time": "2023-09-22T08:44:03.676Z"
   },
   {
    "duration": 92,
    "start_time": "2023-09-22T08:44:03.834Z"
   },
   {
    "duration": 34,
    "start_time": "2023-09-22T08:44:03.927Z"
   },
   {
    "duration": 26,
    "start_time": "2023-09-22T08:44:03.963Z"
   },
   {
    "duration": 36,
    "start_time": "2023-09-22T08:44:03.991Z"
   },
   {
    "duration": 23,
    "start_time": "2023-09-22T08:44:04.028Z"
   },
   {
    "duration": 16,
    "start_time": "2023-09-22T08:44:04.052Z"
   },
   {
    "duration": 34,
    "start_time": "2023-09-22T08:44:04.070Z"
   },
   {
    "duration": 366,
    "start_time": "2023-09-22T08:44:04.105Z"
   },
   {
    "duration": 12,
    "start_time": "2023-09-22T08:44:04.473Z"
   },
   {
    "duration": 204,
    "start_time": "2023-09-22T08:44:04.487Z"
   },
   {
    "duration": 235,
    "start_time": "2023-09-22T08:44:04.693Z"
   },
   {
    "duration": 224,
    "start_time": "2023-09-22T08:44:04.930Z"
   },
   {
    "duration": 225,
    "start_time": "2023-09-22T08:44:05.156Z"
   },
   {
    "duration": 206,
    "start_time": "2023-09-22T08:44:05.383Z"
   },
   {
    "duration": 294,
    "start_time": "2023-09-22T08:44:05.591Z"
   },
   {
    "duration": 32,
    "start_time": "2023-09-22T08:44:05.886Z"
   },
   {
    "duration": 195,
    "start_time": "2023-09-22T08:44:05.920Z"
   },
   {
    "duration": 50,
    "start_time": "2023-09-22T08:44:06.119Z"
   },
   {
    "duration": 399,
    "start_time": "2023-09-22T08:44:06.171Z"
   },
   {
    "duration": 367,
    "start_time": "2023-09-22T08:44:06.573Z"
   },
   {
    "duration": 370,
    "start_time": "2023-09-22T08:44:06.942Z"
   },
   {
    "duration": 8,
    "start_time": "2023-09-22T08:44:07.315Z"
   },
   {
    "duration": 67,
    "start_time": "2023-09-22T08:44:07.325Z"
   },
   {
    "duration": 213,
    "start_time": "2023-09-22T08:44:07.394Z"
   },
   {
    "duration": 194,
    "start_time": "2023-09-22T08:44:07.609Z"
   },
   {
    "duration": 14,
    "start_time": "2023-09-22T08:44:07.805Z"
   },
   {
    "duration": 115,
    "start_time": "2023-09-22T08:44:07.821Z"
   },
   {
    "duration": 66,
    "start_time": "2023-09-22T08:44:07.938Z"
   },
   {
    "duration": 42,
    "start_time": "2023-09-22T08:44:08.006Z"
   },
   {
    "duration": 27,
    "start_time": "2023-09-22T08:44:08.050Z"
   },
   {
    "duration": 225,
    "start_time": "2023-09-22T08:44:08.079Z"
   },
   {
    "duration": 125,
    "start_time": "2023-09-22T08:44:08.305Z"
   },
   {
    "duration": 222,
    "start_time": "2023-09-22T08:44:08.432Z"
   },
   {
    "duration": 153,
    "start_time": "2023-09-22T08:44:08.656Z"
   },
   {
    "duration": 139,
    "start_time": "2023-09-22T08:44:08.811Z"
   },
   {
    "duration": 151,
    "start_time": "2023-09-22T08:44:08.952Z"
   },
   {
    "duration": 141,
    "start_time": "2023-09-22T08:44:09.105Z"
   },
   {
    "duration": 17,
    "start_time": "2023-09-22T08:44:09.248Z"
   },
   {
    "duration": 410,
    "start_time": "2023-09-22T08:44:09.267Z"
   },
   {
    "duration": 22,
    "start_time": "2023-09-22T08:44:09.679Z"
   },
   {
    "duration": 214,
    "start_time": "2023-09-22T08:44:09.704Z"
   },
   {
    "duration": 26,
    "start_time": "2023-09-22T08:44:09.920Z"
   },
   {
    "duration": 53,
    "start_time": "2023-09-22T08:44:09.948Z"
   },
   {
    "duration": 1269,
    "start_time": "2023-09-22T12:13:10.783Z"
   },
   {
    "duration": 64,
    "start_time": "2023-09-22T12:13:12.054Z"
   },
   {
    "duration": 87,
    "start_time": "2023-09-22T12:13:12.120Z"
   },
   {
    "duration": 5,
    "start_time": "2023-09-22T12:13:12.209Z"
   },
   {
    "duration": 10,
    "start_time": "2023-09-22T12:13:12.216Z"
   },
   {
    "duration": 41,
    "start_time": "2023-09-22T12:13:12.228Z"
   },
   {
    "duration": 10,
    "start_time": "2023-09-22T12:13:12.271Z"
   },
   {
    "duration": 17,
    "start_time": "2023-09-22T12:13:12.282Z"
   },
   {
    "duration": 4,
    "start_time": "2023-09-22T12:13:12.300Z"
   },
   {
    "duration": 17,
    "start_time": "2023-09-22T12:13:12.306Z"
   },
   {
    "duration": 10,
    "start_time": "2023-09-22T12:13:12.325Z"
   },
   {
    "duration": 8,
    "start_time": "2023-09-22T12:13:12.337Z"
   },
   {
    "duration": 19,
    "start_time": "2023-09-22T12:13:12.357Z"
   },
   {
    "duration": 31,
    "start_time": "2023-09-22T12:13:12.379Z"
   },
   {
    "duration": 20,
    "start_time": "2023-09-22T12:13:12.412Z"
   },
   {
    "duration": 25,
    "start_time": "2023-09-22T12:13:12.434Z"
   },
   {
    "duration": 22,
    "start_time": "2023-09-22T12:13:12.461Z"
   },
   {
    "duration": 366,
    "start_time": "2023-09-22T12:13:12.484Z"
   },
   {
    "duration": 15,
    "start_time": "2023-09-22T12:13:12.851Z"
   },
   {
    "duration": 183,
    "start_time": "2023-09-22T12:13:12.868Z"
   },
   {
    "duration": 240,
    "start_time": "2023-09-22T12:13:13.061Z"
   },
   {
    "duration": 216,
    "start_time": "2023-09-22T12:13:13.303Z"
   },
   {
    "duration": 267,
    "start_time": "2023-09-22T12:13:13.521Z"
   },
   {
    "duration": 202,
    "start_time": "2023-09-22T12:13:13.790Z"
   },
   {
    "duration": 249,
    "start_time": "2023-09-22T12:13:13.993Z"
   },
   {
    "duration": 122,
    "start_time": "2023-09-22T12:13:14.249Z"
   },
   {
    "duration": 26,
    "start_time": "2023-09-22T12:13:14.373Z"
   },
   {
    "duration": 55,
    "start_time": "2023-09-22T12:13:14.401Z"
   },
   {
    "duration": 336,
    "start_time": "2023-09-22T12:13:14.463Z"
   },
   {
    "duration": 588,
    "start_time": "2023-09-22T12:13:14.801Z"
   },
   {
    "duration": 987,
    "start_time": "2023-09-22T12:13:15.391Z"
   },
   {
    "duration": 7,
    "start_time": "2023-09-22T12:13:16.381Z"
   },
   {
    "duration": 70,
    "start_time": "2023-09-22T12:13:16.390Z"
   },
   {
    "duration": 509,
    "start_time": "2023-09-22T12:13:16.465Z"
   },
   {
    "duration": 509,
    "start_time": "2023-09-22T12:13:16.976Z"
   },
   {
    "duration": 13,
    "start_time": "2023-09-22T12:13:17.486Z"
   },
   {
    "duration": 67,
    "start_time": "2023-09-22T12:13:17.500Z"
   },
   {
    "duration": 17,
    "start_time": "2023-09-22T12:13:17.570Z"
   },
   {
    "duration": 17,
    "start_time": "2023-09-22T12:13:17.589Z"
   },
   {
    "duration": 13,
    "start_time": "2023-09-22T12:13:17.607Z"
   },
   {
    "duration": 193,
    "start_time": "2023-09-22T12:13:17.623Z"
   },
   {
    "duration": 149,
    "start_time": "2023-09-22T12:13:17.817Z"
   },
   {
    "duration": 135,
    "start_time": "2023-09-22T12:13:17.968Z"
   },
   {
    "duration": 122,
    "start_time": "2023-09-22T12:13:18.105Z"
   },
   {
    "duration": 235,
    "start_time": "2023-09-22T12:13:18.229Z"
   },
   {
    "duration": 125,
    "start_time": "2023-09-22T12:13:18.467Z"
   },
   {
    "duration": 123,
    "start_time": "2023-09-22T12:13:18.593Z"
   },
   {
    "duration": 27,
    "start_time": "2023-09-22T12:13:18.718Z"
   },
   {
    "duration": 381,
    "start_time": "2023-09-22T12:13:18.747Z"
   },
   {
    "duration": 15,
    "start_time": "2023-09-22T12:13:19.130Z"
   },
   {
    "duration": 17,
    "start_time": "2023-09-22T12:13:19.150Z"
   },
   {
    "duration": 9,
    "start_time": "2023-09-22T12:13:19.182Z"
   },
   {
    "duration": 11,
    "start_time": "2023-09-22T12:13:19.192Z"
   },
   {
    "duration": 1357,
    "start_time": "2024-05-13T17:27:12.682Z"
   },
   {
    "duration": 190,
    "start_time": "2024-05-13T17:27:14.041Z"
   },
   {
    "duration": 63,
    "start_time": "2024-05-13T17:27:14.233Z"
   },
   {
    "duration": 4,
    "start_time": "2024-05-13T17:27:14.298Z"
   },
   {
    "duration": 43,
    "start_time": "2024-05-13T17:27:14.304Z"
   },
   {
    "duration": 8,
    "start_time": "2024-05-13T17:27:14.349Z"
   },
   {
    "duration": 6,
    "start_time": "2024-05-13T17:27:14.359Z"
   },
   {
    "duration": 15,
    "start_time": "2024-05-13T17:27:14.366Z"
   },
   {
    "duration": 5,
    "start_time": "2024-05-13T17:27:14.383Z"
   },
   {
    "duration": 10,
    "start_time": "2024-05-13T17:27:14.391Z"
   },
   {
    "duration": 13,
    "start_time": "2024-05-13T17:27:14.402Z"
   },
   {
    "duration": 8,
    "start_time": "2024-05-13T17:27:14.417Z"
   },
   {
    "duration": 23,
    "start_time": "2024-05-13T17:27:14.426Z"
   },
   {
    "duration": 45,
    "start_time": "2024-05-13T17:27:14.451Z"
   },
   {
    "duration": 21,
    "start_time": "2024-05-13T17:27:14.498Z"
   },
   {
    "duration": 15,
    "start_time": "2024-05-13T17:27:14.521Z"
   },
   {
    "duration": 15,
    "start_time": "2024-05-13T17:27:14.537Z"
   },
   {
    "duration": 339,
    "start_time": "2024-05-13T17:27:14.554Z"
   },
   {
    "duration": 12,
    "start_time": "2024-05-13T17:27:14.894Z"
   },
   {
    "duration": 155,
    "start_time": "2024-05-13T17:27:14.908Z"
   },
   {
    "duration": 218,
    "start_time": "2024-05-13T17:27:15.065Z"
   },
   {
    "duration": 235,
    "start_time": "2024-05-13T17:27:15.285Z"
   },
   {
    "duration": 263,
    "start_time": "2024-05-13T17:27:15.522Z"
   },
   {
    "duration": 214,
    "start_time": "2024-05-13T17:27:15.787Z"
   },
   {
    "duration": 204,
    "start_time": "2024-05-13T17:27:16.003Z"
   },
   {
    "duration": 108,
    "start_time": "2024-05-13T17:27:16.209Z"
   },
   {
    "duration": 20,
    "start_time": "2024-05-13T17:27:16.319Z"
   },
   {
    "duration": 21,
    "start_time": "2024-05-13T17:27:16.342Z"
   },
   {
    "duration": 356,
    "start_time": "2024-05-13T17:27:16.364Z"
   },
   {
    "duration": 342,
    "start_time": "2024-05-13T17:27:16.722Z"
   },
   {
    "duration": 341,
    "start_time": "2024-05-13T17:27:17.066Z"
   },
   {
    "duration": 7,
    "start_time": "2024-05-13T17:27:17.408Z"
   },
   {
    "duration": 18,
    "start_time": "2024-05-13T17:27:17.416Z"
   },
   {
    "duration": 169,
    "start_time": "2024-05-13T17:27:17.435Z"
   },
   {
    "duration": 189,
    "start_time": "2024-05-13T17:27:17.606Z"
   },
   {
    "duration": 13,
    "start_time": "2024-05-13T17:27:17.796Z"
   },
   {
    "duration": 25,
    "start_time": "2024-05-13T17:27:17.811Z"
   },
   {
    "duration": 24,
    "start_time": "2024-05-13T17:27:17.838Z"
   },
   {
    "duration": 22,
    "start_time": "2024-05-13T17:27:17.863Z"
   },
   {
    "duration": 29,
    "start_time": "2024-05-13T17:27:17.886Z"
   },
   {
    "duration": 232,
    "start_time": "2024-05-13T17:27:17.916Z"
   },
   {
    "duration": 128,
    "start_time": "2024-05-13T17:27:18.149Z"
   },
   {
    "duration": 139,
    "start_time": "2024-05-13T17:27:18.278Z"
   },
   {
    "duration": 124,
    "start_time": "2024-05-13T17:27:18.418Z"
   },
   {
    "duration": 213,
    "start_time": "2024-05-13T17:27:18.544Z"
   },
   {
    "duration": 121,
    "start_time": "2024-05-13T17:27:18.759Z"
   },
   {
    "duration": 125,
    "start_time": "2024-05-13T17:27:18.882Z"
   },
   {
    "duration": 16,
    "start_time": "2024-05-13T17:27:19.009Z"
   },
   {
    "duration": 316,
    "start_time": "2024-05-13T17:27:19.027Z"
   },
   {
    "duration": 7,
    "start_time": "2024-05-13T17:27:19.345Z"
   },
   {
    "duration": 18,
    "start_time": "2024-05-13T17:27:19.354Z"
   },
   {
    "duration": 20,
    "start_time": "2024-05-13T17:27:19.374Z"
   },
   {
    "duration": 13,
    "start_time": "2024-05-13T17:27:19.396Z"
   }
  ],
  "kernelspec": {
   "display_name": "Python 3 (ipykernel)",
   "language": "python",
   "name": "python3"
  },
  "language_info": {
   "codemirror_mode": {
    "name": "ipython",
    "version": 3
   },
   "file_extension": ".py",
   "mimetype": "text/x-python",
   "name": "python",
   "nbconvert_exporter": "python",
   "pygments_lexer": "ipython3",
   "version": "3.9.5"
  },
  "toc": {
   "base_numbering": 1,
   "nav_menu": {},
   "number_sections": true,
   "sideBar": true,
   "skip_h1_title": true,
   "title_cell": "Table of Contents",
   "title_sidebar": "Contents",
   "toc_cell": false,
   "toc_position": {
    "height": "calc(100% - 180px)",
    "left": "10px",
    "top": "150px",
    "width": "374.391px"
   },
   "toc_section_display": true,
   "toc_window_display": false
  }
 },
 "nbformat": 4,
 "nbformat_minor": 2
}
