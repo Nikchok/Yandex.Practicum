{
  "metadata": {
    "kernelspec": {
      "name": "python",
      "display_name": "Python (Pyodide)",
      "language": "python"
    },
    "language_info": {
      "codemirror_mode": {
        "name": "python",
        "version": 3
      },
      "file_extension": ".py",
      "mimetype": "text/x-python",
      "name": "python",
      "nbconvert_exporter": "python",
      "pygments_lexer": "ipython3",
      "version": "3.8"
    },
    "ExecuteTimeLog": [
      {
        "duration": 366,
        "start_time": "2024-02-25T13:42:12.725Z"
      },
      {
        "duration": 475,
        "start_time": "2024-02-25T13:44:27.739Z"
      },
      {
        "duration": 128,
        "start_time": "2024-02-25T13:44:37.250Z"
      },
      {
        "duration": 128,
        "start_time": "2024-02-25T13:50:59.843Z"
      },
      {
        "duration": 127,
        "start_time": "2024-02-25T13:55:11.967Z"
      },
      {
        "duration": 3,
        "start_time": "2024-02-25T13:55:28.134Z"
      },
      {
        "duration": 10,
        "start_time": "2024-02-25T13:56:40.987Z"
      },
      {
        "duration": 13,
        "start_time": "2024-02-25T13:57:27.850Z"
      },
      {
        "duration": 3,
        "start_time": "2024-02-25T13:58:00.315Z"
      },
      {
        "duration": 20,
        "start_time": "2024-02-25T14:05:31.777Z"
      },
      {
        "duration": 59,
        "start_time": "2024-02-25T14:05:36.625Z"
      },
      {
        "duration": 15,
        "start_time": "2024-02-25T14:05:58.952Z"
      },
      {
        "duration": 21,
        "start_time": "2024-02-25T14:06:02.586Z"
      },
      {
        "duration": 21,
        "start_time": "2024-02-25T14:09:11.606Z"
      },
      {
        "duration": 21,
        "start_time": "2024-02-25T14:10:28.173Z"
      },
      {
        "duration": 13,
        "start_time": "2024-02-25T14:10:44.751Z"
      },
      {
        "duration": 20,
        "start_time": "2024-02-25T14:10:46.470Z"
      },
      {
        "duration": 14,
        "start_time": "2024-02-25T14:12:28.112Z"
      },
      {
        "duration": 22,
        "start_time": "2024-02-25T14:12:29.808Z"
      },
      {
        "duration": 25,
        "start_time": "2024-02-25T14:12:41.823Z"
      },
      {
        "duration": 22,
        "start_time": "2024-02-25T14:13:16.448Z"
      },
      {
        "duration": 6,
        "start_time": "2024-02-25T14:14:02.569Z"
      },
      {
        "duration": 22,
        "start_time": "2024-02-25T14:17:01.088Z"
      },
      {
        "duration": 21,
        "start_time": "2024-02-25T14:17:06.931Z"
      },
      {
        "duration": 43,
        "start_time": "2024-02-25T14:17:25.315Z"
      },
      {
        "duration": 23,
        "start_time": "2024-02-25T14:18:15.095Z"
      },
      {
        "duration": 7,
        "start_time": "2024-02-25T14:18:53.028Z"
      },
      {
        "duration": 7,
        "start_time": "2024-02-25T14:22:41.778Z"
      },
      {
        "duration": 5,
        "start_time": "2024-02-25T14:26:17.458Z"
      },
      {
        "duration": 8,
        "start_time": "2024-02-25T14:26:26.393Z"
      },
      {
        "duration": 7,
        "start_time": "2024-02-25T14:27:23.226Z"
      },
      {
        "duration": 11,
        "start_time": "2024-02-25T14:28:08.538Z"
      },
      {
        "duration": 363,
        "start_time": "2024-02-25T14:28:28.328Z"
      },
      {
        "duration": 134,
        "start_time": "2024-02-25T14:28:28.692Z"
      },
      {
        "duration": 29,
        "start_time": "2024-02-25T14:28:28.828Z"
      },
      {
        "duration": 7,
        "start_time": "2024-02-25T14:28:28.859Z"
      },
      {
        "duration": 53,
        "start_time": "2024-02-25T14:28:28.868Z"
      },
      {
        "duration": 38,
        "start_time": "2024-02-25T14:28:28.922Z"
      },
      {
        "duration": 16,
        "start_time": "2024-02-25T14:28:28.962Z"
      },
      {
        "duration": 47,
        "start_time": "2024-02-25T14:28:28.979Z"
      },
      {
        "duration": 21,
        "start_time": "2024-02-25T14:28:29.028Z"
      },
      {
        "duration": 37,
        "start_time": "2024-02-25T14:28:29.050Z"
      },
      {
        "duration": 6,
        "start_time": "2024-02-25T14:28:42.474Z"
      },
      {
        "duration": 6,
        "start_time": "2024-02-25T14:29:38.650Z"
      },
      {
        "duration": 11,
        "start_time": "2024-02-25T14:29:46.083Z"
      },
      {
        "duration": 61,
        "start_time": "2024-02-25T14:31:49.236Z"
      },
      {
        "duration": 13,
        "start_time": "2024-02-25T14:32:05.108Z"
      },
      {
        "duration": 14,
        "start_time": "2024-02-25T14:32:20.292Z"
      },
      {
        "duration": 8,
        "start_time": "2024-02-25T14:32:46.704Z"
      },
      {
        "duration": 9,
        "start_time": "2024-02-25T14:32:56.093Z"
      },
      {
        "duration": 12,
        "start_time": "2024-02-25T15:15:55.579Z"
      },
      {
        "duration": 22,
        "start_time": "2024-02-25T15:17:51.623Z"
      },
      {
        "duration": 13,
        "start_time": "2024-02-25T15:18:00.464Z"
      },
      {
        "duration": 11,
        "start_time": "2024-02-25T15:19:30.832Z"
      },
      {
        "duration": 1151,
        "start_time": "2024-02-25T15:26:26.993Z"
      },
      {
        "duration": 1153,
        "start_time": "2024-02-25T15:26:51.348Z"
      },
      {
        "duration": 5,
        "start_time": "2024-02-25T15:27:00.963Z"
      },
      {
        "duration": 5,
        "start_time": "2024-02-25T15:28:06.517Z"
      },
      {
        "duration": 5,
        "start_time": "2024-02-25T15:28:21.129Z"
      },
      {
        "duration": 5,
        "start_time": "2024-02-25T15:29:02.410Z"
      },
      {
        "duration": 16,
        "start_time": "2024-02-25T15:32:34.637Z"
      },
      {
        "duration": 7,
        "start_time": "2024-02-25T15:34:00.059Z"
      },
      {
        "duration": 10,
        "start_time": "2024-02-25T15:35:22.842Z"
      },
      {
        "duration": 9,
        "start_time": "2024-02-25T15:35:45.867Z"
      },
      {
        "duration": 157,
        "start_time": "2024-02-25T15:38:30.288Z"
      },
      {
        "duration": 430,
        "start_time": "2024-02-25T15:39:45.700Z"
      },
      {
        "duration": 51,
        "start_time": "2024-02-25T15:40:16.381Z"
      },
      {
        "duration": 50,
        "start_time": "2024-02-25T15:41:41.389Z"
      },
      {
        "duration": 10,
        "start_time": "2024-02-25T15:42:11.212Z"
      },
      {
        "duration": 52,
        "start_time": "2024-02-25T15:42:13.240Z"
      },
      {
        "duration": 9,
        "start_time": "2024-02-25T15:43:00.917Z"
      },
      {
        "duration": 50,
        "start_time": "2024-02-25T15:43:02.429Z"
      },
      {
        "duration": 545,
        "start_time": "2024-02-25T16:52:33.545Z"
      },
      {
        "duration": 546,
        "start_time": "2024-02-25T16:52:34.092Z"
      },
      {
        "duration": 93,
        "start_time": "2024-02-25T16:52:34.641Z"
      },
      {
        "duration": 4,
        "start_time": "2024-02-25T16:52:34.736Z"
      },
      {
        "duration": 63,
        "start_time": "2024-02-25T16:52:34.743Z"
      },
      {
        "duration": 29,
        "start_time": "2024-02-25T16:52:34.808Z"
      },
      {
        "duration": 6,
        "start_time": "2024-02-25T16:52:34.839Z"
      },
      {
        "duration": 53,
        "start_time": "2024-02-25T16:52:34.846Z"
      },
      {
        "duration": 11,
        "start_time": "2024-02-25T16:52:34.901Z"
      },
      {
        "duration": 8,
        "start_time": "2024-02-25T16:52:34.914Z"
      },
      {
        "duration": 17,
        "start_time": "2024-02-25T16:52:34.924Z"
      },
      {
        "duration": 45,
        "start_time": "2024-02-25T16:52:34.943Z"
      },
      {
        "duration": 6,
        "start_time": "2024-02-25T16:52:34.989Z"
      },
      {
        "duration": 8,
        "start_time": "2024-02-25T16:52:34.997Z"
      },
      {
        "duration": 14,
        "start_time": "2024-02-25T16:52:35.006Z"
      },
      {
        "duration": 6,
        "start_time": "2024-02-25T16:52:35.022Z"
      },
      {
        "duration": 51,
        "start_time": "2024-02-25T16:52:35.030Z"
      },
      {
        "duration": 388,
        "start_time": "2024-02-25T16:52:35.082Z"
      },
      {
        "duration": 15,
        "start_time": "2024-02-25T16:54:38.819Z"
      },
      {
        "duration": 67,
        "start_time": "2024-02-25T16:54:57.209Z"
      },
      {
        "duration": 11,
        "start_time": "2024-02-25T16:55:08.188Z"
      },
      {
        "duration": 12,
        "start_time": "2024-02-25T16:55:27.135Z"
      },
      {
        "duration": 12,
        "start_time": "2024-02-25T16:55:39.843Z"
      },
      {
        "duration": 131,
        "start_time": "2024-02-25T16:56:55.093Z"
      },
      {
        "duration": 18,
        "start_time": "2024-02-25T16:57:02.574Z"
      },
      {
        "duration": 9,
        "start_time": "2024-02-25T16:57:18.211Z"
      },
      {
        "duration": 17,
        "start_time": "2024-02-25T16:57:36.581Z"
      },
      {
        "duration": 9,
        "start_time": "2024-02-25T16:57:51.627Z"
      },
      {
        "duration": 9,
        "start_time": "2024-02-25T17:01:07.836Z"
      },
      {
        "duration": 38,
        "start_time": "2024-02-25T17:41:42.685Z"
      },
      {
        "duration": 775,
        "start_time": "2024-02-25T17:45:16.414Z"
      },
      {
        "duration": 50,
        "start_time": "2024-02-26T12:06:09.654Z"
      },
      {
        "duration": 571,
        "start_time": "2024-02-26T12:06:18.517Z"
      },
      {
        "duration": 565,
        "start_time": "2024-02-26T12:06:19.090Z"
      },
      {
        "duration": 95,
        "start_time": "2024-02-26T12:06:19.657Z"
      },
      {
        "duration": 3,
        "start_time": "2024-02-26T12:06:19.754Z"
      },
      {
        "duration": 28,
        "start_time": "2024-02-26T12:06:19.759Z"
      },
      {
        "duration": 22,
        "start_time": "2024-02-26T12:06:19.789Z"
      },
      {
        "duration": 10,
        "start_time": "2024-02-26T12:06:19.814Z"
      },
      {
        "duration": 26,
        "start_time": "2024-02-26T12:06:19.827Z"
      },
      {
        "duration": 12,
        "start_time": "2024-02-26T12:06:19.855Z"
      },
      {
        "duration": 17,
        "start_time": "2024-02-26T12:06:19.870Z"
      },
      {
        "duration": 50,
        "start_time": "2024-02-26T12:06:19.889Z"
      },
      {
        "duration": 12,
        "start_time": "2024-02-26T12:06:19.941Z"
      },
      {
        "duration": 8,
        "start_time": "2024-02-26T12:06:19.954Z"
      },
      {
        "duration": 7,
        "start_time": "2024-02-26T12:06:19.963Z"
      },
      {
        "duration": 14,
        "start_time": "2024-02-26T12:06:19.971Z"
      },
      {
        "duration": 29,
        "start_time": "2024-02-26T12:06:19.986Z"
      },
      {
        "duration": 16,
        "start_time": "2024-02-26T12:06:20.018Z"
      },
      {
        "duration": 431,
        "start_time": "2024-02-26T12:06:20.037Z"
      },
      {
        "duration": 11,
        "start_time": "2024-02-26T12:06:20.470Z"
      },
      {
        "duration": 67,
        "start_time": "2024-02-26T12:06:20.482Z"
      },
      {
        "duration": 901,
        "start_time": "2024-02-26T12:06:20.555Z"
      },
      {
        "duration": 19,
        "start_time": "2024-02-26T12:06:21.457Z"
      },
      {
        "duration": 12,
        "start_time": "2024-02-26T12:58:55.991Z"
      },
      {
        "duration": 21,
        "start_time": "2024-02-26T12:59:18.807Z"
      },
      {
        "duration": 12,
        "start_time": "2024-02-26T12:59:32.431Z"
      },
      {
        "duration": 11,
        "start_time": "2024-02-26T13:01:52.568Z"
      },
      {
        "duration": 19,
        "start_time": "2024-02-26T13:06:21.917Z"
      },
      {
        "duration": 11,
        "start_time": "2024-02-26T13:11:22.102Z"
      },
      {
        "duration": 6,
        "start_time": "2024-02-26T13:11:31.917Z"
      },
      {
        "duration": 482,
        "start_time": "2024-02-26T17:46:21.632Z"
      },
      {
        "duration": 249,
        "start_time": "2024-02-26T17:46:22.116Z"
      },
      {
        "duration": 68,
        "start_time": "2024-02-26T17:46:22.367Z"
      },
      {
        "duration": 4,
        "start_time": "2024-02-26T17:46:22.437Z"
      },
      {
        "duration": 35,
        "start_time": "2024-02-26T17:46:22.443Z"
      },
      {
        "duration": 22,
        "start_time": "2024-02-26T17:46:22.479Z"
      },
      {
        "duration": 6,
        "start_time": "2024-02-26T17:46:22.502Z"
      },
      {
        "duration": 29,
        "start_time": "2024-02-26T17:46:22.509Z"
      },
      {
        "duration": 12,
        "start_time": "2024-02-26T17:46:22.539Z"
      },
      {
        "duration": 7,
        "start_time": "2024-02-26T17:46:22.575Z"
      },
      {
        "duration": 22,
        "start_time": "2024-02-26T17:46:22.584Z"
      },
      {
        "duration": 13,
        "start_time": "2024-02-26T17:46:22.607Z"
      },
      {
        "duration": 22,
        "start_time": "2024-02-26T17:46:22.622Z"
      },
      {
        "duration": 22,
        "start_time": "2024-02-26T17:46:22.646Z"
      },
      {
        "duration": 15,
        "start_time": "2024-02-26T17:46:22.673Z"
      },
      {
        "duration": 21,
        "start_time": "2024-02-26T17:46:22.690Z"
      },
      {
        "duration": 36,
        "start_time": "2024-02-26T17:46:22.713Z"
      },
      {
        "duration": 385,
        "start_time": "2024-02-26T17:46:22.751Z"
      },
      {
        "duration": 9,
        "start_time": "2024-02-26T17:46:23.138Z"
      },
      {
        "duration": 52,
        "start_time": "2024-02-26T17:46:23.149Z"
      },
      {
        "duration": 858,
        "start_time": "2024-02-26T17:46:23.203Z"
      },
      {
        "duration": 10,
        "start_time": "2024-02-26T17:46:24.063Z"
      },
      {
        "duration": 13,
        "start_time": "2024-02-26T17:46:24.074Z"
      },
      {
        "duration": 22,
        "start_time": "2024-02-26T17:46:24.088Z"
      },
      {
        "duration": 12,
        "start_time": "2024-02-26T17:46:24.112Z"
      },
      {
        "duration": 24,
        "start_time": "2024-02-26T17:46:24.125Z"
      },
      {
        "duration": 36,
        "start_time": "2024-02-26T17:46:24.150Z"
      },
      {
        "duration": 11,
        "start_time": "2024-02-26T17:46:24.189Z"
      },
      {
        "duration": 12,
        "start_time": "2024-02-26T17:46:24.201Z"
      },
      {
        "duration": 27,
        "start_time": "2024-02-26T17:47:20.123Z"
      },
      {
        "duration": 17,
        "start_time": "2024-02-26T18:01:14.830Z"
      },
      {
        "duration": 134,
        "start_time": "2024-02-26T18:02:00.638Z"
      },
      {
        "duration": 26,
        "start_time": "2024-02-26T18:02:09.359Z"
      },
      {
        "duration": 12,
        "start_time": "2024-02-26T18:03:22.534Z"
      },
      {
        "duration": 22,
        "start_time": "2024-02-26T18:04:48.865Z"
      },
      {
        "duration": 12,
        "start_time": "2024-02-26T18:05:00.743Z"
      },
      {
        "duration": 3,
        "start_time": "2024-02-26T18:43:04.113Z"
      },
      {
        "duration": 160,
        "start_time": "2024-02-26T18:43:17.264Z"
      },
      {
        "duration": 36,
        "start_time": "2024-02-26T18:44:51.903Z"
      },
      {
        "duration": 33,
        "start_time": "2024-02-26T18:45:29.549Z"
      },
      {
        "duration": 32,
        "start_time": "2024-02-26T18:45:49.658Z"
      },
      {
        "duration": 551,
        "start_time": "2024-02-26T19:26:34.659Z"
      },
      {
        "duration": 185,
        "start_time": "2024-02-26T19:26:35.212Z"
      },
      {
        "duration": 33,
        "start_time": "2024-02-26T19:26:35.399Z"
      },
      {
        "duration": 3,
        "start_time": "2024-02-26T19:26:35.434Z"
      },
      {
        "duration": 36,
        "start_time": "2024-02-26T19:26:35.439Z"
      },
      {
        "duration": 24,
        "start_time": "2024-02-26T19:26:35.476Z"
      },
      {
        "duration": 5,
        "start_time": "2024-02-26T19:26:35.502Z"
      },
      {
        "duration": 54,
        "start_time": "2024-02-26T19:26:35.509Z"
      },
      {
        "duration": 14,
        "start_time": "2024-02-26T19:26:35.564Z"
      },
      {
        "duration": 12,
        "start_time": "2024-02-26T19:26:35.580Z"
      },
      {
        "duration": 24,
        "start_time": "2024-02-26T19:26:35.594Z"
      },
      {
        "duration": 11,
        "start_time": "2024-02-26T19:26:35.620Z"
      },
      {
        "duration": 12,
        "start_time": "2024-02-26T19:26:35.633Z"
      },
      {
        "duration": 27,
        "start_time": "2024-02-26T19:26:35.648Z"
      },
      {
        "duration": 15,
        "start_time": "2024-02-26T19:26:35.676Z"
      },
      {
        "duration": 19,
        "start_time": "2024-02-26T19:26:35.692Z"
      },
      {
        "duration": 15,
        "start_time": "2024-02-26T19:26:35.712Z"
      },
      {
        "duration": 392,
        "start_time": "2024-02-26T19:26:35.729Z"
      },
      {
        "duration": 14,
        "start_time": "2024-02-26T19:26:36.123Z"
      },
      {
        "duration": 60,
        "start_time": "2024-02-26T19:26:36.138Z"
      },
      {
        "duration": 867,
        "start_time": "2024-02-26T19:26:36.200Z"
      },
      {
        "duration": 13,
        "start_time": "2024-02-26T19:26:37.069Z"
      },
      {
        "duration": 21,
        "start_time": "2024-02-26T19:26:37.084Z"
      },
      {
        "duration": 2,
        "start_time": "2024-02-26T19:26:37.106Z"
      },
      {
        "duration": 7,
        "start_time": "2024-02-26T19:26:37.110Z"
      },
      {
        "duration": 131,
        "start_time": "2024-02-26T19:27:37.109Z"
      },
      {
        "duration": 9,
        "start_time": "2024-02-26T19:29:19.114Z"
      },
      {
        "duration": 21,
        "start_time": "2024-02-26T19:29:27.073Z"
      },
      {
        "duration": 9,
        "start_time": "2024-02-26T19:30:06.663Z"
      },
      {
        "duration": 16,
        "start_time": "2024-02-26T19:30:12.294Z"
      },
      {
        "duration": 11,
        "start_time": "2024-02-26T19:30:20.934Z"
      },
      {
        "duration": 38,
        "start_time": "2024-02-26T19:31:45.043Z"
      },
      {
        "duration": 8,
        "start_time": "2024-02-26T19:31:56.359Z"
      },
      {
        "duration": 36,
        "start_time": "2024-02-26T19:31:59.455Z"
      },
      {
        "duration": 505,
        "start_time": "2024-02-26T19:42:40.884Z"
      },
      {
        "duration": 181,
        "start_time": "2024-02-26T19:42:41.391Z"
      },
      {
        "duration": 32,
        "start_time": "2024-02-26T19:42:41.574Z"
      },
      {
        "duration": 4,
        "start_time": "2024-02-26T19:42:41.608Z"
      },
      {
        "duration": 41,
        "start_time": "2024-02-26T19:42:41.614Z"
      },
      {
        "duration": 32,
        "start_time": "2024-02-26T19:42:41.657Z"
      },
      {
        "duration": 6,
        "start_time": "2024-02-26T19:42:41.692Z"
      },
      {
        "duration": 32,
        "start_time": "2024-02-26T19:42:41.700Z"
      },
      {
        "duration": 12,
        "start_time": "2024-02-26T19:42:41.734Z"
      },
      {
        "duration": 26,
        "start_time": "2024-02-26T19:42:41.747Z"
      },
      {
        "duration": 20,
        "start_time": "2024-02-26T19:42:41.774Z"
      },
      {
        "duration": 15,
        "start_time": "2024-02-26T19:42:41.795Z"
      },
      {
        "duration": 12,
        "start_time": "2024-02-26T19:42:41.812Z"
      },
      {
        "duration": 7,
        "start_time": "2024-02-26T19:42:41.828Z"
      },
      {
        "duration": 36,
        "start_time": "2024-02-26T19:42:41.837Z"
      },
      {
        "duration": 7,
        "start_time": "2024-02-26T19:42:41.875Z"
      },
      {
        "duration": 12,
        "start_time": "2024-02-26T19:42:41.884Z"
      },
      {
        "duration": 402,
        "start_time": "2024-02-26T19:42:41.897Z"
      },
      {
        "duration": 13,
        "start_time": "2024-02-26T19:42:42.301Z"
      },
      {
        "duration": 102,
        "start_time": "2024-02-26T19:42:42.315Z"
      },
      {
        "duration": 855,
        "start_time": "2024-02-26T19:42:42.419Z"
      },
      {
        "duration": 11,
        "start_time": "2024-02-26T19:42:43.276Z"
      },
      {
        "duration": 19,
        "start_time": "2024-02-26T19:42:43.289Z"
      },
      {
        "duration": 2,
        "start_time": "2024-02-26T19:42:43.310Z"
      },
      {
        "duration": 8,
        "start_time": "2024-02-26T19:42:43.314Z"
      },
      {
        "duration": 5,
        "start_time": "2024-02-26T19:42:43.324Z"
      },
      {
        "duration": 10,
        "start_time": "2024-02-26T19:42:43.331Z"
      },
      {
        "duration": 177,
        "start_time": "2024-02-26T19:43:03.865Z"
      },
      {
        "duration": 235,
        "start_time": "2024-02-26T19:43:11.351Z"
      },
      {
        "duration": 277,
        "start_time": "2024-02-26T19:44:09.109Z"
      },
      {
        "duration": 232,
        "start_time": "2024-02-26T19:44:21.302Z"
      },
      {
        "duration": 517,
        "start_time": "2024-02-26T19:44:38.386Z"
      },
      {
        "duration": 190,
        "start_time": "2024-02-26T19:44:38.905Z"
      },
      {
        "duration": 32,
        "start_time": "2024-02-26T19:44:39.096Z"
      },
      {
        "duration": 3,
        "start_time": "2024-02-26T19:44:39.130Z"
      },
      {
        "duration": 41,
        "start_time": "2024-02-26T19:44:39.134Z"
      },
      {
        "duration": 35,
        "start_time": "2024-02-26T19:44:39.177Z"
      },
      {
        "duration": 7,
        "start_time": "2024-02-26T19:44:39.213Z"
      },
      {
        "duration": 28,
        "start_time": "2024-02-26T19:44:39.221Z"
      },
      {
        "duration": 24,
        "start_time": "2024-02-26T19:44:39.250Z"
      },
      {
        "duration": 6,
        "start_time": "2024-02-26T19:44:39.277Z"
      },
      {
        "duration": 21,
        "start_time": "2024-02-26T19:44:39.284Z"
      },
      {
        "duration": 11,
        "start_time": "2024-02-26T19:44:39.307Z"
      },
      {
        "duration": 12,
        "start_time": "2024-02-26T19:44:39.320Z"
      },
      {
        "duration": 17,
        "start_time": "2024-02-26T19:44:39.334Z"
      },
      {
        "duration": 28,
        "start_time": "2024-02-26T19:44:39.353Z"
      },
      {
        "duration": 7,
        "start_time": "2024-02-26T19:44:39.382Z"
      },
      {
        "duration": 14,
        "start_time": "2024-02-26T19:44:39.391Z"
      },
      {
        "duration": 367,
        "start_time": "2024-02-26T19:44:39.407Z"
      },
      {
        "duration": 10,
        "start_time": "2024-02-26T19:44:39.775Z"
      },
      {
        "duration": 89,
        "start_time": "2024-02-26T19:44:39.787Z"
      },
      {
        "duration": 884,
        "start_time": "2024-02-26T19:44:39.878Z"
      },
      {
        "duration": 9,
        "start_time": "2024-02-26T19:44:40.764Z"
      },
      {
        "duration": 26,
        "start_time": "2024-02-26T19:44:40.775Z"
      },
      {
        "duration": 21,
        "start_time": "2024-02-26T19:44:40.803Z"
      },
      {
        "duration": 27,
        "start_time": "2024-02-26T19:44:40.826Z"
      },
      {
        "duration": 19,
        "start_time": "2024-02-26T19:44:40.855Z"
      },
      {
        "duration": 10,
        "start_time": "2024-02-26T19:44:40.875Z"
      },
      {
        "duration": 228,
        "start_time": "2024-02-26T19:44:40.889Z"
      },
      {
        "duration": 9,
        "start_time": "2024-02-26T19:45:26.749Z"
      },
      {
        "duration": 13,
        "start_time": "2024-02-26T19:51:39.545Z"
      },
      {
        "duration": 14,
        "start_time": "2024-02-26T19:52:14.629Z"
      },
      {
        "duration": 13,
        "start_time": "2024-02-26T19:54:38.270Z"
      },
      {
        "duration": 15,
        "start_time": "2024-02-26T19:58:29.980Z"
      },
      {
        "duration": 474,
        "start_time": "2024-02-26T19:59:02.122Z"
      },
      {
        "duration": 202,
        "start_time": "2024-02-26T19:59:02.598Z"
      },
      {
        "duration": 32,
        "start_time": "2024-02-26T19:59:02.801Z"
      },
      {
        "duration": 4,
        "start_time": "2024-02-26T19:59:02.835Z"
      },
      {
        "duration": 38,
        "start_time": "2024-02-26T19:59:02.841Z"
      },
      {
        "duration": 22,
        "start_time": "2024-02-26T19:59:02.881Z"
      },
      {
        "duration": 5,
        "start_time": "2024-02-26T19:59:02.905Z"
      },
      {
        "duration": 44,
        "start_time": "2024-02-26T19:59:02.912Z"
      },
      {
        "duration": 12,
        "start_time": "2024-02-26T19:59:02.957Z"
      },
      {
        "duration": 24,
        "start_time": "2024-02-26T19:59:02.972Z"
      },
      {
        "duration": 50,
        "start_time": "2024-02-26T19:59:02.998Z"
      },
      {
        "duration": 34,
        "start_time": "2024-02-26T19:59:03.050Z"
      },
      {
        "duration": 9,
        "start_time": "2024-02-26T19:59:03.085Z"
      },
      {
        "duration": 24,
        "start_time": "2024-02-26T19:59:03.095Z"
      },
      {
        "duration": 35,
        "start_time": "2024-02-26T19:59:03.121Z"
      },
      {
        "duration": 7,
        "start_time": "2024-02-26T19:59:03.157Z"
      },
      {
        "duration": 14,
        "start_time": "2024-02-26T19:59:03.165Z"
      },
      {
        "duration": 404,
        "start_time": "2024-02-26T19:59:03.181Z"
      },
      {
        "duration": 10,
        "start_time": "2024-02-26T19:59:03.586Z"
      },
      {
        "duration": 82,
        "start_time": "2024-02-26T19:59:03.598Z"
      },
      {
        "duration": 845,
        "start_time": "2024-02-26T19:59:03.682Z"
      },
      {
        "duration": 2,
        "start_time": "2024-02-26T19:59:04.529Z"
      },
      {
        "duration": 4,
        "start_time": "2024-02-26T19:59:04.533Z"
      },
      {
        "duration": 224,
        "start_time": "2024-02-26T19:59:04.539Z"
      },
      {
        "duration": 10,
        "start_time": "2024-02-26T19:59:04.766Z"
      },
      {
        "duration": 16,
        "start_time": "2024-02-26T19:59:04.778Z"
      },
      {
        "duration": 139,
        "start_time": "2024-02-26T19:59:04.796Z"
      },
      {
        "duration": 19,
        "start_time": "2024-02-26T19:59:22.075Z"
      },
      {
        "duration": 13,
        "start_time": "2024-02-26T19:59:25.253Z"
      },
      {
        "duration": 11,
        "start_time": "2024-02-26T20:00:12.164Z"
      },
      {
        "duration": 13,
        "start_time": "2024-02-26T20:03:01.128Z"
      },
      {
        "duration": 12,
        "start_time": "2024-02-26T20:04:32.809Z"
      },
      {
        "duration": 55,
        "start_time": "2024-02-26T20:05:18.038Z"
      },
      {
        "duration": 12,
        "start_time": "2024-02-26T20:06:12.244Z"
      },
      {
        "duration": 498,
        "start_time": "2024-02-26T20:07:15.923Z"
      },
      {
        "duration": 189,
        "start_time": "2024-02-26T20:07:16.423Z"
      },
      {
        "duration": 32,
        "start_time": "2024-02-26T20:07:16.614Z"
      },
      {
        "duration": 3,
        "start_time": "2024-02-26T20:07:16.648Z"
      },
      {
        "duration": 42,
        "start_time": "2024-02-26T20:07:16.653Z"
      },
      {
        "duration": 24,
        "start_time": "2024-02-26T20:07:16.696Z"
      },
      {
        "duration": 6,
        "start_time": "2024-02-26T20:07:16.721Z"
      },
      {
        "duration": 47,
        "start_time": "2024-02-26T20:07:16.728Z"
      },
      {
        "duration": 12,
        "start_time": "2024-02-26T20:07:16.777Z"
      },
      {
        "duration": 17,
        "start_time": "2024-02-26T20:07:16.790Z"
      },
      {
        "duration": 30,
        "start_time": "2024-02-26T20:07:16.808Z"
      },
      {
        "duration": 24,
        "start_time": "2024-02-26T20:07:16.839Z"
      },
      {
        "duration": 17,
        "start_time": "2024-02-26T20:07:16.864Z"
      },
      {
        "duration": 19,
        "start_time": "2024-02-26T20:07:16.884Z"
      },
      {
        "duration": 20,
        "start_time": "2024-02-26T20:07:16.905Z"
      },
      {
        "duration": 7,
        "start_time": "2024-02-26T20:07:16.926Z"
      },
      {
        "duration": 19,
        "start_time": "2024-02-26T20:07:16.934Z"
      },
      {
        "duration": 392,
        "start_time": "2024-02-26T20:07:16.954Z"
      },
      {
        "duration": 10,
        "start_time": "2024-02-26T20:07:17.348Z"
      },
      {
        "duration": 48,
        "start_time": "2024-02-26T20:07:17.359Z"
      },
      {
        "duration": 896,
        "start_time": "2024-02-26T20:07:17.409Z"
      },
      {
        "duration": 2,
        "start_time": "2024-02-26T20:07:18.307Z"
      },
      {
        "duration": 12,
        "start_time": "2024-02-26T20:07:18.311Z"
      },
      {
        "duration": 229,
        "start_time": "2024-02-26T20:07:18.324Z"
      },
      {
        "duration": 18,
        "start_time": "2024-02-26T20:07:18.555Z"
      },
      {
        "duration": 16,
        "start_time": "2024-02-26T20:07:18.574Z"
      },
      {
        "duration": 25,
        "start_time": "2024-02-26T20:07:18.591Z"
      },
      {
        "duration": 12,
        "start_time": "2024-02-26T20:07:18.618Z"
      },
      {
        "duration": 67,
        "start_time": "2024-02-26T20:07:18.631Z"
      },
      {
        "duration": 14,
        "start_time": "2024-02-26T20:07:18.700Z"
      },
      {
        "duration": 35,
        "start_time": "2024-02-26T20:10:16.299Z"
      },
      {
        "duration": 14,
        "start_time": "2024-02-26T20:10:38.617Z"
      },
      {
        "duration": 498,
        "start_time": "2024-02-27T05:27:34.742Z"
      },
      {
        "duration": 233,
        "start_time": "2024-02-27T05:27:35.243Z"
      },
      {
        "duration": 72,
        "start_time": "2024-02-27T05:27:35.478Z"
      },
      {
        "duration": 3,
        "start_time": "2024-02-27T05:27:35.553Z"
      },
      {
        "duration": 42,
        "start_time": "2024-02-27T05:27:35.558Z"
      },
      {
        "duration": 20,
        "start_time": "2024-02-27T05:27:35.602Z"
      },
      {
        "duration": 5,
        "start_time": "2024-02-27T05:27:35.624Z"
      },
      {
        "duration": 40,
        "start_time": "2024-02-27T05:27:35.630Z"
      },
      {
        "duration": 10,
        "start_time": "2024-02-27T05:27:35.671Z"
      },
      {
        "duration": 11,
        "start_time": "2024-02-27T05:27:35.695Z"
      },
      {
        "duration": 17,
        "start_time": "2024-02-27T05:27:35.707Z"
      },
      {
        "duration": 10,
        "start_time": "2024-02-27T05:27:35.726Z"
      },
      {
        "duration": 9,
        "start_time": "2024-02-27T05:27:35.737Z"
      },
      {
        "duration": 9,
        "start_time": "2024-02-27T05:27:35.748Z"
      },
      {
        "duration": 38,
        "start_time": "2024-02-27T05:27:35.759Z"
      },
      {
        "duration": 7,
        "start_time": "2024-02-27T05:27:35.798Z"
      },
      {
        "duration": 27,
        "start_time": "2024-02-27T05:27:35.806Z"
      },
      {
        "duration": 376,
        "start_time": "2024-02-27T05:27:35.834Z"
      },
      {
        "duration": 10,
        "start_time": "2024-02-27T05:27:36.211Z"
      },
      {
        "duration": 94,
        "start_time": "2024-02-27T05:27:36.222Z"
      },
      {
        "duration": 756,
        "start_time": "2024-02-27T05:27:36.317Z"
      },
      {
        "duration": 2,
        "start_time": "2024-02-27T05:27:37.075Z"
      },
      {
        "duration": 10,
        "start_time": "2024-02-27T05:27:37.078Z"
      },
      {
        "duration": 219,
        "start_time": "2024-02-27T05:27:37.090Z"
      },
      {
        "duration": 7,
        "start_time": "2024-02-27T05:27:37.310Z"
      },
      {
        "duration": 40,
        "start_time": "2024-02-27T05:27:37.319Z"
      },
      {
        "duration": 21,
        "start_time": "2024-02-27T05:27:37.361Z"
      },
      {
        "duration": 16,
        "start_time": "2024-02-27T05:27:37.385Z"
      },
      {
        "duration": 53,
        "start_time": "2024-02-27T05:27:37.403Z"
      },
      {
        "duration": 19,
        "start_time": "2024-02-27T05:27:37.458Z"
      },
      {
        "duration": 45,
        "start_time": "2024-02-27T05:27:37.479Z"
      },
      {
        "duration": 11,
        "start_time": "2024-02-27T05:27:37.527Z"
      },
      {
        "duration": 40,
        "start_time": "2024-02-27T05:32:14.086Z"
      },
      {
        "duration": 10,
        "start_time": "2024-02-27T05:32:17.086Z"
      },
      {
        "duration": 47,
        "start_time": "2024-02-27T05:32:30.118Z"
      },
      {
        "duration": 462,
        "start_time": "2024-02-27T08:09:41.532Z"
      },
      {
        "duration": 230,
        "start_time": "2024-02-27T08:09:41.995Z"
      },
      {
        "duration": 62,
        "start_time": "2024-02-27T08:09:42.226Z"
      },
      {
        "duration": 3,
        "start_time": "2024-02-27T08:09:42.289Z"
      },
      {
        "duration": 43,
        "start_time": "2024-02-27T08:09:42.293Z"
      },
      {
        "duration": 59,
        "start_time": "2024-02-27T08:09:42.337Z"
      },
      {
        "duration": 14,
        "start_time": "2024-02-27T08:09:42.397Z"
      },
      {
        "duration": 44,
        "start_time": "2024-02-27T08:09:42.412Z"
      },
      {
        "duration": 10,
        "start_time": "2024-02-27T08:09:42.457Z"
      },
      {
        "duration": 36,
        "start_time": "2024-02-27T08:09:42.469Z"
      },
      {
        "duration": 22,
        "start_time": "2024-02-27T08:09:42.506Z"
      },
      {
        "duration": 31,
        "start_time": "2024-02-27T08:09:42.530Z"
      },
      {
        "duration": 28,
        "start_time": "2024-02-27T08:09:42.562Z"
      },
      {
        "duration": 45,
        "start_time": "2024-02-27T08:09:42.592Z"
      },
      {
        "duration": 70,
        "start_time": "2024-02-27T08:09:42.638Z"
      },
      {
        "duration": 17,
        "start_time": "2024-02-27T08:09:42.710Z"
      },
      {
        "duration": 53,
        "start_time": "2024-02-27T08:09:42.728Z"
      },
      {
        "duration": 391,
        "start_time": "2024-02-27T08:09:42.782Z"
      },
      {
        "duration": 9,
        "start_time": "2024-02-27T08:09:43.175Z"
      },
      {
        "duration": 80,
        "start_time": "2024-02-27T08:09:43.194Z"
      },
      {
        "duration": 750,
        "start_time": "2024-02-27T08:09:43.294Z"
      },
      {
        "duration": 3,
        "start_time": "2024-02-27T08:09:44.045Z"
      },
      {
        "duration": 27,
        "start_time": "2024-02-27T08:09:44.049Z"
      },
      {
        "duration": 230,
        "start_time": "2024-02-27T08:09:44.078Z"
      },
      {
        "duration": 8,
        "start_time": "2024-02-27T08:09:44.309Z"
      },
      {
        "duration": 76,
        "start_time": "2024-02-27T08:09:44.318Z"
      },
      {
        "duration": 31,
        "start_time": "2024-02-27T08:09:44.396Z"
      },
      {
        "duration": 29,
        "start_time": "2024-02-27T08:09:44.430Z"
      },
      {
        "duration": 70,
        "start_time": "2024-02-27T08:09:44.460Z"
      },
      {
        "duration": 62,
        "start_time": "2024-02-27T08:09:44.531Z"
      },
      {
        "duration": 37,
        "start_time": "2024-02-27T08:09:44.594Z"
      },
      {
        "duration": 20,
        "start_time": "2024-02-27T08:09:44.632Z"
      },
      {
        "duration": 108,
        "start_time": "2024-02-27T08:30:26.590Z"
      },
      {
        "duration": 28,
        "start_time": "2024-02-27T08:30:35.734Z"
      },
      {
        "duration": 1731,
        "start_time": "2024-02-27T08:30:42.661Z"
      },
      {
        "duration": 14,
        "start_time": "2024-02-27T08:30:59.620Z"
      },
      {
        "duration": 10,
        "start_time": "2024-02-27T08:31:10.276Z"
      },
      {
        "duration": 8,
        "start_time": "2024-02-27T08:31:46.283Z"
      },
      {
        "duration": 10,
        "start_time": "2024-02-27T08:32:56.948Z"
      },
      {
        "duration": 9,
        "start_time": "2024-02-27T08:33:51.467Z"
      },
      {
        "duration": 11,
        "start_time": "2024-02-27T08:36:30.220Z"
      },
      {
        "duration": 4,
        "start_time": "2024-02-27T08:37:40.148Z"
      },
      {
        "duration": 29,
        "start_time": "2024-02-27T08:41:12.611Z"
      },
      {
        "duration": 15,
        "start_time": "2024-02-27T08:41:26.444Z"
      },
      {
        "duration": 15,
        "start_time": "2024-02-27T08:43:16.259Z"
      },
      {
        "duration": 5,
        "start_time": "2024-02-27T08:56:12.114Z"
      },
      {
        "duration": 11,
        "start_time": "2024-02-27T09:01:01.930Z"
      },
      {
        "duration": 17,
        "start_time": "2024-02-27T09:01:33.484Z"
      },
      {
        "duration": 8,
        "start_time": "2024-02-27T09:01:54.298Z"
      },
      {
        "duration": 13,
        "start_time": "2024-02-27T09:03:08.810Z"
      },
      {
        "duration": 9,
        "start_time": "2024-02-27T09:06:48.043Z"
      },
      {
        "duration": 10,
        "start_time": "2024-02-27T09:08:30.099Z"
      },
      {
        "duration": 9,
        "start_time": "2024-02-27T09:08:48.682Z"
      },
      {
        "duration": 10,
        "start_time": "2024-02-27T09:10:27.217Z"
      },
      {
        "duration": 10,
        "start_time": "2024-02-27T09:10:46.354Z"
      },
      {
        "duration": 9,
        "start_time": "2024-02-27T09:11:12.882Z"
      },
      {
        "duration": 106,
        "start_time": "2024-02-27T09:29:35.997Z"
      },
      {
        "duration": 115,
        "start_time": "2024-02-27T09:29:46.273Z"
      },
      {
        "duration": 9,
        "start_time": "2024-02-27T09:29:57.369Z"
      },
      {
        "duration": 16,
        "start_time": "2024-02-27T09:30:56.586Z"
      },
      {
        "duration": 15,
        "start_time": "2024-02-27T09:31:36.818Z"
      },
      {
        "duration": 9,
        "start_time": "2024-02-27T09:32:06.395Z"
      },
      {
        "duration": 9,
        "start_time": "2024-02-27T09:32:45.244Z"
      },
      {
        "duration": 21,
        "start_time": "2024-02-27T09:42:25.109Z"
      },
      {
        "duration": 11,
        "start_time": "2024-02-27T09:43:34.884Z"
      },
      {
        "duration": 11,
        "start_time": "2024-02-27T09:43:51.611Z"
      },
      {
        "duration": 11,
        "start_time": "2024-02-27T09:44:14.339Z"
      },
      {
        "duration": 274,
        "start_time": "2024-02-27T09:44:49.566Z"
      },
      {
        "duration": 505,
        "start_time": "2024-02-27T09:45:10.578Z"
      },
      {
        "duration": 174,
        "start_time": "2024-02-27T09:45:11.086Z"
      },
      {
        "duration": 30,
        "start_time": "2024-02-27T09:45:11.262Z"
      },
      {
        "duration": 3,
        "start_time": "2024-02-27T09:45:11.294Z"
      },
      {
        "duration": 47,
        "start_time": "2024-02-27T09:45:11.298Z"
      },
      {
        "duration": 30,
        "start_time": "2024-02-27T09:45:11.347Z"
      },
      {
        "duration": 7,
        "start_time": "2024-02-27T09:45:11.379Z"
      },
      {
        "duration": 57,
        "start_time": "2024-02-27T09:45:11.387Z"
      },
      {
        "duration": 47,
        "start_time": "2024-02-27T09:45:11.446Z"
      },
      {
        "duration": 11,
        "start_time": "2024-02-27T09:45:11.495Z"
      },
      {
        "duration": 69,
        "start_time": "2024-02-27T09:45:11.508Z"
      },
      {
        "duration": 36,
        "start_time": "2024-02-27T09:45:11.578Z"
      },
      {
        "duration": 23,
        "start_time": "2024-02-27T09:45:11.616Z"
      },
      {
        "duration": 22,
        "start_time": "2024-02-27T09:45:11.640Z"
      },
      {
        "duration": 16,
        "start_time": "2024-02-27T09:45:11.664Z"
      },
      {
        "duration": 27,
        "start_time": "2024-02-27T09:45:11.682Z"
      },
      {
        "duration": 12,
        "start_time": "2024-02-27T09:45:11.711Z"
      },
      {
        "duration": 345,
        "start_time": "2024-02-27T09:45:11.725Z"
      },
      {
        "duration": 9,
        "start_time": "2024-02-27T09:45:12.071Z"
      },
      {
        "duration": 63,
        "start_time": "2024-02-27T09:45:12.081Z"
      },
      {
        "duration": 793,
        "start_time": "2024-02-27T09:45:12.145Z"
      },
      {
        "duration": 2,
        "start_time": "2024-02-27T09:45:12.939Z"
      },
      {
        "duration": 18,
        "start_time": "2024-02-27T09:45:12.942Z"
      },
      {
        "duration": 198,
        "start_time": "2024-02-27T09:45:12.962Z"
      },
      {
        "duration": 8,
        "start_time": "2024-02-27T09:45:13.162Z"
      },
      {
        "duration": 56,
        "start_time": "2024-02-27T09:45:13.172Z"
      },
      {
        "duration": 46,
        "start_time": "2024-02-27T09:45:13.230Z"
      },
      {
        "duration": 26,
        "start_time": "2024-02-27T09:45:13.279Z"
      },
      {
        "duration": 77,
        "start_time": "2024-02-27T09:45:13.307Z"
      },
      {
        "duration": 29,
        "start_time": "2024-02-27T09:45:13.385Z"
      },
      {
        "duration": 43,
        "start_time": "2024-02-27T09:45:13.415Z"
      },
      {
        "duration": 40,
        "start_time": "2024-02-27T09:45:13.460Z"
      },
      {
        "duration": 58,
        "start_time": "2024-02-27T09:45:13.502Z"
      },
      {
        "duration": 28,
        "start_time": "2024-02-27T09:45:13.561Z"
      },
      {
        "duration": 22,
        "start_time": "2024-02-27T09:45:13.590Z"
      },
      {
        "duration": 41,
        "start_time": "2024-02-27T09:45:13.613Z"
      },
      {
        "duration": 24,
        "start_time": "2024-02-27T09:45:13.655Z"
      },
      {
        "duration": 17,
        "start_time": "2024-02-27T09:45:13.681Z"
      },
      {
        "duration": 39,
        "start_time": "2024-02-27T09:45:13.700Z"
      },
      {
        "duration": 44,
        "start_time": "2024-02-27T09:45:13.741Z"
      },
      {
        "duration": 49,
        "start_time": "2024-02-27T09:45:13.787Z"
      },
      {
        "duration": 73,
        "start_time": "2024-02-27T09:45:13.837Z"
      },
      {
        "duration": 34,
        "start_time": "2024-02-27T09:45:13.912Z"
      },
      {
        "duration": 127,
        "start_time": "2024-02-27T09:45:13.947Z"
      },
      {
        "duration": 2,
        "start_time": "2024-02-27T09:45:50.317Z"
      },
      {
        "duration": 467,
        "start_time": "2024-02-27T09:45:53.832Z"
      },
      {
        "duration": 160,
        "start_time": "2024-02-27T09:45:54.301Z"
      },
      {
        "duration": 29,
        "start_time": "2024-02-27T09:45:54.463Z"
      },
      {
        "duration": 3,
        "start_time": "2024-02-27T09:45:54.494Z"
      },
      {
        "duration": 30,
        "start_time": "2024-02-27T09:45:54.498Z"
      },
      {
        "duration": 21,
        "start_time": "2024-02-27T09:45:54.529Z"
      },
      {
        "duration": 14,
        "start_time": "2024-02-27T09:45:54.551Z"
      },
      {
        "duration": 47,
        "start_time": "2024-02-27T09:45:54.566Z"
      },
      {
        "duration": 11,
        "start_time": "2024-02-27T09:45:54.614Z"
      },
      {
        "duration": 15,
        "start_time": "2024-02-27T09:45:54.627Z"
      },
      {
        "duration": 34,
        "start_time": "2024-02-27T09:45:54.643Z"
      },
      {
        "duration": 43,
        "start_time": "2024-02-27T09:45:54.678Z"
      },
      {
        "duration": 23,
        "start_time": "2024-02-27T09:45:54.722Z"
      },
      {
        "duration": 45,
        "start_time": "2024-02-27T09:45:54.746Z"
      },
      {
        "duration": 31,
        "start_time": "2024-02-27T09:45:54.792Z"
      },
      {
        "duration": 31,
        "start_time": "2024-02-27T09:45:54.825Z"
      },
      {
        "duration": 25,
        "start_time": "2024-02-27T09:45:54.857Z"
      },
      {
        "duration": 398,
        "start_time": "2024-02-27T09:45:54.883Z"
      },
      {
        "duration": 11,
        "start_time": "2024-02-27T09:45:55.283Z"
      },
      {
        "duration": 106,
        "start_time": "2024-02-27T09:45:55.296Z"
      },
      {
        "duration": 758,
        "start_time": "2024-02-27T09:45:55.403Z"
      },
      {
        "duration": 2,
        "start_time": "2024-02-27T09:45:56.162Z"
      },
      {
        "duration": 37,
        "start_time": "2024-02-27T09:45:56.166Z"
      },
      {
        "duration": 220,
        "start_time": "2024-02-27T09:45:56.204Z"
      },
      {
        "duration": 7,
        "start_time": "2024-02-27T09:45:56.426Z"
      },
      {
        "duration": 44,
        "start_time": "2024-02-27T09:45:56.435Z"
      },
      {
        "duration": 29,
        "start_time": "2024-02-27T09:45:56.481Z"
      },
      {
        "duration": 12,
        "start_time": "2024-02-27T09:45:56.514Z"
      },
      {
        "duration": 55,
        "start_time": "2024-02-27T09:45:56.528Z"
      },
      {
        "duration": 13,
        "start_time": "2024-02-27T09:45:56.585Z"
      },
      {
        "duration": 45,
        "start_time": "2024-02-27T09:45:56.599Z"
      },
      {
        "duration": 10,
        "start_time": "2024-02-27T09:45:56.654Z"
      },
      {
        "duration": 41,
        "start_time": "2024-02-27T09:45:56.666Z"
      },
      {
        "duration": 24,
        "start_time": "2024-02-27T09:45:56.709Z"
      },
      {
        "duration": 39,
        "start_time": "2024-02-27T09:45:56.735Z"
      },
      {
        "duration": 30,
        "start_time": "2024-02-27T09:45:56.776Z"
      },
      {
        "duration": 34,
        "start_time": "2024-02-27T09:45:56.808Z"
      },
      {
        "duration": 24,
        "start_time": "2024-02-27T09:45:56.844Z"
      },
      {
        "duration": 38,
        "start_time": "2024-02-27T09:45:56.870Z"
      },
      {
        "duration": 53,
        "start_time": "2024-02-27T09:45:56.910Z"
      },
      {
        "duration": 31,
        "start_time": "2024-02-27T09:45:56.964Z"
      },
      {
        "duration": 35,
        "start_time": "2024-02-27T09:45:56.997Z"
      },
      {
        "duration": 19,
        "start_time": "2024-02-27T09:45:57.034Z"
      },
      {
        "duration": 117,
        "start_time": "2024-02-27T09:45:57.055Z"
      },
      {
        "duration": 953,
        "start_time": "2024-02-27T09:46:37.881Z"
      },
      {
        "duration": 139,
        "start_time": "2024-02-27T09:46:38.835Z"
      },
      {
        "duration": 30,
        "start_time": "2024-02-27T09:46:38.975Z"
      },
      {
        "duration": 19,
        "start_time": "2024-02-27T09:46:39.007Z"
      },
      {
        "duration": 66,
        "start_time": "2024-02-27T09:46:39.027Z"
      },
      {
        "duration": 38,
        "start_time": "2024-02-27T09:46:39.095Z"
      },
      {
        "duration": 5,
        "start_time": "2024-02-27T09:46:39.135Z"
      },
      {
        "duration": 34,
        "start_time": "2024-02-27T09:46:39.141Z"
      },
      {
        "duration": 10,
        "start_time": "2024-02-27T09:46:39.176Z"
      },
      {
        "duration": 37,
        "start_time": "2024-02-27T09:46:39.189Z"
      },
      {
        "duration": 21,
        "start_time": "2024-02-27T09:46:39.228Z"
      },
      {
        "duration": 10,
        "start_time": "2024-02-27T09:46:39.251Z"
      },
      {
        "duration": 30,
        "start_time": "2024-02-27T09:46:39.262Z"
      },
      {
        "duration": 19,
        "start_time": "2024-02-27T09:46:39.293Z"
      },
      {
        "duration": 28,
        "start_time": "2024-02-27T09:46:39.313Z"
      },
      {
        "duration": 16,
        "start_time": "2024-02-27T09:46:39.342Z"
      },
      {
        "duration": 32,
        "start_time": "2024-02-27T09:46:39.360Z"
      },
      {
        "duration": 445,
        "start_time": "2024-02-27T09:46:39.394Z"
      },
      {
        "duration": 9,
        "start_time": "2024-02-27T09:46:39.841Z"
      },
      {
        "duration": 66,
        "start_time": "2024-02-27T09:46:39.851Z"
      },
      {
        "duration": 749,
        "start_time": "2024-02-27T09:46:39.919Z"
      },
      {
        "duration": 3,
        "start_time": "2024-02-27T09:46:40.669Z"
      },
      {
        "duration": 47,
        "start_time": "2024-02-27T09:46:40.673Z"
      },
      {
        "duration": 235,
        "start_time": "2024-02-27T09:46:40.721Z"
      },
      {
        "duration": 8,
        "start_time": "2024-02-27T09:46:40.957Z"
      },
      {
        "duration": 22,
        "start_time": "2024-02-27T09:46:40.967Z"
      },
      {
        "duration": 14,
        "start_time": "2024-02-27T09:46:40.990Z"
      },
      {
        "duration": 11,
        "start_time": "2024-02-27T09:46:41.007Z"
      },
      {
        "duration": 61,
        "start_time": "2024-02-27T09:46:41.019Z"
      },
      {
        "duration": 10,
        "start_time": "2024-02-27T09:46:41.082Z"
      },
      {
        "duration": 78,
        "start_time": "2024-02-27T09:46:41.093Z"
      },
      {
        "duration": 8,
        "start_time": "2024-02-27T09:46:41.173Z"
      },
      {
        "duration": 37,
        "start_time": "2024-02-27T09:46:41.182Z"
      },
      {
        "duration": 19,
        "start_time": "2024-02-27T09:46:41.221Z"
      },
      {
        "duration": 31,
        "start_time": "2024-02-27T09:46:41.242Z"
      },
      {
        "duration": 36,
        "start_time": "2024-02-27T09:46:41.274Z"
      },
      {
        "duration": 13,
        "start_time": "2024-02-27T09:46:41.312Z"
      },
      {
        "duration": 5,
        "start_time": "2024-02-27T09:46:41.326Z"
      },
      {
        "duration": 28,
        "start_time": "2024-02-27T09:46:41.333Z"
      },
      {
        "duration": 9,
        "start_time": "2024-02-27T09:46:41.363Z"
      },
      {
        "duration": 32,
        "start_time": "2024-02-27T09:46:41.373Z"
      },
      {
        "duration": 11,
        "start_time": "2024-02-27T09:46:41.407Z"
      },
      {
        "duration": 14,
        "start_time": "2024-02-27T09:46:41.419Z"
      },
      {
        "duration": 13,
        "start_time": "2024-02-27T09:46:41.434Z"
      },
      {
        "duration": 153,
        "start_time": "2024-02-27T09:50:52.619Z"
      },
      {
        "duration": 12,
        "start_time": "2024-02-27T09:51:24.926Z"
      },
      {
        "duration": 11,
        "start_time": "2024-02-27T09:52:19.555Z"
      },
      {
        "duration": 12,
        "start_time": "2024-02-27T09:53:17.949Z"
      },
      {
        "duration": 7,
        "start_time": "2024-02-27T09:53:42.844Z"
      },
      {
        "duration": 11,
        "start_time": "2024-02-27T09:55:12.755Z"
      },
      {
        "duration": 9,
        "start_time": "2024-02-27T09:55:20.641Z"
      },
      {
        "duration": 22,
        "start_time": "2024-02-27T09:56:39.939Z"
      },
      {
        "duration": 42,
        "start_time": "2024-02-27T09:56:51.802Z"
      },
      {
        "duration": 855,
        "start_time": "2024-02-27T10:01:26.152Z"
      },
      {
        "duration": 135,
        "start_time": "2024-02-27T10:01:27.008Z"
      },
      {
        "duration": 29,
        "start_time": "2024-02-27T10:01:27.144Z"
      },
      {
        "duration": 10,
        "start_time": "2024-02-27T10:01:27.175Z"
      },
      {
        "duration": 63,
        "start_time": "2024-02-27T10:01:27.187Z"
      },
      {
        "duration": 38,
        "start_time": "2024-02-27T10:01:27.252Z"
      },
      {
        "duration": 23,
        "start_time": "2024-02-27T10:01:27.292Z"
      },
      {
        "duration": 121,
        "start_time": "2024-02-27T10:01:27.316Z"
      },
      {
        "duration": 14,
        "start_time": "2024-02-27T10:01:27.438Z"
      },
      {
        "duration": 32,
        "start_time": "2024-02-27T10:01:27.455Z"
      },
      {
        "duration": 42,
        "start_time": "2024-02-27T10:01:27.489Z"
      },
      {
        "duration": 60,
        "start_time": "2024-02-27T10:01:27.533Z"
      },
      {
        "duration": 28,
        "start_time": "2024-02-27T10:01:27.595Z"
      },
      {
        "duration": 52,
        "start_time": "2024-02-27T10:01:27.625Z"
      },
      {
        "duration": 36,
        "start_time": "2024-02-27T10:01:27.678Z"
      },
      {
        "duration": 21,
        "start_time": "2024-02-27T10:01:27.715Z"
      },
      {
        "duration": 30,
        "start_time": "2024-02-27T10:01:27.738Z"
      },
      {
        "duration": 401,
        "start_time": "2024-02-27T10:01:27.769Z"
      },
      {
        "duration": 9,
        "start_time": "2024-02-27T10:01:28.171Z"
      },
      {
        "duration": 84,
        "start_time": "2024-02-27T10:01:28.181Z"
      },
      {
        "duration": 756,
        "start_time": "2024-02-27T10:01:28.267Z"
      },
      {
        "duration": 2,
        "start_time": "2024-02-27T10:01:29.024Z"
      },
      {
        "duration": 42,
        "start_time": "2024-02-27T10:01:29.028Z"
      },
      {
        "duration": 212,
        "start_time": "2024-02-27T10:01:29.071Z"
      },
      {
        "duration": 12,
        "start_time": "2024-02-27T10:01:29.285Z"
      },
      {
        "duration": 21,
        "start_time": "2024-02-27T10:01:29.298Z"
      },
      {
        "duration": 13,
        "start_time": "2024-02-27T10:01:29.320Z"
      },
      {
        "duration": 11,
        "start_time": "2024-02-27T10:01:29.338Z"
      },
      {
        "duration": 65,
        "start_time": "2024-02-27T10:01:29.351Z"
      },
      {
        "duration": 11,
        "start_time": "2024-02-27T10:01:29.418Z"
      },
      {
        "duration": 34,
        "start_time": "2024-02-27T10:01:29.431Z"
      },
      {
        "duration": 31,
        "start_time": "2024-02-27T10:01:29.466Z"
      },
      {
        "duration": 25,
        "start_time": "2024-02-27T10:01:29.499Z"
      },
      {
        "duration": 9,
        "start_time": "2024-02-27T10:01:29.525Z"
      },
      {
        "duration": 4,
        "start_time": "2024-02-27T10:01:29.536Z"
      },
      {
        "duration": 41,
        "start_time": "2024-02-27T10:01:29.542Z"
      },
      {
        "duration": 19,
        "start_time": "2024-02-27T10:01:29.585Z"
      },
      {
        "duration": 32,
        "start_time": "2024-02-27T10:01:29.606Z"
      },
      {
        "duration": 42,
        "start_time": "2024-02-27T10:01:29.639Z"
      },
      {
        "duration": 41,
        "start_time": "2024-02-27T10:01:29.682Z"
      },
      {
        "duration": 64,
        "start_time": "2024-02-27T10:01:29.724Z"
      },
      {
        "duration": 38,
        "start_time": "2024-02-27T10:01:29.789Z"
      },
      {
        "duration": 10,
        "start_time": "2024-02-27T10:01:29.829Z"
      },
      {
        "duration": 22,
        "start_time": "2024-02-27T10:01:29.840Z"
      },
      {
        "duration": 8,
        "start_time": "2024-02-27T10:01:29.864Z"
      },
      {
        "duration": 20,
        "start_time": "2024-02-27T10:01:29.873Z"
      },
      {
        "duration": 16,
        "start_time": "2024-02-27T10:01:29.894Z"
      },
      {
        "duration": 12,
        "start_time": "2024-02-27T10:01:29.911Z"
      },
      {
        "duration": 8,
        "start_time": "2024-02-27T10:01:29.924Z"
      },
      {
        "duration": 48,
        "start_time": "2024-02-27T10:01:29.934Z"
      },
      {
        "duration": 27,
        "start_time": "2024-02-27T10:10:27.432Z"
      },
      {
        "duration": 23,
        "start_time": "2024-02-27T10:11:15.384Z"
      },
      {
        "duration": 20,
        "start_time": "2024-02-27T10:11:16.799Z"
      },
      {
        "duration": 22,
        "start_time": "2024-02-27T10:12:25.763Z"
      },
      {
        "duration": 22,
        "start_time": "2024-02-27T10:17:26.449Z"
      },
      {
        "duration": 13,
        "start_time": "2024-02-27T10:17:29.561Z"
      },
      {
        "duration": 860,
        "start_time": "2024-02-27T13:14:13.942Z"
      },
      {
        "duration": 141,
        "start_time": "2024-02-27T13:14:14.804Z"
      },
      {
        "duration": 30,
        "start_time": "2024-02-27T13:14:14.947Z"
      },
      {
        "duration": 3,
        "start_time": "2024-02-27T13:14:14.979Z"
      },
      {
        "duration": 40,
        "start_time": "2024-02-27T13:14:14.983Z"
      },
      {
        "duration": 95,
        "start_time": "2024-02-27T13:14:15.024Z"
      },
      {
        "duration": 71,
        "start_time": "2024-02-27T13:14:15.120Z"
      },
      {
        "duration": 72,
        "start_time": "2024-02-27T13:14:15.193Z"
      },
      {
        "duration": 14,
        "start_time": "2024-02-27T13:14:15.267Z"
      },
      {
        "duration": 82,
        "start_time": "2024-02-27T13:14:15.283Z"
      },
      {
        "duration": 60,
        "start_time": "2024-02-27T13:14:15.367Z"
      },
      {
        "duration": 90,
        "start_time": "2024-02-27T13:14:15.429Z"
      },
      {
        "duration": 45,
        "start_time": "2024-02-27T13:14:15.520Z"
      },
      {
        "duration": 29,
        "start_time": "2024-02-27T13:14:15.567Z"
      },
      {
        "duration": 41,
        "start_time": "2024-02-27T13:14:15.597Z"
      },
      {
        "duration": 52,
        "start_time": "2024-02-27T13:14:15.640Z"
      },
      {
        "duration": 40,
        "start_time": "2024-02-27T13:14:15.693Z"
      },
      {
        "duration": 414,
        "start_time": "2024-02-27T13:14:15.735Z"
      },
      {
        "duration": 10,
        "start_time": "2024-02-27T13:14:16.151Z"
      },
      {
        "duration": 49,
        "start_time": "2024-02-27T13:14:16.162Z"
      },
      {
        "duration": 759,
        "start_time": "2024-02-27T13:14:16.213Z"
      },
      {
        "duration": 3,
        "start_time": "2024-02-27T13:14:16.973Z"
      },
      {
        "duration": 100,
        "start_time": "2024-02-27T13:14:16.977Z"
      },
      {
        "duration": 219,
        "start_time": "2024-02-27T13:14:17.079Z"
      },
      {
        "duration": 8,
        "start_time": "2024-02-27T13:14:17.300Z"
      },
      {
        "duration": 99,
        "start_time": "2024-02-27T13:14:17.309Z"
      },
      {
        "duration": 32,
        "start_time": "2024-02-27T13:14:17.409Z"
      },
      {
        "duration": 11,
        "start_time": "2024-02-27T13:14:17.444Z"
      },
      {
        "duration": 45,
        "start_time": "2024-02-27T13:14:17.457Z"
      },
      {
        "duration": 10,
        "start_time": "2024-02-27T13:14:17.504Z"
      },
      {
        "duration": 32,
        "start_time": "2024-02-27T13:14:17.515Z"
      },
      {
        "duration": 8,
        "start_time": "2024-02-27T13:14:17.549Z"
      },
      {
        "duration": 37,
        "start_time": "2024-02-27T13:14:17.558Z"
      },
      {
        "duration": 48,
        "start_time": "2024-02-27T13:14:17.596Z"
      },
      {
        "duration": 12,
        "start_time": "2024-02-27T13:14:17.645Z"
      },
      {
        "duration": 14,
        "start_time": "2024-02-27T13:14:17.658Z"
      },
      {
        "duration": 34,
        "start_time": "2024-02-27T13:14:17.674Z"
      },
      {
        "duration": 24,
        "start_time": "2024-02-27T13:14:17.709Z"
      },
      {
        "duration": 26,
        "start_time": "2024-02-27T13:14:17.734Z"
      },
      {
        "duration": 10,
        "start_time": "2024-02-27T13:14:17.761Z"
      },
      {
        "duration": 47,
        "start_time": "2024-02-27T13:14:17.772Z"
      },
      {
        "duration": 26,
        "start_time": "2024-02-27T13:14:17.821Z"
      },
      {
        "duration": 9,
        "start_time": "2024-02-27T13:14:17.849Z"
      },
      {
        "duration": 23,
        "start_time": "2024-02-27T13:14:17.859Z"
      },
      {
        "duration": 16,
        "start_time": "2024-02-27T13:14:17.883Z"
      },
      {
        "duration": 25,
        "start_time": "2024-02-27T13:14:17.900Z"
      },
      {
        "duration": 25,
        "start_time": "2024-02-27T13:14:17.927Z"
      },
      {
        "duration": 9,
        "start_time": "2024-02-27T13:14:17.954Z"
      },
      {
        "duration": 11,
        "start_time": "2024-02-27T13:14:17.965Z"
      },
      {
        "duration": 68,
        "start_time": "2024-02-27T13:14:17.977Z"
      },
      {
        "duration": 979,
        "start_time": "2024-02-27T17:43:33.083Z"
      },
      {
        "duration": 443,
        "start_time": "2024-02-27T17:43:34.063Z"
      },
      {
        "duration": 82,
        "start_time": "2024-02-27T17:43:34.507Z"
      },
      {
        "duration": 3,
        "start_time": "2024-02-27T17:43:34.591Z"
      },
      {
        "duration": 26,
        "start_time": "2024-02-27T17:43:34.595Z"
      },
      {
        "duration": 19,
        "start_time": "2024-02-27T17:43:34.622Z"
      },
      {
        "duration": 5,
        "start_time": "2024-02-27T17:43:34.643Z"
      },
      {
        "duration": 26,
        "start_time": "2024-02-27T17:43:34.649Z"
      },
      {
        "duration": 11,
        "start_time": "2024-02-27T17:43:34.677Z"
      },
      {
        "duration": 28,
        "start_time": "2024-02-27T17:43:34.690Z"
      },
      {
        "duration": 16,
        "start_time": "2024-02-27T17:43:34.720Z"
      },
      {
        "duration": 11,
        "start_time": "2024-02-27T17:43:34.737Z"
      },
      {
        "duration": 5,
        "start_time": "2024-02-27T17:43:34.750Z"
      },
      {
        "duration": 5,
        "start_time": "2024-02-27T17:43:34.756Z"
      },
      {
        "duration": 14,
        "start_time": "2024-02-27T17:43:34.763Z"
      },
      {
        "duration": 40,
        "start_time": "2024-02-27T17:43:34.779Z"
      },
      {
        "duration": 9,
        "start_time": "2024-02-27T17:43:34.821Z"
      },
      {
        "duration": 437,
        "start_time": "2024-02-27T17:43:34.831Z"
      },
      {
        "duration": 11,
        "start_time": "2024-02-27T17:43:35.270Z"
      },
      {
        "duration": 55,
        "start_time": "2024-02-27T17:43:35.283Z"
      },
      {
        "duration": 786,
        "start_time": "2024-02-27T17:43:35.340Z"
      },
      {
        "duration": 2,
        "start_time": "2024-02-27T17:43:36.128Z"
      },
      {
        "duration": 5,
        "start_time": "2024-02-27T17:43:36.131Z"
      },
      {
        "duration": 213,
        "start_time": "2024-02-27T17:43:36.137Z"
      },
      {
        "duration": 8,
        "start_time": "2024-02-27T17:43:36.351Z"
      },
      {
        "duration": 35,
        "start_time": "2024-02-27T17:43:36.360Z"
      },
      {
        "duration": 35,
        "start_time": "2024-02-27T17:43:36.397Z"
      },
      {
        "duration": 10,
        "start_time": "2024-02-27T17:43:36.436Z"
      },
      {
        "duration": 38,
        "start_time": "2024-02-27T17:43:36.448Z"
      },
      {
        "duration": 11,
        "start_time": "2024-02-27T17:43:36.488Z"
      },
      {
        "duration": 49,
        "start_time": "2024-02-27T17:43:36.500Z"
      },
      {
        "duration": 9,
        "start_time": "2024-02-27T17:43:36.550Z"
      },
      {
        "duration": 23,
        "start_time": "2024-02-27T17:43:36.561Z"
      },
      {
        "duration": 40,
        "start_time": "2024-02-27T17:43:36.586Z"
      },
      {
        "duration": 6,
        "start_time": "2024-02-27T17:43:36.629Z"
      },
      {
        "duration": 23,
        "start_time": "2024-02-27T17:43:36.637Z"
      },
      {
        "duration": 26,
        "start_time": "2024-02-27T17:43:36.662Z"
      },
      {
        "duration": 30,
        "start_time": "2024-02-27T17:43:36.690Z"
      },
      {
        "duration": 13,
        "start_time": "2024-02-27T17:43:36.722Z"
      },
      {
        "duration": 10,
        "start_time": "2024-02-27T17:43:36.737Z"
      },
      {
        "duration": 34,
        "start_time": "2024-02-27T17:43:36.749Z"
      },
      {
        "duration": 57,
        "start_time": "2024-02-27T17:43:36.785Z"
      },
      {
        "duration": 9,
        "start_time": "2024-02-27T17:43:36.843Z"
      },
      {
        "duration": 21,
        "start_time": "2024-02-27T17:43:36.853Z"
      },
      {
        "duration": 8,
        "start_time": "2024-02-27T17:43:36.875Z"
      },
      {
        "duration": 16,
        "start_time": "2024-02-27T17:43:36.884Z"
      },
      {
        "duration": 27,
        "start_time": "2024-02-27T17:43:36.901Z"
      },
      {
        "duration": 10,
        "start_time": "2024-02-27T17:43:36.929Z"
      },
      {
        "duration": 7,
        "start_time": "2024-02-27T17:43:36.940Z"
      },
      {
        "duration": 43,
        "start_time": "2024-02-27T17:43:36.949Z"
      },
      {
        "duration": 948,
        "start_time": "2024-02-27T17:45:37.002Z"
      },
      {
        "duration": 131,
        "start_time": "2024-02-27T17:45:37.952Z"
      },
      {
        "duration": 28,
        "start_time": "2024-02-27T17:45:38.085Z"
      },
      {
        "duration": 3,
        "start_time": "2024-02-27T17:45:38.117Z"
      },
      {
        "duration": 35,
        "start_time": "2024-02-27T17:45:38.122Z"
      },
      {
        "duration": 21,
        "start_time": "2024-02-27T17:45:38.159Z"
      },
      {
        "duration": 6,
        "start_time": "2024-02-27T17:45:38.181Z"
      },
      {
        "duration": 52,
        "start_time": "2024-02-27T17:45:38.188Z"
      },
      {
        "duration": 12,
        "start_time": "2024-02-27T17:45:38.242Z"
      },
      {
        "duration": 7,
        "start_time": "2024-02-27T17:45:38.255Z"
      },
      {
        "duration": 22,
        "start_time": "2024-02-27T17:45:38.263Z"
      },
      {
        "duration": 32,
        "start_time": "2024-02-27T17:45:38.287Z"
      },
      {
        "duration": 31,
        "start_time": "2024-02-27T17:45:38.320Z"
      },
      {
        "duration": 4,
        "start_time": "2024-02-27T17:45:38.355Z"
      },
      {
        "duration": 7,
        "start_time": "2024-02-27T17:45:38.361Z"
      },
      {
        "duration": 14,
        "start_time": "2024-02-27T17:45:38.369Z"
      },
      {
        "duration": 34,
        "start_time": "2024-02-27T17:45:38.385Z"
      },
      {
        "duration": 9,
        "start_time": "2024-02-27T17:45:38.421Z"
      },
      {
        "duration": 414,
        "start_time": "2024-02-27T17:45:38.432Z"
      },
      {
        "duration": 11,
        "start_time": "2024-02-27T17:45:38.848Z"
      },
      {
        "duration": 69,
        "start_time": "2024-02-27T17:45:38.861Z"
      },
      {
        "duration": 798,
        "start_time": "2024-02-27T17:45:38.932Z"
      },
      {
        "duration": 3,
        "start_time": "2024-02-27T17:45:39.732Z"
      },
      {
        "duration": 5,
        "start_time": "2024-02-27T17:45:39.736Z"
      },
      {
        "duration": 229,
        "start_time": "2024-02-27T17:45:39.743Z"
      },
      {
        "duration": 9,
        "start_time": "2024-02-27T17:45:39.974Z"
      },
      {
        "duration": 34,
        "start_time": "2024-02-27T17:45:39.985Z"
      },
      {
        "duration": 21,
        "start_time": "2024-02-27T17:45:40.021Z"
      },
      {
        "duration": 17,
        "start_time": "2024-02-27T17:45:40.044Z"
      },
      {
        "duration": 64,
        "start_time": "2024-02-27T17:45:40.064Z"
      },
      {
        "duration": 11,
        "start_time": "2024-02-27T17:45:40.130Z"
      },
      {
        "duration": 43,
        "start_time": "2024-02-27T17:45:40.143Z"
      },
      {
        "duration": 9,
        "start_time": "2024-02-27T17:45:40.188Z"
      },
      {
        "duration": 27,
        "start_time": "2024-02-27T17:45:40.198Z"
      },
      {
        "duration": 8,
        "start_time": "2024-02-27T17:45:40.226Z"
      },
      {
        "duration": 5,
        "start_time": "2024-02-27T17:45:40.235Z"
      },
      {
        "duration": 19,
        "start_time": "2024-02-27T17:45:40.241Z"
      },
      {
        "duration": 21,
        "start_time": "2024-02-27T17:45:40.261Z"
      },
      {
        "duration": 37,
        "start_time": "2024-02-27T17:45:40.284Z"
      },
      {
        "duration": 12,
        "start_time": "2024-02-27T17:45:40.323Z"
      },
      {
        "duration": 10,
        "start_time": "2024-02-27T17:45:40.338Z"
      },
      {
        "duration": 20,
        "start_time": "2024-02-27T17:45:40.350Z"
      },
      {
        "duration": 9,
        "start_time": "2024-02-27T17:45:40.372Z"
      },
      {
        "duration": 42,
        "start_time": "2024-02-27T17:45:40.383Z"
      },
      {
        "duration": 7,
        "start_time": "2024-02-27T17:45:40.426Z"
      },
      {
        "duration": 15,
        "start_time": "2024-02-27T17:45:40.435Z"
      },
      {
        "duration": 10,
        "start_time": "2024-02-27T17:45:40.452Z"
      },
      {
        "duration": 21,
        "start_time": "2024-02-27T17:45:40.463Z"
      },
      {
        "duration": 7,
        "start_time": "2024-02-27T17:45:40.486Z"
      },
      {
        "duration": 54,
        "start_time": "2024-02-27T17:45:40.495Z"
      },
      {
        "duration": 140,
        "start_time": "2024-02-27T17:46:11.983Z"
      },
      {
        "duration": 950,
        "start_time": "2024-02-27T17:46:27.805Z"
      },
      {
        "duration": 129,
        "start_time": "2024-02-27T17:46:28.757Z"
      },
      {
        "duration": 29,
        "start_time": "2024-02-27T17:46:28.887Z"
      },
      {
        "duration": 3,
        "start_time": "2024-02-27T17:46:28.917Z"
      },
      {
        "duration": 31,
        "start_time": "2024-02-27T17:46:28.922Z"
      },
      {
        "duration": 37,
        "start_time": "2024-02-27T17:46:28.955Z"
      },
      {
        "duration": 5,
        "start_time": "2024-02-27T17:46:28.994Z"
      },
      {
        "duration": 27,
        "start_time": "2024-02-27T17:46:29.000Z"
      },
      {
        "duration": 10,
        "start_time": "2024-02-27T17:46:29.029Z"
      },
      {
        "duration": 6,
        "start_time": "2024-02-27T17:46:29.041Z"
      },
      {
        "duration": 16,
        "start_time": "2024-02-27T17:46:29.048Z"
      },
      {
        "duration": 14,
        "start_time": "2024-02-27T17:46:29.066Z"
      },
      {
        "duration": 25,
        "start_time": "2024-02-27T17:46:29.081Z"
      },
      {
        "duration": 12,
        "start_time": "2024-02-27T17:46:29.109Z"
      },
      {
        "duration": 5,
        "start_time": "2024-02-27T17:46:29.122Z"
      },
      {
        "duration": 17,
        "start_time": "2024-02-27T17:46:29.128Z"
      },
      {
        "duration": 6,
        "start_time": "2024-02-27T17:46:29.146Z"
      },
      {
        "duration": 17,
        "start_time": "2024-02-27T17:46:29.153Z"
      },
      {
        "duration": 404,
        "start_time": "2024-02-27T17:46:29.172Z"
      },
      {
        "duration": 26,
        "start_time": "2024-02-27T17:46:29.578Z"
      },
      {
        "duration": 46,
        "start_time": "2024-02-27T17:46:29.606Z"
      },
      {
        "duration": 741,
        "start_time": "2024-02-27T17:46:29.654Z"
      },
      {
        "duration": 3,
        "start_time": "2024-02-27T17:46:30.396Z"
      },
      {
        "duration": 73,
        "start_time": "2024-02-27T17:46:30.400Z"
      },
      {
        "duration": 231,
        "start_time": "2024-02-27T17:46:30.474Z"
      },
      {
        "duration": 12,
        "start_time": "2024-02-27T17:46:30.706Z"
      },
      {
        "duration": 137,
        "start_time": "2024-02-27T17:46:30.720Z"
      },
      {
        "duration": 46,
        "start_time": "2024-02-27T17:46:30.858Z"
      },
      {
        "duration": 45,
        "start_time": "2024-02-27T17:46:30.905Z"
      },
      {
        "duration": 104,
        "start_time": "2024-02-27T17:46:30.952Z"
      },
      {
        "duration": 77,
        "start_time": "2024-02-27T17:46:31.058Z"
      },
      {
        "duration": 130,
        "start_time": "2024-02-27T17:46:31.137Z"
      },
      {
        "duration": 51,
        "start_time": "2024-02-27T17:46:31.269Z"
      },
      {
        "duration": 95,
        "start_time": "2024-02-27T17:46:31.322Z"
      },
      {
        "duration": 96,
        "start_time": "2024-02-27T17:46:31.418Z"
      },
      {
        "duration": 73,
        "start_time": "2024-02-27T17:46:31.516Z"
      },
      {
        "duration": 128,
        "start_time": "2024-02-27T17:46:31.591Z"
      },
      {
        "duration": 83,
        "start_time": "2024-02-27T17:46:31.720Z"
      },
      {
        "duration": 8,
        "start_time": "2024-02-27T17:46:31.804Z"
      },
      {
        "duration": 27,
        "start_time": "2024-02-27T17:46:31.813Z"
      },
      {
        "duration": 40,
        "start_time": "2024-02-27T17:46:31.843Z"
      },
      {
        "duration": 30,
        "start_time": "2024-02-27T17:46:31.885Z"
      },
      {
        "duration": 22,
        "start_time": "2024-02-27T17:46:31.916Z"
      },
      {
        "duration": 18,
        "start_time": "2024-02-27T17:46:31.940Z"
      },
      {
        "duration": 19,
        "start_time": "2024-02-27T17:46:31.960Z"
      },
      {
        "duration": 30,
        "start_time": "2024-02-27T17:46:31.981Z"
      },
      {
        "duration": 37,
        "start_time": "2024-02-27T17:46:32.012Z"
      },
      {
        "duration": 47,
        "start_time": "2024-02-27T17:46:32.050Z"
      },
      {
        "duration": 27,
        "start_time": "2024-02-27T17:46:32.099Z"
      },
      {
        "duration": 57,
        "start_time": "2024-02-27T17:46:32.127Z"
      },
      {
        "duration": 9,
        "start_time": "2024-02-27T17:47:05.131Z"
      },
      {
        "duration": 893,
        "start_time": "2024-02-27T17:47:42.527Z"
      },
      {
        "duration": 129,
        "start_time": "2024-02-27T17:47:43.422Z"
      },
      {
        "duration": 30,
        "start_time": "2024-02-27T17:47:43.553Z"
      },
      {
        "duration": 3,
        "start_time": "2024-02-27T17:47:43.584Z"
      },
      {
        "duration": 33,
        "start_time": "2024-02-27T17:47:43.589Z"
      },
      {
        "duration": 30,
        "start_time": "2024-02-27T17:47:43.624Z"
      },
      {
        "duration": 6,
        "start_time": "2024-02-27T17:47:43.655Z"
      },
      {
        "duration": 28,
        "start_time": "2024-02-27T17:47:43.662Z"
      },
      {
        "duration": 30,
        "start_time": "2024-02-27T17:47:43.692Z"
      },
      {
        "duration": 7,
        "start_time": "2024-02-27T17:47:43.724Z"
      },
      {
        "duration": 18,
        "start_time": "2024-02-27T17:47:43.732Z"
      },
      {
        "duration": 10,
        "start_time": "2024-02-27T17:47:43.751Z"
      },
      {
        "duration": 4,
        "start_time": "2024-02-27T17:47:43.763Z"
      },
      {
        "duration": 5,
        "start_time": "2024-02-27T17:47:43.770Z"
      },
      {
        "duration": 45,
        "start_time": "2024-02-27T17:47:43.777Z"
      },
      {
        "duration": 5,
        "start_time": "2024-02-27T17:47:43.824Z"
      },
      {
        "duration": 10,
        "start_time": "2024-02-27T17:47:43.831Z"
      },
      {
        "duration": 404,
        "start_time": "2024-02-27T17:47:43.842Z"
      },
      {
        "duration": 9,
        "start_time": "2024-02-27T17:47:44.247Z"
      },
      {
        "duration": 67,
        "start_time": "2024-02-27T17:47:44.258Z"
      },
      {
        "duration": 749,
        "start_time": "2024-02-27T17:47:44.327Z"
      },
      {
        "duration": 2,
        "start_time": "2024-02-27T17:47:45.077Z"
      },
      {
        "duration": 27,
        "start_time": "2024-02-27T17:47:45.081Z"
      },
      {
        "duration": 197,
        "start_time": "2024-02-27T17:47:45.109Z"
      },
      {
        "duration": 12,
        "start_time": "2024-02-27T17:47:45.308Z"
      },
      {
        "duration": 22,
        "start_time": "2024-02-27T17:47:45.322Z"
      },
      {
        "duration": 20,
        "start_time": "2024-02-27T17:47:45.345Z"
      },
      {
        "duration": 10,
        "start_time": "2024-02-27T17:47:45.367Z"
      },
      {
        "duration": 44,
        "start_time": "2024-02-27T17:47:45.379Z"
      },
      {
        "duration": 11,
        "start_time": "2024-02-27T17:47:45.424Z"
      },
      {
        "duration": 32,
        "start_time": "2024-02-27T17:47:45.436Z"
      },
      {
        "duration": 8,
        "start_time": "2024-02-27T17:47:45.469Z"
      },
      {
        "duration": 66,
        "start_time": "2024-02-27T17:47:45.479Z"
      },
      {
        "duration": 19,
        "start_time": "2024-02-27T17:47:45.547Z"
      },
      {
        "duration": 8,
        "start_time": "2024-02-27T17:47:45.568Z"
      },
      {
        "duration": 45,
        "start_time": "2024-02-27T17:47:45.578Z"
      },
      {
        "duration": 25,
        "start_time": "2024-02-27T17:47:45.624Z"
      },
      {
        "duration": 5,
        "start_time": "2024-02-27T17:47:45.650Z"
      },
      {
        "duration": 26,
        "start_time": "2024-02-27T17:47:45.656Z"
      },
      {
        "duration": 14,
        "start_time": "2024-02-27T17:47:45.683Z"
      },
      {
        "duration": 29,
        "start_time": "2024-02-27T17:47:45.701Z"
      },
      {
        "duration": 16,
        "start_time": "2024-02-27T17:47:45.731Z"
      },
      {
        "duration": 36,
        "start_time": "2024-02-27T17:47:45.749Z"
      },
      {
        "duration": 9,
        "start_time": "2024-02-27T17:47:45.786Z"
      },
      {
        "duration": 22,
        "start_time": "2024-02-27T17:47:45.797Z"
      },
      {
        "duration": 13,
        "start_time": "2024-02-27T17:47:45.820Z"
      },
      {
        "duration": 12,
        "start_time": "2024-02-27T17:47:45.834Z"
      },
      {
        "duration": 8,
        "start_time": "2024-02-27T17:47:45.848Z"
      },
      {
        "duration": 38,
        "start_time": "2024-02-27T17:47:45.857Z"
      },
      {
        "duration": 19,
        "start_time": "2024-02-27T17:49:52.450Z"
      },
      {
        "duration": 13,
        "start_time": "2024-02-27T17:51:02.349Z"
      },
      {
        "duration": 11,
        "start_time": "2024-02-27T17:51:23.914Z"
      },
      {
        "duration": 11,
        "start_time": "2024-02-27T17:51:33.522Z"
      },
      {
        "duration": 14,
        "start_time": "2024-02-27T17:56:39.689Z"
      },
      {
        "duration": 10,
        "start_time": "2024-02-27T17:57:16.373Z"
      },
      {
        "duration": 10,
        "start_time": "2024-02-27T17:57:26.141Z"
      },
      {
        "duration": 12,
        "start_time": "2024-02-27T17:57:47.676Z"
      },
      {
        "duration": 39,
        "start_time": "2024-02-27T18:00:07.156Z"
      },
      {
        "duration": 30,
        "start_time": "2024-02-27T18:00:22.860Z"
      },
      {
        "duration": 33,
        "start_time": "2024-02-27T18:05:20.258Z"
      },
      {
        "duration": 36,
        "start_time": "2024-02-27T18:05:32.366Z"
      },
      {
        "duration": 32,
        "start_time": "2024-02-27T18:05:47.184Z"
      },
      {
        "duration": 135,
        "start_time": "2024-02-27T18:06:26.039Z"
      },
      {
        "duration": 34,
        "start_time": "2024-02-27T18:06:31.111Z"
      },
      {
        "duration": 9,
        "start_time": "2024-02-27T18:06:33.103Z"
      },
      {
        "duration": 32,
        "start_time": "2024-02-27T18:09:12.939Z"
      },
      {
        "duration": 34,
        "start_time": "2024-02-27T18:09:15.953Z"
      },
      {
        "duration": 33,
        "start_time": "2024-02-27T18:09:41.840Z"
      },
      {
        "duration": 1218,
        "start_time": "2024-02-27T18:09:45.921Z"
      },
      {
        "duration": 11,
        "start_time": "2024-02-27T18:09:57.097Z"
      },
      {
        "duration": 31,
        "start_time": "2024-02-27T18:13:32.328Z"
      },
      {
        "duration": 9,
        "start_time": "2024-02-27T18:13:36.882Z"
      },
      {
        "duration": 21,
        "start_time": "2024-02-27T18:15:35.823Z"
      },
      {
        "duration": 7,
        "start_time": "2024-02-27T18:20:43.379Z"
      },
      {
        "duration": 21,
        "start_time": "2024-02-27T18:36:29.760Z"
      },
      {
        "duration": 20,
        "start_time": "2024-02-27T18:36:55.559Z"
      },
      {
        "duration": 20,
        "start_time": "2024-02-27T18:37:39.775Z"
      },
      {
        "duration": 35,
        "start_time": "2024-02-27T18:41:59.282Z"
      },
      {
        "duration": 10,
        "start_time": "2024-02-27T18:42:03.602Z"
      },
      {
        "duration": 22,
        "start_time": "2024-02-27T18:44:23.570Z"
      },
      {
        "duration": 20,
        "start_time": "2024-02-27T18:45:14.163Z"
      },
      {
        "duration": 11,
        "start_time": "2024-02-27T18:47:40.315Z"
      },
      {
        "duration": 11,
        "start_time": "2024-02-27T18:48:01.140Z"
      },
      {
        "duration": 10,
        "start_time": "2024-02-27T18:48:24.051Z"
      },
      {
        "duration": 905,
        "start_time": "2024-02-27T18:48:41.014Z"
      },
      {
        "duration": 148,
        "start_time": "2024-02-27T18:48:41.921Z"
      },
      {
        "duration": 29,
        "start_time": "2024-02-27T18:48:42.071Z"
      },
      {
        "duration": 2,
        "start_time": "2024-02-27T18:48:42.102Z"
      },
      {
        "duration": 29,
        "start_time": "2024-02-27T18:48:42.106Z"
      },
      {
        "duration": 22,
        "start_time": "2024-02-27T18:48:42.136Z"
      },
      {
        "duration": 5,
        "start_time": "2024-02-27T18:48:42.159Z"
      },
      {
        "duration": 23,
        "start_time": "2024-02-27T18:48:42.165Z"
      },
      {
        "duration": 32,
        "start_time": "2024-02-27T18:48:42.189Z"
      },
      {
        "duration": 4,
        "start_time": "2024-02-27T18:48:42.222Z"
      },
      {
        "duration": 16,
        "start_time": "2024-02-27T18:48:42.228Z"
      },
      {
        "duration": 10,
        "start_time": "2024-02-27T18:48:42.245Z"
      },
      {
        "duration": 4,
        "start_time": "2024-02-27T18:48:42.257Z"
      },
      {
        "duration": 5,
        "start_time": "2024-02-27T18:48:42.264Z"
      },
      {
        "duration": 48,
        "start_time": "2024-02-27T18:48:42.270Z"
      },
      {
        "duration": 7,
        "start_time": "2024-02-27T18:48:42.319Z"
      },
      {
        "duration": 9,
        "start_time": "2024-02-27T18:48:42.327Z"
      },
      {
        "duration": 374,
        "start_time": "2024-02-27T18:48:42.338Z"
      },
      {
        "duration": 10,
        "start_time": "2024-02-27T18:48:42.714Z"
      },
      {
        "duration": 34,
        "start_time": "2024-02-27T18:48:42.725Z"
      },
      {
        "duration": 776,
        "start_time": "2024-02-27T18:48:42.761Z"
      },
      {
        "duration": 2,
        "start_time": "2024-02-27T18:48:43.539Z"
      },
      {
        "duration": 5,
        "start_time": "2024-02-27T18:48:43.542Z"
      },
      {
        "duration": 214,
        "start_time": "2024-02-27T18:48:43.548Z"
      },
      {
        "duration": 8,
        "start_time": "2024-02-27T18:48:43.763Z"
      },
      {
        "duration": 15,
        "start_time": "2024-02-27T18:48:43.772Z"
      },
      {
        "duration": 32,
        "start_time": "2024-02-27T18:48:43.789Z"
      },
      {
        "duration": 12,
        "start_time": "2024-02-27T18:48:43.823Z"
      },
      {
        "duration": 147,
        "start_time": "2024-02-27T18:48:43.836Z"
      },
      {
        "duration": 0,
        "start_time": "2024-02-27T18:48:43.985Z"
      },
      {
        "duration": 0,
        "start_time": "2024-02-27T18:48:43.986Z"
      },
      {
        "duration": 0,
        "start_time": "2024-02-27T18:48:43.988Z"
      },
      {
        "duration": 0,
        "start_time": "2024-02-27T18:48:43.989Z"
      },
      {
        "duration": 0,
        "start_time": "2024-02-27T18:48:43.991Z"
      },
      {
        "duration": 0,
        "start_time": "2024-02-27T18:48:43.992Z"
      },
      {
        "duration": 0,
        "start_time": "2024-02-27T18:48:43.993Z"
      },
      {
        "duration": 0,
        "start_time": "2024-02-27T18:48:43.995Z"
      },
      {
        "duration": 0,
        "start_time": "2024-02-27T18:48:43.996Z"
      },
      {
        "duration": 0,
        "start_time": "2024-02-27T18:48:43.997Z"
      },
      {
        "duration": 0,
        "start_time": "2024-02-27T18:48:44.018Z"
      },
      {
        "duration": 0,
        "start_time": "2024-02-27T18:48:44.019Z"
      },
      {
        "duration": 1,
        "start_time": "2024-02-27T18:48:44.020Z"
      },
      {
        "duration": 0,
        "start_time": "2024-02-27T18:48:44.022Z"
      },
      {
        "duration": 0,
        "start_time": "2024-02-27T18:48:44.023Z"
      },
      {
        "duration": 0,
        "start_time": "2024-02-27T18:48:44.024Z"
      },
      {
        "duration": 0,
        "start_time": "2024-02-27T18:48:44.026Z"
      },
      {
        "duration": 0,
        "start_time": "2024-02-27T18:48:44.027Z"
      },
      {
        "duration": 0,
        "start_time": "2024-02-27T18:48:44.028Z"
      },
      {
        "duration": 839,
        "start_time": "2024-02-27T18:49:21.774Z"
      },
      {
        "duration": 125,
        "start_time": "2024-02-27T18:49:22.615Z"
      },
      {
        "duration": 28,
        "start_time": "2024-02-27T18:49:22.741Z"
      },
      {
        "duration": 3,
        "start_time": "2024-02-27T18:49:22.770Z"
      },
      {
        "duration": 29,
        "start_time": "2024-02-27T18:49:22.775Z"
      },
      {
        "duration": 26,
        "start_time": "2024-02-27T18:49:22.806Z"
      },
      {
        "duration": 5,
        "start_time": "2024-02-27T18:49:22.834Z"
      },
      {
        "duration": 23,
        "start_time": "2024-02-27T18:49:22.841Z"
      },
      {
        "duration": 9,
        "start_time": "2024-02-27T18:49:22.865Z"
      },
      {
        "duration": 8,
        "start_time": "2024-02-27T18:49:22.876Z"
      },
      {
        "duration": 47,
        "start_time": "2024-02-27T18:49:22.885Z"
      },
      {
        "duration": 13,
        "start_time": "2024-02-27T18:49:22.934Z"
      },
      {
        "duration": 6,
        "start_time": "2024-02-27T18:49:22.949Z"
      },
      {
        "duration": 6,
        "start_time": "2024-02-27T18:49:22.958Z"
      },
      {
        "duration": 14,
        "start_time": "2024-02-27T18:49:22.965Z"
      },
      {
        "duration": 39,
        "start_time": "2024-02-27T18:49:22.980Z"
      },
      {
        "duration": 14,
        "start_time": "2024-02-27T18:49:23.020Z"
      },
      {
        "duration": 382,
        "start_time": "2024-02-27T18:49:23.036Z"
      },
      {
        "duration": 9,
        "start_time": "2024-02-27T18:49:23.419Z"
      },
      {
        "duration": 92,
        "start_time": "2024-02-27T18:49:23.429Z"
      },
      {
        "duration": 713,
        "start_time": "2024-02-27T18:49:23.522Z"
      },
      {
        "duration": 2,
        "start_time": "2024-02-27T18:49:24.237Z"
      },
      {
        "duration": 6,
        "start_time": "2024-02-27T18:49:24.241Z"
      },
      {
        "duration": 207,
        "start_time": "2024-02-27T18:49:24.248Z"
      },
      {
        "duration": 7,
        "start_time": "2024-02-27T18:49:24.457Z"
      },
      {
        "duration": 16,
        "start_time": "2024-02-27T18:49:24.466Z"
      },
      {
        "duration": 11,
        "start_time": "2024-02-27T18:49:24.483Z"
      },
      {
        "duration": 24,
        "start_time": "2024-02-27T18:49:24.496Z"
      },
      {
        "duration": 32,
        "start_time": "2024-02-27T18:49:24.522Z"
      },
      {
        "duration": 10,
        "start_time": "2024-02-27T18:49:24.556Z"
      },
      {
        "duration": 28,
        "start_time": "2024-02-27T18:49:24.567Z"
      },
      {
        "duration": 8,
        "start_time": "2024-02-27T18:49:24.618Z"
      },
      {
        "duration": 14,
        "start_time": "2024-02-27T18:49:24.627Z"
      },
      {
        "duration": 7,
        "start_time": "2024-02-27T18:49:24.643Z"
      },
      {
        "duration": 4,
        "start_time": "2024-02-27T18:49:24.651Z"
      },
      {
        "duration": 13,
        "start_time": "2024-02-27T18:49:24.656Z"
      },
      {
        "duration": 13,
        "start_time": "2024-02-27T18:49:24.670Z"
      },
      {
        "duration": 5,
        "start_time": "2024-02-27T18:49:24.684Z"
      },
      {
        "duration": 10,
        "start_time": "2024-02-27T18:49:24.717Z"
      },
      {
        "duration": 9,
        "start_time": "2024-02-27T18:49:24.728Z"
      },
      {
        "duration": 154,
        "start_time": "2024-02-27T18:49:24.740Z"
      },
      {
        "duration": 0,
        "start_time": "2024-02-27T18:49:24.895Z"
      },
      {
        "duration": 0,
        "start_time": "2024-02-27T18:49:24.896Z"
      },
      {
        "duration": 0,
        "start_time": "2024-02-27T18:49:24.897Z"
      },
      {
        "duration": 0,
        "start_time": "2024-02-27T18:49:24.898Z"
      },
      {
        "duration": 0,
        "start_time": "2024-02-27T18:49:24.899Z"
      },
      {
        "duration": 0,
        "start_time": "2024-02-27T18:49:24.900Z"
      },
      {
        "duration": 0,
        "start_time": "2024-02-27T18:49:24.901Z"
      },
      {
        "duration": 31,
        "start_time": "2024-02-27T18:50:09.792Z"
      },
      {
        "duration": 29,
        "start_time": "2024-02-27T18:50:19.889Z"
      },
      {
        "duration": 19,
        "start_time": "2024-02-27T18:50:32.143Z"
      },
      {
        "duration": 10,
        "start_time": "2024-02-27T18:50:40.637Z"
      },
      {
        "duration": 32,
        "start_time": "2024-02-27T18:50:56.764Z"
      },
      {
        "duration": 12,
        "start_time": "2024-02-27T18:52:44.999Z"
      },
      {
        "duration": 8,
        "start_time": "2024-02-27T18:54:42.711Z"
      },
      {
        "duration": 7,
        "start_time": "2024-02-27T18:55:58.886Z"
      },
      {
        "duration": 19,
        "start_time": "2024-02-27T18:57:22.519Z"
      },
      {
        "duration": 10,
        "start_time": "2024-02-27T18:57:24.759Z"
      },
      {
        "duration": 16,
        "start_time": "2024-02-27T18:57:26.383Z"
      },
      {
        "duration": 879,
        "start_time": "2024-02-27T18:57:34.634Z"
      },
      {
        "duration": 139,
        "start_time": "2024-02-27T18:57:35.517Z"
      },
      {
        "duration": 34,
        "start_time": "2024-02-27T18:57:35.657Z"
      },
      {
        "duration": 4,
        "start_time": "2024-02-27T18:57:35.693Z"
      },
      {
        "duration": 35,
        "start_time": "2024-02-27T18:57:35.699Z"
      },
      {
        "duration": 21,
        "start_time": "2024-02-27T18:57:35.736Z"
      },
      {
        "duration": 5,
        "start_time": "2024-02-27T18:57:35.759Z"
      },
      {
        "duration": 25,
        "start_time": "2024-02-27T18:57:35.765Z"
      },
      {
        "duration": 26,
        "start_time": "2024-02-27T18:57:35.792Z"
      },
      {
        "duration": 4,
        "start_time": "2024-02-27T18:57:35.820Z"
      },
      {
        "duration": 16,
        "start_time": "2024-02-27T18:57:35.826Z"
      },
      {
        "duration": 9,
        "start_time": "2024-02-27T18:57:35.844Z"
      },
      {
        "duration": 15,
        "start_time": "2024-02-27T18:57:35.854Z"
      },
      {
        "duration": 7,
        "start_time": "2024-02-27T18:57:35.872Z"
      },
      {
        "duration": 14,
        "start_time": "2024-02-27T18:57:35.880Z"
      },
      {
        "duration": 28,
        "start_time": "2024-02-27T18:57:35.896Z"
      },
      {
        "duration": 10,
        "start_time": "2024-02-27T18:57:35.926Z"
      },
      {
        "duration": 370,
        "start_time": "2024-02-27T18:57:35.937Z"
      },
      {
        "duration": 10,
        "start_time": "2024-02-27T18:57:36.308Z"
      },
      {
        "duration": 40,
        "start_time": "2024-02-27T18:57:36.320Z"
      },
      {
        "duration": 767,
        "start_time": "2024-02-27T18:57:36.361Z"
      },
      {
        "duration": 2,
        "start_time": "2024-02-27T18:57:37.129Z"
      },
      {
        "duration": 20,
        "start_time": "2024-02-27T18:57:37.132Z"
      },
      {
        "duration": 197,
        "start_time": "2024-02-27T18:57:37.153Z"
      },
      {
        "duration": 8,
        "start_time": "2024-02-27T18:57:37.351Z"
      },
      {
        "duration": 17,
        "start_time": "2024-02-27T18:57:37.360Z"
      },
      {
        "duration": 18,
        "start_time": "2024-02-27T18:57:37.379Z"
      },
      {
        "duration": 22,
        "start_time": "2024-02-27T18:57:37.398Z"
      },
      {
        "duration": 38,
        "start_time": "2024-02-27T18:57:37.421Z"
      },
      {
        "duration": 11,
        "start_time": "2024-02-27T18:57:37.460Z"
      },
      {
        "duration": 35,
        "start_time": "2024-02-27T18:57:37.472Z"
      },
      {
        "duration": 9,
        "start_time": "2024-02-27T18:57:37.518Z"
      },
      {
        "duration": 10,
        "start_time": "2024-02-27T18:57:37.528Z"
      },
      {
        "duration": 8,
        "start_time": "2024-02-27T18:57:37.539Z"
      },
      {
        "duration": 4,
        "start_time": "2024-02-27T18:57:37.548Z"
      },
      {
        "duration": 29,
        "start_time": "2024-02-27T18:57:37.553Z"
      },
      {
        "duration": 14,
        "start_time": "2024-02-27T18:57:37.583Z"
      },
      {
        "duration": 6,
        "start_time": "2024-02-27T18:57:37.618Z"
      },
      {
        "duration": 13,
        "start_time": "2024-02-27T18:57:37.626Z"
      },
      {
        "duration": 11,
        "start_time": "2024-02-27T18:57:37.640Z"
      },
      {
        "duration": 180,
        "start_time": "2024-02-27T18:57:37.654Z"
      },
      {
        "duration": 0,
        "start_time": "2024-02-27T18:57:37.835Z"
      },
      {
        "duration": 0,
        "start_time": "2024-02-27T18:57:37.836Z"
      },
      {
        "duration": 0,
        "start_time": "2024-02-27T18:57:37.837Z"
      },
      {
        "duration": 0,
        "start_time": "2024-02-27T18:57:37.838Z"
      },
      {
        "duration": 0,
        "start_time": "2024-02-27T18:57:37.839Z"
      },
      {
        "duration": 0,
        "start_time": "2024-02-27T18:57:37.840Z"
      },
      {
        "duration": 0,
        "start_time": "2024-02-27T18:57:37.841Z"
      },
      {
        "duration": 24,
        "start_time": "2024-02-27T18:58:24.200Z"
      },
      {
        "duration": 14,
        "start_time": "2024-02-27T18:58:27.023Z"
      },
      {
        "duration": 30,
        "start_time": "2024-02-27T18:58:29.119Z"
      },
      {
        "duration": 11,
        "start_time": "2024-02-27T18:58:45.313Z"
      },
      {
        "duration": 13,
        "start_time": "2024-02-27T18:58:58.064Z"
      },
      {
        "duration": 7,
        "start_time": "2024-02-27T18:59:06.327Z"
      },
      {
        "duration": 28,
        "start_time": "2024-02-27T19:02:13.905Z"
      },
      {
        "duration": 9,
        "start_time": "2024-02-27T19:02:26.569Z"
      },
      {
        "duration": 11,
        "start_time": "2024-02-27T19:02:30.214Z"
      },
      {
        "duration": 10,
        "start_time": "2024-02-27T19:02:34.157Z"
      },
      {
        "duration": 8,
        "start_time": "2024-02-27T19:06:12.931Z"
      },
      {
        "duration": 7,
        "start_time": "2024-02-27T19:10:42.421Z"
      },
      {
        "duration": 9,
        "start_time": "2024-02-27T19:11:01.785Z"
      },
      {
        "duration": 8,
        "start_time": "2024-02-27T19:17:08.219Z"
      },
      {
        "duration": 11,
        "start_time": "2024-02-27T19:19:15.789Z"
      },
      {
        "duration": 11,
        "start_time": "2024-02-27T19:20:16.353Z"
      },
      {
        "duration": 11,
        "start_time": "2024-02-27T19:39:38.145Z"
      },
      {
        "duration": 10,
        "start_time": "2024-02-27T19:39:49.083Z"
      },
      {
        "duration": 7,
        "start_time": "2024-02-27T19:40:51.713Z"
      },
      {
        "duration": 934,
        "start_time": "2024-02-27T19:50:37.895Z"
      },
      {
        "duration": 141,
        "start_time": "2024-02-27T19:50:38.831Z"
      },
      {
        "duration": 31,
        "start_time": "2024-02-27T19:50:38.975Z"
      },
      {
        "duration": 10,
        "start_time": "2024-02-27T19:50:39.008Z"
      },
      {
        "duration": 31,
        "start_time": "2024-02-27T19:50:39.019Z"
      },
      {
        "duration": 35,
        "start_time": "2024-02-27T19:50:39.052Z"
      },
      {
        "duration": 7,
        "start_time": "2024-02-27T19:50:39.089Z"
      },
      {
        "duration": 39,
        "start_time": "2024-02-27T19:50:39.097Z"
      },
      {
        "duration": 12,
        "start_time": "2024-02-27T19:50:39.138Z"
      },
      {
        "duration": 13,
        "start_time": "2024-02-27T19:50:39.152Z"
      },
      {
        "duration": 20,
        "start_time": "2024-02-27T19:50:39.166Z"
      },
      {
        "duration": 23,
        "start_time": "2024-02-27T19:50:39.188Z"
      },
      {
        "duration": 5,
        "start_time": "2024-02-27T19:50:39.218Z"
      },
      {
        "duration": 7,
        "start_time": "2024-02-27T19:50:39.224Z"
      },
      {
        "duration": 13,
        "start_time": "2024-02-27T19:50:39.232Z"
      },
      {
        "duration": 6,
        "start_time": "2024-02-27T19:50:39.247Z"
      },
      {
        "duration": 10,
        "start_time": "2024-02-27T19:50:39.254Z"
      },
      {
        "duration": 409,
        "start_time": "2024-02-27T19:50:39.265Z"
      },
      {
        "duration": 16,
        "start_time": "2024-02-27T19:50:39.675Z"
      },
      {
        "duration": 67,
        "start_time": "2024-02-27T19:50:39.693Z"
      },
      {
        "duration": 775,
        "start_time": "2024-02-27T19:50:39.762Z"
      },
      {
        "duration": 190,
        "start_time": "2024-02-27T19:50:40.538Z"
      },
      {
        "duration": 7,
        "start_time": "2024-02-27T19:50:40.730Z"
      },
      {
        "duration": 25,
        "start_time": "2024-02-27T19:50:40.738Z"
      },
      {
        "duration": 11,
        "start_time": "2024-02-27T19:50:40.765Z"
      },
      {
        "duration": 10,
        "start_time": "2024-02-27T19:50:40.778Z"
      },
      {
        "duration": 53,
        "start_time": "2024-02-27T19:50:40.789Z"
      },
      {
        "duration": 12,
        "start_time": "2024-02-27T19:50:40.843Z"
      },
      {
        "duration": 27,
        "start_time": "2024-02-27T19:50:40.857Z"
      },
      {
        "duration": 8,
        "start_time": "2024-02-27T19:50:40.886Z"
      },
      {
        "duration": 25,
        "start_time": "2024-02-27T19:50:40.896Z"
      },
      {
        "duration": 7,
        "start_time": "2024-02-27T19:50:40.922Z"
      },
      {
        "duration": 25,
        "start_time": "2024-02-27T19:50:40.931Z"
      },
      {
        "duration": 13,
        "start_time": "2024-02-27T19:50:40.958Z"
      },
      {
        "duration": 14,
        "start_time": "2024-02-27T19:50:40.972Z"
      },
      {
        "duration": 5,
        "start_time": "2024-02-27T19:50:40.987Z"
      },
      {
        "duration": 31,
        "start_time": "2024-02-27T19:50:40.994Z"
      },
      {
        "duration": 14,
        "start_time": "2024-02-27T19:50:41.026Z"
      },
      {
        "duration": 22,
        "start_time": "2024-02-27T19:50:41.041Z"
      },
      {
        "duration": 10,
        "start_time": "2024-02-27T19:50:41.066Z"
      },
      {
        "duration": 9,
        "start_time": "2024-02-27T19:50:41.077Z"
      },
      {
        "duration": 31,
        "start_time": "2024-02-27T19:50:41.088Z"
      },
      {
        "duration": 9,
        "start_time": "2024-02-27T19:50:41.120Z"
      },
      {
        "duration": 11,
        "start_time": "2024-02-27T19:50:41.131Z"
      },
      {
        "duration": 15,
        "start_time": "2024-02-27T19:50:41.143Z"
      },
      {
        "duration": 8,
        "start_time": "2024-02-27T19:50:41.160Z"
      },
      {
        "duration": 835,
        "start_time": "2024-02-27T20:50:08.175Z"
      },
      {
        "duration": 129,
        "start_time": "2024-02-27T20:50:09.012Z"
      },
      {
        "duration": 29,
        "start_time": "2024-02-27T20:50:09.142Z"
      },
      {
        "duration": 3,
        "start_time": "2024-02-27T20:50:09.172Z"
      },
      {
        "duration": 26,
        "start_time": "2024-02-27T20:50:09.177Z"
      },
      {
        "duration": 28,
        "start_time": "2024-02-27T20:50:09.204Z"
      },
      {
        "duration": 5,
        "start_time": "2024-02-27T20:50:09.233Z"
      },
      {
        "duration": 23,
        "start_time": "2024-02-27T20:50:09.239Z"
      },
      {
        "duration": 11,
        "start_time": "2024-02-27T20:50:09.264Z"
      },
      {
        "duration": 6,
        "start_time": "2024-02-27T20:50:09.276Z"
      },
      {
        "duration": 46,
        "start_time": "2024-02-27T20:50:09.283Z"
      },
      {
        "duration": 11,
        "start_time": "2024-02-27T20:50:09.331Z"
      },
      {
        "duration": 11,
        "start_time": "2024-02-27T20:50:09.343Z"
      },
      {
        "duration": 5,
        "start_time": "2024-02-27T20:50:09.356Z"
      },
      {
        "duration": 14,
        "start_time": "2024-02-27T20:50:09.362Z"
      },
      {
        "duration": 6,
        "start_time": "2024-02-27T20:50:09.377Z"
      },
      {
        "duration": 38,
        "start_time": "2024-02-27T20:50:09.384Z"
      },
      {
        "duration": 423,
        "start_time": "2024-02-27T20:50:09.424Z"
      },
      {
        "duration": 11,
        "start_time": "2024-02-27T20:50:09.849Z"
      },
      {
        "duration": 88,
        "start_time": "2024-02-27T20:50:09.862Z"
      },
      {
        "duration": 739,
        "start_time": "2024-02-27T20:50:09.952Z"
      },
      {
        "duration": 208,
        "start_time": "2024-02-27T20:50:10.693Z"
      },
      {
        "duration": 7,
        "start_time": "2024-02-27T20:50:10.902Z"
      },
      {
        "duration": 13,
        "start_time": "2024-02-27T20:50:10.918Z"
      },
      {
        "duration": 11,
        "start_time": "2024-02-27T20:50:10.932Z"
      },
      {
        "duration": 10,
        "start_time": "2024-02-27T20:50:10.944Z"
      },
      {
        "duration": 30,
        "start_time": "2024-02-27T20:50:10.955Z"
      },
      {
        "duration": 38,
        "start_time": "2024-02-27T20:50:10.987Z"
      },
      {
        "duration": 30,
        "start_time": "2024-02-27T20:50:11.026Z"
      },
      {
        "duration": 9,
        "start_time": "2024-02-27T20:50:11.057Z"
      },
      {
        "duration": 13,
        "start_time": "2024-02-27T20:50:11.067Z"
      },
      {
        "duration": 10,
        "start_time": "2024-02-27T20:50:11.081Z"
      },
      {
        "duration": 26,
        "start_time": "2024-02-27T20:50:11.092Z"
      },
      {
        "duration": 11,
        "start_time": "2024-02-27T20:50:11.120Z"
      },
      {
        "duration": 16,
        "start_time": "2024-02-27T20:50:11.133Z"
      },
      {
        "duration": 5,
        "start_time": "2024-02-27T20:50:11.150Z"
      },
      {
        "duration": 13,
        "start_time": "2024-02-27T20:50:11.157Z"
      },
      {
        "duration": 9,
        "start_time": "2024-02-27T20:50:11.171Z"
      },
      {
        "duration": 49,
        "start_time": "2024-02-27T20:50:11.181Z"
      },
      {
        "duration": 13,
        "start_time": "2024-02-27T20:50:11.232Z"
      },
      {
        "duration": 24,
        "start_time": "2024-02-27T20:50:11.248Z"
      },
      {
        "duration": 32,
        "start_time": "2024-02-27T20:50:11.273Z"
      },
      {
        "duration": 15,
        "start_time": "2024-02-27T20:50:11.307Z"
      },
      {
        "duration": 9,
        "start_time": "2024-02-27T20:50:11.323Z"
      },
      {
        "duration": 9,
        "start_time": "2024-02-27T20:50:11.334Z"
      },
      {
        "duration": 9,
        "start_time": "2024-02-27T20:50:11.345Z"
      },
      {
        "duration": 911,
        "start_time": "2024-02-27T20:56:26.601Z"
      },
      {
        "duration": 129,
        "start_time": "2024-02-27T20:56:27.514Z"
      },
      {
        "duration": 27,
        "start_time": "2024-02-27T20:56:27.644Z"
      },
      {
        "duration": 2,
        "start_time": "2024-02-27T20:56:27.673Z"
      },
      {
        "duration": 31,
        "start_time": "2024-02-27T20:56:27.677Z"
      },
      {
        "duration": 23,
        "start_time": "2024-02-27T20:56:27.709Z"
      },
      {
        "duration": 5,
        "start_time": "2024-02-27T20:56:27.733Z"
      },
      {
        "duration": 26,
        "start_time": "2024-02-27T20:56:27.740Z"
      },
      {
        "duration": 10,
        "start_time": "2024-02-27T20:56:27.768Z"
      },
      {
        "duration": 8,
        "start_time": "2024-02-27T20:56:27.779Z"
      },
      {
        "duration": 33,
        "start_time": "2024-02-27T20:56:27.788Z"
      },
      {
        "duration": 10,
        "start_time": "2024-02-27T20:56:27.822Z"
      },
      {
        "duration": 7,
        "start_time": "2024-02-27T20:56:27.833Z"
      },
      {
        "duration": 14,
        "start_time": "2024-02-27T20:56:27.842Z"
      },
      {
        "duration": 14,
        "start_time": "2024-02-27T20:56:27.858Z"
      },
      {
        "duration": 5,
        "start_time": "2024-02-27T20:56:27.874Z"
      },
      {
        "duration": 8,
        "start_time": "2024-02-27T20:56:27.881Z"
      },
      {
        "duration": 378,
        "start_time": "2024-02-27T20:56:27.891Z"
      },
      {
        "duration": 9,
        "start_time": "2024-02-27T20:56:28.271Z"
      },
      {
        "duration": 68,
        "start_time": "2024-02-27T20:56:28.281Z"
      },
      {
        "duration": 849,
        "start_time": "2024-02-27T20:56:28.351Z"
      },
      {
        "duration": 196,
        "start_time": "2024-02-27T20:56:29.201Z"
      },
      {
        "duration": 8,
        "start_time": "2024-02-27T20:56:29.398Z"
      },
      {
        "duration": 12,
        "start_time": "2024-02-27T20:56:29.417Z"
      },
      {
        "duration": 11,
        "start_time": "2024-02-27T20:56:29.431Z"
      },
      {
        "duration": 9,
        "start_time": "2024-02-27T20:56:29.444Z"
      },
      {
        "duration": 32,
        "start_time": "2024-02-27T20:56:29.455Z"
      },
      {
        "duration": 36,
        "start_time": "2024-02-27T20:56:29.488Z"
      },
      {
        "duration": 31,
        "start_time": "2024-02-27T20:56:29.525Z"
      },
      {
        "duration": 9,
        "start_time": "2024-02-27T20:56:29.557Z"
      },
      {
        "duration": 10,
        "start_time": "2024-02-27T20:56:29.567Z"
      },
      {
        "duration": 8,
        "start_time": "2024-02-27T20:56:29.578Z"
      },
      {
        "duration": 33,
        "start_time": "2024-02-27T20:56:29.587Z"
      },
      {
        "duration": 13,
        "start_time": "2024-02-27T20:56:29.622Z"
      },
      {
        "duration": 13,
        "start_time": "2024-02-27T20:56:29.637Z"
      },
      {
        "duration": 5,
        "start_time": "2024-02-27T20:56:29.652Z"
      },
      {
        "duration": 24,
        "start_time": "2024-02-27T20:56:29.658Z"
      },
      {
        "duration": 11,
        "start_time": "2024-02-27T20:56:29.683Z"
      },
      {
        "duration": 47,
        "start_time": "2024-02-27T20:56:29.696Z"
      },
      {
        "duration": 16,
        "start_time": "2024-02-27T20:56:29.745Z"
      },
      {
        "duration": 13,
        "start_time": "2024-02-27T20:56:29.765Z"
      },
      {
        "duration": 8,
        "start_time": "2024-02-27T20:56:29.779Z"
      },
      {
        "duration": 32,
        "start_time": "2024-02-27T20:56:29.789Z"
      },
      {
        "duration": 10,
        "start_time": "2024-02-27T20:56:29.823Z"
      },
      {
        "duration": 10,
        "start_time": "2024-02-27T20:56:29.835Z"
      },
      {
        "duration": 8,
        "start_time": "2024-02-27T20:56:29.846Z"
      },
      {
        "duration": 1004,
        "start_time": "2024-02-28T10:25:54.746Z"
      },
      {
        "duration": 213,
        "start_time": "2024-02-28T10:25:55.752Z"
      },
      {
        "duration": 65,
        "start_time": "2024-02-28T10:25:55.967Z"
      },
      {
        "duration": 3,
        "start_time": "2024-02-28T10:25:56.034Z"
      },
      {
        "duration": 41,
        "start_time": "2024-02-28T10:25:56.039Z"
      },
      {
        "duration": 27,
        "start_time": "2024-02-28T10:25:56.081Z"
      },
      {
        "duration": 11,
        "start_time": "2024-02-28T10:25:56.109Z"
      },
      {
        "duration": 75,
        "start_time": "2024-02-28T10:25:56.122Z"
      },
      {
        "duration": 20,
        "start_time": "2024-02-28T10:25:56.199Z"
      },
      {
        "duration": 26,
        "start_time": "2024-02-28T10:25:56.220Z"
      },
      {
        "duration": 22,
        "start_time": "2024-02-28T10:25:56.247Z"
      },
      {
        "duration": 11,
        "start_time": "2024-02-28T10:25:56.271Z"
      },
      {
        "duration": 46,
        "start_time": "2024-02-28T10:25:56.284Z"
      },
      {
        "duration": 28,
        "start_time": "2024-02-28T10:25:56.333Z"
      },
      {
        "duration": 50,
        "start_time": "2024-02-28T10:25:56.362Z"
      },
      {
        "duration": 48,
        "start_time": "2024-02-28T10:25:56.414Z"
      },
      {
        "duration": 54,
        "start_time": "2024-02-28T10:25:56.464Z"
      },
      {
        "duration": 1023,
        "start_time": "2024-02-28T10:25:56.520Z"
      },
      {
        "duration": 11,
        "start_time": "2024-02-28T10:25:57.545Z"
      },
      {
        "duration": 70,
        "start_time": "2024-02-28T10:25:57.558Z"
      },
      {
        "duration": 944,
        "start_time": "2024-02-28T10:25:57.630Z"
      },
      {
        "duration": 241,
        "start_time": "2024-02-28T10:25:58.576Z"
      },
      {
        "duration": 10,
        "start_time": "2024-02-28T10:25:58.819Z"
      },
      {
        "duration": 17,
        "start_time": "2024-02-28T10:25:58.830Z"
      },
      {
        "duration": 32,
        "start_time": "2024-02-28T10:25:58.849Z"
      },
      {
        "duration": 13,
        "start_time": "2024-02-28T10:25:58.883Z"
      },
      {
        "duration": 41,
        "start_time": "2024-02-28T10:25:58.898Z"
      },
      {
        "duration": 17,
        "start_time": "2024-02-28T10:25:58.940Z"
      },
      {
        "duration": 73,
        "start_time": "2024-02-28T10:25:58.959Z"
      },
      {
        "duration": 11,
        "start_time": "2024-02-28T10:25:59.034Z"
      },
      {
        "duration": 11,
        "start_time": "2024-02-28T10:25:59.047Z"
      },
      {
        "duration": 28,
        "start_time": "2024-02-28T10:25:59.060Z"
      },
      {
        "duration": 4,
        "start_time": "2024-02-28T10:25:59.090Z"
      },
      {
        "duration": 19,
        "start_time": "2024-02-28T10:25:59.096Z"
      },
      {
        "duration": 15,
        "start_time": "2024-02-28T10:25:59.117Z"
      },
      {
        "duration": 5,
        "start_time": "2024-02-28T10:25:59.134Z"
      },
      {
        "duration": 10,
        "start_time": "2024-02-28T10:25:59.141Z"
      },
      {
        "duration": 39,
        "start_time": "2024-02-28T10:25:59.153Z"
      },
      {
        "duration": 25,
        "start_time": "2024-02-28T10:25:59.194Z"
      },
      {
        "duration": 17,
        "start_time": "2024-02-28T10:25:59.220Z"
      },
      {
        "duration": 12,
        "start_time": "2024-02-28T10:25:59.242Z"
      },
      {
        "duration": 10,
        "start_time": "2024-02-28T10:25:59.287Z"
      },
      {
        "duration": 19,
        "start_time": "2024-02-28T10:25:59.298Z"
      },
      {
        "duration": 18,
        "start_time": "2024-02-28T10:25:59.319Z"
      },
      {
        "duration": 20,
        "start_time": "2024-02-28T10:25:59.339Z"
      },
      {
        "duration": 9,
        "start_time": "2024-02-28T10:25:59.361Z"
      },
      {
        "duration": 143,
        "start_time": "2024-02-28T10:28:52.635Z"
      },
      {
        "duration": 9,
        "start_time": "2024-02-28T10:28:58.502Z"
      },
      {
        "duration": 12,
        "start_time": "2024-02-28T10:29:05.763Z"
      },
      {
        "duration": 11,
        "start_time": "2024-02-28T10:29:19.283Z"
      },
      {
        "duration": 11,
        "start_time": "2024-02-28T10:29:25.394Z"
      },
      {
        "duration": 10,
        "start_time": "2024-02-28T10:29:47.000Z"
      },
      {
        "duration": 11,
        "start_time": "2024-02-28T10:29:51.786Z"
      },
      {
        "duration": 922,
        "start_time": "2024-02-28T11:44:05.121Z"
      },
      {
        "duration": 468,
        "start_time": "2024-02-28T11:44:07.268Z"
      },
      {
        "duration": 899,
        "start_time": "2024-02-28T11:44:53.562Z"
      },
      {
        "duration": 133,
        "start_time": "2024-02-28T11:44:54.464Z"
      },
      {
        "duration": 118,
        "start_time": "2024-02-28T11:44:54.599Z"
      },
      {
        "duration": 3,
        "start_time": "2024-02-28T11:44:54.719Z"
      },
      {
        "duration": 51,
        "start_time": "2024-02-28T11:44:54.723Z"
      },
      {
        "duration": 28,
        "start_time": "2024-02-28T11:44:54.776Z"
      },
      {
        "duration": 5,
        "start_time": "2024-02-28T11:44:54.806Z"
      },
      {
        "duration": 45,
        "start_time": "2024-02-28T11:44:54.813Z"
      },
      {
        "duration": 11,
        "start_time": "2024-02-28T11:44:54.859Z"
      },
      {
        "duration": 33,
        "start_time": "2024-02-28T11:44:54.873Z"
      },
      {
        "duration": 87,
        "start_time": "2024-02-28T11:44:54.907Z"
      },
      {
        "duration": 42,
        "start_time": "2024-02-28T11:44:54.996Z"
      },
      {
        "duration": 39,
        "start_time": "2024-02-28T11:44:55.040Z"
      },
      {
        "duration": 28,
        "start_time": "2024-02-28T11:44:55.081Z"
      },
      {
        "duration": 19,
        "start_time": "2024-02-28T11:44:55.111Z"
      },
      {
        "duration": 7,
        "start_time": "2024-02-28T11:44:55.132Z"
      },
      {
        "duration": 21,
        "start_time": "2024-02-28T11:44:55.140Z"
      },
      {
        "duration": 444,
        "start_time": "2024-02-28T11:44:55.163Z"
      },
      {
        "duration": 13,
        "start_time": "2024-02-28T11:44:55.608Z"
      },
      {
        "duration": 64,
        "start_time": "2024-02-28T11:44:55.622Z"
      },
      {
        "duration": 819,
        "start_time": "2024-02-28T11:44:55.688Z"
      },
      {
        "duration": 212,
        "start_time": "2024-02-28T11:44:56.509Z"
      },
      {
        "duration": 10,
        "start_time": "2024-02-28T11:44:56.723Z"
      },
      {
        "duration": 46,
        "start_time": "2024-02-28T11:44:56.735Z"
      },
      {
        "duration": 22,
        "start_time": "2024-02-28T11:44:56.782Z"
      },
      {
        "duration": 41,
        "start_time": "2024-02-28T11:44:56.806Z"
      },
      {
        "duration": 55,
        "start_time": "2024-02-28T11:44:56.849Z"
      },
      {
        "duration": 36,
        "start_time": "2024-02-28T11:44:56.908Z"
      },
      {
        "duration": 79,
        "start_time": "2024-02-28T11:44:56.946Z"
      },
      {
        "duration": 17,
        "start_time": "2024-02-28T11:44:57.027Z"
      },
      {
        "duration": 46,
        "start_time": "2024-02-28T11:44:57.045Z"
      },
      {
        "duration": 61,
        "start_time": "2024-02-28T11:44:57.093Z"
      },
      {
        "duration": 46,
        "start_time": "2024-02-28T11:44:57.155Z"
      },
      {
        "duration": 74,
        "start_time": "2024-02-28T11:44:57.203Z"
      },
      {
        "duration": 103,
        "start_time": "2024-02-28T11:44:57.278Z"
      },
      {
        "duration": 33,
        "start_time": "2024-02-28T11:44:57.382Z"
      },
      {
        "duration": 29,
        "start_time": "2024-02-28T11:44:57.416Z"
      },
      {
        "duration": 34,
        "start_time": "2024-02-28T11:44:57.447Z"
      },
      {
        "duration": 46,
        "start_time": "2024-02-28T11:44:57.483Z"
      },
      {
        "duration": 51,
        "start_time": "2024-02-28T11:44:57.530Z"
      },
      {
        "duration": 36,
        "start_time": "2024-02-28T11:44:57.583Z"
      },
      {
        "duration": 29,
        "start_time": "2024-02-28T11:44:57.621Z"
      },
      {
        "duration": 67,
        "start_time": "2024-02-28T11:44:57.651Z"
      },
      {
        "duration": 44,
        "start_time": "2024-02-28T11:44:57.720Z"
      },
      {
        "duration": 46,
        "start_time": "2024-02-28T11:44:57.765Z"
      },
      {
        "duration": 30,
        "start_time": "2024-02-28T11:44:57.812Z"
      },
      {
        "duration": 942,
        "start_time": "2024-02-28T11:45:33.914Z"
      },
      {
        "duration": 136,
        "start_time": "2024-02-28T11:45:34.858Z"
      },
      {
        "duration": 31,
        "start_time": "2024-02-28T11:45:34.999Z"
      },
      {
        "duration": 3,
        "start_time": "2024-02-28T11:45:35.032Z"
      },
      {
        "duration": 65,
        "start_time": "2024-02-28T11:45:35.037Z"
      },
      {
        "duration": 34,
        "start_time": "2024-02-28T11:45:35.104Z"
      },
      {
        "duration": 13,
        "start_time": "2024-02-28T11:45:35.140Z"
      },
      {
        "duration": 40,
        "start_time": "2024-02-28T11:45:35.156Z"
      },
      {
        "duration": 10,
        "start_time": "2024-02-28T11:45:35.199Z"
      },
      {
        "duration": 27,
        "start_time": "2024-02-28T11:45:35.210Z"
      },
      {
        "duration": 32,
        "start_time": "2024-02-28T11:45:35.238Z"
      },
      {
        "duration": 24,
        "start_time": "2024-02-28T11:45:35.271Z"
      },
      {
        "duration": 34,
        "start_time": "2024-02-28T11:45:35.297Z"
      },
      {
        "duration": 46,
        "start_time": "2024-02-28T11:45:35.332Z"
      },
      {
        "duration": 44,
        "start_time": "2024-02-28T11:45:35.379Z"
      },
      {
        "duration": 10,
        "start_time": "2024-02-28T11:45:35.424Z"
      },
      {
        "duration": 18,
        "start_time": "2024-02-28T11:45:35.436Z"
      },
      {
        "duration": 461,
        "start_time": "2024-02-28T11:45:35.455Z"
      },
      {
        "duration": 12,
        "start_time": "2024-02-28T11:45:35.918Z"
      },
      {
        "duration": 49,
        "start_time": "2024-02-28T11:45:35.932Z"
      },
      {
        "duration": 820,
        "start_time": "2024-02-28T11:45:35.983Z"
      },
      {
        "duration": 338,
        "start_time": "2024-02-28T11:45:36.805Z"
      },
      {
        "duration": 0,
        "start_time": "2024-02-28T11:45:37.146Z"
      },
      {
        "duration": 0,
        "start_time": "2024-02-28T11:45:37.148Z"
      },
      {
        "duration": 0,
        "start_time": "2024-02-28T11:45:37.149Z"
      },
      {
        "duration": 0,
        "start_time": "2024-02-28T11:45:37.150Z"
      },
      {
        "duration": 0,
        "start_time": "2024-02-28T11:45:37.166Z"
      },
      {
        "duration": 0,
        "start_time": "2024-02-28T11:45:37.167Z"
      },
      {
        "duration": 0,
        "start_time": "2024-02-28T11:45:37.169Z"
      },
      {
        "duration": 0,
        "start_time": "2024-02-28T11:45:37.170Z"
      },
      {
        "duration": 0,
        "start_time": "2024-02-28T11:45:37.172Z"
      },
      {
        "duration": 0,
        "start_time": "2024-02-28T11:45:37.173Z"
      },
      {
        "duration": 0,
        "start_time": "2024-02-28T11:45:37.174Z"
      },
      {
        "duration": 1,
        "start_time": "2024-02-28T11:45:37.175Z"
      },
      {
        "duration": 0,
        "start_time": "2024-02-28T11:45:37.177Z"
      },
      {
        "duration": 0,
        "start_time": "2024-02-28T11:45:37.178Z"
      },
      {
        "duration": 0,
        "start_time": "2024-02-28T11:45:37.180Z"
      },
      {
        "duration": 0,
        "start_time": "2024-02-28T11:45:37.181Z"
      },
      {
        "duration": 0,
        "start_time": "2024-02-28T11:45:37.182Z"
      },
      {
        "duration": 0,
        "start_time": "2024-02-28T11:45:37.184Z"
      },
      {
        "duration": 0,
        "start_time": "2024-02-28T11:45:37.185Z"
      },
      {
        "duration": 0,
        "start_time": "2024-02-28T11:45:37.186Z"
      },
      {
        "duration": 0,
        "start_time": "2024-02-28T11:45:37.188Z"
      },
      {
        "duration": 0,
        "start_time": "2024-02-28T11:45:37.189Z"
      },
      {
        "duration": 0,
        "start_time": "2024-02-28T11:45:37.190Z"
      },
      {
        "duration": 0,
        "start_time": "2024-02-28T11:45:37.192Z"
      },
      {
        "duration": 10,
        "start_time": "2024-02-28T11:46:38.167Z"
      },
      {
        "duration": 20,
        "start_time": "2024-02-28T11:47:30.285Z"
      },
      {
        "duration": 19,
        "start_time": "2024-02-28T11:48:12.965Z"
      },
      {
        "duration": 19,
        "start_time": "2024-02-28T11:48:19.781Z"
      },
      {
        "duration": 186,
        "start_time": "2024-02-28T11:48:40.189Z"
      },
      {
        "duration": 9,
        "start_time": "2024-02-28T11:48:52.700Z"
      },
      {
        "duration": 14,
        "start_time": "2024-02-28T11:49:05.389Z"
      },
      {
        "duration": 10,
        "start_time": "2024-02-28T11:50:16.964Z"
      },
      {
        "duration": 13,
        "start_time": "2024-02-28T11:50:41.173Z"
      },
      {
        "duration": 11,
        "start_time": "2024-02-28T11:51:06.023Z"
      },
      {
        "duration": 10,
        "start_time": "2024-02-28T11:53:37.628Z"
      },
      {
        "duration": 9,
        "start_time": "2024-02-28T11:53:47.533Z"
      },
      {
        "duration": 10,
        "start_time": "2024-02-28T11:54:02.069Z"
      },
      {
        "duration": 10,
        "start_time": "2024-02-28T11:54:10.157Z"
      },
      {
        "duration": 9,
        "start_time": "2024-02-28T11:54:16.492Z"
      },
      {
        "duration": 9,
        "start_time": "2024-02-28T11:54:23.828Z"
      },
      {
        "duration": 10,
        "start_time": "2024-02-28T11:54:28.652Z"
      },
      {
        "duration": 9,
        "start_time": "2024-02-28T11:54:35.485Z"
      },
      {
        "duration": 9,
        "start_time": "2024-02-28T11:54:41.061Z"
      },
      {
        "duration": 9,
        "start_time": "2024-02-28T11:54:55.416Z"
      },
      {
        "duration": 9,
        "start_time": "2024-02-28T11:55:00.501Z"
      },
      {
        "duration": 10,
        "start_time": "2024-02-28T11:55:06.918Z"
      },
      {
        "duration": 10,
        "start_time": "2024-02-28T11:55:14.189Z"
      },
      {
        "duration": 9,
        "start_time": "2024-02-28T11:55:20.557Z"
      },
      {
        "duration": 9,
        "start_time": "2024-02-28T11:55:25.741Z"
      },
      {
        "duration": 9,
        "start_time": "2024-02-28T11:55:31.748Z"
      },
      {
        "duration": 9,
        "start_time": "2024-02-28T11:55:54.389Z"
      },
      {
        "duration": 10,
        "start_time": "2024-02-28T11:56:01.389Z"
      },
      {
        "duration": 9,
        "start_time": "2024-02-28T11:56:55.645Z"
      },
      {
        "duration": 10,
        "start_time": "2024-02-28T11:57:01.669Z"
      },
      {
        "duration": 9,
        "start_time": "2024-02-28T11:57:06.780Z"
      },
      {
        "duration": 8,
        "start_time": "2024-02-28T11:57:14.437Z"
      },
      {
        "duration": 9,
        "start_time": "2024-02-28T11:57:20.285Z"
      },
      {
        "duration": 9,
        "start_time": "2024-02-28T11:57:27.644Z"
      },
      {
        "duration": 10,
        "start_time": "2024-02-28T11:58:00.661Z"
      },
      {
        "duration": 237,
        "start_time": "2024-02-28T12:01:30.517Z"
      },
      {
        "duration": 186,
        "start_time": "2024-02-28T12:01:40.196Z"
      },
      {
        "duration": 5,
        "start_time": "2024-02-28T12:01:55.868Z"
      },
      {
        "duration": 13,
        "start_time": "2024-02-28T12:02:06.716Z"
      },
      {
        "duration": 4,
        "start_time": "2024-02-28T12:02:19.555Z"
      },
      {
        "duration": 2,
        "start_time": "2024-02-28T12:02:25.635Z"
      },
      {
        "duration": 926,
        "start_time": "2024-02-28T12:02:53.857Z"
      },
      {
        "duration": 136,
        "start_time": "2024-02-28T12:02:54.785Z"
      },
      {
        "duration": 30,
        "start_time": "2024-02-28T12:02:54.923Z"
      },
      {
        "duration": 2,
        "start_time": "2024-02-28T12:02:54.955Z"
      },
      {
        "duration": 65,
        "start_time": "2024-02-28T12:02:54.959Z"
      },
      {
        "duration": 25,
        "start_time": "2024-02-28T12:02:55.025Z"
      },
      {
        "duration": 16,
        "start_time": "2024-02-28T12:02:55.051Z"
      },
      {
        "duration": 54,
        "start_time": "2024-02-28T12:02:55.068Z"
      },
      {
        "duration": 11,
        "start_time": "2024-02-28T12:02:55.124Z"
      },
      {
        "duration": 10,
        "start_time": "2024-02-28T12:02:55.137Z"
      },
      {
        "duration": 36,
        "start_time": "2024-02-28T12:02:55.148Z"
      },
      {
        "duration": 15,
        "start_time": "2024-02-28T12:02:55.185Z"
      },
      {
        "duration": 11,
        "start_time": "2024-02-28T12:02:55.201Z"
      },
      {
        "duration": 15,
        "start_time": "2024-02-28T12:02:55.214Z"
      },
      {
        "duration": 15,
        "start_time": "2024-02-28T12:02:55.231Z"
      },
      {
        "duration": 6,
        "start_time": "2024-02-28T12:02:55.248Z"
      },
      {
        "duration": 8,
        "start_time": "2024-02-28T12:02:55.266Z"
      },
      {
        "duration": 415,
        "start_time": "2024-02-28T12:02:55.275Z"
      },
      {
        "duration": 9,
        "start_time": "2024-02-28T12:02:55.692Z"
      },
      {
        "duration": 66,
        "start_time": "2024-02-28T12:02:55.703Z"
      },
      {
        "duration": 822,
        "start_time": "2024-02-28T12:02:55.770Z"
      },
      {
        "duration": 11,
        "start_time": "2024-02-28T12:02:56.594Z"
      },
      {
        "duration": 33,
        "start_time": "2024-02-28T12:02:56.606Z"
      },
      {
        "duration": 3,
        "start_time": "2024-02-28T12:02:56.641Z"
      },
      {
        "duration": 183,
        "start_time": "2024-02-28T12:02:56.646Z"
      },
      {
        "duration": 0,
        "start_time": "2024-02-28T12:02:56.831Z"
      },
      {
        "duration": 0,
        "start_time": "2024-02-28T12:02:56.833Z"
      },
      {
        "duration": 0,
        "start_time": "2024-02-28T12:02:56.834Z"
      },
      {
        "duration": 0,
        "start_time": "2024-02-28T12:02:56.835Z"
      },
      {
        "duration": 0,
        "start_time": "2024-02-28T12:02:56.836Z"
      },
      {
        "duration": 0,
        "start_time": "2024-02-28T12:02:56.837Z"
      },
      {
        "duration": 0,
        "start_time": "2024-02-28T12:02:56.839Z"
      },
      {
        "duration": 0,
        "start_time": "2024-02-28T12:02:56.840Z"
      },
      {
        "duration": 0,
        "start_time": "2024-02-28T12:02:56.841Z"
      },
      {
        "duration": 0,
        "start_time": "2024-02-28T12:02:56.841Z"
      },
      {
        "duration": 0,
        "start_time": "2024-02-28T12:02:56.842Z"
      },
      {
        "duration": 0,
        "start_time": "2024-02-28T12:02:56.843Z"
      },
      {
        "duration": 0,
        "start_time": "2024-02-28T12:02:56.867Z"
      },
      {
        "duration": 0,
        "start_time": "2024-02-28T12:02:56.868Z"
      },
      {
        "duration": 0,
        "start_time": "2024-02-28T12:02:56.870Z"
      },
      {
        "duration": 0,
        "start_time": "2024-02-28T12:02:56.871Z"
      },
      {
        "duration": 0,
        "start_time": "2024-02-28T12:02:56.872Z"
      },
      {
        "duration": 0,
        "start_time": "2024-02-28T12:02:56.874Z"
      },
      {
        "duration": 0,
        "start_time": "2024-02-28T12:02:56.875Z"
      },
      {
        "duration": 0,
        "start_time": "2024-02-28T12:02:56.876Z"
      },
      {
        "duration": 0,
        "start_time": "2024-02-28T12:02:56.877Z"
      },
      {
        "duration": 0,
        "start_time": "2024-02-28T12:02:56.879Z"
      },
      {
        "duration": 0,
        "start_time": "2024-02-28T12:02:56.880Z"
      },
      {
        "duration": 0,
        "start_time": "2024-02-28T12:02:56.882Z"
      },
      {
        "duration": 12,
        "start_time": "2024-02-28T12:03:50.410Z"
      },
      {
        "duration": 930,
        "start_time": "2024-02-28T12:04:14.448Z"
      },
      {
        "duration": 143,
        "start_time": "2024-02-28T12:04:15.380Z"
      },
      {
        "duration": 31,
        "start_time": "2024-02-28T12:04:15.524Z"
      },
      {
        "duration": 32,
        "start_time": "2024-02-28T12:04:15.556Z"
      },
      {
        "duration": 89,
        "start_time": "2024-02-28T12:04:15.590Z"
      },
      {
        "duration": 56,
        "start_time": "2024-02-28T12:04:15.681Z"
      },
      {
        "duration": 6,
        "start_time": "2024-02-28T12:04:15.739Z"
      },
      {
        "duration": 37,
        "start_time": "2024-02-28T12:04:15.746Z"
      },
      {
        "duration": 24,
        "start_time": "2024-02-28T12:04:15.785Z"
      },
      {
        "duration": 45,
        "start_time": "2024-02-28T12:04:15.812Z"
      },
      {
        "duration": 76,
        "start_time": "2024-02-28T12:04:15.859Z"
      },
      {
        "duration": 32,
        "start_time": "2024-02-28T12:04:15.937Z"
      },
      {
        "duration": 17,
        "start_time": "2024-02-28T12:04:15.971Z"
      },
      {
        "duration": 27,
        "start_time": "2024-02-28T12:04:15.990Z"
      },
      {
        "duration": 25,
        "start_time": "2024-02-28T12:04:16.019Z"
      },
      {
        "duration": 17,
        "start_time": "2024-02-28T12:04:16.046Z"
      },
      {
        "duration": 28,
        "start_time": "2024-02-28T12:04:16.065Z"
      },
      {
        "duration": 455,
        "start_time": "2024-02-28T12:04:16.095Z"
      },
      {
        "duration": 10,
        "start_time": "2024-02-28T12:04:16.551Z"
      },
      {
        "duration": 105,
        "start_time": "2024-02-28T12:04:16.562Z"
      },
      {
        "duration": 834,
        "start_time": "2024-02-28T12:04:16.668Z"
      },
      {
        "duration": 15,
        "start_time": "2024-02-28T12:04:17.506Z"
      },
      {
        "duration": 41,
        "start_time": "2024-02-28T12:04:17.523Z"
      },
      {
        "duration": 201,
        "start_time": "2024-02-28T12:04:17.565Z"
      },
      {
        "duration": 8,
        "start_time": "2024-02-28T12:04:17.768Z"
      },
      {
        "duration": 20,
        "start_time": "2024-02-28T12:04:17.777Z"
      },
      {
        "duration": 18,
        "start_time": "2024-02-28T12:04:17.799Z"
      },
      {
        "duration": 12,
        "start_time": "2024-02-28T12:04:17.820Z"
      },
      {
        "duration": 10,
        "start_time": "2024-02-28T12:04:17.833Z"
      },
      {
        "duration": 46,
        "start_time": "2024-02-28T12:04:17.844Z"
      },
      {
        "duration": 11,
        "start_time": "2024-02-28T12:04:17.892Z"
      },
      {
        "duration": 31,
        "start_time": "2024-02-28T12:04:17.904Z"
      },
      {
        "duration": 29,
        "start_time": "2024-02-28T12:04:17.937Z"
      },
      {
        "duration": 9,
        "start_time": "2024-02-28T12:04:17.968Z"
      },
      {
        "duration": 10,
        "start_time": "2024-02-28T12:04:17.979Z"
      },
      {
        "duration": 12,
        "start_time": "2024-02-28T12:04:17.990Z"
      },
      {
        "duration": 24,
        "start_time": "2024-02-28T12:04:18.003Z"
      },
      {
        "duration": 15,
        "start_time": "2024-02-28T12:04:18.028Z"
      },
      {
        "duration": 22,
        "start_time": "2024-02-28T12:04:18.044Z"
      },
      {
        "duration": 29,
        "start_time": "2024-02-28T12:04:18.068Z"
      },
      {
        "duration": 20,
        "start_time": "2024-02-28T12:04:18.099Z"
      },
      {
        "duration": 20,
        "start_time": "2024-02-28T12:04:18.120Z"
      },
      {
        "duration": 9,
        "start_time": "2024-02-28T12:04:18.142Z"
      },
      {
        "duration": 18,
        "start_time": "2024-02-28T12:04:18.153Z"
      },
      {
        "duration": 8,
        "start_time": "2024-02-28T12:04:18.173Z"
      },
      {
        "duration": 15,
        "start_time": "2024-02-28T12:04:18.182Z"
      },
      {
        "duration": 11,
        "start_time": "2024-02-28T12:04:18.198Z"
      },
      {
        "duration": 12,
        "start_time": "2024-02-28T12:04:18.210Z"
      },
      {
        "duration": 6,
        "start_time": "2024-02-28T12:04:18.223Z"
      },
      {
        "duration": 993,
        "start_time": "2024-02-28T12:10:50.175Z"
      },
      {
        "duration": 133,
        "start_time": "2024-02-28T12:10:51.171Z"
      },
      {
        "duration": 30,
        "start_time": "2024-02-28T12:10:51.306Z"
      },
      {
        "duration": 2,
        "start_time": "2024-02-28T12:10:51.338Z"
      },
      {
        "duration": 34,
        "start_time": "2024-02-28T12:10:51.342Z"
      },
      {
        "duration": 21,
        "start_time": "2024-02-28T12:10:51.378Z"
      },
      {
        "duration": 6,
        "start_time": "2024-02-28T12:10:51.400Z"
      },
      {
        "duration": 32,
        "start_time": "2024-02-28T12:10:51.407Z"
      },
      {
        "duration": 48,
        "start_time": "2024-02-28T12:10:51.441Z"
      },
      {
        "duration": 45,
        "start_time": "2024-02-28T12:10:51.491Z"
      },
      {
        "duration": 29,
        "start_time": "2024-02-28T12:10:51.537Z"
      },
      {
        "duration": 10,
        "start_time": "2024-02-28T12:10:51.567Z"
      },
      {
        "duration": 19,
        "start_time": "2024-02-28T12:10:51.579Z"
      },
      {
        "duration": 12,
        "start_time": "2024-02-28T12:10:51.599Z"
      },
      {
        "duration": 15,
        "start_time": "2024-02-28T12:10:51.612Z"
      },
      {
        "duration": 8,
        "start_time": "2024-02-28T12:10:51.628Z"
      },
      {
        "duration": 18,
        "start_time": "2024-02-28T12:10:51.638Z"
      },
      {
        "duration": 410,
        "start_time": "2024-02-28T12:10:51.658Z"
      },
      {
        "duration": 9,
        "start_time": "2024-02-28T12:10:52.070Z"
      },
      {
        "duration": 102,
        "start_time": "2024-02-28T12:10:52.080Z"
      },
      {
        "duration": 765,
        "start_time": "2024-02-28T12:10:52.184Z"
      },
      {
        "duration": 16,
        "start_time": "2024-02-28T12:10:52.950Z"
      },
      {
        "duration": 18,
        "start_time": "2024-02-28T12:10:52.967Z"
      },
      {
        "duration": 193,
        "start_time": "2024-02-28T12:10:52.986Z"
      },
      {
        "duration": 7,
        "start_time": "2024-02-28T12:10:53.180Z"
      },
      {
        "duration": 16,
        "start_time": "2024-02-28T12:10:53.189Z"
      },
      {
        "duration": 15,
        "start_time": "2024-02-28T12:10:53.206Z"
      },
      {
        "duration": 13,
        "start_time": "2024-02-28T12:10:53.224Z"
      },
      {
        "duration": 29,
        "start_time": "2024-02-28T12:10:53.238Z"
      },
      {
        "duration": 33,
        "start_time": "2024-02-28T12:10:53.269Z"
      },
      {
        "duration": 11,
        "start_time": "2024-02-28T12:10:53.303Z"
      },
      {
        "duration": 39,
        "start_time": "2024-02-28T12:10:53.316Z"
      },
      {
        "duration": 10,
        "start_time": "2024-02-28T12:10:53.365Z"
      },
      {
        "duration": 19,
        "start_time": "2024-02-28T12:10:53.376Z"
      },
      {
        "duration": 8,
        "start_time": "2024-02-28T12:10:53.397Z"
      },
      {
        "duration": 14,
        "start_time": "2024-02-28T12:10:53.407Z"
      },
      {
        "duration": 20,
        "start_time": "2024-02-28T12:10:53.423Z"
      },
      {
        "duration": 24,
        "start_time": "2024-02-28T12:10:53.444Z"
      },
      {
        "duration": 7,
        "start_time": "2024-02-28T12:10:53.469Z"
      },
      {
        "duration": 22,
        "start_time": "2024-02-28T12:10:53.478Z"
      },
      {
        "duration": 17,
        "start_time": "2024-02-28T12:10:53.501Z"
      },
      {
        "duration": 40,
        "start_time": "2024-02-28T12:10:53.520Z"
      },
      {
        "duration": 9,
        "start_time": "2024-02-28T12:10:53.562Z"
      },
      {
        "duration": 10,
        "start_time": "2024-02-28T12:10:53.573Z"
      },
      {
        "duration": 21,
        "start_time": "2024-02-28T12:10:53.584Z"
      },
      {
        "duration": 14,
        "start_time": "2024-02-28T12:10:53.607Z"
      },
      {
        "duration": 19,
        "start_time": "2024-02-28T12:10:53.622Z"
      },
      {
        "duration": 9,
        "start_time": "2024-02-28T12:10:53.643Z"
      },
      {
        "duration": 20,
        "start_time": "2024-02-28T12:10:53.654Z"
      },
      {
        "duration": 15,
        "start_time": "2024-02-28T12:11:23.520Z"
      },
      {
        "duration": 10,
        "start_time": "2024-02-28T12:12:25.070Z"
      },
      {
        "duration": 50,
        "start_time": "2024-02-28T12:13:05.102Z"
      },
      {
        "duration": 10,
        "start_time": "2024-02-28T12:13:42.550Z"
      },
      {
        "duration": 10,
        "start_time": "2024-02-28T12:14:10.342Z"
      },
      {
        "duration": 893,
        "start_time": "2024-02-28T12:15:33.410Z"
      },
      {
        "duration": 141,
        "start_time": "2024-02-28T12:15:34.304Z"
      },
      {
        "duration": 30,
        "start_time": "2024-02-28T12:15:34.446Z"
      },
      {
        "duration": 20,
        "start_time": "2024-02-28T12:15:34.478Z"
      },
      {
        "duration": 68,
        "start_time": "2024-02-28T12:15:34.500Z"
      },
      {
        "duration": 46,
        "start_time": "2024-02-28T12:15:34.570Z"
      },
      {
        "duration": 19,
        "start_time": "2024-02-28T12:15:34.617Z"
      },
      {
        "duration": 57,
        "start_time": "2024-02-28T12:15:34.638Z"
      },
      {
        "duration": 26,
        "start_time": "2024-02-28T12:15:34.696Z"
      },
      {
        "duration": 42,
        "start_time": "2024-02-28T12:15:34.725Z"
      },
      {
        "duration": 55,
        "start_time": "2024-02-28T12:15:34.769Z"
      },
      {
        "duration": 55,
        "start_time": "2024-02-28T12:15:34.826Z"
      },
      {
        "duration": 40,
        "start_time": "2024-02-28T12:15:34.883Z"
      },
      {
        "duration": 39,
        "start_time": "2024-02-28T12:15:34.925Z"
      },
      {
        "duration": 62,
        "start_time": "2024-02-28T12:15:34.966Z"
      },
      {
        "duration": 31,
        "start_time": "2024-02-28T12:15:35.030Z"
      },
      {
        "duration": 37,
        "start_time": "2024-02-28T12:15:35.062Z"
      },
      {
        "duration": 427,
        "start_time": "2024-02-28T12:15:35.100Z"
      },
      {
        "duration": 9,
        "start_time": "2024-02-28T12:15:35.529Z"
      },
      {
        "duration": 81,
        "start_time": "2024-02-28T12:15:35.539Z"
      },
      {
        "duration": 852,
        "start_time": "2024-02-28T12:15:35.622Z"
      },
      {
        "duration": 10,
        "start_time": "2024-02-28T12:15:36.475Z"
      },
      {
        "duration": 41,
        "start_time": "2024-02-28T12:15:36.487Z"
      },
      {
        "duration": 226,
        "start_time": "2024-02-28T12:15:36.529Z"
      },
      {
        "duration": 13,
        "start_time": "2024-02-28T12:15:36.756Z"
      },
      {
        "duration": 35,
        "start_time": "2024-02-28T12:15:36.771Z"
      },
      {
        "duration": 23,
        "start_time": "2024-02-28T12:15:36.807Z"
      },
      {
        "duration": 39,
        "start_time": "2024-02-28T12:15:36.833Z"
      },
      {
        "duration": 40,
        "start_time": "2024-02-28T12:15:36.873Z"
      },
      {
        "duration": 57,
        "start_time": "2024-02-28T12:15:36.915Z"
      },
      {
        "duration": 27,
        "start_time": "2024-02-28T12:15:36.974Z"
      },
      {
        "duration": 56,
        "start_time": "2024-02-28T12:15:37.002Z"
      },
      {
        "duration": 14,
        "start_time": "2024-02-28T12:15:37.060Z"
      },
      {
        "duration": 53,
        "start_time": "2024-02-28T12:15:37.076Z"
      },
      {
        "duration": 29,
        "start_time": "2024-02-28T12:15:37.131Z"
      },
      {
        "duration": 14,
        "start_time": "2024-02-28T12:15:37.161Z"
      },
      {
        "duration": 22,
        "start_time": "2024-02-28T12:15:37.177Z"
      },
      {
        "duration": 25,
        "start_time": "2024-02-28T12:15:37.200Z"
      },
      {
        "duration": 5,
        "start_time": "2024-02-28T12:15:37.227Z"
      },
      {
        "duration": 20,
        "start_time": "2024-02-28T12:15:37.233Z"
      },
      {
        "duration": 18,
        "start_time": "2024-02-28T12:15:37.255Z"
      },
      {
        "duration": 33,
        "start_time": "2024-02-28T12:15:37.274Z"
      },
      {
        "duration": 14,
        "start_time": "2024-02-28T12:15:37.309Z"
      },
      {
        "duration": 21,
        "start_time": "2024-02-28T12:15:37.324Z"
      },
      {
        "duration": 9,
        "start_time": "2024-02-28T12:15:37.347Z"
      },
      {
        "duration": 29,
        "start_time": "2024-02-28T12:15:37.358Z"
      },
      {
        "duration": 15,
        "start_time": "2024-02-28T12:15:37.389Z"
      },
      {
        "duration": 22,
        "start_time": "2024-02-28T12:15:37.406Z"
      },
      {
        "duration": 15,
        "start_time": "2024-02-28T12:15:37.429Z"
      },
      {
        "duration": 1019,
        "start_time": "2024-02-28T16:11:13.452Z"
      },
      {
        "duration": 218,
        "start_time": "2024-02-28T16:11:14.473Z"
      },
      {
        "duration": 66,
        "start_time": "2024-02-28T16:11:14.693Z"
      },
      {
        "duration": 3,
        "start_time": "2024-02-28T16:11:14.760Z"
      },
      {
        "duration": 36,
        "start_time": "2024-02-28T16:11:14.765Z"
      },
      {
        "duration": 24,
        "start_time": "2024-02-28T16:11:14.803Z"
      },
      {
        "duration": 6,
        "start_time": "2024-02-28T16:11:14.829Z"
      },
      {
        "duration": 37,
        "start_time": "2024-02-28T16:11:14.836Z"
      },
      {
        "duration": 22,
        "start_time": "2024-02-28T16:11:14.874Z"
      },
      {
        "duration": 19,
        "start_time": "2024-02-28T16:11:14.897Z"
      },
      {
        "duration": 27,
        "start_time": "2024-02-28T16:11:14.918Z"
      },
      {
        "duration": 16,
        "start_time": "2024-02-28T16:11:14.947Z"
      },
      {
        "duration": 12,
        "start_time": "2024-02-28T16:11:14.965Z"
      },
      {
        "duration": 7,
        "start_time": "2024-02-28T16:11:14.991Z"
      },
      {
        "duration": 139,
        "start_time": "2024-02-28T16:11:15.000Z"
      },
      {
        "duration": 197,
        "start_time": "2024-02-28T16:11:15.140Z"
      },
      {
        "duration": 50,
        "start_time": "2024-02-28T16:11:15.339Z"
      },
      {
        "duration": 563,
        "start_time": "2024-02-28T16:11:15.390Z"
      },
      {
        "duration": 10,
        "start_time": "2024-02-28T16:11:15.955Z"
      },
      {
        "duration": 59,
        "start_time": "2024-02-28T16:11:15.967Z"
      },
      {
        "duration": 951,
        "start_time": "2024-02-28T16:11:16.029Z"
      },
      {
        "duration": 12,
        "start_time": "2024-02-28T16:11:16.982Z"
      },
      {
        "duration": 24,
        "start_time": "2024-02-28T16:11:16.996Z"
      },
      {
        "duration": 229,
        "start_time": "2024-02-28T16:11:17.022Z"
      },
      {
        "duration": 10,
        "start_time": "2024-02-28T16:11:17.252Z"
      },
      {
        "duration": 28,
        "start_time": "2024-02-28T16:11:17.264Z"
      },
      {
        "duration": 22,
        "start_time": "2024-02-28T16:11:17.294Z"
      },
      {
        "duration": 25,
        "start_time": "2024-02-28T16:11:17.318Z"
      },
      {
        "duration": 23,
        "start_time": "2024-02-28T16:11:17.345Z"
      },
      {
        "duration": 44,
        "start_time": "2024-02-28T16:11:17.369Z"
      },
      {
        "duration": 11,
        "start_time": "2024-02-28T16:11:17.415Z"
      },
      {
        "duration": 33,
        "start_time": "2024-02-28T16:11:17.428Z"
      },
      {
        "duration": 30,
        "start_time": "2024-02-28T16:11:17.462Z"
      },
      {
        "duration": 9,
        "start_time": "2024-02-28T16:11:17.494Z"
      },
      {
        "duration": 9,
        "start_time": "2024-02-28T16:11:17.505Z"
      },
      {
        "duration": 4,
        "start_time": "2024-02-28T16:11:17.516Z"
      },
      {
        "duration": 17,
        "start_time": "2024-02-28T16:11:17.522Z"
      },
      {
        "duration": 53,
        "start_time": "2024-02-28T16:11:17.541Z"
      },
      {
        "duration": 8,
        "start_time": "2024-02-28T16:11:17.597Z"
      },
      {
        "duration": 14,
        "start_time": "2024-02-28T16:11:17.606Z"
      },
      {
        "duration": 10,
        "start_time": "2024-02-28T16:11:17.624Z"
      },
      {
        "duration": 28,
        "start_time": "2024-02-28T16:11:17.636Z"
      },
      {
        "duration": 12,
        "start_time": "2024-02-28T16:11:17.691Z"
      },
      {
        "duration": 22,
        "start_time": "2024-02-28T16:11:17.705Z"
      },
      {
        "duration": 11,
        "start_time": "2024-02-28T16:11:17.730Z"
      },
      {
        "duration": 11,
        "start_time": "2024-02-28T16:11:17.743Z"
      },
      {
        "duration": 39,
        "start_time": "2024-02-28T16:11:17.755Z"
      },
      {
        "duration": 14,
        "start_time": "2024-02-28T16:11:17.796Z"
      },
      {
        "duration": 11,
        "start_time": "2024-02-28T16:11:17.812Z"
      },
      {
        "duration": 39,
        "start_time": "2024-02-28T16:14:09.060Z"
      },
      {
        "duration": 1037,
        "start_time": "2024-02-28T16:14:41.494Z"
      },
      {
        "duration": 151,
        "start_time": "2024-02-28T16:14:42.533Z"
      },
      {
        "duration": 31,
        "start_time": "2024-02-28T16:14:42.686Z"
      },
      {
        "duration": 3,
        "start_time": "2024-02-28T16:14:42.719Z"
      },
      {
        "duration": 42,
        "start_time": "2024-02-28T16:14:42.724Z"
      },
      {
        "duration": 24,
        "start_time": "2024-02-28T16:14:42.768Z"
      },
      {
        "duration": 6,
        "start_time": "2024-02-28T16:14:42.794Z"
      },
      {
        "duration": 47,
        "start_time": "2024-02-28T16:14:42.802Z"
      },
      {
        "duration": 13,
        "start_time": "2024-02-28T16:14:42.851Z"
      },
      {
        "duration": 7,
        "start_time": "2024-02-28T16:14:42.867Z"
      },
      {
        "duration": 6,
        "start_time": "2024-02-28T16:14:42.875Z"
      },
      {
        "duration": 50,
        "start_time": "2024-02-28T16:14:42.883Z"
      },
      {
        "duration": 13,
        "start_time": "2024-02-28T16:14:42.935Z"
      },
      {
        "duration": 7,
        "start_time": "2024-02-28T16:14:42.949Z"
      },
      {
        "duration": 7,
        "start_time": "2024-02-28T16:14:42.958Z"
      },
      {
        "duration": 35,
        "start_time": "2024-02-28T16:14:42.967Z"
      },
      {
        "duration": 6,
        "start_time": "2024-02-28T16:14:43.004Z"
      },
      {
        "duration": 27,
        "start_time": "2024-02-28T16:14:43.011Z"
      },
      {
        "duration": 458,
        "start_time": "2024-02-28T16:14:43.040Z"
      },
      {
        "duration": 11,
        "start_time": "2024-02-28T16:14:43.499Z"
      },
      {
        "duration": 105,
        "start_time": "2024-02-28T16:14:43.512Z"
      },
      {
        "duration": 831,
        "start_time": "2024-02-28T16:14:43.619Z"
      },
      {
        "duration": 11,
        "start_time": "2024-02-28T16:14:44.452Z"
      },
      {
        "duration": 33,
        "start_time": "2024-02-28T16:14:44.465Z"
      },
      {
        "duration": 225,
        "start_time": "2024-02-28T16:14:44.500Z"
      },
      {
        "duration": 8,
        "start_time": "2024-02-28T16:14:44.727Z"
      },
      {
        "duration": 19,
        "start_time": "2024-02-28T16:14:44.737Z"
      },
      {
        "duration": 10,
        "start_time": "2024-02-28T16:14:44.760Z"
      },
      {
        "duration": 20,
        "start_time": "2024-02-28T16:14:44.792Z"
      },
      {
        "duration": 18,
        "start_time": "2024-02-28T16:14:44.814Z"
      },
      {
        "duration": 58,
        "start_time": "2024-02-28T16:14:44.834Z"
      },
      {
        "duration": 13,
        "start_time": "2024-02-28T16:14:44.894Z"
      },
      {
        "duration": 35,
        "start_time": "2024-02-28T16:14:44.909Z"
      },
      {
        "duration": 11,
        "start_time": "2024-02-28T16:14:44.946Z"
      },
      {
        "duration": 38,
        "start_time": "2024-02-28T16:14:44.959Z"
      },
      {
        "duration": 100,
        "start_time": "2024-02-28T16:14:44.999Z"
      },
      {
        "duration": 366,
        "start_time": "2024-02-28T16:14:45.101Z"
      },
      {
        "duration": 35,
        "start_time": "2024-02-28T16:14:45.469Z"
      },
      {
        "duration": 22,
        "start_time": "2024-02-28T16:14:45.505Z"
      },
      {
        "duration": 32,
        "start_time": "2024-02-28T16:14:45.529Z"
      },
      {
        "duration": 39,
        "start_time": "2024-02-28T16:14:45.563Z"
      },
      {
        "duration": 44,
        "start_time": "2024-02-28T16:14:45.604Z"
      },
      {
        "duration": 33,
        "start_time": "2024-02-28T16:14:45.650Z"
      },
      {
        "duration": 12,
        "start_time": "2024-02-28T16:14:45.684Z"
      },
      {
        "duration": 19,
        "start_time": "2024-02-28T16:14:45.697Z"
      },
      {
        "duration": 16,
        "start_time": "2024-02-28T16:14:45.717Z"
      },
      {
        "duration": 17,
        "start_time": "2024-02-28T16:14:45.735Z"
      },
      {
        "duration": 13,
        "start_time": "2024-02-28T16:14:45.753Z"
      },
      {
        "duration": 24,
        "start_time": "2024-02-28T16:14:45.768Z"
      },
      {
        "duration": 9,
        "start_time": "2024-02-28T16:14:45.794Z"
      },
      {
        "duration": 1010,
        "start_time": "2024-02-28T16:15:48.000Z"
      },
      {
        "duration": 148,
        "start_time": "2024-02-28T16:15:49.011Z"
      },
      {
        "duration": 30,
        "start_time": "2024-02-28T16:15:49.160Z"
      },
      {
        "duration": 3,
        "start_time": "2024-02-28T16:15:49.192Z"
      },
      {
        "duration": 33,
        "start_time": "2024-02-28T16:15:49.198Z"
      },
      {
        "duration": 26,
        "start_time": "2024-02-28T16:15:49.232Z"
      },
      {
        "duration": 6,
        "start_time": "2024-02-28T16:15:49.260Z"
      },
      {
        "duration": 50,
        "start_time": "2024-02-28T16:15:49.268Z"
      },
      {
        "duration": 11,
        "start_time": "2024-02-28T16:15:49.320Z"
      },
      {
        "duration": 12,
        "start_time": "2024-02-28T16:15:49.333Z"
      },
      {
        "duration": 18,
        "start_time": "2024-02-28T16:15:49.347Z"
      },
      {
        "duration": 5,
        "start_time": "2024-02-28T16:15:49.367Z"
      },
      {
        "duration": 28,
        "start_time": "2024-02-28T16:15:49.374Z"
      },
      {
        "duration": 19,
        "start_time": "2024-02-28T16:15:49.405Z"
      },
      {
        "duration": 18,
        "start_time": "2024-02-28T16:15:49.425Z"
      },
      {
        "duration": 14,
        "start_time": "2024-02-28T16:15:49.445Z"
      },
      {
        "duration": 7,
        "start_time": "2024-02-28T16:15:49.461Z"
      },
      {
        "duration": 20,
        "start_time": "2024-02-28T16:15:49.470Z"
      },
      {
        "duration": 453,
        "start_time": "2024-02-28T16:15:49.492Z"
      },
      {
        "duration": 10,
        "start_time": "2024-02-28T16:15:49.946Z"
      },
      {
        "duration": 138,
        "start_time": "2024-02-28T16:15:49.957Z"
      },
      {
        "duration": 857,
        "start_time": "2024-02-28T16:15:50.098Z"
      },
      {
        "duration": 11,
        "start_time": "2024-02-28T16:15:50.957Z"
      },
      {
        "duration": 28,
        "start_time": "2024-02-28T16:15:50.970Z"
      },
      {
        "duration": 251,
        "start_time": "2024-02-28T16:15:51.000Z"
      },
      {
        "duration": 13,
        "start_time": "2024-02-28T16:15:51.254Z"
      },
      {
        "duration": 33,
        "start_time": "2024-02-28T16:15:51.269Z"
      },
      {
        "duration": 10,
        "start_time": "2024-02-28T16:15:51.304Z"
      },
      {
        "duration": 16,
        "start_time": "2024-02-28T16:15:51.316Z"
      },
      {
        "duration": 16,
        "start_time": "2024-02-28T16:15:51.334Z"
      },
      {
        "duration": 57,
        "start_time": "2024-02-28T16:15:51.352Z"
      },
      {
        "duration": 12,
        "start_time": "2024-02-28T16:15:51.411Z"
      },
      {
        "duration": 34,
        "start_time": "2024-02-28T16:15:51.424Z"
      },
      {
        "duration": 36,
        "start_time": "2024-02-28T16:15:51.459Z"
      },
      {
        "duration": 10,
        "start_time": "2024-02-28T16:15:51.497Z"
      },
      {
        "duration": 8,
        "start_time": "2024-02-28T16:15:51.508Z"
      },
      {
        "duration": 8,
        "start_time": "2024-02-28T16:15:51.517Z"
      },
      {
        "duration": 19,
        "start_time": "2024-02-28T16:15:51.527Z"
      },
      {
        "duration": 15,
        "start_time": "2024-02-28T16:15:51.548Z"
      },
      {
        "duration": 30,
        "start_time": "2024-02-28T16:15:51.565Z"
      },
      {
        "duration": 11,
        "start_time": "2024-02-28T16:15:51.599Z"
      },
      {
        "duration": 10,
        "start_time": "2024-02-28T16:15:51.611Z"
      },
      {
        "duration": 24,
        "start_time": "2024-02-28T16:15:51.622Z"
      },
      {
        "duration": 11,
        "start_time": "2024-02-28T16:15:51.647Z"
      },
      {
        "duration": 12,
        "start_time": "2024-02-28T16:15:51.691Z"
      },
      {
        "duration": 8,
        "start_time": "2024-02-28T16:15:51.705Z"
      },
      {
        "duration": 11,
        "start_time": "2024-02-28T16:15:51.715Z"
      },
      {
        "duration": 14,
        "start_time": "2024-02-28T16:15:51.728Z"
      },
      {
        "duration": 11,
        "start_time": "2024-02-28T16:15:51.743Z"
      },
      {
        "duration": 37,
        "start_time": "2024-02-28T16:15:51.756Z"
      },
      {
        "duration": 978,
        "start_time": "2024-02-28T16:16:51.446Z"
      },
      {
        "duration": 160,
        "start_time": "2024-02-28T16:16:52.426Z"
      },
      {
        "duration": 42,
        "start_time": "2024-02-28T16:16:52.592Z"
      },
      {
        "duration": 4,
        "start_time": "2024-02-28T16:16:52.636Z"
      },
      {
        "duration": 37,
        "start_time": "2024-02-28T16:16:52.642Z"
      },
      {
        "duration": 30,
        "start_time": "2024-02-28T16:16:52.681Z"
      },
      {
        "duration": 7,
        "start_time": "2024-02-28T16:16:52.712Z"
      },
      {
        "duration": 39,
        "start_time": "2024-02-28T16:16:52.720Z"
      },
      {
        "duration": 11,
        "start_time": "2024-02-28T16:16:52.761Z"
      },
      {
        "duration": 18,
        "start_time": "2024-02-28T16:16:52.774Z"
      },
      {
        "duration": 5,
        "start_time": "2024-02-28T16:16:52.794Z"
      },
      {
        "duration": 44,
        "start_time": "2024-02-28T16:16:52.801Z"
      },
      {
        "duration": 12,
        "start_time": "2024-02-28T16:16:52.847Z"
      },
      {
        "duration": 6,
        "start_time": "2024-02-28T16:16:52.863Z"
      },
      {
        "duration": 10,
        "start_time": "2024-02-28T16:16:52.892Z"
      },
      {
        "duration": 22,
        "start_time": "2024-02-28T16:16:52.904Z"
      },
      {
        "duration": 16,
        "start_time": "2024-02-28T16:16:52.927Z"
      },
      {
        "duration": 10,
        "start_time": "2024-02-28T16:16:52.945Z"
      },
      {
        "duration": 478,
        "start_time": "2024-02-28T16:16:52.957Z"
      },
      {
        "duration": 10,
        "start_time": "2024-02-28T16:16:53.437Z"
      },
      {
        "duration": 66,
        "start_time": "2024-02-28T16:16:53.449Z"
      },
      {
        "duration": 867,
        "start_time": "2024-02-28T16:16:53.517Z"
      },
      {
        "duration": 13,
        "start_time": "2024-02-28T16:16:54.386Z"
      },
      {
        "duration": 23,
        "start_time": "2024-02-28T16:16:54.401Z"
      },
      {
        "duration": 216,
        "start_time": "2024-02-28T16:16:54.426Z"
      },
      {
        "duration": 9,
        "start_time": "2024-02-28T16:16:54.643Z"
      },
      {
        "duration": 18,
        "start_time": "2024-02-28T16:16:54.654Z"
      },
      {
        "duration": 31,
        "start_time": "2024-02-28T16:16:54.673Z"
      },
      {
        "duration": 13,
        "start_time": "2024-02-28T16:16:54.706Z"
      },
      {
        "duration": 17,
        "start_time": "2024-02-28T16:16:54.720Z"
      },
      {
        "duration": 54,
        "start_time": "2024-02-28T16:16:54.739Z"
      },
      {
        "duration": 12,
        "start_time": "2024-02-28T16:16:54.795Z"
      },
      {
        "duration": 34,
        "start_time": "2024-02-28T16:16:54.808Z"
      },
      {
        "duration": 11,
        "start_time": "2024-02-28T16:16:54.843Z"
      },
      {
        "duration": 39,
        "start_time": "2024-02-28T16:16:54.855Z"
      },
      {
        "duration": 13,
        "start_time": "2024-02-28T16:16:54.896Z"
      },
      {
        "duration": 12,
        "start_time": "2024-02-28T16:16:54.911Z"
      },
      {
        "duration": 29,
        "start_time": "2024-02-28T16:16:54.924Z"
      },
      {
        "duration": 15,
        "start_time": "2024-02-28T16:16:54.955Z"
      },
      {
        "duration": 7,
        "start_time": "2024-02-28T16:16:54.972Z"
      },
      {
        "duration": 11,
        "start_time": "2024-02-28T16:16:54.983Z"
      },
      {
        "duration": 12,
        "start_time": "2024-02-28T16:16:54.995Z"
      },
      {
        "duration": 36,
        "start_time": "2024-02-28T16:16:55.008Z"
      },
      {
        "duration": 11,
        "start_time": "2024-02-28T16:16:55.046Z"
      },
      {
        "duration": 38,
        "start_time": "2024-02-28T16:16:55.059Z"
      },
      {
        "duration": 17,
        "start_time": "2024-02-28T16:16:55.099Z"
      },
      {
        "duration": 20,
        "start_time": "2024-02-28T16:16:55.118Z"
      },
      {
        "duration": 47,
        "start_time": "2024-02-28T16:16:55.140Z"
      },
      {
        "duration": 54,
        "start_time": "2024-02-28T16:16:55.189Z"
      },
      {
        "duration": 36,
        "start_time": "2024-02-28T16:16:55.245Z"
      },
      {
        "duration": 1091,
        "start_time": "2024-02-28T16:17:31.152Z"
      },
      {
        "duration": 154,
        "start_time": "2024-02-28T16:17:32.245Z"
      },
      {
        "duration": 31,
        "start_time": "2024-02-28T16:17:32.400Z"
      },
      {
        "duration": 4,
        "start_time": "2024-02-28T16:17:32.433Z"
      },
      {
        "duration": 38,
        "start_time": "2024-02-28T16:17:32.439Z"
      },
      {
        "duration": 33,
        "start_time": "2024-02-28T16:17:32.479Z"
      },
      {
        "duration": 6,
        "start_time": "2024-02-28T16:17:32.514Z"
      },
      {
        "duration": 39,
        "start_time": "2024-02-28T16:17:32.521Z"
      },
      {
        "duration": 13,
        "start_time": "2024-02-28T16:17:32.561Z"
      },
      {
        "duration": 20,
        "start_time": "2024-02-28T16:17:32.576Z"
      },
      {
        "duration": 6,
        "start_time": "2024-02-28T16:17:32.597Z"
      },
      {
        "duration": 49,
        "start_time": "2024-02-28T16:17:32.605Z"
      },
      {
        "duration": 12,
        "start_time": "2024-02-28T16:17:32.655Z"
      },
      {
        "duration": 22,
        "start_time": "2024-02-28T16:17:32.669Z"
      },
      {
        "duration": 7,
        "start_time": "2024-02-28T16:17:32.693Z"
      },
      {
        "duration": 17,
        "start_time": "2024-02-28T16:17:32.701Z"
      },
      {
        "duration": 7,
        "start_time": "2024-02-28T16:17:32.720Z"
      },
      {
        "duration": 19,
        "start_time": "2024-02-28T16:17:32.728Z"
      },
      {
        "duration": 464,
        "start_time": "2024-02-28T16:17:32.748Z"
      },
      {
        "duration": 10,
        "start_time": "2024-02-28T16:17:33.214Z"
      },
      {
        "duration": 80,
        "start_time": "2024-02-28T16:17:33.226Z"
      },
      {
        "duration": 855,
        "start_time": "2024-02-28T16:17:33.307Z"
      },
      {
        "duration": 11,
        "start_time": "2024-02-28T16:17:34.163Z"
      },
      {
        "duration": 28,
        "start_time": "2024-02-28T16:17:34.176Z"
      },
      {
        "duration": 218,
        "start_time": "2024-02-28T16:17:34.206Z"
      },
      {
        "duration": 8,
        "start_time": "2024-02-28T16:17:34.425Z"
      },
      {
        "duration": 16,
        "start_time": "2024-02-28T16:17:34.435Z"
      },
      {
        "duration": 11,
        "start_time": "2024-02-28T16:17:34.454Z"
      },
      {
        "duration": 36,
        "start_time": "2024-02-28T16:17:34.466Z"
      },
      {
        "duration": 28,
        "start_time": "2024-02-28T16:17:34.504Z"
      },
      {
        "duration": 44,
        "start_time": "2024-02-28T16:17:34.533Z"
      },
      {
        "duration": 17,
        "start_time": "2024-02-28T16:17:34.579Z"
      },
      {
        "duration": 34,
        "start_time": "2024-02-28T16:17:34.597Z"
      },
      {
        "duration": 11,
        "start_time": "2024-02-28T16:17:34.632Z"
      },
      {
        "duration": 11,
        "start_time": "2024-02-28T16:17:34.645Z"
      },
      {
        "duration": 36,
        "start_time": "2024-02-28T16:17:34.657Z"
      },
      {
        "duration": 16,
        "start_time": "2024-02-28T16:17:34.695Z"
      },
      {
        "duration": 16,
        "start_time": "2024-02-28T16:17:34.712Z"
      },
      {
        "duration": 16,
        "start_time": "2024-02-28T16:17:34.729Z"
      },
      {
        "duration": 7,
        "start_time": "2024-02-28T16:17:34.747Z"
      },
      {
        "duration": 23,
        "start_time": "2024-02-28T16:17:34.756Z"
      },
      {
        "duration": 10,
        "start_time": "2024-02-28T16:17:34.792Z"
      },
      {
        "duration": 23,
        "start_time": "2024-02-28T16:17:34.803Z"
      },
      {
        "duration": 12,
        "start_time": "2024-02-28T16:17:34.828Z"
      },
      {
        "duration": 13,
        "start_time": "2024-02-28T16:17:34.841Z"
      },
      {
        "duration": 43,
        "start_time": "2024-02-28T16:17:34.855Z"
      },
      {
        "duration": 51,
        "start_time": "2024-02-28T16:17:34.899Z"
      },
      {
        "duration": 17,
        "start_time": "2024-02-28T16:17:34.952Z"
      },
      {
        "duration": 12,
        "start_time": "2024-02-28T16:17:34.971Z"
      },
      {
        "duration": 8,
        "start_time": "2024-02-28T16:17:34.985Z"
      },
      {
        "duration": 13,
        "start_time": "2024-02-28T16:38:20.301Z"
      },
      {
        "duration": 11,
        "start_time": "2024-02-28T16:38:29.868Z"
      },
      {
        "duration": 11,
        "start_time": "2024-02-28T16:38:40.048Z"
      },
      {
        "duration": 10,
        "start_time": "2024-02-28T16:38:47.496Z"
      },
      {
        "duration": 11,
        "start_time": "2024-02-28T16:38:52.012Z"
      },
      {
        "duration": 11,
        "start_time": "2024-02-28T16:39:00.366Z"
      },
      {
        "duration": 1012,
        "start_time": "2024-02-28T16:40:08.013Z"
      },
      {
        "duration": 148,
        "start_time": "2024-02-28T16:40:09.028Z"
      },
      {
        "duration": 31,
        "start_time": "2024-02-28T16:40:09.178Z"
      },
      {
        "duration": 3,
        "start_time": "2024-02-28T16:40:09.211Z"
      },
      {
        "duration": 33,
        "start_time": "2024-02-28T16:40:09.217Z"
      },
      {
        "duration": 23,
        "start_time": "2024-02-28T16:40:09.252Z"
      },
      {
        "duration": 6,
        "start_time": "2024-02-28T16:40:09.292Z"
      },
      {
        "duration": 29,
        "start_time": "2024-02-28T16:40:09.299Z"
      },
      {
        "duration": 12,
        "start_time": "2024-02-28T16:40:09.329Z"
      },
      {
        "duration": 10,
        "start_time": "2024-02-28T16:40:09.343Z"
      },
      {
        "duration": 2,
        "start_time": "2024-02-28T16:40:09.355Z"
      },
      {
        "duration": 71,
        "start_time": "2024-02-28T16:40:09.359Z"
      },
      {
        "duration": 12,
        "start_time": "2024-02-28T16:40:09.432Z"
      },
      {
        "duration": 7,
        "start_time": "2024-02-28T16:40:09.448Z"
      },
      {
        "duration": 11,
        "start_time": "2024-02-28T16:40:09.457Z"
      },
      {
        "duration": 41,
        "start_time": "2024-02-28T16:40:09.470Z"
      },
      {
        "duration": 6,
        "start_time": "2024-02-28T16:40:09.513Z"
      },
      {
        "duration": 13,
        "start_time": "2024-02-28T16:40:09.521Z"
      },
      {
        "duration": 475,
        "start_time": "2024-02-28T16:40:09.535Z"
      },
      {
        "duration": 13,
        "start_time": "2024-02-28T16:40:10.012Z"
      },
      {
        "duration": 103,
        "start_time": "2024-02-28T16:40:10.028Z"
      },
      {
        "duration": 918,
        "start_time": "2024-02-28T16:40:10.133Z"
      },
      {
        "duration": 2,
        "start_time": "2024-02-28T16:40:11.053Z"
      },
      {
        "duration": 16,
        "start_time": "2024-02-28T16:40:11.057Z"
      },
      {
        "duration": 231,
        "start_time": "2024-02-28T16:40:11.075Z"
      },
      {
        "duration": 9,
        "start_time": "2024-02-28T16:40:11.308Z"
      },
      {
        "duration": 53,
        "start_time": "2024-02-28T16:40:11.318Z"
      },
      {
        "duration": 143,
        "start_time": "2024-02-28T16:40:11.372Z"
      },
      {
        "duration": 0,
        "start_time": "2024-02-28T16:40:11.516Z"
      },
      {
        "duration": 0,
        "start_time": "2024-02-28T16:40:11.518Z"
      },
      {
        "duration": 0,
        "start_time": "2024-02-28T16:40:11.519Z"
      },
      {
        "duration": 0,
        "start_time": "2024-02-28T16:40:11.521Z"
      },
      {
        "duration": 0,
        "start_time": "2024-02-28T16:40:11.522Z"
      },
      {
        "duration": 0,
        "start_time": "2024-02-28T16:40:11.523Z"
      },
      {
        "duration": 0,
        "start_time": "2024-02-28T16:40:11.524Z"
      },
      {
        "duration": 0,
        "start_time": "2024-02-28T16:40:11.526Z"
      },
      {
        "duration": 0,
        "start_time": "2024-02-28T16:40:11.527Z"
      },
      {
        "duration": 0,
        "start_time": "2024-02-28T16:40:11.528Z"
      },
      {
        "duration": 1,
        "start_time": "2024-02-28T16:40:11.528Z"
      },
      {
        "duration": 0,
        "start_time": "2024-02-28T16:40:11.530Z"
      },
      {
        "duration": 0,
        "start_time": "2024-02-28T16:40:11.531Z"
      },
      {
        "duration": 0,
        "start_time": "2024-02-28T16:40:11.532Z"
      },
      {
        "duration": 0,
        "start_time": "2024-02-28T16:40:11.533Z"
      },
      {
        "duration": 0,
        "start_time": "2024-02-28T16:40:11.534Z"
      },
      {
        "duration": 0,
        "start_time": "2024-02-28T16:40:11.535Z"
      },
      {
        "duration": 0,
        "start_time": "2024-02-28T16:40:11.536Z"
      },
      {
        "duration": 0,
        "start_time": "2024-02-28T16:40:11.537Z"
      },
      {
        "duration": 0,
        "start_time": "2024-02-28T16:40:11.539Z"
      },
      {
        "duration": 0,
        "start_time": "2024-02-28T16:40:11.540Z"
      },
      {
        "duration": 0,
        "start_time": "2024-02-28T16:40:11.541Z"
      },
      {
        "duration": 2,
        "start_time": "2024-02-28T16:40:25.124Z"
      },
      {
        "duration": 998,
        "start_time": "2024-02-28T16:40:29.932Z"
      },
      {
        "duration": 152,
        "start_time": "2024-02-28T16:40:30.932Z"
      },
      {
        "duration": 32,
        "start_time": "2024-02-28T16:40:31.085Z"
      },
      {
        "duration": 207,
        "start_time": "2024-02-28T16:40:31.119Z"
      },
      {
        "duration": 229,
        "start_time": "2024-02-28T16:40:31.328Z"
      },
      {
        "duration": 71,
        "start_time": "2024-02-28T16:40:31.559Z"
      },
      {
        "duration": 17,
        "start_time": "2024-02-28T16:40:31.632Z"
      },
      {
        "duration": 74,
        "start_time": "2024-02-28T16:40:31.651Z"
      },
      {
        "duration": 48,
        "start_time": "2024-02-28T16:40:31.727Z"
      },
      {
        "duration": 54,
        "start_time": "2024-02-28T16:40:31.777Z"
      },
      {
        "duration": 81,
        "start_time": "2024-02-28T16:40:31.833Z"
      },
      {
        "duration": 75,
        "start_time": "2024-02-28T16:40:31.915Z"
      },
      {
        "duration": 13,
        "start_time": "2024-02-28T16:40:31.992Z"
      },
      {
        "duration": 68,
        "start_time": "2024-02-28T16:40:32.008Z"
      },
      {
        "duration": 171,
        "start_time": "2024-02-28T16:40:32.078Z"
      },
      {
        "duration": 25,
        "start_time": "2024-02-28T16:40:32.251Z"
      },
      {
        "duration": 49,
        "start_time": "2024-02-28T16:40:32.277Z"
      },
      {
        "duration": 42,
        "start_time": "2024-02-28T16:40:32.328Z"
      },
      {
        "duration": 484,
        "start_time": "2024-02-28T16:40:32.372Z"
      },
      {
        "duration": 11,
        "start_time": "2024-02-28T16:40:32.857Z"
      },
      {
        "duration": 340,
        "start_time": "2024-02-28T16:40:32.869Z"
      },
      {
        "duration": 844,
        "start_time": "2024-02-28T16:40:33.211Z"
      },
      {
        "duration": 3,
        "start_time": "2024-02-28T16:40:34.057Z"
      },
      {
        "duration": 11,
        "start_time": "2024-02-28T16:40:34.062Z"
      },
      {
        "duration": 231,
        "start_time": "2024-02-28T16:40:34.075Z"
      },
      {
        "duration": 9,
        "start_time": "2024-02-28T16:40:34.308Z"
      },
      {
        "duration": 15,
        "start_time": "2024-02-28T16:40:34.318Z"
      },
      {
        "duration": 21,
        "start_time": "2024-02-28T16:40:34.335Z"
      },
      {
        "duration": 16,
        "start_time": "2024-02-28T16:40:34.357Z"
      },
      {
        "duration": 28,
        "start_time": "2024-02-28T16:40:34.376Z"
      },
      {
        "duration": 47,
        "start_time": "2024-02-28T16:40:34.406Z"
      },
      {
        "duration": 13,
        "start_time": "2024-02-28T16:40:34.454Z"
      },
      {
        "duration": 49,
        "start_time": "2024-02-28T16:40:34.469Z"
      },
      {
        "duration": 10,
        "start_time": "2024-02-28T16:40:34.520Z"
      },
      {
        "duration": 10,
        "start_time": "2024-02-28T16:40:34.532Z"
      },
      {
        "duration": 8,
        "start_time": "2024-02-28T16:40:34.543Z"
      },
      {
        "duration": 6,
        "start_time": "2024-02-28T16:40:34.552Z"
      },
      {
        "duration": 43,
        "start_time": "2024-02-28T16:40:34.559Z"
      },
      {
        "duration": 17,
        "start_time": "2024-02-28T16:40:34.604Z"
      },
      {
        "duration": 5,
        "start_time": "2024-02-28T16:40:34.623Z"
      },
      {
        "duration": 16,
        "start_time": "2024-02-28T16:40:34.632Z"
      },
      {
        "duration": 10,
        "start_time": "2024-02-28T16:40:34.649Z"
      },
      {
        "duration": 47,
        "start_time": "2024-02-28T16:40:34.661Z"
      },
      {
        "duration": 11,
        "start_time": "2024-02-28T16:40:34.710Z"
      },
      {
        "duration": 25,
        "start_time": "2024-02-28T16:40:34.723Z"
      },
      {
        "duration": 8,
        "start_time": "2024-02-28T16:40:34.750Z"
      },
      {
        "duration": 13,
        "start_time": "2024-02-28T16:40:34.760Z"
      },
      {
        "duration": 27,
        "start_time": "2024-02-28T16:40:34.774Z"
      },
      {
        "duration": 11,
        "start_time": "2024-02-28T16:40:34.803Z"
      },
      {
        "duration": 9,
        "start_time": "2024-02-28T16:40:34.815Z"
      },
      {
        "duration": 155,
        "start_time": "2024-02-28T16:42:33.532Z"
      },
      {
        "duration": 965,
        "start_time": "2024-02-28T16:42:40.649Z"
      },
      {
        "duration": 148,
        "start_time": "2024-02-28T16:42:41.616Z"
      },
      {
        "duration": 32,
        "start_time": "2024-02-28T16:42:41.765Z"
      },
      {
        "duration": 4,
        "start_time": "2024-02-28T16:42:41.799Z"
      },
      {
        "duration": 33,
        "start_time": "2024-02-28T16:42:41.805Z"
      },
      {
        "duration": 24,
        "start_time": "2024-02-28T16:42:41.840Z"
      },
      {
        "duration": 27,
        "start_time": "2024-02-28T16:42:41.865Z"
      },
      {
        "duration": 28,
        "start_time": "2024-02-28T16:42:41.894Z"
      },
      {
        "duration": 12,
        "start_time": "2024-02-28T16:42:41.924Z"
      },
      {
        "duration": 6,
        "start_time": "2024-02-28T16:42:41.939Z"
      },
      {
        "duration": 12,
        "start_time": "2024-02-28T16:42:41.946Z"
      },
      {
        "duration": 69,
        "start_time": "2024-02-28T16:42:41.960Z"
      },
      {
        "duration": 12,
        "start_time": "2024-02-28T16:42:42.031Z"
      },
      {
        "duration": 12,
        "start_time": "2024-02-28T16:42:42.045Z"
      },
      {
        "duration": 7,
        "start_time": "2024-02-28T16:42:42.059Z"
      },
      {
        "duration": 36,
        "start_time": "2024-02-28T16:42:42.068Z"
      },
      {
        "duration": 6,
        "start_time": "2024-02-28T16:42:42.106Z"
      },
      {
        "duration": 11,
        "start_time": "2024-02-28T16:42:42.114Z"
      },
      {
        "duration": 450,
        "start_time": "2024-02-28T16:42:42.127Z"
      },
      {
        "duration": 13,
        "start_time": "2024-02-28T16:42:42.579Z"
      },
      {
        "duration": 99,
        "start_time": "2024-02-28T16:42:42.594Z"
      },
      {
        "duration": 830,
        "start_time": "2024-02-28T16:42:42.695Z"
      },
      {
        "duration": 12,
        "start_time": "2024-02-28T16:42:43.527Z"
      },
      {
        "duration": 21,
        "start_time": "2024-02-28T16:42:43.540Z"
      },
      {
        "duration": 224,
        "start_time": "2024-02-28T16:42:43.562Z"
      },
      {
        "duration": 8,
        "start_time": "2024-02-28T16:42:43.792Z"
      },
      {
        "duration": 19,
        "start_time": "2024-02-28T16:42:43.802Z"
      },
      {
        "duration": 2,
        "start_time": "2024-02-28T16:42:43.825Z"
      },
      {
        "duration": 16,
        "start_time": "2024-02-28T16:42:43.828Z"
      },
      {
        "duration": 16,
        "start_time": "2024-02-28T16:42:43.845Z"
      },
      {
        "duration": 66,
        "start_time": "2024-02-28T16:42:43.863Z"
      },
      {
        "duration": 12,
        "start_time": "2024-02-28T16:42:43.930Z"
      },
      {
        "duration": 50,
        "start_time": "2024-02-28T16:42:43.944Z"
      },
      {
        "duration": 12,
        "start_time": "2024-02-28T16:42:43.996Z"
      },
      {
        "duration": 14,
        "start_time": "2024-02-28T16:42:44.009Z"
      },
      {
        "duration": 12,
        "start_time": "2024-02-28T16:42:44.025Z"
      },
      {
        "duration": 23,
        "start_time": "2024-02-28T16:42:44.039Z"
      },
      {
        "duration": 16,
        "start_time": "2024-02-28T16:42:44.064Z"
      },
      {
        "duration": 25,
        "start_time": "2024-02-28T16:42:44.082Z"
      },
      {
        "duration": 6,
        "start_time": "2024-02-28T16:42:44.108Z"
      },
      {
        "duration": 15,
        "start_time": "2024-02-28T16:42:44.115Z"
      },
      {
        "duration": 10,
        "start_time": "2024-02-28T16:42:44.132Z"
      },
      {
        "duration": 52,
        "start_time": "2024-02-28T16:42:44.144Z"
      },
      {
        "duration": 12,
        "start_time": "2024-02-28T16:42:44.199Z"
      },
      {
        "duration": 20,
        "start_time": "2024-02-28T16:42:44.213Z"
      },
      {
        "duration": 9,
        "start_time": "2024-02-28T16:42:44.235Z"
      },
      {
        "duration": 22,
        "start_time": "2024-02-28T16:42:44.246Z"
      },
      {
        "duration": 32,
        "start_time": "2024-02-28T16:42:44.270Z"
      },
      {
        "duration": 19,
        "start_time": "2024-02-28T16:42:44.304Z"
      },
      {
        "duration": 15,
        "start_time": "2024-02-28T16:42:44.325Z"
      },
      {
        "duration": 12,
        "start_time": "2024-02-28T16:43:29.766Z"
      },
      {
        "duration": 10,
        "start_time": "2024-02-28T16:44:49.067Z"
      },
      {
        "duration": 39,
        "start_time": "2024-02-28T16:49:15.143Z"
      },
      {
        "duration": 11,
        "start_time": "2024-02-28T16:49:26.088Z"
      },
      {
        "duration": 37,
        "start_time": "2024-02-28T16:49:58.365Z"
      },
      {
        "duration": 12,
        "start_time": "2024-02-28T16:50:16.877Z"
      },
      {
        "duration": 2,
        "start_time": "2024-02-28T16:52:44.926Z"
      },
      {
        "duration": 51,
        "start_time": "2024-02-28T16:53:36.531Z"
      },
      {
        "duration": 147,
        "start_time": "2024-02-28T16:56:23.703Z"
      },
      {
        "duration": 10,
        "start_time": "2024-02-28T16:56:37.356Z"
      },
      {
        "duration": 51,
        "start_time": "2024-02-28T16:56:45.187Z"
      },
      {
        "duration": 19,
        "start_time": "2024-02-28T16:58:57.004Z"
      },
      {
        "duration": 18,
        "start_time": "2024-02-28T16:59:25.312Z"
      },
      {
        "duration": 22,
        "start_time": "2024-02-28T16:59:46.956Z"
      },
      {
        "duration": 24,
        "start_time": "2024-02-28T17:00:07.405Z"
      },
      {
        "duration": 60,
        "start_time": "2024-02-28T17:00:37.068Z"
      },
      {
        "duration": 49,
        "start_time": "2024-02-28T17:00:45.289Z"
      },
      {
        "duration": 31,
        "start_time": "2024-02-28T17:02:55.873Z"
      },
      {
        "duration": 29,
        "start_time": "2024-02-28T17:03:08.407Z"
      },
      {
        "duration": 999,
        "start_time": "2024-02-28T17:03:15.914Z"
      },
      {
        "duration": 149,
        "start_time": "2024-02-28T17:03:16.915Z"
      },
      {
        "duration": 41,
        "start_time": "2024-02-28T17:03:17.065Z"
      },
      {
        "duration": 3,
        "start_time": "2024-02-28T17:03:17.108Z"
      },
      {
        "duration": 57,
        "start_time": "2024-02-28T17:03:17.113Z"
      },
      {
        "duration": 26,
        "start_time": "2024-02-28T17:03:17.172Z"
      },
      {
        "duration": 7,
        "start_time": "2024-02-28T17:03:17.200Z"
      },
      {
        "duration": 29,
        "start_time": "2024-02-28T17:03:17.208Z"
      },
      {
        "duration": 12,
        "start_time": "2024-02-28T17:03:17.239Z"
      },
      {
        "duration": 9,
        "start_time": "2024-02-28T17:03:17.255Z"
      },
      {
        "duration": 3,
        "start_time": "2024-02-28T17:03:17.292Z"
      },
      {
        "duration": 56,
        "start_time": "2024-02-28T17:03:17.297Z"
      },
      {
        "duration": 12,
        "start_time": "2024-02-28T17:03:17.355Z"
      },
      {
        "duration": 6,
        "start_time": "2024-02-28T17:03:17.369Z"
      },
      {
        "duration": 7,
        "start_time": "2024-02-28T17:03:17.391Z"
      },
      {
        "duration": 17,
        "start_time": "2024-02-28T17:03:17.400Z"
      },
      {
        "duration": 8,
        "start_time": "2024-02-28T17:03:17.419Z"
      },
      {
        "duration": 11,
        "start_time": "2024-02-28T17:03:17.428Z"
      },
      {
        "duration": 495,
        "start_time": "2024-02-28T17:03:17.441Z"
      },
      {
        "duration": 10,
        "start_time": "2024-02-28T17:03:17.937Z"
      },
      {
        "duration": 55,
        "start_time": "2024-02-28T17:03:17.949Z"
      },
      {
        "duration": 913,
        "start_time": "2024-02-28T17:03:18.006Z"
      },
      {
        "duration": 12,
        "start_time": "2024-02-28T17:03:18.921Z"
      },
      {
        "duration": 21,
        "start_time": "2024-02-28T17:03:18.934Z"
      },
      {
        "duration": 224,
        "start_time": "2024-02-28T17:03:18.956Z"
      },
      {
        "duration": 11,
        "start_time": "2024-02-28T17:03:19.182Z"
      },
      {
        "duration": 22,
        "start_time": "2024-02-28T17:03:19.194Z"
      },
      {
        "duration": 10,
        "start_time": "2024-02-28T17:03:19.220Z"
      },
      {
        "duration": 15,
        "start_time": "2024-02-28T17:03:19.232Z"
      },
      {
        "duration": 15,
        "start_time": "2024-02-28T17:03:19.249Z"
      },
      {
        "duration": 60,
        "start_time": "2024-02-28T17:03:19.266Z"
      },
      {
        "duration": 12,
        "start_time": "2024-02-28T17:03:19.327Z"
      },
      {
        "duration": 54,
        "start_time": "2024-02-28T17:03:19.341Z"
      },
      {
        "duration": 10,
        "start_time": "2024-02-28T17:03:19.397Z"
      },
      {
        "duration": 11,
        "start_time": "2024-02-28T17:03:19.409Z"
      },
      {
        "duration": 10,
        "start_time": "2024-02-28T17:03:19.422Z"
      },
      {
        "duration": 9,
        "start_time": "2024-02-28T17:03:19.434Z"
      },
      {
        "duration": 23,
        "start_time": "2024-02-28T17:03:19.445Z"
      },
      {
        "duration": 32,
        "start_time": "2024-02-28T17:03:19.470Z"
      },
      {
        "duration": 6,
        "start_time": "2024-02-28T17:03:19.504Z"
      },
      {
        "duration": 11,
        "start_time": "2024-02-28T17:03:19.511Z"
      },
      {
        "duration": 68,
        "start_time": "2024-02-28T17:03:19.524Z"
      },
      {
        "duration": 11,
        "start_time": "2024-02-28T17:03:19.593Z"
      },
      {
        "duration": 24,
        "start_time": "2024-02-28T17:03:19.605Z"
      },
      {
        "duration": 11,
        "start_time": "2024-02-28T17:03:19.631Z"
      },
      {
        "duration": 11,
        "start_time": "2024-02-28T17:03:19.644Z"
      },
      {
        "duration": 8,
        "start_time": "2024-02-28T17:03:19.691Z"
      },
      {
        "duration": 11,
        "start_time": "2024-02-28T17:03:19.701Z"
      },
      {
        "duration": 12,
        "start_time": "2024-02-28T17:03:19.714Z"
      },
      {
        "duration": 11,
        "start_time": "2024-02-28T17:03:19.728Z"
      },
      {
        "duration": 9,
        "start_time": "2024-02-28T17:03:19.741Z"
      },
      {
        "duration": 12,
        "start_time": "2024-02-28T17:05:54.810Z"
      },
      {
        "duration": 14,
        "start_time": "2024-02-28T17:06:58.115Z"
      },
      {
        "duration": 14,
        "start_time": "2024-02-28T17:09:22.816Z"
      },
      {
        "duration": 16,
        "start_time": "2024-02-28T17:09:49.876Z"
      },
      {
        "duration": 166,
        "start_time": "2024-02-28T17:10:01.499Z"
      },
      {
        "duration": 21,
        "start_time": "2024-02-28T17:10:10.240Z"
      },
      {
        "duration": 16,
        "start_time": "2024-02-28T17:10:15.819Z"
      },
      {
        "duration": 1562,
        "start_time": "2024-02-28T17:11:05.220Z"
      },
      {
        "duration": 2115,
        "start_time": "2024-02-28T17:11:23.461Z"
      },
      {
        "duration": 15,
        "start_time": "2024-02-28T17:11:29.852Z"
      },
      {
        "duration": 12,
        "start_time": "2024-02-28T17:13:55.982Z"
      },
      {
        "duration": 18,
        "start_time": "2024-02-28T17:14:05.261Z"
      },
      {
        "duration": 55,
        "start_time": "2024-02-28T17:14:21.774Z"
      },
      {
        "duration": 1075,
        "start_time": "2024-02-28T17:21:46.763Z"
      },
      {
        "duration": 148,
        "start_time": "2024-02-28T17:21:47.840Z"
      },
      {
        "duration": 32,
        "start_time": "2024-02-28T17:21:47.991Z"
      },
      {
        "duration": 4,
        "start_time": "2024-02-28T17:21:48.025Z"
      },
      {
        "duration": 35,
        "start_time": "2024-02-28T17:21:48.032Z"
      },
      {
        "duration": 39,
        "start_time": "2024-02-28T17:21:48.070Z"
      },
      {
        "duration": 6,
        "start_time": "2024-02-28T17:21:48.111Z"
      },
      {
        "duration": 44,
        "start_time": "2024-02-28T17:21:48.119Z"
      },
      {
        "duration": 11,
        "start_time": "2024-02-28T17:21:48.165Z"
      },
      {
        "duration": 15,
        "start_time": "2024-02-28T17:21:48.177Z"
      },
      {
        "duration": 5,
        "start_time": "2024-02-28T17:21:48.194Z"
      },
      {
        "duration": 45,
        "start_time": "2024-02-28T17:21:48.201Z"
      },
      {
        "duration": 12,
        "start_time": "2024-02-28T17:21:48.248Z"
      },
      {
        "duration": 6,
        "start_time": "2024-02-28T17:21:48.265Z"
      },
      {
        "duration": 7,
        "start_time": "2024-02-28T17:21:48.293Z"
      },
      {
        "duration": 25,
        "start_time": "2024-02-28T17:21:48.301Z"
      },
      {
        "duration": 7,
        "start_time": "2024-02-28T17:21:48.328Z"
      },
      {
        "duration": 27,
        "start_time": "2024-02-28T17:21:48.337Z"
      },
      {
        "duration": 466,
        "start_time": "2024-02-28T17:21:48.369Z"
      },
      {
        "duration": 10,
        "start_time": "2024-02-28T17:21:48.837Z"
      },
      {
        "duration": 64,
        "start_time": "2024-02-28T17:21:48.848Z"
      },
      {
        "duration": 859,
        "start_time": "2024-02-28T17:21:48.914Z"
      },
      {
        "duration": 21,
        "start_time": "2024-02-28T17:21:49.774Z"
      },
      {
        "duration": 51,
        "start_time": "2024-02-28T17:21:49.797Z"
      },
      {
        "duration": 212,
        "start_time": "2024-02-28T17:21:49.849Z"
      },
      {
        "duration": 9,
        "start_time": "2024-02-28T17:21:50.063Z"
      },
      {
        "duration": 118,
        "start_time": "2024-02-28T17:21:50.074Z"
      },
      {
        "duration": 17,
        "start_time": "2024-02-28T17:21:50.194Z"
      },
      {
        "duration": 24,
        "start_time": "2024-02-28T17:21:50.212Z"
      },
      {
        "duration": 17,
        "start_time": "2024-02-28T17:21:50.238Z"
      },
      {
        "duration": 52,
        "start_time": "2024-02-28T17:21:50.257Z"
      },
      {
        "duration": 45,
        "start_time": "2024-02-28T17:21:50.311Z"
      },
      {
        "duration": 55,
        "start_time": "2024-02-28T17:21:50.357Z"
      },
      {
        "duration": 11,
        "start_time": "2024-02-28T17:21:50.414Z"
      },
      {
        "duration": 23,
        "start_time": "2024-02-28T17:21:50.426Z"
      },
      {
        "duration": 20,
        "start_time": "2024-02-28T17:21:50.450Z"
      },
      {
        "duration": 24,
        "start_time": "2024-02-28T17:21:50.472Z"
      },
      {
        "duration": 35,
        "start_time": "2024-02-28T17:21:50.497Z"
      },
      {
        "duration": 29,
        "start_time": "2024-02-28T17:21:50.534Z"
      },
      {
        "duration": 24,
        "start_time": "2024-02-28T17:21:50.565Z"
      },
      {
        "duration": 36,
        "start_time": "2024-02-28T17:21:50.593Z"
      },
      {
        "duration": 64,
        "start_time": "2024-02-28T17:21:50.631Z"
      },
      {
        "duration": 10,
        "start_time": "2024-02-28T17:21:50.697Z"
      },
      {
        "duration": 27,
        "start_time": "2024-02-28T17:21:50.709Z"
      },
      {
        "duration": 11,
        "start_time": "2024-02-28T17:21:50.737Z"
      },
      {
        "duration": 13,
        "start_time": "2024-02-28T17:21:50.750Z"
      },
      {
        "duration": 83,
        "start_time": "2024-02-28T17:21:50.764Z"
      },
      {
        "duration": 21,
        "start_time": "2024-02-28T17:21:50.849Z"
      },
      {
        "duration": 76,
        "start_time": "2024-02-28T17:21:50.871Z"
      },
      {
        "duration": 27,
        "start_time": "2024-02-28T17:21:50.948Z"
      },
      {
        "duration": 32,
        "start_time": "2024-02-28T17:21:50.976Z"
      },
      {
        "duration": 14,
        "start_time": "2024-02-28T17:22:07.504Z"
      },
      {
        "duration": 1023,
        "start_time": "2024-02-28T17:22:12.036Z"
      },
      {
        "duration": 165,
        "start_time": "2024-02-28T17:22:13.061Z"
      },
      {
        "duration": 32,
        "start_time": "2024-02-28T17:22:13.228Z"
      },
      {
        "duration": 3,
        "start_time": "2024-02-28T17:22:13.262Z"
      },
      {
        "duration": 36,
        "start_time": "2024-02-28T17:22:13.268Z"
      },
      {
        "duration": 40,
        "start_time": "2024-02-28T17:22:13.305Z"
      },
      {
        "duration": 7,
        "start_time": "2024-02-28T17:22:13.347Z"
      },
      {
        "duration": 53,
        "start_time": "2024-02-28T17:22:13.356Z"
      },
      {
        "duration": 14,
        "start_time": "2024-02-28T17:22:13.422Z"
      },
      {
        "duration": 38,
        "start_time": "2024-02-28T17:22:13.437Z"
      },
      {
        "duration": 7,
        "start_time": "2024-02-28T17:22:13.477Z"
      },
      {
        "duration": 45,
        "start_time": "2024-02-28T17:22:13.486Z"
      },
      {
        "duration": 18,
        "start_time": "2024-02-28T17:22:13.534Z"
      },
      {
        "duration": 9,
        "start_time": "2024-02-28T17:22:13.556Z"
      },
      {
        "duration": 7,
        "start_time": "2024-02-28T17:22:13.568Z"
      },
      {
        "duration": 14,
        "start_time": "2024-02-28T17:22:13.592Z"
      },
      {
        "duration": 6,
        "start_time": "2024-02-28T17:22:13.608Z"
      },
      {
        "duration": 38,
        "start_time": "2024-02-28T17:22:13.616Z"
      },
      {
        "duration": 454,
        "start_time": "2024-02-28T17:22:13.656Z"
      },
      {
        "duration": 14,
        "start_time": "2024-02-28T17:22:14.112Z"
      },
      {
        "duration": 97,
        "start_time": "2024-02-28T17:22:14.129Z"
      },
      {
        "duration": 906,
        "start_time": "2024-02-28T17:22:14.228Z"
      },
      {
        "duration": 12,
        "start_time": "2024-02-28T17:22:15.136Z"
      },
      {
        "duration": 93,
        "start_time": "2024-02-28T17:22:15.149Z"
      },
      {
        "duration": 266,
        "start_time": "2024-02-28T17:22:15.244Z"
      },
      {
        "duration": 13,
        "start_time": "2024-02-28T17:22:15.512Z"
      },
      {
        "duration": 44,
        "start_time": "2024-02-28T17:22:15.527Z"
      },
      {
        "duration": 50,
        "start_time": "2024-02-28T17:22:15.572Z"
      },
      {
        "duration": 29,
        "start_time": "2024-02-28T17:22:15.623Z"
      },
      {
        "duration": 19,
        "start_time": "2024-02-28T17:22:15.653Z"
      },
      {
        "duration": 50,
        "start_time": "2024-02-28T17:22:15.673Z"
      },
      {
        "duration": 13,
        "start_time": "2024-02-28T17:22:15.724Z"
      },
      {
        "duration": 34,
        "start_time": "2024-02-28T17:22:15.739Z"
      },
      {
        "duration": 25,
        "start_time": "2024-02-28T17:22:15.775Z"
      },
      {
        "duration": 28,
        "start_time": "2024-02-28T17:22:15.802Z"
      },
      {
        "duration": 9,
        "start_time": "2024-02-28T17:22:15.831Z"
      },
      {
        "duration": 14,
        "start_time": "2024-02-28T17:22:15.842Z"
      },
      {
        "duration": 19,
        "start_time": "2024-02-28T17:22:15.858Z"
      },
      {
        "duration": 37,
        "start_time": "2024-02-28T17:22:15.878Z"
      },
      {
        "duration": 6,
        "start_time": "2024-02-28T17:22:15.918Z"
      },
      {
        "duration": 19,
        "start_time": "2024-02-28T17:22:15.930Z"
      },
      {
        "duration": 9,
        "start_time": "2024-02-28T17:22:15.951Z"
      },
      {
        "duration": 39,
        "start_time": "2024-02-28T17:22:15.962Z"
      },
      {
        "duration": 13,
        "start_time": "2024-02-28T17:22:16.003Z"
      },
      {
        "duration": 28,
        "start_time": "2024-02-28T17:22:16.018Z"
      },
      {
        "duration": 11,
        "start_time": "2024-02-28T17:22:16.048Z"
      },
      {
        "duration": 13,
        "start_time": "2024-02-28T17:22:16.061Z"
      },
      {
        "duration": 63,
        "start_time": "2024-02-28T17:22:16.076Z"
      },
      {
        "duration": 12,
        "start_time": "2024-02-28T17:22:16.141Z"
      },
      {
        "duration": 9,
        "start_time": "2024-02-28T17:22:16.155Z"
      },
      {
        "duration": 221,
        "start_time": "2024-02-28T17:40:00.064Z"
      },
      {
        "duration": 241,
        "start_time": "2024-02-28T17:40:09.646Z"
      },
      {
        "duration": 24,
        "start_time": "2024-02-28T18:00:32.464Z"
      },
      {
        "duration": 24,
        "start_time": "2024-02-28T18:01:21.896Z"
      },
      {
        "duration": 978,
        "start_time": "2024-02-28T18:01:32.149Z"
      },
      {
        "duration": 149,
        "start_time": "2024-02-28T18:01:33.129Z"
      },
      {
        "duration": 33,
        "start_time": "2024-02-28T18:01:33.280Z"
      },
      {
        "duration": 3,
        "start_time": "2024-02-28T18:01:33.315Z"
      },
      {
        "duration": 46,
        "start_time": "2024-02-28T18:01:33.320Z"
      },
      {
        "duration": 24,
        "start_time": "2024-02-28T18:01:33.368Z"
      },
      {
        "duration": 6,
        "start_time": "2024-02-28T18:01:33.394Z"
      },
      {
        "duration": 46,
        "start_time": "2024-02-28T18:01:33.402Z"
      },
      {
        "duration": 14,
        "start_time": "2024-02-28T18:01:33.449Z"
      },
      {
        "duration": 7,
        "start_time": "2024-02-28T18:01:33.464Z"
      },
      {
        "duration": 9,
        "start_time": "2024-02-28T18:01:33.472Z"
      },
      {
        "duration": 45,
        "start_time": "2024-02-28T18:01:33.491Z"
      },
      {
        "duration": 12,
        "start_time": "2024-02-28T18:01:33.537Z"
      },
      {
        "duration": 11,
        "start_time": "2024-02-28T18:01:33.552Z"
      },
      {
        "duration": 10,
        "start_time": "2024-02-28T18:01:33.564Z"
      },
      {
        "duration": 14,
        "start_time": "2024-02-28T18:01:33.591Z"
      },
      {
        "duration": 7,
        "start_time": "2024-02-28T18:01:33.607Z"
      },
      {
        "duration": 23,
        "start_time": "2024-02-28T18:01:33.615Z"
      },
      {
        "duration": 464,
        "start_time": "2024-02-28T18:01:33.640Z"
      },
      {
        "duration": 10,
        "start_time": "2024-02-28T18:01:34.105Z"
      },
      {
        "duration": 89,
        "start_time": "2024-02-28T18:01:34.117Z"
      },
      {
        "duration": 900,
        "start_time": "2024-02-28T18:01:34.208Z"
      },
      {
        "duration": 11,
        "start_time": "2024-02-28T18:01:35.110Z"
      },
      {
        "duration": 35,
        "start_time": "2024-02-28T18:01:35.123Z"
      },
      {
        "duration": 219,
        "start_time": "2024-02-28T18:01:35.160Z"
      },
      {
        "duration": 15,
        "start_time": "2024-02-28T18:01:35.380Z"
      },
      {
        "duration": 29,
        "start_time": "2024-02-28T18:01:35.397Z"
      },
      {
        "duration": 12,
        "start_time": "2024-02-28T18:01:35.428Z"
      },
      {
        "duration": 18,
        "start_time": "2024-02-28T18:01:35.442Z"
      },
      {
        "duration": 37,
        "start_time": "2024-02-28T18:01:35.462Z"
      },
      {
        "duration": 51,
        "start_time": "2024-02-28T18:01:35.501Z"
      },
      {
        "duration": 13,
        "start_time": "2024-02-28T18:01:35.553Z"
      },
      {
        "duration": 47,
        "start_time": "2024-02-28T18:01:35.568Z"
      },
      {
        "duration": 10,
        "start_time": "2024-02-28T18:01:35.616Z"
      },
      {
        "duration": 30,
        "start_time": "2024-02-28T18:01:35.628Z"
      },
      {
        "duration": 30,
        "start_time": "2024-02-28T18:01:35.660Z"
      },
      {
        "duration": 6,
        "start_time": "2024-02-28T18:01:35.692Z"
      },
      {
        "duration": 17,
        "start_time": "2024-02-28T18:01:35.700Z"
      },
      {
        "duration": 22,
        "start_time": "2024-02-28T18:01:35.719Z"
      },
      {
        "duration": 6,
        "start_time": "2024-02-28T18:01:35.743Z"
      },
      {
        "duration": 42,
        "start_time": "2024-02-28T18:01:35.752Z"
      },
      {
        "duration": 10,
        "start_time": "2024-02-28T18:01:35.796Z"
      },
      {
        "duration": 39,
        "start_time": "2024-02-28T18:01:35.808Z"
      },
      {
        "duration": 11,
        "start_time": "2024-02-28T18:01:35.849Z"
      },
      {
        "duration": 30,
        "start_time": "2024-02-28T18:01:35.862Z"
      },
      {
        "duration": 11,
        "start_time": "2024-02-28T18:01:35.894Z"
      },
      {
        "duration": 11,
        "start_time": "2024-02-28T18:01:35.907Z"
      },
      {
        "duration": 13,
        "start_time": "2024-02-28T18:01:35.920Z"
      },
      {
        "duration": 13,
        "start_time": "2024-02-28T18:01:35.935Z"
      },
      {
        "duration": 12,
        "start_time": "2024-02-28T18:01:35.950Z"
      },
      {
        "duration": 23,
        "start_time": "2024-02-28T18:16:13.972Z"
      },
      {
        "duration": 155,
        "start_time": "2024-02-28T18:21:50.502Z"
      },
      {
        "duration": 20,
        "start_time": "2024-02-28T18:22:00.006Z"
      },
      {
        "duration": 12,
        "start_time": "2024-02-28T18:22:14.510Z"
      },
      {
        "duration": 10,
        "start_time": "2024-02-28T18:22:22.010Z"
      },
      {
        "duration": 22,
        "start_time": "2024-02-28T18:31:09.819Z"
      },
      {
        "duration": 22,
        "start_time": "2024-02-28T18:31:18.814Z"
      },
      {
        "duration": 10,
        "start_time": "2024-02-28T18:32:09.725Z"
      },
      {
        "duration": 11,
        "start_time": "2024-02-28T18:32:13.816Z"
      },
      {
        "duration": 10,
        "start_time": "2024-02-28T18:32:18.039Z"
      },
      {
        "duration": 10,
        "start_time": "2024-02-28T18:32:28.372Z"
      },
      {
        "duration": 11,
        "start_time": "2024-02-28T18:32:42.556Z"
      },
      {
        "duration": 23,
        "start_time": "2024-02-28T18:34:20.224Z"
      },
      {
        "duration": 211,
        "start_time": "2024-02-28T18:34:58.216Z"
      },
      {
        "duration": 258,
        "start_time": "2024-02-28T18:35:11.129Z"
      },
      {
        "duration": 241,
        "start_time": "2024-02-28T18:35:30.281Z"
      },
      {
        "duration": 217,
        "start_time": "2024-02-28T18:35:39.885Z"
      },
      {
        "duration": 13,
        "start_time": "2024-02-28T18:36:25.449Z"
      },
      {
        "duration": 16,
        "start_time": "2024-02-28T18:47:33.871Z"
      },
      {
        "duration": 33,
        "start_time": "2024-02-28T18:48:33.343Z"
      },
      {
        "duration": 27,
        "start_time": "2024-02-28T18:48:49.118Z"
      },
      {
        "duration": 26,
        "start_time": "2024-02-28T18:49:22.095Z"
      },
      {
        "duration": 12,
        "start_time": "2024-02-28T18:49:39.878Z"
      },
      {
        "duration": 11,
        "start_time": "2024-02-28T18:50:00.806Z"
      },
      {
        "duration": 27,
        "start_time": "2024-02-28T18:50:06.935Z"
      },
      {
        "duration": 1057,
        "start_time": "2024-02-28T18:50:51.091Z"
      },
      {
        "duration": 161,
        "start_time": "2024-02-28T18:50:52.150Z"
      },
      {
        "duration": 33,
        "start_time": "2024-02-28T18:50:52.313Z"
      },
      {
        "duration": 4,
        "start_time": "2024-02-28T18:50:52.348Z"
      },
      {
        "duration": 37,
        "start_time": "2024-02-28T18:50:52.354Z"
      },
      {
        "duration": 27,
        "start_time": "2024-02-28T18:50:52.393Z"
      },
      {
        "duration": 6,
        "start_time": "2024-02-28T18:50:52.421Z"
      },
      {
        "duration": 42,
        "start_time": "2024-02-28T18:50:52.429Z"
      },
      {
        "duration": 23,
        "start_time": "2024-02-28T18:50:52.473Z"
      },
      {
        "duration": 8,
        "start_time": "2024-02-28T18:50:52.498Z"
      },
      {
        "duration": 7,
        "start_time": "2024-02-28T18:50:52.508Z"
      },
      {
        "duration": 51,
        "start_time": "2024-02-28T18:50:52.517Z"
      },
      {
        "duration": 13,
        "start_time": "2024-02-28T18:50:52.592Z"
      },
      {
        "duration": 6,
        "start_time": "2024-02-28T18:50:52.610Z"
      },
      {
        "duration": 8,
        "start_time": "2024-02-28T18:50:52.618Z"
      },
      {
        "duration": 17,
        "start_time": "2024-02-28T18:50:52.628Z"
      },
      {
        "duration": 46,
        "start_time": "2024-02-28T18:50:52.647Z"
      },
      {
        "duration": 21,
        "start_time": "2024-02-28T18:50:52.695Z"
      },
      {
        "duration": 477,
        "start_time": "2024-02-28T18:50:52.718Z"
      },
      {
        "duration": 10,
        "start_time": "2024-02-28T18:50:53.197Z"
      },
      {
        "duration": 109,
        "start_time": "2024-02-28T18:50:53.209Z"
      },
      {
        "duration": 882,
        "start_time": "2024-02-28T18:50:53.321Z"
      },
      {
        "duration": 13,
        "start_time": "2024-02-28T18:50:54.204Z"
      },
      {
        "duration": 21,
        "start_time": "2024-02-28T18:50:54.219Z"
      },
      {
        "duration": 236,
        "start_time": "2024-02-28T18:50:54.242Z"
      },
      {
        "duration": 14,
        "start_time": "2024-02-28T18:50:54.479Z"
      },
      {
        "duration": 15,
        "start_time": "2024-02-28T18:50:54.495Z"
      },
      {
        "duration": 26,
        "start_time": "2024-02-28T18:50:54.512Z"
      },
      {
        "duration": 14,
        "start_time": "2024-02-28T18:50:54.540Z"
      },
      {
        "duration": 11,
        "start_time": "2024-02-28T18:50:54.555Z"
      },
      {
        "duration": 57,
        "start_time": "2024-02-28T18:50:54.568Z"
      },
      {
        "duration": 13,
        "start_time": "2024-02-28T18:50:54.627Z"
      },
      {
        "duration": 50,
        "start_time": "2024-02-28T18:50:54.642Z"
      },
      {
        "duration": 12,
        "start_time": "2024-02-28T18:50:54.693Z"
      },
      {
        "duration": 13,
        "start_time": "2024-02-28T18:50:54.706Z"
      },
      {
        "duration": 9,
        "start_time": "2024-02-28T18:50:54.721Z"
      },
      {
        "duration": 8,
        "start_time": "2024-02-28T18:50:54.731Z"
      },
      {
        "duration": 27,
        "start_time": "2024-02-28T18:50:54.740Z"
      },
      {
        "duration": 36,
        "start_time": "2024-02-28T18:50:54.770Z"
      },
      {
        "duration": 5,
        "start_time": "2024-02-28T18:50:54.808Z"
      },
      {
        "duration": 11,
        "start_time": "2024-02-28T18:50:54.817Z"
      },
      {
        "duration": 13,
        "start_time": "2024-02-28T18:50:54.830Z"
      },
      {
        "duration": 53,
        "start_time": "2024-02-28T18:50:54.845Z"
      },
      {
        "duration": 12,
        "start_time": "2024-02-28T18:50:54.900Z"
      },
      {
        "duration": 11,
        "start_time": "2024-02-28T18:50:54.914Z"
      },
      {
        "duration": 14,
        "start_time": "2024-02-28T18:50:54.927Z"
      },
      {
        "duration": 21,
        "start_time": "2024-02-28T18:50:54.943Z"
      },
      {
        "duration": 33,
        "start_time": "2024-02-28T18:50:54.965Z"
      },
      {
        "duration": 23,
        "start_time": "2024-02-28T18:50:55.000Z"
      },
      {
        "duration": 9,
        "start_time": "2024-02-28T18:50:55.025Z"
      },
      {
        "duration": 20,
        "start_time": "2024-02-28T18:51:54.374Z"
      },
      {
        "duration": 18,
        "start_time": "2024-02-28T18:53:58.704Z"
      },
      {
        "duration": 40,
        "start_time": "2024-02-28T18:54:10.332Z"
      },
      {
        "duration": 26,
        "start_time": "2024-02-28T18:55:30.370Z"
      },
      {
        "duration": 194,
        "start_time": "2024-02-28T18:55:33.591Z"
      },
      {
        "duration": 11,
        "start_time": "2024-02-28T18:55:39.400Z"
      },
      {
        "duration": 21,
        "start_time": "2024-02-28T18:55:44.564Z"
      },
      {
        "duration": 15,
        "start_time": "2024-02-28T18:56:05.848Z"
      },
      {
        "duration": 21,
        "start_time": "2024-02-28T18:56:14.945Z"
      },
      {
        "duration": 11,
        "start_time": "2024-02-28T18:56:27.553Z"
      },
      {
        "duration": 12,
        "start_time": "2024-02-28T18:57:08.849Z"
      },
      {
        "duration": 39,
        "start_time": "2024-02-28T18:57:23.484Z"
      },
      {
        "duration": 14,
        "start_time": "2024-02-28T18:58:26.192Z"
      },
      {
        "duration": 959,
        "start_time": "2024-02-28T18:58:32.450Z"
      },
      {
        "duration": 150,
        "start_time": "2024-02-28T18:58:33.411Z"
      },
      {
        "duration": 31,
        "start_time": "2024-02-28T18:58:33.562Z"
      },
      {
        "duration": 3,
        "start_time": "2024-02-28T18:58:33.595Z"
      },
      {
        "duration": 30,
        "start_time": "2024-02-28T18:58:33.600Z"
      },
      {
        "duration": 25,
        "start_time": "2024-02-28T18:58:33.632Z"
      },
      {
        "duration": 7,
        "start_time": "2024-02-28T18:58:33.659Z"
      },
      {
        "duration": 27,
        "start_time": "2024-02-28T18:58:33.692Z"
      },
      {
        "duration": 12,
        "start_time": "2024-02-28T18:58:33.721Z"
      },
      {
        "duration": 19,
        "start_time": "2024-02-28T18:58:33.736Z"
      },
      {
        "duration": 5,
        "start_time": "2024-02-28T18:58:33.756Z"
      },
      {
        "duration": 51,
        "start_time": "2024-02-28T18:58:33.763Z"
      },
      {
        "duration": 12,
        "start_time": "2024-02-28T18:58:33.816Z"
      },
      {
        "duration": 9,
        "start_time": "2024-02-28T18:58:33.829Z"
      },
      {
        "duration": 9,
        "start_time": "2024-02-28T18:58:33.839Z"
      },
      {
        "duration": 14,
        "start_time": "2024-02-28T18:58:33.849Z"
      },
      {
        "duration": 31,
        "start_time": "2024-02-28T18:58:33.865Z"
      },
      {
        "duration": 17,
        "start_time": "2024-02-28T18:58:33.898Z"
      },
      {
        "duration": 525,
        "start_time": "2024-02-28T18:58:33.916Z"
      },
      {
        "duration": 13,
        "start_time": "2024-02-28T18:58:34.443Z"
      },
      {
        "duration": 62,
        "start_time": "2024-02-28T18:58:34.459Z"
      },
      {
        "duration": 907,
        "start_time": "2024-02-28T18:58:34.523Z"
      },
      {
        "duration": 11,
        "start_time": "2024-02-28T18:58:35.432Z"
      },
      {
        "duration": 70,
        "start_time": "2024-02-28T18:58:35.445Z"
      },
      {
        "duration": 185,
        "start_time": "2024-02-28T18:58:35.517Z"
      },
      {
        "duration": 9,
        "start_time": "2024-02-28T18:58:35.703Z"
      },
      {
        "duration": 46,
        "start_time": "2024-02-28T18:58:35.714Z"
      },
      {
        "duration": 17,
        "start_time": "2024-02-28T18:58:35.764Z"
      },
      {
        "duration": 20,
        "start_time": "2024-02-28T18:58:35.782Z"
      },
      {
        "duration": 24,
        "start_time": "2024-02-28T18:58:35.804Z"
      },
      {
        "duration": 49,
        "start_time": "2024-02-28T18:58:35.829Z"
      },
      {
        "duration": 12,
        "start_time": "2024-02-28T18:58:35.880Z"
      },
      {
        "duration": 56,
        "start_time": "2024-02-28T18:58:35.894Z"
      },
      {
        "duration": 16,
        "start_time": "2024-02-28T18:58:35.951Z"
      },
      {
        "duration": 34,
        "start_time": "2024-02-28T18:58:35.969Z"
      },
      {
        "duration": 35,
        "start_time": "2024-02-28T18:58:36.006Z"
      },
      {
        "duration": 21,
        "start_time": "2024-02-28T18:58:36.043Z"
      },
      {
        "duration": 25,
        "start_time": "2024-02-28T18:58:36.065Z"
      },
      {
        "duration": 27,
        "start_time": "2024-02-28T18:58:36.092Z"
      },
      {
        "duration": 32,
        "start_time": "2024-02-28T18:58:36.120Z"
      },
      {
        "duration": 32,
        "start_time": "2024-02-28T18:58:36.154Z"
      },
      {
        "duration": 29,
        "start_time": "2024-02-28T18:58:36.187Z"
      },
      {
        "duration": 58,
        "start_time": "2024-02-28T18:58:36.218Z"
      },
      {
        "duration": 12,
        "start_time": "2024-02-28T18:58:36.278Z"
      },
      {
        "duration": 11,
        "start_time": "2024-02-28T18:58:36.292Z"
      },
      {
        "duration": 31,
        "start_time": "2024-02-28T18:58:36.305Z"
      },
      {
        "duration": 35,
        "start_time": "2024-02-28T18:58:36.337Z"
      },
      {
        "duration": 51,
        "start_time": "2024-02-28T18:58:36.374Z"
      },
      {
        "duration": 44,
        "start_time": "2024-02-28T18:58:36.427Z"
      },
      {
        "duration": 21,
        "start_time": "2024-02-28T18:58:36.472Z"
      },
      {
        "duration": 15,
        "start_time": "2024-02-28T19:00:46.658Z"
      },
      {
        "duration": 1015,
        "start_time": "2024-02-28T19:06:12.544Z"
      },
      {
        "duration": 142,
        "start_time": "2024-02-28T19:06:13.561Z"
      },
      {
        "duration": 30,
        "start_time": "2024-02-28T19:06:13.705Z"
      },
      {
        "duration": 11,
        "start_time": "2024-02-28T19:06:13.738Z"
      },
      {
        "duration": 29,
        "start_time": "2024-02-28T19:06:13.751Z"
      },
      {
        "duration": 27,
        "start_time": "2024-02-28T19:06:13.782Z"
      },
      {
        "duration": 7,
        "start_time": "2024-02-28T19:06:13.811Z"
      },
      {
        "duration": 28,
        "start_time": "2024-02-28T19:06:13.820Z"
      },
      {
        "duration": 12,
        "start_time": "2024-02-28T19:06:13.849Z"
      },
      {
        "duration": 7,
        "start_time": "2024-02-28T19:06:13.900Z"
      },
      {
        "duration": 5,
        "start_time": "2024-02-28T19:06:13.909Z"
      },
      {
        "duration": 44,
        "start_time": "2024-02-28T19:06:13.915Z"
      },
      {
        "duration": 12,
        "start_time": "2024-02-28T19:06:13.961Z"
      },
      {
        "duration": 21,
        "start_time": "2024-02-28T19:06:13.974Z"
      },
      {
        "duration": 8,
        "start_time": "2024-02-28T19:06:13.997Z"
      },
      {
        "duration": 15,
        "start_time": "2024-02-28T19:06:14.006Z"
      },
      {
        "duration": 8,
        "start_time": "2024-02-28T19:06:14.023Z"
      },
      {
        "duration": 14,
        "start_time": "2024-02-28T19:06:14.033Z"
      },
      {
        "duration": 483,
        "start_time": "2024-02-28T19:06:14.049Z"
      },
      {
        "duration": 13,
        "start_time": "2024-02-28T19:06:14.534Z"
      },
      {
        "duration": 74,
        "start_time": "2024-02-28T19:06:14.549Z"
      },
      {
        "duration": 947,
        "start_time": "2024-02-28T19:06:14.625Z"
      },
      {
        "duration": 19,
        "start_time": "2024-02-28T19:06:15.573Z"
      },
      {
        "duration": 52,
        "start_time": "2024-02-28T19:06:15.595Z"
      },
      {
        "duration": 207,
        "start_time": "2024-02-28T19:06:15.649Z"
      },
      {
        "duration": 8,
        "start_time": "2024-02-28T19:06:15.858Z"
      },
      {
        "duration": 41,
        "start_time": "2024-02-28T19:06:15.867Z"
      },
      {
        "duration": 41,
        "start_time": "2024-02-28T19:06:15.912Z"
      },
      {
        "duration": 21,
        "start_time": "2024-02-28T19:06:15.954Z"
      },
      {
        "duration": 32,
        "start_time": "2024-02-28T19:06:15.976Z"
      },
      {
        "duration": 124,
        "start_time": "2024-02-28T19:06:16.010Z"
      },
      {
        "duration": 0,
        "start_time": "2024-02-28T19:06:16.136Z"
      },
      {
        "duration": 0,
        "start_time": "2024-02-28T19:06:16.137Z"
      },
      {
        "duration": 0,
        "start_time": "2024-02-28T19:06:16.138Z"
      },
      {
        "duration": 0,
        "start_time": "2024-02-28T19:06:16.139Z"
      },
      {
        "duration": 0,
        "start_time": "2024-02-28T19:06:16.140Z"
      },
      {
        "duration": 0,
        "start_time": "2024-02-28T19:06:16.141Z"
      },
      {
        "duration": 0,
        "start_time": "2024-02-28T19:06:16.143Z"
      },
      {
        "duration": 0,
        "start_time": "2024-02-28T19:06:16.144Z"
      },
      {
        "duration": 0,
        "start_time": "2024-02-28T19:06:16.145Z"
      },
      {
        "duration": 0,
        "start_time": "2024-02-28T19:06:16.147Z"
      },
      {
        "duration": 0,
        "start_time": "2024-02-28T19:06:16.148Z"
      },
      {
        "duration": 0,
        "start_time": "2024-02-28T19:06:16.150Z"
      },
      {
        "duration": 0,
        "start_time": "2024-02-28T19:06:16.151Z"
      },
      {
        "duration": 0,
        "start_time": "2024-02-28T19:06:16.153Z"
      },
      {
        "duration": 0,
        "start_time": "2024-02-28T19:06:16.154Z"
      },
      {
        "duration": 0,
        "start_time": "2024-02-28T19:06:16.155Z"
      },
      {
        "duration": 0,
        "start_time": "2024-02-28T19:06:16.157Z"
      },
      {
        "duration": 0,
        "start_time": "2024-02-28T19:06:16.158Z"
      },
      {
        "duration": 0,
        "start_time": "2024-02-28T19:06:16.160Z"
      },
      {
        "duration": 8,
        "start_time": "2024-02-28T19:07:46.997Z"
      },
      {
        "duration": 11,
        "start_time": "2024-02-28T19:08:05.723Z"
      },
      {
        "duration": 12,
        "start_time": "2024-02-28T19:10:27.525Z"
      },
      {
        "duration": 148,
        "start_time": "2024-02-28T19:11:55.310Z"
      },
      {
        "duration": 24,
        "start_time": "2024-02-28T19:12:44.685Z"
      },
      {
        "duration": 13,
        "start_time": "2024-02-28T19:13:37.710Z"
      },
      {
        "duration": 11,
        "start_time": "2024-02-28T19:13:49.975Z"
      },
      {
        "duration": 12,
        "start_time": "2024-02-28T19:15:08.603Z"
      },
      {
        "duration": 10,
        "start_time": "2024-02-28T19:15:22.077Z"
      },
      {
        "duration": 11,
        "start_time": "2024-02-28T19:15:29.227Z"
      },
      {
        "duration": 20,
        "start_time": "2024-02-28T19:21:08.250Z"
      },
      {
        "duration": 32,
        "start_time": "2024-02-28T19:21:43.974Z"
      },
      {
        "duration": 25,
        "start_time": "2024-02-28T19:21:53.934Z"
      },
      {
        "duration": 24,
        "start_time": "2024-02-28T19:22:22.182Z"
      },
      {
        "duration": 23,
        "start_time": "2024-02-28T19:22:39.510Z"
      },
      {
        "duration": 27,
        "start_time": "2024-02-28T19:22:52.474Z"
      },
      {
        "duration": 45,
        "start_time": "2024-02-28T19:23:08.531Z"
      },
      {
        "duration": 12,
        "start_time": "2024-02-28T19:23:11.815Z"
      },
      {
        "duration": 12,
        "start_time": "2024-02-28T19:25:13.274Z"
      },
      {
        "duration": 1015,
        "start_time": "2024-02-28T19:25:20.422Z"
      },
      {
        "duration": 153,
        "start_time": "2024-02-28T19:25:21.439Z"
      },
      {
        "duration": 33,
        "start_time": "2024-02-28T19:25:21.595Z"
      },
      {
        "duration": 5,
        "start_time": "2024-02-28T19:25:21.630Z"
      },
      {
        "duration": 42,
        "start_time": "2024-02-28T19:25:21.636Z"
      },
      {
        "duration": 25,
        "start_time": "2024-02-28T19:25:21.680Z"
      },
      {
        "duration": 6,
        "start_time": "2024-02-28T19:25:21.706Z"
      },
      {
        "duration": 74,
        "start_time": "2024-02-28T19:25:21.714Z"
      },
      {
        "duration": 11,
        "start_time": "2024-02-28T19:25:21.790Z"
      },
      {
        "duration": 6,
        "start_time": "2024-02-28T19:25:21.804Z"
      },
      {
        "duration": 5,
        "start_time": "2024-02-28T19:25:21.812Z"
      },
      {
        "duration": 67,
        "start_time": "2024-02-28T19:25:21.819Z"
      },
      {
        "duration": 11,
        "start_time": "2024-02-28T19:25:21.888Z"
      },
      {
        "duration": 20,
        "start_time": "2024-02-28T19:25:21.901Z"
      },
      {
        "duration": 34,
        "start_time": "2024-02-28T19:25:21.923Z"
      },
      {
        "duration": 16,
        "start_time": "2024-02-28T19:25:21.959Z"
      },
      {
        "duration": 8,
        "start_time": "2024-02-28T19:25:21.977Z"
      },
      {
        "duration": 16,
        "start_time": "2024-02-28T19:25:21.987Z"
      },
      {
        "duration": 456,
        "start_time": "2024-02-28T19:25:22.004Z"
      },
      {
        "duration": 10,
        "start_time": "2024-02-28T19:25:22.462Z"
      },
      {
        "duration": 44,
        "start_time": "2024-02-28T19:25:22.474Z"
      },
      {
        "duration": 924,
        "start_time": "2024-02-28T19:25:22.520Z"
      },
      {
        "duration": 11,
        "start_time": "2024-02-28T19:25:23.446Z"
      },
      {
        "duration": 33,
        "start_time": "2024-02-28T19:25:23.459Z"
      },
      {
        "duration": 169,
        "start_time": "2024-02-28T19:25:23.494Z"
      },
      {
        "duration": 9,
        "start_time": "2024-02-28T19:25:23.665Z"
      },
      {
        "duration": 29,
        "start_time": "2024-02-28T19:25:23.675Z"
      },
      {
        "duration": 36,
        "start_time": "2024-02-28T19:25:23.708Z"
      },
      {
        "duration": 52,
        "start_time": "2024-02-28T19:25:23.747Z"
      },
      {
        "duration": 13,
        "start_time": "2024-02-28T19:25:23.800Z"
      },
      {
        "duration": 39,
        "start_time": "2024-02-28T19:25:23.815Z"
      },
      {
        "duration": 12,
        "start_time": "2024-02-28T19:25:23.856Z"
      },
      {
        "duration": 43,
        "start_time": "2024-02-28T19:25:23.869Z"
      },
      {
        "duration": 11,
        "start_time": "2024-02-28T19:25:23.913Z"
      },
      {
        "duration": 12,
        "start_time": "2024-02-28T19:25:23.925Z"
      },
      {
        "duration": 7,
        "start_time": "2024-02-28T19:25:23.939Z"
      },
      {
        "duration": 3,
        "start_time": "2024-02-28T19:25:23.948Z"
      },
      {
        "duration": 42,
        "start_time": "2024-02-28T19:25:23.953Z"
      },
      {
        "duration": 18,
        "start_time": "2024-02-28T19:25:23.996Z"
      },
      {
        "duration": 6,
        "start_time": "2024-02-28T19:25:24.016Z"
      },
      {
        "duration": 16,
        "start_time": "2024-02-28T19:25:24.024Z"
      },
      {
        "duration": 10,
        "start_time": "2024-02-28T19:25:24.041Z"
      },
      {
        "duration": 52,
        "start_time": "2024-02-28T19:25:24.053Z"
      },
      {
        "duration": 10,
        "start_time": "2024-02-28T19:25:24.106Z"
      },
      {
        "duration": 11,
        "start_time": "2024-02-28T19:25:24.118Z"
      },
      {
        "duration": 12,
        "start_time": "2024-02-28T19:25:24.130Z"
      },
      {
        "duration": 10,
        "start_time": "2024-02-28T19:25:24.144Z"
      },
      {
        "duration": 42,
        "start_time": "2024-02-28T19:25:24.155Z"
      },
      {
        "duration": 12,
        "start_time": "2024-02-28T19:25:24.199Z"
      },
      {
        "duration": 9,
        "start_time": "2024-02-28T19:25:24.212Z"
      },
      {
        "duration": 462,
        "start_time": "2024-02-28T19:31:04.625Z"
      },
      {
        "duration": 1058,
        "start_time": "2024-02-28T19:31:21.955Z"
      },
      {
        "duration": 141,
        "start_time": "2024-02-28T19:31:23.015Z"
      },
      {
        "duration": 31,
        "start_time": "2024-02-28T19:31:23.158Z"
      },
      {
        "duration": 3,
        "start_time": "2024-02-28T19:31:23.191Z"
      },
      {
        "duration": 32,
        "start_time": "2024-02-28T19:31:23.196Z"
      },
      {
        "duration": 24,
        "start_time": "2024-02-28T19:31:23.229Z"
      },
      {
        "duration": 7,
        "start_time": "2024-02-28T19:31:23.255Z"
      },
      {
        "duration": 46,
        "start_time": "2024-02-28T19:31:23.263Z"
      },
      {
        "duration": 12,
        "start_time": "2024-02-28T19:31:23.310Z"
      },
      {
        "duration": 6,
        "start_time": "2024-02-28T19:31:23.324Z"
      },
      {
        "duration": 60,
        "start_time": "2024-02-28T19:31:23.332Z"
      },
      {
        "duration": 11,
        "start_time": "2024-02-28T19:31:23.393Z"
      },
      {
        "duration": 7,
        "start_time": "2024-02-28T19:31:23.406Z"
      },
      {
        "duration": 6,
        "start_time": "2024-02-28T19:31:23.414Z"
      },
      {
        "duration": 14,
        "start_time": "2024-02-28T19:31:23.422Z"
      },
      {
        "duration": 7,
        "start_time": "2024-02-28T19:31:23.438Z"
      },
      {
        "duration": 13,
        "start_time": "2024-02-28T19:31:23.446Z"
      },
      {
        "duration": 432,
        "start_time": "2024-02-28T19:31:23.492Z"
      },
      {
        "duration": 13,
        "start_time": "2024-02-28T19:31:23.926Z"
      },
      {
        "duration": 72,
        "start_time": "2024-02-28T19:31:23.940Z"
      },
      {
        "duration": 851,
        "start_time": "2024-02-28T19:31:24.014Z"
      },
      {
        "duration": 11,
        "start_time": "2024-02-28T19:31:24.867Z"
      },
      {
        "duration": 35,
        "start_time": "2024-02-28T19:31:24.880Z"
      },
      {
        "duration": 176,
        "start_time": "2024-02-28T19:31:24.916Z"
      },
      {
        "duration": 8,
        "start_time": "2024-02-28T19:31:25.094Z"
      },
      {
        "duration": 27,
        "start_time": "2024-02-28T19:31:25.104Z"
      },
      {
        "duration": 11,
        "start_time": "2024-02-28T19:31:25.133Z"
      },
      {
        "duration": 27,
        "start_time": "2024-02-28T19:31:25.148Z"
      },
      {
        "duration": 18,
        "start_time": "2024-02-28T19:31:25.177Z"
      },
      {
        "duration": 25,
        "start_time": "2024-02-28T19:31:25.197Z"
      },
      {
        "duration": 14,
        "start_time": "2024-02-28T19:31:25.224Z"
      },
      {
        "duration": 68,
        "start_time": "2024-02-28T19:31:25.240Z"
      },
      {
        "duration": 12,
        "start_time": "2024-02-28T19:31:25.310Z"
      },
      {
        "duration": 13,
        "start_time": "2024-02-28T19:31:25.324Z"
      },
      {
        "duration": 9,
        "start_time": "2024-02-28T19:31:25.339Z"
      },
      {
        "duration": 7,
        "start_time": "2024-02-28T19:31:25.350Z"
      },
      {
        "duration": 13,
        "start_time": "2024-02-28T19:31:25.393Z"
      },
      {
        "duration": 15,
        "start_time": "2024-02-28T19:31:25.408Z"
      },
      {
        "duration": 5,
        "start_time": "2024-02-28T19:31:25.425Z"
      },
      {
        "duration": 12,
        "start_time": "2024-02-28T19:31:25.432Z"
      },
      {
        "duration": 10,
        "start_time": "2024-02-28T19:31:25.446Z"
      },
      {
        "duration": 57,
        "start_time": "2024-02-28T19:31:25.457Z"
      },
      {
        "duration": 11,
        "start_time": "2024-02-28T19:31:25.516Z"
      },
      {
        "duration": 15,
        "start_time": "2024-02-28T19:31:25.528Z"
      },
      {
        "duration": 14,
        "start_time": "2024-02-28T19:31:25.544Z"
      },
      {
        "duration": 37,
        "start_time": "2024-02-28T19:31:25.560Z"
      },
      {
        "duration": 12,
        "start_time": "2024-02-28T19:31:25.599Z"
      },
      {
        "duration": 30,
        "start_time": "2024-02-28T19:31:25.613Z"
      },
      {
        "duration": 9,
        "start_time": "2024-02-28T19:31:25.645Z"
      },
      {
        "duration": 11,
        "start_time": "2024-02-28T19:34:56.652Z"
      },
      {
        "duration": 10,
        "start_time": "2024-02-28T19:35:10.364Z"
      },
      {
        "duration": 948,
        "start_time": "2024-02-29T04:44:57.637Z"
      },
      {
        "duration": 135,
        "start_time": "2024-02-29T04:44:58.587Z"
      },
      {
        "duration": 29,
        "start_time": "2024-02-29T04:44:58.724Z"
      },
      {
        "duration": 3,
        "start_time": "2024-02-29T04:44:58.755Z"
      },
      {
        "duration": 41,
        "start_time": "2024-02-29T04:44:58.759Z"
      },
      {
        "duration": 21,
        "start_time": "2024-02-29T04:44:58.801Z"
      },
      {
        "duration": 6,
        "start_time": "2024-02-29T04:44:58.823Z"
      },
      {
        "duration": 35,
        "start_time": "2024-02-29T04:44:58.830Z"
      },
      {
        "duration": 11,
        "start_time": "2024-02-29T04:44:58.867Z"
      },
      {
        "duration": 6,
        "start_time": "2024-02-29T04:44:58.881Z"
      },
      {
        "duration": 56,
        "start_time": "2024-02-29T04:44:58.889Z"
      },
      {
        "duration": 28,
        "start_time": "2024-02-29T04:44:58.947Z"
      },
      {
        "duration": 6,
        "start_time": "2024-02-29T04:44:58.976Z"
      },
      {
        "duration": 8,
        "start_time": "2024-02-29T04:44:58.984Z"
      },
      {
        "duration": 22,
        "start_time": "2024-02-29T04:44:58.994Z"
      },
      {
        "duration": 7,
        "start_time": "2024-02-29T04:44:59.017Z"
      },
      {
        "duration": 46,
        "start_time": "2024-02-29T04:44:59.026Z"
      },
      {
        "duration": 705,
        "start_time": "2024-02-29T04:44:59.074Z"
      },
      {
        "duration": 10,
        "start_time": "2024-02-29T04:44:59.781Z"
      },
      {
        "duration": 79,
        "start_time": "2024-02-29T04:44:59.792Z"
      },
      {
        "duration": 735,
        "start_time": "2024-02-29T04:44:59.873Z"
      },
      {
        "duration": 16,
        "start_time": "2024-02-29T04:45:00.610Z"
      },
      {
        "duration": 71,
        "start_time": "2024-02-29T04:45:00.628Z"
      },
      {
        "duration": 157,
        "start_time": "2024-02-29T04:45:00.701Z"
      },
      {
        "duration": 7,
        "start_time": "2024-02-29T04:45:00.859Z"
      },
      {
        "duration": 42,
        "start_time": "2024-02-29T04:45:00.867Z"
      },
      {
        "duration": 75,
        "start_time": "2024-02-29T04:45:00.910Z"
      },
      {
        "duration": 69,
        "start_time": "2024-02-29T04:45:00.988Z"
      },
      {
        "duration": 79,
        "start_time": "2024-02-29T04:45:01.059Z"
      },
      {
        "duration": 98,
        "start_time": "2024-02-29T04:45:01.140Z"
      },
      {
        "duration": 68,
        "start_time": "2024-02-29T04:45:01.240Z"
      },
      {
        "duration": 69,
        "start_time": "2024-02-29T04:45:01.310Z"
      },
      {
        "duration": 22,
        "start_time": "2024-02-29T04:45:01.381Z"
      },
      {
        "duration": 76,
        "start_time": "2024-02-29T04:45:01.404Z"
      },
      {
        "duration": 87,
        "start_time": "2024-02-29T04:45:01.482Z"
      },
      {
        "duration": 72,
        "start_time": "2024-02-29T04:45:01.571Z"
      },
      {
        "duration": 63,
        "start_time": "2024-02-29T04:45:01.644Z"
      },
      {
        "duration": 95,
        "start_time": "2024-02-29T04:45:01.708Z"
      },
      {
        "duration": 38,
        "start_time": "2024-02-29T04:45:01.805Z"
      },
      {
        "duration": 83,
        "start_time": "2024-02-29T04:45:01.845Z"
      },
      {
        "duration": 80,
        "start_time": "2024-02-29T04:45:01.929Z"
      },
      {
        "duration": 104,
        "start_time": "2024-02-29T04:45:02.010Z"
      },
      {
        "duration": 58,
        "start_time": "2024-02-29T04:45:02.116Z"
      },
      {
        "duration": 28,
        "start_time": "2024-02-29T04:45:02.176Z"
      },
      {
        "duration": 25,
        "start_time": "2024-02-29T04:45:02.205Z"
      },
      {
        "duration": 56,
        "start_time": "2024-02-29T04:45:02.232Z"
      },
      {
        "duration": 33,
        "start_time": "2024-02-29T04:45:02.290Z"
      },
      {
        "duration": 49,
        "start_time": "2024-02-29T04:45:02.324Z"
      },
      {
        "duration": 19,
        "start_time": "2024-02-29T04:45:02.375Z"
      },
      {
        "duration": 970,
        "start_time": "2024-02-29T04:56:31.739Z"
      },
      {
        "duration": 218,
        "start_time": "2024-02-29T04:56:32.711Z"
      },
      {
        "duration": 65,
        "start_time": "2024-02-29T04:56:32.931Z"
      },
      {
        "duration": 3,
        "start_time": "2024-02-29T04:56:32.998Z"
      },
      {
        "duration": 68,
        "start_time": "2024-02-29T04:56:33.004Z"
      },
      {
        "duration": 85,
        "start_time": "2024-02-29T04:56:33.074Z"
      },
      {
        "duration": 8,
        "start_time": "2024-02-29T04:56:33.161Z"
      },
      {
        "duration": 57,
        "start_time": "2024-02-29T04:56:33.171Z"
      },
      {
        "duration": 14,
        "start_time": "2024-02-29T04:56:33.230Z"
      },
      {
        "duration": 8,
        "start_time": "2024-02-29T04:56:33.245Z"
      },
      {
        "duration": 54,
        "start_time": "2024-02-29T04:56:33.255Z"
      },
      {
        "duration": 12,
        "start_time": "2024-02-29T04:56:33.311Z"
      },
      {
        "duration": 17,
        "start_time": "2024-02-29T04:56:33.325Z"
      },
      {
        "duration": 6,
        "start_time": "2024-02-29T04:56:33.345Z"
      },
      {
        "duration": 27,
        "start_time": "2024-02-29T04:56:33.353Z"
      },
      {
        "duration": 7,
        "start_time": "2024-02-29T04:56:33.382Z"
      },
      {
        "duration": 12,
        "start_time": "2024-02-29T04:56:33.390Z"
      },
      {
        "duration": 474,
        "start_time": "2024-02-29T04:56:33.403Z"
      },
      {
        "duration": 10,
        "start_time": "2024-02-29T04:56:33.879Z"
      },
      {
        "duration": 97,
        "start_time": "2024-02-29T04:56:33.891Z"
      },
      {
        "duration": 883,
        "start_time": "2024-02-29T04:56:33.990Z"
      },
      {
        "duration": 15,
        "start_time": "2024-02-29T04:56:34.875Z"
      },
      {
        "duration": 26,
        "start_time": "2024-02-29T04:56:34.891Z"
      },
      {
        "duration": 189,
        "start_time": "2024-02-29T04:56:34.919Z"
      },
      {
        "duration": 8,
        "start_time": "2024-02-29T04:56:35.110Z"
      },
      {
        "duration": 16,
        "start_time": "2024-02-29T04:56:35.119Z"
      },
      {
        "duration": 10,
        "start_time": "2024-02-29T04:56:35.137Z"
      },
      {
        "duration": 37,
        "start_time": "2024-02-29T04:56:35.149Z"
      },
      {
        "duration": 11,
        "start_time": "2024-02-29T04:56:35.188Z"
      },
      {
        "duration": 24,
        "start_time": "2024-02-29T04:56:35.201Z"
      },
      {
        "duration": 12,
        "start_time": "2024-02-29T04:56:35.226Z"
      },
      {
        "duration": 58,
        "start_time": "2024-02-29T04:56:35.240Z"
      },
      {
        "duration": 10,
        "start_time": "2024-02-29T04:56:35.300Z"
      },
      {
        "duration": 9,
        "start_time": "2024-02-29T04:56:35.312Z"
      },
      {
        "duration": 8,
        "start_time": "2024-02-29T04:56:35.323Z"
      },
      {
        "duration": 4,
        "start_time": "2024-02-29T04:56:35.333Z"
      },
      {
        "duration": 48,
        "start_time": "2024-02-29T04:56:35.338Z"
      },
      {
        "duration": 16,
        "start_time": "2024-02-29T04:56:35.387Z"
      },
      {
        "duration": 6,
        "start_time": "2024-02-29T04:56:35.404Z"
      },
      {
        "duration": 11,
        "start_time": "2024-02-29T04:56:35.411Z"
      },
      {
        "duration": 9,
        "start_time": "2024-02-29T04:56:35.426Z"
      },
      {
        "duration": 55,
        "start_time": "2024-02-29T04:56:35.437Z"
      },
      {
        "duration": 11,
        "start_time": "2024-02-29T04:56:35.493Z"
      },
      {
        "duration": 11,
        "start_time": "2024-02-29T04:56:35.505Z"
      },
      {
        "duration": 8,
        "start_time": "2024-02-29T04:56:35.518Z"
      },
      {
        "duration": 15,
        "start_time": "2024-02-29T04:56:35.527Z"
      },
      {
        "duration": 40,
        "start_time": "2024-02-29T04:56:35.544Z"
      },
      {
        "duration": 12,
        "start_time": "2024-02-29T04:56:35.587Z"
      },
      {
        "duration": 8,
        "start_time": "2024-02-29T04:56:35.601Z"
      },
      {
        "duration": 143,
        "start_time": "2024-02-29T04:56:53.415Z"
      },
      {
        "duration": 15,
        "start_time": "2024-02-29T04:57:04.797Z"
      },
      {
        "duration": 170,
        "start_time": "2024-02-29T04:59:53.495Z"
      },
      {
        "duration": 166,
        "start_time": "2024-02-29T05:00:07.431Z"
      },
      {
        "duration": 161,
        "start_time": "2024-02-29T05:01:43.113Z"
      },
      {
        "duration": 14,
        "start_time": "2024-02-29T05:01:55.711Z"
      },
      {
        "duration": 163,
        "start_time": "2024-02-29T05:04:16.649Z"
      },
      {
        "duration": 171,
        "start_time": "2024-02-29T05:04:36.200Z"
      },
      {
        "duration": 23,
        "start_time": "2024-02-29T05:14:42.765Z"
      },
      {
        "duration": 170,
        "start_time": "2024-02-29T05:15:15.137Z"
      },
      {
        "duration": 991,
        "start_time": "2024-02-29T05:15:37.630Z"
      },
      {
        "duration": 165,
        "start_time": "2024-02-29T05:15:38.622Z"
      },
      {
        "duration": 32,
        "start_time": "2024-02-29T05:15:38.788Z"
      },
      {
        "duration": 3,
        "start_time": "2024-02-29T05:15:38.823Z"
      },
      {
        "duration": 35,
        "start_time": "2024-02-29T05:15:38.828Z"
      },
      {
        "duration": 32,
        "start_time": "2024-02-29T05:15:38.865Z"
      },
      {
        "duration": 7,
        "start_time": "2024-02-29T05:15:38.899Z"
      },
      {
        "duration": 40,
        "start_time": "2024-02-29T05:15:38.908Z"
      },
      {
        "duration": 36,
        "start_time": "2024-02-29T05:15:38.949Z"
      },
      {
        "duration": 10,
        "start_time": "2024-02-29T05:15:38.988Z"
      },
      {
        "duration": 55,
        "start_time": "2024-02-29T05:15:39.000Z"
      },
      {
        "duration": 30,
        "start_time": "2024-02-29T05:15:39.057Z"
      },
      {
        "duration": 12,
        "start_time": "2024-02-29T05:15:39.089Z"
      },
      {
        "duration": 7,
        "start_time": "2024-02-29T05:15:39.103Z"
      },
      {
        "duration": 15,
        "start_time": "2024-02-29T05:15:39.112Z"
      },
      {
        "duration": 7,
        "start_time": "2024-02-29T05:15:39.128Z"
      },
      {
        "duration": 10,
        "start_time": "2024-02-29T05:15:39.137Z"
      },
      {
        "duration": 512,
        "start_time": "2024-02-29T05:15:39.148Z"
      },
      {
        "duration": 19,
        "start_time": "2024-02-29T05:15:39.662Z"
      },
      {
        "duration": 97,
        "start_time": "2024-02-29T05:15:39.683Z"
      },
      {
        "duration": 845,
        "start_time": "2024-02-29T05:15:39.782Z"
      },
      {
        "duration": 11,
        "start_time": "2024-02-29T05:15:40.629Z"
      },
      {
        "duration": 43,
        "start_time": "2024-02-29T05:15:40.642Z"
      },
      {
        "duration": 184,
        "start_time": "2024-02-29T05:15:40.686Z"
      },
      {
        "duration": 10,
        "start_time": "2024-02-29T05:15:40.872Z"
      },
      {
        "duration": 22,
        "start_time": "2024-02-29T05:15:40.884Z"
      },
      {
        "duration": 12,
        "start_time": "2024-02-29T05:15:40.908Z"
      },
      {
        "duration": 17,
        "start_time": "2024-02-29T05:15:40.924Z"
      },
      {
        "duration": 13,
        "start_time": "2024-02-29T05:15:40.943Z"
      },
      {
        "duration": 26,
        "start_time": "2024-02-29T05:15:40.980Z"
      },
      {
        "duration": 13,
        "start_time": "2024-02-29T05:15:41.008Z"
      },
      {
        "duration": 59,
        "start_time": "2024-02-29T05:15:41.023Z"
      },
      {
        "duration": 11,
        "start_time": "2024-02-29T05:15:41.083Z"
      },
      {
        "duration": 12,
        "start_time": "2024-02-29T05:15:41.096Z"
      },
      {
        "duration": 13,
        "start_time": "2024-02-29T05:15:41.110Z"
      },
      {
        "duration": 20,
        "start_time": "2024-02-29T05:15:41.125Z"
      },
      {
        "duration": 24,
        "start_time": "2024-02-29T05:15:41.147Z"
      },
      {
        "duration": 24,
        "start_time": "2024-02-29T05:15:41.172Z"
      },
      {
        "duration": 6,
        "start_time": "2024-02-29T05:15:41.198Z"
      },
      {
        "duration": 21,
        "start_time": "2024-02-29T05:15:41.206Z"
      },
      {
        "duration": 11,
        "start_time": "2024-02-29T05:15:41.228Z"
      },
      {
        "duration": 48,
        "start_time": "2024-02-29T05:15:41.241Z"
      },
      {
        "duration": 12,
        "start_time": "2024-02-29T05:15:41.291Z"
      },
      {
        "duration": 14,
        "start_time": "2024-02-29T05:15:41.304Z"
      },
      {
        "duration": 8,
        "start_time": "2024-02-29T05:15:41.320Z"
      },
      {
        "duration": 14,
        "start_time": "2024-02-29T05:15:41.329Z"
      },
      {
        "duration": 37,
        "start_time": "2024-02-29T05:15:41.344Z"
      },
      {
        "duration": 26,
        "start_time": "2024-02-29T05:15:41.382Z"
      },
      {
        "duration": 8,
        "start_time": "2024-02-29T05:15:41.409Z"
      },
      {
        "duration": 885,
        "start_time": "2024-02-29T06:54:23.347Z"
      },
      {
        "duration": 207,
        "start_time": "2024-02-29T06:54:24.234Z"
      },
      {
        "duration": 62,
        "start_time": "2024-02-29T06:54:24.443Z"
      },
      {
        "duration": 3,
        "start_time": "2024-02-29T06:54:24.507Z"
      },
      {
        "duration": 39,
        "start_time": "2024-02-29T06:54:24.511Z"
      },
      {
        "duration": 65,
        "start_time": "2024-02-29T06:54:24.552Z"
      },
      {
        "duration": 25,
        "start_time": "2024-02-29T06:54:24.619Z"
      },
      {
        "duration": 37,
        "start_time": "2024-02-29T06:54:24.646Z"
      },
      {
        "duration": 11,
        "start_time": "2024-02-29T06:54:24.685Z"
      },
      {
        "duration": 17,
        "start_time": "2024-02-29T06:54:24.699Z"
      },
      {
        "duration": 62,
        "start_time": "2024-02-29T06:54:24.717Z"
      },
      {
        "duration": 12,
        "start_time": "2024-02-29T06:54:24.781Z"
      },
      {
        "duration": 30,
        "start_time": "2024-02-29T06:54:24.795Z"
      },
      {
        "duration": 11,
        "start_time": "2024-02-29T06:54:24.827Z"
      },
      {
        "duration": 32,
        "start_time": "2024-02-29T06:54:24.840Z"
      },
      {
        "duration": 15,
        "start_time": "2024-02-29T06:54:24.873Z"
      },
      {
        "duration": 17,
        "start_time": "2024-02-29T06:54:24.889Z"
      },
      {
        "duration": 443,
        "start_time": "2024-02-29T06:54:24.908Z"
      },
      {
        "duration": 10,
        "start_time": "2024-02-29T06:54:25.352Z"
      },
      {
        "duration": 57,
        "start_time": "2024-02-29T06:54:25.363Z"
      },
      {
        "duration": 772,
        "start_time": "2024-02-29T06:54:25.422Z"
      },
      {
        "duration": 10,
        "start_time": "2024-02-29T06:54:26.195Z"
      },
      {
        "duration": 56,
        "start_time": "2024-02-29T06:54:26.207Z"
      },
      {
        "duration": 168,
        "start_time": "2024-02-29T06:54:26.265Z"
      },
      {
        "duration": 7,
        "start_time": "2024-02-29T06:54:26.435Z"
      },
      {
        "duration": 18,
        "start_time": "2024-02-29T06:54:26.443Z"
      },
      {
        "duration": 13,
        "start_time": "2024-02-29T06:54:26.463Z"
      },
      {
        "duration": 27,
        "start_time": "2024-02-29T06:54:26.479Z"
      },
      {
        "duration": 10,
        "start_time": "2024-02-29T06:54:26.508Z"
      },
      {
        "duration": 36,
        "start_time": "2024-02-29T06:54:26.519Z"
      },
      {
        "duration": 24,
        "start_time": "2024-02-29T06:54:26.556Z"
      },
      {
        "duration": 43,
        "start_time": "2024-02-29T06:54:26.581Z"
      },
      {
        "duration": 11,
        "start_time": "2024-02-29T06:54:26.625Z"
      },
      {
        "duration": 44,
        "start_time": "2024-02-29T06:54:26.637Z"
      },
      {
        "duration": 7,
        "start_time": "2024-02-29T06:54:26.683Z"
      },
      {
        "duration": 21,
        "start_time": "2024-02-29T06:54:26.691Z"
      },
      {
        "duration": 27,
        "start_time": "2024-02-29T06:54:26.713Z"
      },
      {
        "duration": 24,
        "start_time": "2024-02-29T06:54:26.741Z"
      },
      {
        "duration": 23,
        "start_time": "2024-02-29T06:54:26.766Z"
      },
      {
        "duration": 28,
        "start_time": "2024-02-29T06:54:26.790Z"
      },
      {
        "duration": 16,
        "start_time": "2024-02-29T06:54:26.819Z"
      },
      {
        "duration": 23,
        "start_time": "2024-02-29T06:54:26.836Z"
      },
      {
        "duration": 12,
        "start_time": "2024-02-29T06:54:26.860Z"
      },
      {
        "duration": 30,
        "start_time": "2024-02-29T06:54:26.873Z"
      },
      {
        "duration": 13,
        "start_time": "2024-02-29T06:54:26.905Z"
      },
      {
        "duration": 12,
        "start_time": "2024-02-29T06:54:26.919Z"
      },
      {
        "duration": 18,
        "start_time": "2024-02-29T06:54:26.933Z"
      },
      {
        "duration": 22,
        "start_time": "2024-02-29T06:54:26.952Z"
      },
      {
        "duration": 19,
        "start_time": "2024-02-29T06:54:26.975Z"
      },
      {
        "duration": 149,
        "start_time": "2024-02-29T06:54:51.273Z"
      },
      {
        "duration": 882,
        "start_time": "2024-02-29T06:55:23.449Z"
      },
      {
        "duration": 130,
        "start_time": "2024-02-29T06:55:24.333Z"
      },
      {
        "duration": 27,
        "start_time": "2024-02-29T06:55:24.465Z"
      },
      {
        "duration": 28,
        "start_time": "2024-02-29T06:55:24.494Z"
      },
      {
        "duration": 32,
        "start_time": "2024-02-29T06:55:24.523Z"
      },
      {
        "duration": 38,
        "start_time": "2024-02-29T06:55:24.557Z"
      },
      {
        "duration": 25,
        "start_time": "2024-02-29T06:55:24.597Z"
      },
      {
        "duration": 30,
        "start_time": "2024-02-29T06:55:24.623Z"
      },
      {
        "duration": 11,
        "start_time": "2024-02-29T06:55:24.654Z"
      },
      {
        "duration": 25,
        "start_time": "2024-02-29T06:55:24.667Z"
      },
      {
        "duration": 64,
        "start_time": "2024-02-29T06:55:24.694Z"
      },
      {
        "duration": 11,
        "start_time": "2024-02-29T06:55:24.759Z"
      },
      {
        "duration": 70,
        "start_time": "2024-02-29T06:55:24.771Z"
      },
      {
        "duration": 28,
        "start_time": "2024-02-29T06:55:24.842Z"
      },
      {
        "duration": 20,
        "start_time": "2024-02-29T06:55:24.871Z"
      },
      {
        "duration": 10,
        "start_time": "2024-02-29T06:55:24.893Z"
      },
      {
        "duration": 34,
        "start_time": "2024-02-29T06:55:24.905Z"
      },
      {
        "duration": 462,
        "start_time": "2024-02-29T06:55:24.941Z"
      },
      {
        "duration": 11,
        "start_time": "2024-02-29T06:55:25.404Z"
      },
      {
        "duration": 89,
        "start_time": "2024-02-29T06:55:25.417Z"
      },
      {
        "duration": 820,
        "start_time": "2024-02-29T06:55:25.507Z"
      },
      {
        "duration": 11,
        "start_time": "2024-02-29T06:55:26.328Z"
      },
      {
        "duration": 44,
        "start_time": "2024-02-29T06:55:26.340Z"
      },
      {
        "duration": 157,
        "start_time": "2024-02-29T06:55:26.386Z"
      },
      {
        "duration": 7,
        "start_time": "2024-02-29T06:55:26.545Z"
      },
      {
        "duration": 37,
        "start_time": "2024-02-29T06:55:26.553Z"
      },
      {
        "duration": 20,
        "start_time": "2024-02-29T06:55:26.592Z"
      },
      {
        "duration": 36,
        "start_time": "2024-02-29T06:55:26.615Z"
      },
      {
        "duration": 31,
        "start_time": "2024-02-29T06:55:26.653Z"
      },
      {
        "duration": 30,
        "start_time": "2024-02-29T06:55:26.686Z"
      },
      {
        "duration": 10,
        "start_time": "2024-02-29T06:55:26.718Z"
      },
      {
        "duration": 50,
        "start_time": "2024-02-29T06:55:26.729Z"
      },
      {
        "duration": 10,
        "start_time": "2024-02-29T06:55:26.780Z"
      },
      {
        "duration": 10,
        "start_time": "2024-02-29T06:55:26.791Z"
      },
      {
        "duration": 33,
        "start_time": "2024-02-29T06:55:26.803Z"
      },
      {
        "duration": 8,
        "start_time": "2024-02-29T06:55:26.837Z"
      },
      {
        "duration": 52,
        "start_time": "2024-02-29T06:55:26.846Z"
      },
      {
        "duration": 32,
        "start_time": "2024-02-29T06:55:26.899Z"
      },
      {
        "duration": 7,
        "start_time": "2024-02-29T06:55:26.932Z"
      },
      {
        "duration": 15,
        "start_time": "2024-02-29T06:55:26.940Z"
      },
      {
        "duration": 8,
        "start_time": "2024-02-29T06:55:26.956Z"
      },
      {
        "duration": 45,
        "start_time": "2024-02-29T06:55:26.965Z"
      },
      {
        "duration": 26,
        "start_time": "2024-02-29T06:55:27.011Z"
      },
      {
        "duration": 14,
        "start_time": "2024-02-29T06:55:27.038Z"
      },
      {
        "duration": 41,
        "start_time": "2024-02-29T06:55:27.054Z"
      },
      {
        "duration": 28,
        "start_time": "2024-02-29T06:55:27.097Z"
      },
      {
        "duration": 61,
        "start_time": "2024-02-29T06:55:27.127Z"
      },
      {
        "duration": 41,
        "start_time": "2024-02-29T06:55:27.190Z"
      },
      {
        "duration": 19,
        "start_time": "2024-02-29T06:55:27.232Z"
      },
      {
        "duration": 862,
        "start_time": "2024-02-29T06:58:44.539Z"
      },
      {
        "duration": 138,
        "start_time": "2024-02-29T06:58:45.407Z"
      },
      {
        "duration": 30,
        "start_time": "2024-02-29T06:58:45.547Z"
      },
      {
        "duration": 30,
        "start_time": "2024-02-29T06:58:45.579Z"
      },
      {
        "duration": 60,
        "start_time": "2024-02-29T06:58:45.611Z"
      },
      {
        "duration": 51,
        "start_time": "2024-02-29T06:58:45.673Z"
      },
      {
        "duration": 7,
        "start_time": "2024-02-29T06:58:45.725Z"
      },
      {
        "duration": 38,
        "start_time": "2024-02-29T06:58:45.733Z"
      },
      {
        "duration": 20,
        "start_time": "2024-02-29T06:58:45.773Z"
      },
      {
        "duration": 23,
        "start_time": "2024-02-29T06:58:45.796Z"
      },
      {
        "duration": 42,
        "start_time": "2024-02-29T06:58:45.821Z"
      },
      {
        "duration": 11,
        "start_time": "2024-02-29T06:58:45.865Z"
      },
      {
        "duration": 12,
        "start_time": "2024-02-29T06:58:45.878Z"
      },
      {
        "duration": 23,
        "start_time": "2024-02-29T06:58:45.891Z"
      },
      {
        "duration": 20,
        "start_time": "2024-02-29T06:58:45.915Z"
      },
      {
        "duration": 21,
        "start_time": "2024-02-29T06:58:45.936Z"
      },
      {
        "duration": 31,
        "start_time": "2024-02-29T06:58:45.958Z"
      },
      {
        "duration": 404,
        "start_time": "2024-02-29T06:58:45.991Z"
      },
      {
        "duration": 12,
        "start_time": "2024-02-29T06:58:46.397Z"
      },
      {
        "duration": 94,
        "start_time": "2024-02-29T06:58:46.411Z"
      },
      {
        "duration": 783,
        "start_time": "2024-02-29T06:58:46.506Z"
      },
      {
        "duration": 15,
        "start_time": "2024-02-29T06:58:47.294Z"
      },
      {
        "duration": 29,
        "start_time": "2024-02-29T06:58:47.310Z"
      },
      {
        "duration": 179,
        "start_time": "2024-02-29T06:58:47.340Z"
      },
      {
        "duration": 7,
        "start_time": "2024-02-29T06:58:47.521Z"
      },
      {
        "duration": 29,
        "start_time": "2024-02-29T06:58:47.529Z"
      },
      {
        "duration": 12,
        "start_time": "2024-02-29T06:58:47.560Z"
      },
      {
        "duration": 41,
        "start_time": "2024-02-29T06:58:47.575Z"
      },
      {
        "duration": 14,
        "start_time": "2024-02-29T06:58:47.618Z"
      },
      {
        "duration": 37,
        "start_time": "2024-02-29T06:58:47.634Z"
      },
      {
        "duration": 12,
        "start_time": "2024-02-29T06:58:47.672Z"
      },
      {
        "duration": 56,
        "start_time": "2024-02-29T06:58:47.686Z"
      },
      {
        "duration": 10,
        "start_time": "2024-02-29T06:58:47.744Z"
      },
      {
        "duration": 24,
        "start_time": "2024-02-29T06:58:47.755Z"
      },
      {
        "duration": 8,
        "start_time": "2024-02-29T06:58:47.780Z"
      },
      {
        "duration": 12,
        "start_time": "2024-02-29T06:58:47.789Z"
      },
      {
        "duration": 17,
        "start_time": "2024-02-29T06:58:47.806Z"
      },
      {
        "duration": 30,
        "start_time": "2024-02-29T06:58:47.824Z"
      },
      {
        "duration": 21,
        "start_time": "2024-02-29T06:58:47.855Z"
      },
      {
        "duration": 28,
        "start_time": "2024-02-29T06:58:47.877Z"
      },
      {
        "duration": 10,
        "start_time": "2024-02-29T06:58:47.907Z"
      },
      {
        "duration": 45,
        "start_time": "2024-02-29T06:58:47.919Z"
      },
      {
        "duration": 11,
        "start_time": "2024-02-29T06:58:47.966Z"
      },
      {
        "duration": 26,
        "start_time": "2024-02-29T06:58:47.979Z"
      },
      {
        "duration": 30,
        "start_time": "2024-02-29T06:58:48.007Z"
      },
      {
        "duration": 20,
        "start_time": "2024-02-29T06:58:48.039Z"
      },
      {
        "duration": 45,
        "start_time": "2024-02-29T06:58:48.060Z"
      },
      {
        "duration": 11,
        "start_time": "2024-02-29T06:58:48.107Z"
      },
      {
        "duration": 28,
        "start_time": "2024-02-29T06:58:48.119Z"
      },
      {
        "duration": 14,
        "start_time": "2024-02-29T07:02:32.783Z"
      },
      {
        "duration": 12,
        "start_time": "2024-02-29T07:03:19.631Z"
      },
      {
        "duration": 175,
        "start_time": "2024-02-29T07:05:39.825Z"
      },
      {
        "duration": 8,
        "start_time": "2024-02-29T07:05:46.976Z"
      },
      {
        "duration": 14,
        "start_time": "2024-02-29T07:05:49.561Z"
      },
      {
        "duration": 11,
        "start_time": "2024-02-29T07:05:54.234Z"
      },
      {
        "duration": 11,
        "start_time": "2024-02-29T07:06:03.328Z"
      },
      {
        "duration": 162,
        "start_time": "2024-02-29T07:06:07.121Z"
      },
      {
        "duration": 946,
        "start_time": "2024-02-29T07:06:25.325Z"
      },
      {
        "duration": 144,
        "start_time": "2024-02-29T07:06:26.273Z"
      },
      {
        "duration": 29,
        "start_time": "2024-02-29T07:06:26.418Z"
      },
      {
        "duration": 4,
        "start_time": "2024-02-29T07:06:26.450Z"
      },
      {
        "duration": 51,
        "start_time": "2024-02-29T07:06:26.456Z"
      },
      {
        "duration": 21,
        "start_time": "2024-02-29T07:06:26.509Z"
      },
      {
        "duration": 5,
        "start_time": "2024-02-29T07:06:26.532Z"
      },
      {
        "duration": 44,
        "start_time": "2024-02-29T07:06:26.538Z"
      },
      {
        "duration": 17,
        "start_time": "2024-02-29T07:06:26.584Z"
      },
      {
        "duration": 11,
        "start_time": "2024-02-29T07:06:26.603Z"
      },
      {
        "duration": 88,
        "start_time": "2024-02-29T07:06:26.616Z"
      },
      {
        "duration": 12,
        "start_time": "2024-02-29T07:06:26.711Z"
      },
      {
        "duration": 7,
        "start_time": "2024-02-29T07:06:26.725Z"
      },
      {
        "duration": 12,
        "start_time": "2024-02-29T07:06:26.734Z"
      },
      {
        "duration": 18,
        "start_time": "2024-02-29T07:06:26.747Z"
      },
      {
        "duration": 50,
        "start_time": "2024-02-29T07:06:26.767Z"
      },
      {
        "duration": 17,
        "start_time": "2024-02-29T07:06:26.823Z"
      },
      {
        "duration": 425,
        "start_time": "2024-02-29T07:06:26.841Z"
      },
      {
        "duration": 9,
        "start_time": "2024-02-29T07:06:27.268Z"
      },
      {
        "duration": 53,
        "start_time": "2024-02-29T07:06:27.279Z"
      },
      {
        "duration": 919,
        "start_time": "2024-02-29T07:06:27.334Z"
      },
      {
        "duration": 15,
        "start_time": "2024-02-29T07:06:28.255Z"
      },
      {
        "duration": 49,
        "start_time": "2024-02-29T07:06:28.271Z"
      },
      {
        "duration": 165,
        "start_time": "2024-02-29T07:06:28.322Z"
      },
      {
        "duration": 15,
        "start_time": "2024-02-29T07:06:28.493Z"
      },
      {
        "duration": 43,
        "start_time": "2024-02-29T07:06:28.509Z"
      },
      {
        "duration": 29,
        "start_time": "2024-02-29T07:06:28.553Z"
      },
      {
        "duration": 99,
        "start_time": "2024-02-29T07:06:28.587Z"
      },
      {
        "duration": 0,
        "start_time": "2024-02-29T07:06:28.688Z"
      },
      {
        "duration": 0,
        "start_time": "2024-02-29T07:06:28.689Z"
      },
      {
        "duration": 0,
        "start_time": "2024-02-29T07:06:28.690Z"
      },
      {
        "duration": 0,
        "start_time": "2024-02-29T07:06:28.690Z"
      },
      {
        "duration": 0,
        "start_time": "2024-02-29T07:06:28.692Z"
      },
      {
        "duration": 0,
        "start_time": "2024-02-29T07:06:28.693Z"
      },
      {
        "duration": 0,
        "start_time": "2024-02-29T07:06:28.693Z"
      },
      {
        "duration": 0,
        "start_time": "2024-02-29T07:06:28.694Z"
      },
      {
        "duration": 0,
        "start_time": "2024-02-29T07:06:28.694Z"
      },
      {
        "duration": 0,
        "start_time": "2024-02-29T07:06:28.699Z"
      },
      {
        "duration": 0,
        "start_time": "2024-02-29T07:06:28.700Z"
      },
      {
        "duration": 0,
        "start_time": "2024-02-29T07:06:28.700Z"
      },
      {
        "duration": 0,
        "start_time": "2024-02-29T07:06:28.701Z"
      },
      {
        "duration": 0,
        "start_time": "2024-02-29T07:06:28.702Z"
      },
      {
        "duration": 0,
        "start_time": "2024-02-29T07:06:28.702Z"
      },
      {
        "duration": 0,
        "start_time": "2024-02-29T07:06:28.703Z"
      },
      {
        "duration": 0,
        "start_time": "2024-02-29T07:06:28.704Z"
      },
      {
        "duration": 0,
        "start_time": "2024-02-29T07:06:28.705Z"
      },
      {
        "duration": 0,
        "start_time": "2024-02-29T07:06:28.705Z"
      },
      {
        "duration": 0,
        "start_time": "2024-02-29T07:06:28.706Z"
      },
      {
        "duration": 0,
        "start_time": "2024-02-29T07:06:28.710Z"
      },
      {
        "duration": 0,
        "start_time": "2024-02-29T07:06:28.711Z"
      },
      {
        "duration": 897,
        "start_time": "2024-02-29T07:06:44.114Z"
      },
      {
        "duration": 140,
        "start_time": "2024-02-29T07:06:45.013Z"
      },
      {
        "duration": 29,
        "start_time": "2024-02-29T07:06:45.155Z"
      },
      {
        "duration": 32,
        "start_time": "2024-02-29T07:06:45.186Z"
      },
      {
        "duration": 86,
        "start_time": "2024-02-29T07:06:45.219Z"
      },
      {
        "duration": 52,
        "start_time": "2024-02-29T07:06:45.307Z"
      },
      {
        "duration": 24,
        "start_time": "2024-02-29T07:06:45.361Z"
      },
      {
        "duration": 114,
        "start_time": "2024-02-29T07:06:45.387Z"
      },
      {
        "duration": 59,
        "start_time": "2024-02-29T07:06:45.507Z"
      },
      {
        "duration": 40,
        "start_time": "2024-02-29T07:06:45.569Z"
      },
      {
        "duration": 79,
        "start_time": "2024-02-29T07:06:45.611Z"
      },
      {
        "duration": 17,
        "start_time": "2024-02-29T07:06:45.691Z"
      },
      {
        "duration": 28,
        "start_time": "2024-02-29T07:06:45.710Z"
      },
      {
        "duration": 42,
        "start_time": "2024-02-29T07:06:45.740Z"
      },
      {
        "duration": 58,
        "start_time": "2024-02-29T07:06:45.783Z"
      },
      {
        "duration": 43,
        "start_time": "2024-02-29T07:06:45.843Z"
      },
      {
        "duration": 50,
        "start_time": "2024-02-29T07:06:45.887Z"
      },
      {
        "duration": 438,
        "start_time": "2024-02-29T07:06:45.939Z"
      },
      {
        "duration": 9,
        "start_time": "2024-02-29T07:06:46.378Z"
      },
      {
        "duration": 71,
        "start_time": "2024-02-29T07:06:46.389Z"
      },
      {
        "duration": 925,
        "start_time": "2024-02-29T07:06:46.461Z"
      },
      {
        "duration": 27,
        "start_time": "2024-02-29T07:06:47.387Z"
      },
      {
        "duration": 39,
        "start_time": "2024-02-29T07:06:47.416Z"
      },
      {
        "duration": 169,
        "start_time": "2024-02-29T07:06:47.457Z"
      },
      {
        "duration": 8,
        "start_time": "2024-02-29T07:06:47.627Z"
      },
      {
        "duration": 76,
        "start_time": "2024-02-29T07:06:47.636Z"
      },
      {
        "duration": 36,
        "start_time": "2024-02-29T07:06:47.714Z"
      },
      {
        "duration": 38,
        "start_time": "2024-02-29T07:06:47.754Z"
      },
      {
        "duration": 179,
        "start_time": "2024-02-29T07:06:47.794Z"
      },
      {
        "duration": 0,
        "start_time": "2024-02-29T07:06:47.975Z"
      },
      {
        "duration": 0,
        "start_time": "2024-02-29T07:06:47.977Z"
      },
      {
        "duration": 0,
        "start_time": "2024-02-29T07:06:47.978Z"
      },
      {
        "duration": 0,
        "start_time": "2024-02-29T07:06:47.979Z"
      },
      {
        "duration": 0,
        "start_time": "2024-02-29T07:06:47.980Z"
      },
      {
        "duration": 0,
        "start_time": "2024-02-29T07:06:47.982Z"
      },
      {
        "duration": 0,
        "start_time": "2024-02-29T07:06:47.982Z"
      },
      {
        "duration": 0,
        "start_time": "2024-02-29T07:06:47.983Z"
      },
      {
        "duration": 0,
        "start_time": "2024-02-29T07:06:47.984Z"
      },
      {
        "duration": 0,
        "start_time": "2024-02-29T07:06:48.001Z"
      },
      {
        "duration": 0,
        "start_time": "2024-02-29T07:06:48.003Z"
      },
      {
        "duration": 0,
        "start_time": "2024-02-29T07:06:48.004Z"
      },
      {
        "duration": 0,
        "start_time": "2024-02-29T07:06:48.005Z"
      },
      {
        "duration": 0,
        "start_time": "2024-02-29T07:06:48.007Z"
      },
      {
        "duration": 0,
        "start_time": "2024-02-29T07:06:48.008Z"
      },
      {
        "duration": 0,
        "start_time": "2024-02-29T07:06:48.009Z"
      },
      {
        "duration": 0,
        "start_time": "2024-02-29T07:06:48.010Z"
      },
      {
        "duration": 0,
        "start_time": "2024-02-29T07:06:48.011Z"
      },
      {
        "duration": 0,
        "start_time": "2024-02-29T07:06:48.012Z"
      },
      {
        "duration": 0,
        "start_time": "2024-02-29T07:06:48.012Z"
      },
      {
        "duration": 909,
        "start_time": "2024-02-29T07:07:03.330Z"
      },
      {
        "duration": 139,
        "start_time": "2024-02-29T07:07:04.241Z"
      },
      {
        "duration": 34,
        "start_time": "2024-02-29T07:07:04.381Z"
      },
      {
        "duration": 2,
        "start_time": "2024-02-29T07:07:04.417Z"
      },
      {
        "duration": 30,
        "start_time": "2024-02-29T07:07:04.421Z"
      },
      {
        "duration": 40,
        "start_time": "2024-02-29T07:07:04.453Z"
      },
      {
        "duration": 15,
        "start_time": "2024-02-29T07:07:04.495Z"
      },
      {
        "duration": 30,
        "start_time": "2024-02-29T07:07:04.512Z"
      },
      {
        "duration": 20,
        "start_time": "2024-02-29T07:07:04.543Z"
      },
      {
        "duration": 12,
        "start_time": "2024-02-29T07:07:04.565Z"
      },
      {
        "duration": 71,
        "start_time": "2024-02-29T07:07:04.579Z"
      },
      {
        "duration": 24,
        "start_time": "2024-02-29T07:07:04.652Z"
      },
      {
        "duration": 20,
        "start_time": "2024-02-29T07:07:04.677Z"
      },
      {
        "duration": 18,
        "start_time": "2024-02-29T07:07:04.706Z"
      },
      {
        "duration": 24,
        "start_time": "2024-02-29T07:07:04.725Z"
      },
      {
        "duration": 18,
        "start_time": "2024-02-29T07:07:04.751Z"
      },
      {
        "duration": 15,
        "start_time": "2024-02-29T07:07:04.770Z"
      },
      {
        "duration": 443,
        "start_time": "2024-02-29T07:07:04.787Z"
      },
      {
        "duration": 9,
        "start_time": "2024-02-29T07:07:05.232Z"
      },
      {
        "duration": 68,
        "start_time": "2024-02-29T07:07:05.242Z"
      },
      {
        "duration": 806,
        "start_time": "2024-02-29T07:07:05.311Z"
      },
      {
        "duration": 11,
        "start_time": "2024-02-29T07:07:06.118Z"
      },
      {
        "duration": 24,
        "start_time": "2024-02-29T07:07:06.130Z"
      },
      {
        "duration": 184,
        "start_time": "2024-02-29T07:07:06.156Z"
      },
      {
        "duration": 7,
        "start_time": "2024-02-29T07:07:06.342Z"
      },
      {
        "duration": 28,
        "start_time": "2024-02-29T07:07:06.350Z"
      },
      {
        "duration": 22,
        "start_time": "2024-02-29T07:07:06.379Z"
      },
      {
        "duration": 18,
        "start_time": "2024-02-29T07:07:06.409Z"
      },
      {
        "duration": 24,
        "start_time": "2024-02-29T07:07:06.429Z"
      },
      {
        "duration": 25,
        "start_time": "2024-02-29T07:07:06.454Z"
      },
      {
        "duration": 11,
        "start_time": "2024-02-29T07:07:06.481Z"
      },
      {
        "duration": 50,
        "start_time": "2024-02-29T07:07:06.493Z"
      },
      {
        "duration": 9,
        "start_time": "2024-02-29T07:07:06.544Z"
      },
      {
        "duration": 16,
        "start_time": "2024-02-29T07:07:06.554Z"
      },
      {
        "duration": 10,
        "start_time": "2024-02-29T07:07:06.571Z"
      },
      {
        "duration": 27,
        "start_time": "2024-02-29T07:07:06.582Z"
      },
      {
        "duration": 19,
        "start_time": "2024-02-29T07:07:06.610Z"
      },
      {
        "duration": 14,
        "start_time": "2024-02-29T07:07:06.630Z"
      },
      {
        "duration": 11,
        "start_time": "2024-02-29T07:07:06.645Z"
      },
      {
        "duration": 17,
        "start_time": "2024-02-29T07:07:06.658Z"
      },
      {
        "duration": 10,
        "start_time": "2024-02-29T07:07:06.676Z"
      },
      {
        "duration": 31,
        "start_time": "2024-02-29T07:07:06.687Z"
      },
      {
        "duration": 10,
        "start_time": "2024-02-29T07:07:06.719Z"
      },
      {
        "duration": 10,
        "start_time": "2024-02-29T07:07:06.730Z"
      },
      {
        "duration": 8,
        "start_time": "2024-02-29T07:07:06.741Z"
      },
      {
        "duration": 22,
        "start_time": "2024-02-29T07:07:06.750Z"
      },
      {
        "duration": 32,
        "start_time": "2024-02-29T07:07:06.773Z"
      },
      {
        "duration": 11,
        "start_time": "2024-02-29T07:07:06.807Z"
      },
      {
        "duration": 12,
        "start_time": "2024-02-29T07:07:06.819Z"
      },
      {
        "duration": 10,
        "start_time": "2024-02-29T07:08:06.376Z"
      },
      {
        "duration": 15,
        "start_time": "2024-02-29T07:08:24.190Z"
      },
      {
        "duration": 945,
        "start_time": "2024-02-29T07:08:38.630Z"
      },
      {
        "duration": 139,
        "start_time": "2024-02-29T07:08:39.577Z"
      },
      {
        "duration": 29,
        "start_time": "2024-02-29T07:08:39.717Z"
      },
      {
        "duration": 3,
        "start_time": "2024-02-29T07:08:39.748Z"
      },
      {
        "duration": 56,
        "start_time": "2024-02-29T07:08:39.752Z"
      },
      {
        "duration": 21,
        "start_time": "2024-02-29T07:08:39.810Z"
      },
      {
        "duration": 5,
        "start_time": "2024-02-29T07:08:39.833Z"
      },
      {
        "duration": 25,
        "start_time": "2024-02-29T07:08:39.840Z"
      },
      {
        "duration": 12,
        "start_time": "2024-02-29T07:08:39.866Z"
      },
      {
        "duration": 14,
        "start_time": "2024-02-29T07:08:39.895Z"
      },
      {
        "duration": 41,
        "start_time": "2024-02-29T07:08:39.910Z"
      },
      {
        "duration": 14,
        "start_time": "2024-02-29T07:08:39.953Z"
      },
      {
        "duration": 16,
        "start_time": "2024-02-29T07:08:39.969Z"
      },
      {
        "duration": 23,
        "start_time": "2024-02-29T07:08:39.987Z"
      },
      {
        "duration": 44,
        "start_time": "2024-02-29T07:08:40.011Z"
      },
      {
        "duration": 11,
        "start_time": "2024-02-29T07:08:40.057Z"
      },
      {
        "duration": 38,
        "start_time": "2024-02-29T07:08:40.069Z"
      },
      {
        "duration": 423,
        "start_time": "2024-02-29T07:08:40.109Z"
      },
      {
        "duration": 12,
        "start_time": "2024-02-29T07:08:40.534Z"
      },
      {
        "duration": 76,
        "start_time": "2024-02-29T07:08:40.548Z"
      },
      {
        "duration": 857,
        "start_time": "2024-02-29T07:08:40.626Z"
      },
      {
        "duration": 22,
        "start_time": "2024-02-29T07:08:41.485Z"
      },
      {
        "duration": 36,
        "start_time": "2024-02-29T07:08:41.509Z"
      },
      {
        "duration": 164,
        "start_time": "2024-02-29T07:08:41.546Z"
      },
      {
        "duration": 8,
        "start_time": "2024-02-29T07:08:41.712Z"
      },
      {
        "duration": 47,
        "start_time": "2024-02-29T07:08:41.721Z"
      },
      {
        "duration": 30,
        "start_time": "2024-02-29T07:08:41.769Z"
      },
      {
        "duration": 18,
        "start_time": "2024-02-29T07:08:41.811Z"
      },
      {
        "duration": 25,
        "start_time": "2024-02-29T07:08:41.830Z"
      },
      {
        "duration": 57,
        "start_time": "2024-02-29T07:08:41.856Z"
      },
      {
        "duration": 12,
        "start_time": "2024-02-29T07:08:41.915Z"
      },
      {
        "duration": 51,
        "start_time": "2024-02-29T07:08:41.929Z"
      },
      {
        "duration": 13,
        "start_time": "2024-02-29T07:08:41.982Z"
      },
      {
        "duration": 16,
        "start_time": "2024-02-29T07:08:42.004Z"
      },
      {
        "duration": 26,
        "start_time": "2024-02-29T07:08:42.022Z"
      },
      {
        "duration": 16,
        "start_time": "2024-02-29T07:08:42.049Z"
      },
      {
        "duration": 48,
        "start_time": "2024-02-29T07:08:42.067Z"
      },
      {
        "duration": 33,
        "start_time": "2024-02-29T07:08:42.118Z"
      },
      {
        "duration": 5,
        "start_time": "2024-02-29T07:08:42.152Z"
      },
      {
        "duration": 28,
        "start_time": "2024-02-29T07:08:42.159Z"
      },
      {
        "duration": 23,
        "start_time": "2024-02-29T07:08:42.189Z"
      },
      {
        "duration": 38,
        "start_time": "2024-02-29T07:08:42.213Z"
      },
      {
        "duration": 10,
        "start_time": "2024-02-29T07:08:42.252Z"
      },
      {
        "duration": 47,
        "start_time": "2024-02-29T07:08:42.264Z"
      },
      {
        "duration": 21,
        "start_time": "2024-02-29T07:08:42.312Z"
      },
      {
        "duration": 34,
        "start_time": "2024-02-29T07:08:42.335Z"
      },
      {
        "duration": 41,
        "start_time": "2024-02-29T07:08:42.370Z"
      },
      {
        "duration": 23,
        "start_time": "2024-02-29T07:08:42.412Z"
      },
      {
        "duration": 12,
        "start_time": "2024-02-29T07:08:42.437Z"
      },
      {
        "duration": 15,
        "start_time": "2024-02-29T07:09:39.033Z"
      },
      {
        "duration": 11,
        "start_time": "2024-02-29T07:11:12.851Z"
      },
      {
        "duration": 15,
        "start_time": "2024-02-29T07:11:24.810Z"
      },
      {
        "duration": 20,
        "start_time": "2024-02-29T07:12:27.795Z"
      },
      {
        "duration": 21,
        "start_time": "2024-02-29T07:13:22.586Z"
      },
      {
        "duration": 91,
        "start_time": "2024-02-29T07:13:33.922Z"
      },
      {
        "duration": 24,
        "start_time": "2024-02-29T07:13:52.290Z"
      },
      {
        "duration": 17,
        "start_time": "2024-02-29T07:15:05.938Z"
      },
      {
        "duration": 14,
        "start_time": "2024-02-29T07:15:15.027Z"
      },
      {
        "duration": 12,
        "start_time": "2024-02-29T07:15:27.355Z"
      },
      {
        "duration": 1806,
        "start_time": "2024-02-29T07:17:18.306Z"
      },
      {
        "duration": 3,
        "start_time": "2024-02-29T07:17:42.234Z"
      },
      {
        "duration": 1615,
        "start_time": "2024-02-29T07:17:47.298Z"
      },
      {
        "duration": 2625,
        "start_time": "2024-02-29T07:19:07.147Z"
      },
      {
        "duration": 918,
        "start_time": "2024-02-29T07:19:17.768Z"
      },
      {
        "duration": 129,
        "start_time": "2024-02-29T07:19:18.688Z"
      },
      {
        "duration": 30,
        "start_time": "2024-02-29T07:19:18.818Z"
      },
      {
        "duration": 22,
        "start_time": "2024-02-29T07:19:18.851Z"
      },
      {
        "duration": 58,
        "start_time": "2024-02-29T07:19:18.874Z"
      },
      {
        "duration": 64,
        "start_time": "2024-02-29T07:19:18.934Z"
      },
      {
        "duration": 14,
        "start_time": "2024-02-29T07:19:18.999Z"
      },
      {
        "duration": 60,
        "start_time": "2024-02-29T07:19:19.015Z"
      },
      {
        "duration": 27,
        "start_time": "2024-02-29T07:19:19.077Z"
      },
      {
        "duration": 43,
        "start_time": "2024-02-29T07:19:19.106Z"
      },
      {
        "duration": 66,
        "start_time": "2024-02-29T07:19:19.151Z"
      },
      {
        "duration": 11,
        "start_time": "2024-02-29T07:19:19.219Z"
      },
      {
        "duration": 30,
        "start_time": "2024-02-29T07:19:19.232Z"
      },
      {
        "duration": 23,
        "start_time": "2024-02-29T07:19:19.263Z"
      },
      {
        "duration": 27,
        "start_time": "2024-02-29T07:19:19.287Z"
      },
      {
        "duration": 35,
        "start_time": "2024-02-29T07:19:19.316Z"
      },
      {
        "duration": 26,
        "start_time": "2024-02-29T07:19:19.352Z"
      },
      {
        "duration": 390,
        "start_time": "2024-02-29T07:19:19.379Z"
      },
      {
        "duration": 11,
        "start_time": "2024-02-29T07:19:19.771Z"
      },
      {
        "duration": 57,
        "start_time": "2024-02-29T07:19:19.784Z"
      },
      {
        "duration": 723,
        "start_time": "2024-02-29T07:19:19.843Z"
      },
      {
        "duration": 9,
        "start_time": "2024-02-29T07:19:20.568Z"
      },
      {
        "duration": 38,
        "start_time": "2024-02-29T07:19:20.578Z"
      },
      {
        "duration": 143,
        "start_time": "2024-02-29T07:19:20.617Z"
      },
      {
        "duration": 7,
        "start_time": "2024-02-29T07:19:20.762Z"
      },
      {
        "duration": 47,
        "start_time": "2024-02-29T07:19:20.770Z"
      },
      {
        "duration": 28,
        "start_time": "2024-02-29T07:19:20.819Z"
      },
      {
        "duration": 60,
        "start_time": "2024-02-29T07:19:20.850Z"
      },
      {
        "duration": 14,
        "start_time": "2024-02-29T07:19:20.911Z"
      },
      {
        "duration": 45,
        "start_time": "2024-02-29T07:19:20.926Z"
      },
      {
        "duration": 16,
        "start_time": "2024-02-29T07:19:20.972Z"
      },
      {
        "duration": 29,
        "start_time": "2024-02-29T07:19:20.989Z"
      },
      {
        "duration": 9,
        "start_time": "2024-02-29T07:19:21.019Z"
      },
      {
        "duration": 22,
        "start_time": "2024-02-29T07:19:21.030Z"
      },
      {
        "duration": 27,
        "start_time": "2024-02-29T07:19:21.054Z"
      },
      {
        "duration": 11,
        "start_time": "2024-02-29T07:19:21.082Z"
      },
      {
        "duration": 133,
        "start_time": "2024-02-29T07:19:21.094Z"
      },
      {
        "duration": 0,
        "start_time": "2024-02-29T07:19:21.228Z"
      },
      {
        "duration": 0,
        "start_time": "2024-02-29T07:19:21.229Z"
      },
      {
        "duration": 0,
        "start_time": "2024-02-29T07:19:21.231Z"
      },
      {
        "duration": 0,
        "start_time": "2024-02-29T07:19:21.233Z"
      },
      {
        "duration": 0,
        "start_time": "2024-02-29T07:19:21.234Z"
      },
      {
        "duration": 0,
        "start_time": "2024-02-29T07:19:21.235Z"
      },
      {
        "duration": 0,
        "start_time": "2024-02-29T07:19:21.236Z"
      },
      {
        "duration": 0,
        "start_time": "2024-02-29T07:19:21.238Z"
      },
      {
        "duration": 0,
        "start_time": "2024-02-29T07:19:21.239Z"
      },
      {
        "duration": 0,
        "start_time": "2024-02-29T07:19:21.240Z"
      },
      {
        "duration": 0,
        "start_time": "2024-02-29T07:19:21.241Z"
      },
      {
        "duration": 0,
        "start_time": "2024-02-29T07:19:21.242Z"
      },
      {
        "duration": 1582,
        "start_time": "2024-02-29T07:19:42.105Z"
      },
      {
        "duration": 927,
        "start_time": "2024-02-29T07:19:57.584Z"
      },
      {
        "duration": 127,
        "start_time": "2024-02-29T07:19:58.513Z"
      },
      {
        "duration": 26,
        "start_time": "2024-02-29T07:19:58.642Z"
      },
      {
        "duration": 8,
        "start_time": "2024-02-29T07:19:58.670Z"
      },
      {
        "duration": 45,
        "start_time": "2024-02-29T07:19:58.679Z"
      },
      {
        "duration": 27,
        "start_time": "2024-02-29T07:19:58.726Z"
      },
      {
        "duration": 5,
        "start_time": "2024-02-29T07:19:58.754Z"
      },
      {
        "duration": 35,
        "start_time": "2024-02-29T07:19:58.760Z"
      },
      {
        "duration": 35,
        "start_time": "2024-02-29T07:19:58.797Z"
      },
      {
        "duration": 35,
        "start_time": "2024-02-29T07:19:58.834Z"
      },
      {
        "duration": 83,
        "start_time": "2024-02-29T07:19:58.870Z"
      },
      {
        "duration": 20,
        "start_time": "2024-02-29T07:19:58.954Z"
      },
      {
        "duration": 30,
        "start_time": "2024-02-29T07:19:58.975Z"
      },
      {
        "duration": 8,
        "start_time": "2024-02-29T07:19:59.006Z"
      },
      {
        "duration": 15,
        "start_time": "2024-02-29T07:19:59.015Z"
      },
      {
        "duration": 82,
        "start_time": "2024-02-29T07:19:59.031Z"
      },
      {
        "duration": 37,
        "start_time": "2024-02-29T07:19:59.114Z"
      },
      {
        "duration": 432,
        "start_time": "2024-02-29T07:19:59.152Z"
      },
      {
        "duration": 11,
        "start_time": "2024-02-29T07:19:59.586Z"
      },
      {
        "duration": 101,
        "start_time": "2024-02-29T07:19:59.598Z"
      },
      {
        "duration": 754,
        "start_time": "2024-02-29T07:19:59.700Z"
      },
      {
        "duration": 9,
        "start_time": "2024-02-29T07:20:00.456Z"
      },
      {
        "duration": 115,
        "start_time": "2024-02-29T07:20:00.467Z"
      },
      {
        "duration": 185,
        "start_time": "2024-02-29T07:20:00.584Z"
      },
      {
        "duration": 56,
        "start_time": "2024-02-29T07:20:00.771Z"
      },
      {
        "duration": 123,
        "start_time": "2024-02-29T07:20:00.829Z"
      },
      {
        "duration": 60,
        "start_time": "2024-02-29T07:20:00.954Z"
      },
      {
        "duration": 56,
        "start_time": "2024-02-29T07:20:01.018Z"
      },
      {
        "duration": 105,
        "start_time": "2024-02-29T07:20:01.076Z"
      },
      {
        "duration": 85,
        "start_time": "2024-02-29T07:20:01.183Z"
      },
      {
        "duration": 79,
        "start_time": "2024-02-29T07:20:01.270Z"
      },
      {
        "duration": 137,
        "start_time": "2024-02-29T07:20:01.351Z"
      },
      {
        "duration": 114,
        "start_time": "2024-02-29T07:20:01.490Z"
      },
      {
        "duration": 189,
        "start_time": "2024-02-29T07:20:01.606Z"
      },
      {
        "duration": 197,
        "start_time": "2024-02-29T07:20:01.797Z"
      },
      {
        "duration": 57,
        "start_time": "2024-02-29T07:20:01.996Z"
      },
      {
        "duration": 1954,
        "start_time": "2024-02-29T07:20:02.054Z"
      },
      {
        "duration": 0,
        "start_time": "2024-02-29T07:20:04.010Z"
      },
      {
        "duration": 0,
        "start_time": "2024-02-29T07:20:04.011Z"
      },
      {
        "duration": 0,
        "start_time": "2024-02-29T07:20:04.012Z"
      },
      {
        "duration": 0,
        "start_time": "2024-02-29T07:20:04.013Z"
      },
      {
        "duration": 0,
        "start_time": "2024-02-29T07:20:04.014Z"
      },
      {
        "duration": 0,
        "start_time": "2024-02-29T07:20:04.015Z"
      },
      {
        "duration": 0,
        "start_time": "2024-02-29T07:20:04.016Z"
      },
      {
        "duration": 0,
        "start_time": "2024-02-29T07:20:04.016Z"
      },
      {
        "duration": 0,
        "start_time": "2024-02-29T07:20:04.017Z"
      },
      {
        "duration": 0,
        "start_time": "2024-02-29T07:20:04.019Z"
      },
      {
        "duration": 0,
        "start_time": "2024-02-29T07:20:04.020Z"
      },
      {
        "duration": 0,
        "start_time": "2024-02-29T07:20:04.021Z"
      },
      {
        "duration": 1551,
        "start_time": "2024-02-29T07:20:43.314Z"
      },
      {
        "duration": 17,
        "start_time": "2024-02-29T07:21:02.058Z"
      },
      {
        "duration": 893,
        "start_time": "2024-02-29T07:21:28.699Z"
      },
      {
        "duration": 133,
        "start_time": "2024-02-29T07:21:29.594Z"
      },
      {
        "duration": 29,
        "start_time": "2024-02-29T07:21:29.728Z"
      },
      {
        "duration": 4,
        "start_time": "2024-02-29T07:21:29.759Z"
      },
      {
        "duration": 73,
        "start_time": "2024-02-29T07:21:29.765Z"
      },
      {
        "duration": 46,
        "start_time": "2024-02-29T07:21:29.839Z"
      },
      {
        "duration": 17,
        "start_time": "2024-02-29T07:21:29.886Z"
      },
      {
        "duration": 42,
        "start_time": "2024-02-29T07:21:29.905Z"
      },
      {
        "duration": 41,
        "start_time": "2024-02-29T07:21:29.949Z"
      },
      {
        "duration": 56,
        "start_time": "2024-02-29T07:21:29.993Z"
      },
      {
        "duration": 82,
        "start_time": "2024-02-29T07:21:30.051Z"
      },
      {
        "duration": 80,
        "start_time": "2024-02-29T07:21:30.134Z"
      },
      {
        "duration": 75,
        "start_time": "2024-02-29T07:21:30.216Z"
      },
      {
        "duration": 64,
        "start_time": "2024-02-29T07:21:30.293Z"
      },
      {
        "duration": 51,
        "start_time": "2024-02-29T07:21:30.359Z"
      },
      {
        "duration": 58,
        "start_time": "2024-02-29T07:21:30.411Z"
      },
      {
        "duration": 98,
        "start_time": "2024-02-29T07:21:30.470Z"
      },
      {
        "duration": 512,
        "start_time": "2024-02-29T07:21:30.570Z"
      },
      {
        "duration": 9,
        "start_time": "2024-02-29T07:21:31.084Z"
      },
      {
        "duration": 99,
        "start_time": "2024-02-29T07:21:31.095Z"
      },
      {
        "duration": 749,
        "start_time": "2024-02-29T07:21:31.196Z"
      },
      {
        "duration": 10,
        "start_time": "2024-02-29T07:21:31.946Z"
      },
      {
        "duration": 118,
        "start_time": "2024-02-29T07:21:31.957Z"
      },
      {
        "duration": 164,
        "start_time": "2024-02-29T07:21:32.077Z"
      },
      {
        "duration": 7,
        "start_time": "2024-02-29T07:21:32.243Z"
      },
      {
        "duration": 183,
        "start_time": "2024-02-29T07:21:32.252Z"
      },
      {
        "duration": 67,
        "start_time": "2024-02-29T07:21:32.437Z"
      },
      {
        "duration": 47,
        "start_time": "2024-02-29T07:21:32.507Z"
      },
      {
        "duration": 66,
        "start_time": "2024-02-29T07:21:32.555Z"
      },
      {
        "duration": 75,
        "start_time": "2024-02-29T07:21:32.623Z"
      },
      {
        "duration": 63,
        "start_time": "2024-02-29T07:21:32.700Z"
      },
      {
        "duration": 74,
        "start_time": "2024-02-29T07:21:32.764Z"
      },
      {
        "duration": 72,
        "start_time": "2024-02-29T07:21:32.840Z"
      },
      {
        "duration": 73,
        "start_time": "2024-02-29T07:21:32.913Z"
      },
      {
        "duration": 77,
        "start_time": "2024-02-29T07:21:32.987Z"
      },
      {
        "duration": 207,
        "start_time": "2024-02-29T07:21:33.065Z"
      },
      {
        "duration": 95,
        "start_time": "2024-02-29T07:21:33.274Z"
      },
      {
        "duration": 62,
        "start_time": "2024-02-29T07:21:33.370Z"
      },
      {
        "duration": 36,
        "start_time": "2024-02-29T07:21:33.433Z"
      },
      {
        "duration": 82,
        "start_time": "2024-02-29T07:21:33.470Z"
      },
      {
        "duration": 52,
        "start_time": "2024-02-29T07:21:33.553Z"
      },
      {
        "duration": 105,
        "start_time": "2024-02-29T07:21:33.607Z"
      },
      {
        "duration": 38,
        "start_time": "2024-02-29T07:21:33.714Z"
      },
      {
        "duration": 85,
        "start_time": "2024-02-29T07:21:33.753Z"
      },
      {
        "duration": 168,
        "start_time": "2024-02-29T07:21:33.839Z"
      },
      {
        "duration": 78,
        "start_time": "2024-02-29T07:21:34.008Z"
      },
      {
        "duration": 119,
        "start_time": "2024-02-29T07:21:34.087Z"
      },
      {
        "duration": 94,
        "start_time": "2024-02-29T07:21:34.208Z"
      },
      {
        "duration": 38,
        "start_time": "2024-02-29T07:21:34.303Z"
      },
      {
        "duration": 928,
        "start_time": "2024-02-29T07:22:49.274Z"
      },
      {
        "duration": 135,
        "start_time": "2024-02-29T07:22:50.203Z"
      },
      {
        "duration": 29,
        "start_time": "2024-02-29T07:22:50.339Z"
      },
      {
        "duration": 21,
        "start_time": "2024-02-29T07:22:50.370Z"
      },
      {
        "duration": 60,
        "start_time": "2024-02-29T07:22:50.392Z"
      },
      {
        "duration": 29,
        "start_time": "2024-02-29T07:22:50.454Z"
      },
      {
        "duration": 5,
        "start_time": "2024-02-29T07:22:50.484Z"
      },
      {
        "duration": 47,
        "start_time": "2024-02-29T07:22:50.491Z"
      },
      {
        "duration": 19,
        "start_time": "2024-02-29T07:22:50.540Z"
      },
      {
        "duration": 35,
        "start_time": "2024-02-29T07:22:50.562Z"
      },
      {
        "duration": 67,
        "start_time": "2024-02-29T07:22:50.598Z"
      },
      {
        "duration": 15,
        "start_time": "2024-02-29T07:22:50.666Z"
      },
      {
        "duration": 37,
        "start_time": "2024-02-29T07:22:50.682Z"
      },
      {
        "duration": 43,
        "start_time": "2024-02-29T07:22:50.720Z"
      },
      {
        "duration": 36,
        "start_time": "2024-02-29T07:22:50.764Z"
      },
      {
        "duration": 30,
        "start_time": "2024-02-29T07:22:50.801Z"
      },
      {
        "duration": 37,
        "start_time": "2024-02-29T07:22:50.832Z"
      },
      {
        "duration": 416,
        "start_time": "2024-02-29T07:22:50.870Z"
      },
      {
        "duration": 10,
        "start_time": "2024-02-29T07:22:51.287Z"
      },
      {
        "duration": 99,
        "start_time": "2024-02-29T07:22:51.298Z"
      },
      {
        "duration": 715,
        "start_time": "2024-02-29T07:22:51.399Z"
      },
      {
        "duration": 10,
        "start_time": "2024-02-29T07:22:52.115Z"
      },
      {
        "duration": 106,
        "start_time": "2024-02-29T07:22:52.127Z"
      },
      {
        "duration": 151,
        "start_time": "2024-02-29T07:22:52.234Z"
      },
      {
        "duration": 8,
        "start_time": "2024-02-29T07:22:52.386Z"
      },
      {
        "duration": 21,
        "start_time": "2024-02-29T07:22:52.396Z"
      },
      {
        "duration": 8,
        "start_time": "2024-02-29T07:22:52.419Z"
      },
      {
        "duration": 22,
        "start_time": "2024-02-29T07:22:52.430Z"
      },
      {
        "duration": 11,
        "start_time": "2024-02-29T07:22:52.453Z"
      },
      {
        "duration": 39,
        "start_time": "2024-02-29T07:22:52.465Z"
      },
      {
        "duration": 11,
        "start_time": "2024-02-29T07:22:52.506Z"
      },
      {
        "duration": 42,
        "start_time": "2024-02-29T07:22:52.518Z"
      },
      {
        "duration": 9,
        "start_time": "2024-02-29T07:22:52.562Z"
      },
      {
        "duration": 24,
        "start_time": "2024-02-29T07:22:52.572Z"
      },
      {
        "duration": 12,
        "start_time": "2024-02-29T07:22:52.598Z"
      },
      {
        "duration": 14,
        "start_time": "2024-02-29T07:22:52.612Z"
      },
      {
        "duration": 33,
        "start_time": "2024-02-29T07:22:52.627Z"
      },
      {
        "duration": 13,
        "start_time": "2024-02-29T07:22:52.662Z"
      },
      {
        "duration": 9,
        "start_time": "2024-02-29T07:22:52.677Z"
      },
      {
        "duration": 10,
        "start_time": "2024-02-29T07:22:52.688Z"
      },
      {
        "duration": 9,
        "start_time": "2024-02-29T07:22:52.699Z"
      },
      {
        "duration": 35,
        "start_time": "2024-02-29T07:22:52.709Z"
      },
      {
        "duration": 10,
        "start_time": "2024-02-29T07:22:52.746Z"
      },
      {
        "duration": 17,
        "start_time": "2024-02-29T07:22:52.757Z"
      },
      {
        "duration": 14,
        "start_time": "2024-02-29T07:22:52.775Z"
      },
      {
        "duration": 41,
        "start_time": "2024-02-29T07:22:52.793Z"
      },
      {
        "duration": 35,
        "start_time": "2024-02-29T07:22:52.836Z"
      },
      {
        "duration": 11,
        "start_time": "2024-02-29T07:22:52.873Z"
      },
      {
        "duration": 11,
        "start_time": "2024-02-29T07:22:52.886Z"
      },
      {
        "duration": 11,
        "start_time": "2024-02-29T07:23:12.770Z"
      },
      {
        "duration": 40,
        "start_time": "2024-02-29T07:23:53.810Z"
      },
      {
        "duration": 42,
        "start_time": "2024-02-29T07:24:02.891Z"
      },
      {
        "duration": 138,
        "start_time": "2024-02-29T07:24:21.203Z"
      },
      {
        "duration": 15,
        "start_time": "2024-02-29T07:24:36.898Z"
      },
      {
        "duration": 3,
        "start_time": "2024-02-29T07:24:41.578Z"
      },
      {
        "duration": 44,
        "start_time": "2024-02-29T07:24:51.865Z"
      },
      {
        "duration": 22,
        "start_time": "2024-02-29T07:26:48.681Z"
      },
      {
        "duration": 17,
        "start_time": "2024-02-29T07:27:42.122Z"
      },
      {
        "duration": 18,
        "start_time": "2024-02-29T07:27:59.296Z"
      },
      {
        "duration": 18,
        "start_time": "2024-02-29T07:28:18.569Z"
      },
      {
        "duration": 29,
        "start_time": "2024-02-29T07:28:50.825Z"
      },
      {
        "duration": 13,
        "start_time": "2024-02-29T07:28:54.169Z"
      },
      {
        "duration": 12,
        "start_time": "2024-02-29T07:29:52.929Z"
      },
      {
        "duration": 893,
        "start_time": "2024-02-29T07:29:59.649Z"
      },
      {
        "duration": 132,
        "start_time": "2024-02-29T07:30:00.544Z"
      },
      {
        "duration": 32,
        "start_time": "2024-02-29T07:30:00.678Z"
      },
      {
        "duration": 4,
        "start_time": "2024-02-29T07:30:00.711Z"
      },
      {
        "duration": 78,
        "start_time": "2024-02-29T07:30:00.716Z"
      },
      {
        "duration": 48,
        "start_time": "2024-02-29T07:30:00.796Z"
      },
      {
        "duration": 48,
        "start_time": "2024-02-29T07:30:00.845Z"
      },
      {
        "duration": 61,
        "start_time": "2024-02-29T07:30:00.894Z"
      },
      {
        "duration": 44,
        "start_time": "2024-02-29T07:30:00.957Z"
      },
      {
        "duration": 55,
        "start_time": "2024-02-29T07:30:01.003Z"
      },
      {
        "duration": 249,
        "start_time": "2024-02-29T07:30:01.059Z"
      },
      {
        "duration": 127,
        "start_time": "2024-02-29T07:30:01.310Z"
      },
      {
        "duration": 334,
        "start_time": "2024-02-29T07:30:01.439Z"
      },
      {
        "duration": 61,
        "start_time": "2024-02-29T07:30:01.775Z"
      },
      {
        "duration": 155,
        "start_time": "2024-02-29T07:30:01.837Z"
      },
      {
        "duration": 54,
        "start_time": "2024-02-29T07:30:01.994Z"
      },
      {
        "duration": 122,
        "start_time": "2024-02-29T07:30:02.050Z"
      },
      {
        "duration": 422,
        "start_time": "2024-02-29T07:30:02.174Z"
      },
      {
        "duration": 10,
        "start_time": "2024-02-29T07:30:02.598Z"
      },
      {
        "duration": 227,
        "start_time": "2024-02-29T07:30:02.610Z"
      },
      {
        "duration": 774,
        "start_time": "2024-02-29T07:30:02.839Z"
      },
      {
        "duration": 10,
        "start_time": "2024-02-29T07:30:03.614Z"
      },
      {
        "duration": 440,
        "start_time": "2024-02-29T07:30:03.625Z"
      },
      {
        "duration": 478,
        "start_time": "2024-02-29T07:30:04.067Z"
      },
      {
        "duration": 158,
        "start_time": "2024-02-29T07:30:04.547Z"
      },
      {
        "duration": 369,
        "start_time": "2024-02-29T07:30:04.707Z"
      },
      {
        "duration": 108,
        "start_time": "2024-02-29T07:30:05.078Z"
      },
      {
        "duration": 40,
        "start_time": "2024-02-29T07:30:05.190Z"
      },
      {
        "duration": 40,
        "start_time": "2024-02-29T07:30:05.232Z"
      },
      {
        "duration": 60,
        "start_time": "2024-02-29T07:30:05.274Z"
      },
      {
        "duration": 32,
        "start_time": "2024-02-29T07:30:05.336Z"
      },
      {
        "duration": 60,
        "start_time": "2024-02-29T07:30:05.369Z"
      },
      {
        "duration": 25,
        "start_time": "2024-02-29T07:30:05.431Z"
      },
      {
        "duration": 37,
        "start_time": "2024-02-29T07:30:05.457Z"
      },
      {
        "duration": 33,
        "start_time": "2024-02-29T07:30:05.496Z"
      },
      {
        "duration": 39,
        "start_time": "2024-02-29T07:30:05.530Z"
      },
      {
        "duration": 63,
        "start_time": "2024-02-29T07:30:05.571Z"
      },
      {
        "duration": 30,
        "start_time": "2024-02-29T07:30:05.636Z"
      },
      {
        "duration": 58,
        "start_time": "2024-02-29T07:30:05.668Z"
      },
      {
        "duration": 164,
        "start_time": "2024-02-29T07:30:05.727Z"
      },
      {
        "duration": 0,
        "start_time": "2024-02-29T07:30:05.893Z"
      },
      {
        "duration": 0,
        "start_time": "2024-02-29T07:30:05.894Z"
      },
      {
        "duration": 0,
        "start_time": "2024-02-29T07:30:05.894Z"
      },
      {
        "duration": 0,
        "start_time": "2024-02-29T07:30:05.896Z"
      },
      {
        "duration": 0,
        "start_time": "2024-02-29T07:30:05.897Z"
      },
      {
        "duration": 0,
        "start_time": "2024-02-29T07:30:05.898Z"
      },
      {
        "duration": 0,
        "start_time": "2024-02-29T07:30:05.899Z"
      },
      {
        "duration": 0,
        "start_time": "2024-02-29T07:30:05.900Z"
      },
      {
        "duration": 0,
        "start_time": "2024-02-29T07:30:05.901Z"
      },
      {
        "duration": 0,
        "start_time": "2024-02-29T07:30:05.902Z"
      },
      {
        "duration": 0,
        "start_time": "2024-02-29T07:30:05.903Z"
      },
      {
        "duration": 18,
        "start_time": "2024-02-29T07:33:37.070Z"
      },
      {
        "duration": 15,
        "start_time": "2024-02-29T07:33:48.422Z"
      },
      {
        "duration": 931,
        "start_time": "2024-02-29T07:34:36.063Z"
      },
      {
        "duration": 126,
        "start_time": "2024-02-29T07:34:36.996Z"
      },
      {
        "duration": 29,
        "start_time": "2024-02-29T07:34:37.123Z"
      },
      {
        "duration": 3,
        "start_time": "2024-02-29T07:34:37.154Z"
      },
      {
        "duration": 36,
        "start_time": "2024-02-29T07:34:37.158Z"
      },
      {
        "duration": 55,
        "start_time": "2024-02-29T07:34:37.195Z"
      },
      {
        "duration": 7,
        "start_time": "2024-02-29T07:34:37.251Z"
      },
      {
        "duration": 29,
        "start_time": "2024-02-29T07:34:37.259Z"
      },
      {
        "duration": 17,
        "start_time": "2024-02-29T07:34:37.290Z"
      },
      {
        "duration": 29,
        "start_time": "2024-02-29T07:34:37.309Z"
      },
      {
        "duration": 58,
        "start_time": "2024-02-29T07:34:37.340Z"
      },
      {
        "duration": 28,
        "start_time": "2024-02-29T07:34:37.400Z"
      },
      {
        "duration": 22,
        "start_time": "2024-02-29T07:34:37.429Z"
      },
      {
        "duration": 42,
        "start_time": "2024-02-29T07:34:37.452Z"
      },
      {
        "duration": 41,
        "start_time": "2024-02-29T07:34:37.495Z"
      },
      {
        "duration": 18,
        "start_time": "2024-02-29T07:34:37.538Z"
      },
      {
        "duration": 52,
        "start_time": "2024-02-29T07:34:37.557Z"
      },
      {
        "duration": 439,
        "start_time": "2024-02-29T07:34:37.611Z"
      },
      {
        "duration": 9,
        "start_time": "2024-02-29T07:34:38.051Z"
      },
      {
        "duration": 54,
        "start_time": "2024-02-29T07:34:38.061Z"
      },
      {
        "duration": 750,
        "start_time": "2024-02-29T07:34:38.116Z"
      },
      {
        "duration": 10,
        "start_time": "2024-02-29T07:34:38.868Z"
      },
      {
        "duration": 63,
        "start_time": "2024-02-29T07:34:38.880Z"
      },
      {
        "duration": 177,
        "start_time": "2024-02-29T07:34:38.945Z"
      },
      {
        "duration": 10,
        "start_time": "2024-02-29T07:34:39.123Z"
      },
      {
        "duration": 31,
        "start_time": "2024-02-29T07:34:39.135Z"
      },
      {
        "duration": 56,
        "start_time": "2024-02-29T07:34:39.168Z"
      },
      {
        "duration": 29,
        "start_time": "2024-02-29T07:34:39.228Z"
      },
      {
        "duration": 31,
        "start_time": "2024-02-29T07:34:39.259Z"
      },
      {
        "duration": 66,
        "start_time": "2024-02-29T07:34:39.293Z"
      },
      {
        "duration": 34,
        "start_time": "2024-02-29T07:34:39.360Z"
      },
      {
        "duration": 65,
        "start_time": "2024-02-29T07:34:39.395Z"
      },
      {
        "duration": 21,
        "start_time": "2024-02-29T07:34:39.461Z"
      },
      {
        "duration": 48,
        "start_time": "2024-02-29T07:34:39.483Z"
      },
      {
        "duration": 46,
        "start_time": "2024-02-29T07:34:39.532Z"
      },
      {
        "duration": 31,
        "start_time": "2024-02-29T07:34:39.580Z"
      },
      {
        "duration": 65,
        "start_time": "2024-02-29T07:34:39.613Z"
      },
      {
        "duration": 37,
        "start_time": "2024-02-29T07:34:39.681Z"
      },
      {
        "duration": 10,
        "start_time": "2024-02-29T07:34:39.720Z"
      },
      {
        "duration": 45,
        "start_time": "2024-02-29T07:34:39.731Z"
      },
      {
        "duration": 102,
        "start_time": "2024-02-29T07:34:39.778Z"
      },
      {
        "duration": 0,
        "start_time": "2024-02-29T07:34:39.882Z"
      },
      {
        "duration": 0,
        "start_time": "2024-02-29T07:34:39.882Z"
      },
      {
        "duration": 0,
        "start_time": "2024-02-29T07:34:39.884Z"
      },
      {
        "duration": 0,
        "start_time": "2024-02-29T07:34:39.885Z"
      },
      {
        "duration": 0,
        "start_time": "2024-02-29T07:34:39.886Z"
      },
      {
        "duration": 0,
        "start_time": "2024-02-29T07:34:39.887Z"
      },
      {
        "duration": 0,
        "start_time": "2024-02-29T07:34:39.888Z"
      },
      {
        "duration": 1,
        "start_time": "2024-02-29T07:34:39.888Z"
      },
      {
        "duration": 0,
        "start_time": "2024-02-29T07:34:39.889Z"
      },
      {
        "duration": 0,
        "start_time": "2024-02-29T07:34:39.890Z"
      },
      {
        "duration": 986,
        "start_time": "2024-02-29T07:35:10.097Z"
      },
      {
        "duration": 149,
        "start_time": "2024-02-29T07:35:11.085Z"
      },
      {
        "duration": 29,
        "start_time": "2024-02-29T07:35:11.236Z"
      },
      {
        "duration": 3,
        "start_time": "2024-02-29T07:35:11.268Z"
      },
      {
        "duration": 47,
        "start_time": "2024-02-29T07:35:11.273Z"
      },
      {
        "duration": 21,
        "start_time": "2024-02-29T07:35:11.322Z"
      },
      {
        "duration": 5,
        "start_time": "2024-02-29T07:35:11.345Z"
      },
      {
        "duration": 48,
        "start_time": "2024-02-29T07:35:11.351Z"
      },
      {
        "duration": 17,
        "start_time": "2024-02-29T07:35:11.403Z"
      },
      {
        "duration": 7,
        "start_time": "2024-02-29T07:35:11.423Z"
      },
      {
        "duration": 48,
        "start_time": "2024-02-29T07:35:11.432Z"
      },
      {
        "duration": 22,
        "start_time": "2024-02-29T07:35:11.482Z"
      },
      {
        "duration": 8,
        "start_time": "2024-02-29T07:35:11.507Z"
      },
      {
        "duration": 10,
        "start_time": "2024-02-29T07:35:11.516Z"
      },
      {
        "duration": 23,
        "start_time": "2024-02-29T07:35:11.528Z"
      },
      {
        "duration": 10,
        "start_time": "2024-02-29T07:35:11.552Z"
      },
      {
        "duration": 14,
        "start_time": "2024-02-29T07:35:11.563Z"
      },
      {
        "duration": 448,
        "start_time": "2024-02-29T07:35:11.578Z"
      },
      {
        "duration": 9,
        "start_time": "2024-02-29T07:35:12.027Z"
      },
      {
        "duration": 78,
        "start_time": "2024-02-29T07:35:12.037Z"
      },
      {
        "duration": 913,
        "start_time": "2024-02-29T07:35:12.117Z"
      },
      {
        "duration": 9,
        "start_time": "2024-02-29T07:35:13.032Z"
      },
      {
        "duration": 28,
        "start_time": "2024-02-29T07:35:13.043Z"
      },
      {
        "duration": 178,
        "start_time": "2024-02-29T07:35:13.072Z"
      },
      {
        "duration": 7,
        "start_time": "2024-02-29T07:35:13.251Z"
      },
      {
        "duration": 20,
        "start_time": "2024-02-29T07:35:13.259Z"
      },
      {
        "duration": 27,
        "start_time": "2024-02-29T07:35:13.280Z"
      },
      {
        "duration": 13,
        "start_time": "2024-02-29T07:35:13.311Z"
      },
      {
        "duration": 9,
        "start_time": "2024-02-29T07:35:13.326Z"
      },
      {
        "duration": 46,
        "start_time": "2024-02-29T07:35:13.336Z"
      },
      {
        "duration": 15,
        "start_time": "2024-02-29T07:35:13.383Z"
      },
      {
        "duration": 71,
        "start_time": "2024-02-29T07:35:13.400Z"
      },
      {
        "duration": 11,
        "start_time": "2024-02-29T07:35:13.473Z"
      },
      {
        "duration": 22,
        "start_time": "2024-02-29T07:35:13.485Z"
      },
      {
        "duration": 12,
        "start_time": "2024-02-29T07:35:13.509Z"
      },
      {
        "duration": 20,
        "start_time": "2024-02-29T07:35:13.522Z"
      },
      {
        "duration": 25,
        "start_time": "2024-02-29T07:35:13.543Z"
      },
      {
        "duration": 90,
        "start_time": "2024-02-29T07:35:13.569Z"
      },
      {
        "duration": 19,
        "start_time": "2024-02-29T07:35:13.660Z"
      },
      {
        "duration": 15,
        "start_time": "2024-02-29T07:35:13.680Z"
      },
      {
        "duration": 32,
        "start_time": "2024-02-29T07:35:13.696Z"
      },
      {
        "duration": 12,
        "start_time": "2024-02-29T07:35:13.730Z"
      },
      {
        "duration": 185,
        "start_time": "2024-02-29T07:35:13.744Z"
      },
      {
        "duration": 0,
        "start_time": "2024-02-29T07:35:13.931Z"
      },
      {
        "duration": 0,
        "start_time": "2024-02-29T07:35:13.933Z"
      },
      {
        "duration": 0,
        "start_time": "2024-02-29T07:35:13.934Z"
      },
      {
        "duration": 0,
        "start_time": "2024-02-29T07:35:13.935Z"
      },
      {
        "duration": 0,
        "start_time": "2024-02-29T07:35:13.936Z"
      },
      {
        "duration": 0,
        "start_time": "2024-02-29T07:35:13.937Z"
      },
      {
        "duration": 0,
        "start_time": "2024-02-29T07:35:13.938Z"
      },
      {
        "duration": 0,
        "start_time": "2024-02-29T07:35:13.939Z"
      },
      {
        "duration": 15,
        "start_time": "2024-02-29T07:36:02.150Z"
      },
      {
        "duration": 13,
        "start_time": "2024-02-29T07:36:23.171Z"
      },
      {
        "duration": 16,
        "start_time": "2024-02-29T07:37:12.419Z"
      },
      {
        "duration": 12,
        "start_time": "2024-02-29T07:37:47.323Z"
      },
      {
        "duration": 1006,
        "start_time": "2024-02-29T07:38:04.089Z"
      },
      {
        "duration": 139,
        "start_time": "2024-02-29T07:38:05.096Z"
      },
      {
        "duration": 27,
        "start_time": "2024-02-29T07:38:05.237Z"
      },
      {
        "duration": 43,
        "start_time": "2024-02-29T07:38:05.266Z"
      },
      {
        "duration": 49,
        "start_time": "2024-02-29T07:38:05.311Z"
      },
      {
        "duration": 28,
        "start_time": "2024-02-29T07:38:05.361Z"
      },
      {
        "duration": 5,
        "start_time": "2024-02-29T07:38:05.390Z"
      },
      {
        "duration": 116,
        "start_time": "2024-02-29T07:38:05.396Z"
      },
      {
        "duration": 26,
        "start_time": "2024-02-29T07:38:05.514Z"
      },
      {
        "duration": 7,
        "start_time": "2024-02-29T07:38:05.543Z"
      },
      {
        "duration": 46,
        "start_time": "2024-02-29T07:38:05.552Z"
      },
      {
        "duration": 12,
        "start_time": "2024-02-29T07:38:05.600Z"
      },
      {
        "duration": 28,
        "start_time": "2024-02-29T07:38:05.614Z"
      },
      {
        "duration": 21,
        "start_time": "2024-02-29T07:38:05.644Z"
      },
      {
        "duration": 34,
        "start_time": "2024-02-29T07:38:05.666Z"
      },
      {
        "duration": 11,
        "start_time": "2024-02-29T07:38:05.701Z"
      },
      {
        "duration": 15,
        "start_time": "2024-02-29T07:38:05.714Z"
      },
      {
        "duration": 392,
        "start_time": "2024-02-29T07:38:05.730Z"
      },
      {
        "duration": 8,
        "start_time": "2024-02-29T07:38:06.124Z"
      },
      {
        "duration": 76,
        "start_time": "2024-02-29T07:38:06.133Z"
      },
      {
        "duration": 732,
        "start_time": "2024-02-29T07:38:06.210Z"
      },
      {
        "duration": 10,
        "start_time": "2024-02-29T07:38:06.943Z"
      },
      {
        "duration": 31,
        "start_time": "2024-02-29T07:38:06.954Z"
      },
      {
        "duration": 150,
        "start_time": "2024-02-29T07:38:06.993Z"
      },
      {
        "duration": 7,
        "start_time": "2024-02-29T07:38:07.144Z"
      },
      {
        "duration": 35,
        "start_time": "2024-02-29T07:38:07.153Z"
      },
      {
        "duration": 39,
        "start_time": "2024-02-29T07:38:07.190Z"
      },
      {
        "duration": 84,
        "start_time": "2024-02-29T07:38:07.232Z"
      },
      {
        "duration": 80,
        "start_time": "2024-02-29T07:38:07.317Z"
      },
      {
        "duration": 51,
        "start_time": "2024-02-29T07:38:07.398Z"
      },
      {
        "duration": 36,
        "start_time": "2024-02-29T07:38:07.450Z"
      },
      {
        "duration": 45,
        "start_time": "2024-02-29T07:38:07.487Z"
      },
      {
        "duration": 12,
        "start_time": "2024-02-29T07:38:07.534Z"
      },
      {
        "duration": 30,
        "start_time": "2024-02-29T07:38:07.547Z"
      },
      {
        "duration": 52,
        "start_time": "2024-02-29T07:38:07.579Z"
      },
      {
        "duration": 63,
        "start_time": "2024-02-29T07:38:07.633Z"
      },
      {
        "duration": 35,
        "start_time": "2024-02-29T07:38:07.698Z"
      },
      {
        "duration": 34,
        "start_time": "2024-02-29T07:38:07.735Z"
      },
      {
        "duration": 46,
        "start_time": "2024-02-29T07:38:07.771Z"
      },
      {
        "duration": 40,
        "start_time": "2024-02-29T07:38:07.819Z"
      },
      {
        "duration": 83,
        "start_time": "2024-02-29T07:38:07.860Z"
      },
      {
        "duration": 34,
        "start_time": "2024-02-29T07:38:07.945Z"
      },
      {
        "duration": 221,
        "start_time": "2024-02-29T07:38:07.981Z"
      },
      {
        "duration": 0,
        "start_time": "2024-02-29T07:38:08.204Z"
      },
      {
        "duration": 0,
        "start_time": "2024-02-29T07:38:08.205Z"
      },
      {
        "duration": 0,
        "start_time": "2024-02-29T07:38:08.206Z"
      },
      {
        "duration": 0,
        "start_time": "2024-02-29T07:38:08.208Z"
      },
      {
        "duration": 0,
        "start_time": "2024-02-29T07:38:08.209Z"
      },
      {
        "duration": 0,
        "start_time": "2024-02-29T07:38:08.210Z"
      },
      {
        "duration": 0,
        "start_time": "2024-02-29T07:38:08.212Z"
      },
      {
        "duration": 0,
        "start_time": "2024-02-29T07:38:08.213Z"
      },
      {
        "duration": 881,
        "start_time": "2024-02-29T07:38:26.837Z"
      },
      {
        "duration": 128,
        "start_time": "2024-02-29T07:38:27.720Z"
      },
      {
        "duration": 28,
        "start_time": "2024-02-29T07:38:27.849Z"
      },
      {
        "duration": 12,
        "start_time": "2024-02-29T07:38:27.879Z"
      },
      {
        "duration": 61,
        "start_time": "2024-02-29T07:38:27.892Z"
      },
      {
        "duration": 33,
        "start_time": "2024-02-29T07:38:27.955Z"
      },
      {
        "duration": 6,
        "start_time": "2024-02-29T07:38:27.989Z"
      },
      {
        "duration": 54,
        "start_time": "2024-02-29T07:38:27.997Z"
      },
      {
        "duration": 13,
        "start_time": "2024-02-29T07:38:28.053Z"
      },
      {
        "duration": 10,
        "start_time": "2024-02-29T07:38:28.069Z"
      },
      {
        "duration": 67,
        "start_time": "2024-02-29T07:38:28.080Z"
      },
      {
        "duration": 11,
        "start_time": "2024-02-29T07:38:28.148Z"
      },
      {
        "duration": 18,
        "start_time": "2024-02-29T07:38:28.160Z"
      },
      {
        "duration": 32,
        "start_time": "2024-02-29T07:38:28.179Z"
      },
      {
        "duration": 48,
        "start_time": "2024-02-29T07:38:28.212Z"
      },
      {
        "duration": 10,
        "start_time": "2024-02-29T07:38:28.262Z"
      },
      {
        "duration": 50,
        "start_time": "2024-02-29T07:38:28.274Z"
      },
      {
        "duration": 401,
        "start_time": "2024-02-29T07:38:28.326Z"
      },
      {
        "duration": 10,
        "start_time": "2024-02-29T07:38:28.728Z"
      },
      {
        "duration": 70,
        "start_time": "2024-02-29T07:38:28.739Z"
      },
      {
        "duration": 833,
        "start_time": "2024-02-29T07:38:28.810Z"
      },
      {
        "duration": 10,
        "start_time": "2024-02-29T07:38:29.644Z"
      },
      {
        "duration": 115,
        "start_time": "2024-02-29T07:38:29.656Z"
      },
      {
        "duration": 193,
        "start_time": "2024-02-29T07:38:29.773Z"
      },
      {
        "duration": 8,
        "start_time": "2024-02-29T07:38:29.967Z"
      },
      {
        "duration": 23,
        "start_time": "2024-02-29T07:38:29.976Z"
      },
      {
        "duration": 32,
        "start_time": "2024-02-29T07:38:30.001Z"
      },
      {
        "duration": 204,
        "start_time": "2024-02-29T07:38:30.038Z"
      },
      {
        "duration": 179,
        "start_time": "2024-02-29T07:38:30.244Z"
      },
      {
        "duration": 89,
        "start_time": "2024-02-29T07:38:30.425Z"
      },
      {
        "duration": 24,
        "start_time": "2024-02-29T07:38:30.516Z"
      },
      {
        "duration": 82,
        "start_time": "2024-02-29T07:38:30.542Z"
      },
      {
        "duration": 55,
        "start_time": "2024-02-29T07:38:30.626Z"
      },
      {
        "duration": 58,
        "start_time": "2024-02-29T07:38:30.683Z"
      },
      {
        "duration": 39,
        "start_time": "2024-02-29T07:38:30.744Z"
      },
      {
        "duration": 56,
        "start_time": "2024-02-29T07:38:30.785Z"
      },
      {
        "duration": 53,
        "start_time": "2024-02-29T07:38:30.843Z"
      },
      {
        "duration": 56,
        "start_time": "2024-02-29T07:38:30.898Z"
      },
      {
        "duration": 19,
        "start_time": "2024-02-29T07:38:30.956Z"
      },
      {
        "duration": 65,
        "start_time": "2024-02-29T07:38:30.977Z"
      },
      {
        "duration": 38,
        "start_time": "2024-02-29T07:38:31.044Z"
      },
      {
        "duration": 32,
        "start_time": "2024-02-29T07:38:31.084Z"
      },
      {
        "duration": 48,
        "start_time": "2024-02-29T07:38:31.118Z"
      },
      {
        "duration": 20,
        "start_time": "2024-02-29T07:38:31.168Z"
      },
      {
        "duration": 25,
        "start_time": "2024-02-29T07:38:31.190Z"
      },
      {
        "duration": 48,
        "start_time": "2024-02-29T07:38:31.216Z"
      },
      {
        "duration": 30,
        "start_time": "2024-02-29T07:38:31.266Z"
      },
      {
        "duration": 27,
        "start_time": "2024-02-29T07:38:31.298Z"
      },
      {
        "duration": 44,
        "start_time": "2024-02-29T07:38:31.327Z"
      },
      {
        "duration": 179,
        "start_time": "2024-02-29T07:38:31.372Z"
      },
      {
        "duration": 937,
        "start_time": "2024-02-29T07:45:36.947Z"
      },
      {
        "duration": 135,
        "start_time": "2024-02-29T07:45:37.886Z"
      },
      {
        "duration": 30,
        "start_time": "2024-02-29T07:45:38.022Z"
      },
      {
        "duration": 63,
        "start_time": "2024-02-29T07:45:38.054Z"
      },
      {
        "duration": 60,
        "start_time": "2024-02-29T07:45:38.119Z"
      },
      {
        "duration": 56,
        "start_time": "2024-02-29T07:45:38.180Z"
      },
      {
        "duration": 11,
        "start_time": "2024-02-29T07:45:38.237Z"
      },
      {
        "duration": 53,
        "start_time": "2024-02-29T07:45:38.249Z"
      },
      {
        "duration": 27,
        "start_time": "2024-02-29T07:45:38.304Z"
      },
      {
        "duration": 52,
        "start_time": "2024-02-29T07:45:38.334Z"
      },
      {
        "duration": 102,
        "start_time": "2024-02-29T07:45:38.387Z"
      },
      {
        "duration": 13,
        "start_time": "2024-02-29T07:45:38.490Z"
      },
      {
        "duration": 42,
        "start_time": "2024-02-29T07:45:38.505Z"
      },
      {
        "duration": 22,
        "start_time": "2024-02-29T07:45:38.549Z"
      },
      {
        "duration": 36,
        "start_time": "2024-02-29T07:45:38.572Z"
      },
      {
        "duration": 42,
        "start_time": "2024-02-29T07:45:38.610Z"
      },
      {
        "duration": 34,
        "start_time": "2024-02-29T07:45:38.654Z"
      },
      {
        "duration": 465,
        "start_time": "2024-02-29T07:45:38.689Z"
      },
      {
        "duration": 9,
        "start_time": "2024-02-29T07:45:39.156Z"
      },
      {
        "duration": 78,
        "start_time": "2024-02-29T07:45:39.167Z"
      },
      {
        "duration": 804,
        "start_time": "2024-02-29T07:45:39.247Z"
      },
      {
        "duration": 11,
        "start_time": "2024-02-29T07:45:40.052Z"
      },
      {
        "duration": 48,
        "start_time": "2024-02-29T07:45:40.064Z"
      },
      {
        "duration": 148,
        "start_time": "2024-02-29T07:45:40.114Z"
      },
      {
        "duration": 8,
        "start_time": "2024-02-29T07:45:40.264Z"
      },
      {
        "duration": 35,
        "start_time": "2024-02-29T07:45:40.273Z"
      },
      {
        "duration": 19,
        "start_time": "2024-02-29T07:45:40.310Z"
      },
      {
        "duration": 47,
        "start_time": "2024-02-29T07:45:40.332Z"
      },
      {
        "duration": 39,
        "start_time": "2024-02-29T07:45:40.381Z"
      },
      {
        "duration": 56,
        "start_time": "2024-02-29T07:45:40.422Z"
      },
      {
        "duration": 39,
        "start_time": "2024-02-29T07:45:40.480Z"
      },
      {
        "duration": 43,
        "start_time": "2024-02-29T07:45:40.521Z"
      },
      {
        "duration": 22,
        "start_time": "2024-02-29T07:45:40.566Z"
      },
      {
        "duration": 50,
        "start_time": "2024-02-29T07:45:40.589Z"
      },
      {
        "duration": 42,
        "start_time": "2024-02-29T07:45:40.640Z"
      },
      {
        "duration": 40,
        "start_time": "2024-02-29T07:45:40.683Z"
      },
      {
        "duration": 26,
        "start_time": "2024-02-29T07:45:40.725Z"
      },
      {
        "duration": 41,
        "start_time": "2024-02-29T07:45:40.753Z"
      },
      {
        "duration": 2,
        "start_time": "2024-02-29T07:45:40.796Z"
      },
      {
        "duration": 14,
        "start_time": "2024-02-29T07:45:40.800Z"
      },
      {
        "duration": 8,
        "start_time": "2024-02-29T07:45:40.815Z"
      },
      {
        "duration": 39,
        "start_time": "2024-02-29T07:45:40.825Z"
      },
      {
        "duration": 9,
        "start_time": "2024-02-29T07:45:40.866Z"
      },
      {
        "duration": 17,
        "start_time": "2024-02-29T07:45:40.877Z"
      },
      {
        "duration": 9,
        "start_time": "2024-02-29T07:45:40.896Z"
      },
      {
        "duration": 12,
        "start_time": "2024-02-29T07:45:40.906Z"
      },
      {
        "duration": 11,
        "start_time": "2024-02-29T07:45:40.920Z"
      },
      {
        "duration": 14,
        "start_time": "2024-02-29T07:45:40.932Z"
      },
      {
        "duration": 7,
        "start_time": "2024-02-29T07:45:40.948Z"
      },
      {
        "duration": 5,
        "start_time": "2024-02-29T07:46:20.856Z"
      },
      {
        "duration": 1777,
        "start_time": "2024-02-29T07:47:04.976Z"
      },
      {
        "duration": 902,
        "start_time": "2024-02-29T07:47:20.426Z"
      },
      {
        "duration": 132,
        "start_time": "2024-02-29T07:47:21.330Z"
      },
      {
        "duration": 30,
        "start_time": "2024-02-29T07:47:21.463Z"
      },
      {
        "duration": 25,
        "start_time": "2024-02-29T07:47:21.496Z"
      },
      {
        "duration": 47,
        "start_time": "2024-02-29T07:47:21.522Z"
      },
      {
        "duration": 64,
        "start_time": "2024-02-29T07:47:21.571Z"
      },
      {
        "duration": 47,
        "start_time": "2024-02-29T07:47:21.637Z"
      },
      {
        "duration": 62,
        "start_time": "2024-02-29T07:47:21.686Z"
      },
      {
        "duration": 19,
        "start_time": "2024-02-29T07:47:21.750Z"
      },
      {
        "duration": 29,
        "start_time": "2024-02-29T07:47:21.772Z"
      },
      {
        "duration": 78,
        "start_time": "2024-02-29T07:47:21.803Z"
      },
      {
        "duration": 11,
        "start_time": "2024-02-29T07:47:21.883Z"
      },
      {
        "duration": 51,
        "start_time": "2024-02-29T07:47:21.895Z"
      },
      {
        "duration": 44,
        "start_time": "2024-02-29T07:47:21.948Z"
      },
      {
        "duration": 27,
        "start_time": "2024-02-29T07:47:21.994Z"
      },
      {
        "duration": 63,
        "start_time": "2024-02-29T07:47:22.022Z"
      },
      {
        "duration": 34,
        "start_time": "2024-02-29T07:47:22.086Z"
      },
      {
        "duration": 392,
        "start_time": "2024-02-29T07:47:22.121Z"
      },
      {
        "duration": 10,
        "start_time": "2024-02-29T07:47:22.515Z"
      },
      {
        "duration": 92,
        "start_time": "2024-02-29T07:47:22.526Z"
      },
      {
        "duration": 705,
        "start_time": "2024-02-29T07:47:22.620Z"
      },
      {
        "duration": 10,
        "start_time": "2024-02-29T07:47:23.327Z"
      },
      {
        "duration": 97,
        "start_time": "2024-02-29T07:47:23.339Z"
      },
      {
        "duration": 146,
        "start_time": "2024-02-29T07:47:23.438Z"
      },
      {
        "duration": 7,
        "start_time": "2024-02-29T07:47:23.585Z"
      },
      {
        "duration": 62,
        "start_time": "2024-02-29T07:47:23.593Z"
      },
      {
        "duration": 41,
        "start_time": "2024-02-29T07:47:23.656Z"
      },
      {
        "duration": 28,
        "start_time": "2024-02-29T07:47:23.700Z"
      },
      {
        "duration": 27,
        "start_time": "2024-02-29T07:47:23.729Z"
      },
      {
        "duration": 32,
        "start_time": "2024-02-29T07:47:23.758Z"
      },
      {
        "duration": 34,
        "start_time": "2024-02-29T07:47:23.792Z"
      },
      {
        "duration": 43,
        "start_time": "2024-02-29T07:47:23.828Z"
      },
      {
        "duration": 43,
        "start_time": "2024-02-29T07:47:23.872Z"
      },
      {
        "duration": 101,
        "start_time": "2024-02-29T07:47:23.917Z"
      },
      {
        "duration": 61,
        "start_time": "2024-02-29T07:47:24.019Z"
      },
      {
        "duration": 101,
        "start_time": "2024-02-29T07:47:24.082Z"
      },
      {
        "duration": 49,
        "start_time": "2024-02-29T07:47:24.185Z"
      },
      {
        "duration": 66,
        "start_time": "2024-02-29T07:47:24.236Z"
      },
      {
        "duration": 2151,
        "start_time": "2024-02-29T07:47:24.304Z"
      },
      {
        "duration": 0,
        "start_time": "2024-02-29T07:47:26.456Z"
      },
      {
        "duration": 0,
        "start_time": "2024-02-29T07:47:26.458Z"
      },
      {
        "duration": 0,
        "start_time": "2024-02-29T07:47:26.459Z"
      },
      {
        "duration": 0,
        "start_time": "2024-02-29T07:47:26.460Z"
      },
      {
        "duration": 0,
        "start_time": "2024-02-29T07:47:26.461Z"
      },
      {
        "duration": 0,
        "start_time": "2024-02-29T07:47:26.462Z"
      },
      {
        "duration": 0,
        "start_time": "2024-02-29T07:47:26.463Z"
      },
      {
        "duration": 0,
        "start_time": "2024-02-29T07:47:26.464Z"
      },
      {
        "duration": 0,
        "start_time": "2024-02-29T07:47:26.465Z"
      },
      {
        "duration": 0,
        "start_time": "2024-02-29T07:47:26.466Z"
      },
      {
        "duration": 0,
        "start_time": "2024-02-29T07:47:26.467Z"
      },
      {
        "duration": 1549,
        "start_time": "2024-02-29T07:47:36.984Z"
      },
      {
        "duration": 1642,
        "start_time": "2024-02-29T07:48:29.183Z"
      },
      {
        "duration": 1557,
        "start_time": "2024-02-29T07:48:37.463Z"
      },
      {
        "duration": 16,
        "start_time": "2024-02-29T07:48:54.130Z"
      },
      {
        "duration": 15,
        "start_time": "2024-02-29T07:49:05.509Z"
      },
      {
        "duration": 7,
        "start_time": "2024-02-29T07:49:10.287Z"
      },
      {
        "duration": 8,
        "start_time": "2024-02-29T07:49:25.463Z"
      },
      {
        "duration": 9,
        "start_time": "2024-02-29T07:49:39.215Z"
      },
      {
        "duration": 10,
        "start_time": "2024-02-29T07:49:58.479Z"
      },
      {
        "duration": 14,
        "start_time": "2024-02-29T07:50:49.151Z"
      },
      {
        "duration": 10,
        "start_time": "2024-02-29T07:50:52.590Z"
      },
      {
        "duration": 5,
        "start_time": "2024-02-29T07:51:01.343Z"
      },
      {
        "duration": 9,
        "start_time": "2024-02-29T07:51:16.910Z"
      },
      {
        "duration": 7,
        "start_time": "2024-02-29T07:51:23.494Z"
      },
      {
        "duration": 56,
        "start_time": "2024-02-29T07:52:31.214Z"
      },
      {
        "duration": 48,
        "start_time": "2024-02-29T07:53:07.734Z"
      },
      {
        "duration": 971,
        "start_time": "2024-02-29T08:00:35.126Z"
      },
      {
        "duration": 135,
        "start_time": "2024-02-29T08:00:36.098Z"
      },
      {
        "duration": 104,
        "start_time": "2024-02-29T08:00:36.234Z"
      },
      {
        "duration": 198,
        "start_time": "2024-02-29T08:00:36.339Z"
      },
      {
        "duration": 234,
        "start_time": "2024-02-29T08:00:36.538Z"
      },
      {
        "duration": 30,
        "start_time": "2024-02-29T08:00:36.773Z"
      },
      {
        "duration": 23,
        "start_time": "2024-02-29T08:00:36.804Z"
      },
      {
        "duration": 61,
        "start_time": "2024-02-29T08:00:36.828Z"
      },
      {
        "duration": 23,
        "start_time": "2024-02-29T08:00:36.890Z"
      },
      {
        "duration": 35,
        "start_time": "2024-02-29T08:00:36.916Z"
      },
      {
        "duration": 62,
        "start_time": "2024-02-29T08:00:36.953Z"
      },
      {
        "duration": 48,
        "start_time": "2024-02-29T08:00:37.016Z"
      },
      {
        "duration": 15,
        "start_time": "2024-02-29T08:00:37.066Z"
      },
      {
        "duration": 42,
        "start_time": "2024-02-29T08:00:37.082Z"
      },
      {
        "duration": 19,
        "start_time": "2024-02-29T08:00:37.126Z"
      },
      {
        "duration": 24,
        "start_time": "2024-02-29T08:00:37.146Z"
      },
      {
        "duration": 31,
        "start_time": "2024-02-29T08:00:37.171Z"
      },
      {
        "duration": 450,
        "start_time": "2024-02-29T08:00:37.204Z"
      },
      {
        "duration": 10,
        "start_time": "2024-02-29T08:00:37.656Z"
      },
      {
        "duration": 79,
        "start_time": "2024-02-29T08:00:37.667Z"
      },
      {
        "duration": 852,
        "start_time": "2024-02-29T08:00:37.747Z"
      },
      {
        "duration": 10,
        "start_time": "2024-02-29T08:00:38.601Z"
      },
      {
        "duration": 91,
        "start_time": "2024-02-29T08:00:38.612Z"
      },
      {
        "duration": 189,
        "start_time": "2024-02-29T08:00:38.704Z"
      },
      {
        "duration": 8,
        "start_time": "2024-02-29T08:00:38.895Z"
      },
      {
        "duration": 40,
        "start_time": "2024-02-29T08:00:38.905Z"
      },
      {
        "duration": 42,
        "start_time": "2024-02-29T08:00:38.947Z"
      },
      {
        "duration": 34,
        "start_time": "2024-02-29T08:00:38.994Z"
      },
      {
        "duration": 20,
        "start_time": "2024-02-29T08:00:39.030Z"
      },
      {
        "duration": 52,
        "start_time": "2024-02-29T08:00:39.052Z"
      },
      {
        "duration": 38,
        "start_time": "2024-02-29T08:00:39.105Z"
      },
      {
        "duration": 57,
        "start_time": "2024-02-29T08:00:39.145Z"
      },
      {
        "duration": 33,
        "start_time": "2024-02-29T08:00:39.203Z"
      },
      {
        "duration": 32,
        "start_time": "2024-02-29T08:00:39.238Z"
      },
      {
        "duration": 27,
        "start_time": "2024-02-29T08:00:39.271Z"
      },
      {
        "duration": 33,
        "start_time": "2024-02-29T08:00:39.300Z"
      },
      {
        "duration": 45,
        "start_time": "2024-02-29T08:00:39.334Z"
      },
      {
        "duration": 70,
        "start_time": "2024-02-29T08:00:39.381Z"
      },
      {
        "duration": 80,
        "start_time": "2024-02-29T08:00:39.453Z"
      },
      {
        "duration": 124,
        "start_time": "2024-02-29T08:00:39.535Z"
      },
      {
        "duration": 29,
        "start_time": "2024-02-29T08:00:39.661Z"
      },
      {
        "duration": 135,
        "start_time": "2024-02-29T08:00:39.692Z"
      },
      {
        "duration": 90,
        "start_time": "2024-02-29T08:00:39.829Z"
      },
      {
        "duration": 31,
        "start_time": "2024-02-29T08:00:39.921Z"
      },
      {
        "duration": 64,
        "start_time": "2024-02-29T08:00:39.954Z"
      },
      {
        "duration": 36,
        "start_time": "2024-02-29T08:00:40.020Z"
      },
      {
        "duration": 51,
        "start_time": "2024-02-29T08:00:40.058Z"
      },
      {
        "duration": 88,
        "start_time": "2024-02-29T08:00:40.110Z"
      },
      {
        "duration": 19,
        "start_time": "2024-02-29T08:00:40.200Z"
      },
      {
        "duration": 69,
        "start_time": "2024-02-29T08:00:40.220Z"
      },
      {
        "duration": 41,
        "start_time": "2024-02-29T08:00:40.291Z"
      },
      {
        "duration": 48,
        "start_time": "2024-02-29T08:01:44.085Z"
      },
      {
        "duration": 971,
        "start_time": "2024-02-29T08:01:56.335Z"
      },
      {
        "duration": 148,
        "start_time": "2024-02-29T08:01:57.308Z"
      },
      {
        "duration": 31,
        "start_time": "2024-02-29T08:01:57.459Z"
      },
      {
        "duration": 3,
        "start_time": "2024-02-29T08:01:57.492Z"
      },
      {
        "duration": 41,
        "start_time": "2024-02-29T08:01:57.496Z"
      },
      {
        "duration": 24,
        "start_time": "2024-02-29T08:01:57.539Z"
      },
      {
        "duration": 36,
        "start_time": "2024-02-29T08:01:57.564Z"
      },
      {
        "duration": 31,
        "start_time": "2024-02-29T08:01:57.602Z"
      },
      {
        "duration": 12,
        "start_time": "2024-02-29T08:01:57.634Z"
      },
      {
        "duration": 34,
        "start_time": "2024-02-29T08:01:57.649Z"
      },
      {
        "duration": 95,
        "start_time": "2024-02-29T08:01:57.685Z"
      },
      {
        "duration": 12,
        "start_time": "2024-02-29T08:01:57.782Z"
      },
      {
        "duration": 41,
        "start_time": "2024-02-29T08:01:57.795Z"
      },
      {
        "duration": 7,
        "start_time": "2024-02-29T08:01:57.837Z"
      },
      {
        "duration": 47,
        "start_time": "2024-02-29T08:01:57.845Z"
      },
      {
        "duration": 7,
        "start_time": "2024-02-29T08:01:57.894Z"
      },
      {
        "duration": 31,
        "start_time": "2024-02-29T08:01:57.903Z"
      },
      {
        "duration": 471,
        "start_time": "2024-02-29T08:01:57.936Z"
      },
      {
        "duration": 10,
        "start_time": "2024-02-29T08:01:58.408Z"
      },
      {
        "duration": 85,
        "start_time": "2024-02-29T08:01:58.420Z"
      },
      {
        "duration": 808,
        "start_time": "2024-02-29T08:01:58.507Z"
      },
      {
        "duration": 12,
        "start_time": "2024-02-29T08:01:59.317Z"
      },
      {
        "duration": 28,
        "start_time": "2024-02-29T08:01:59.330Z"
      },
      {
        "duration": 184,
        "start_time": "2024-02-29T08:01:59.359Z"
      },
      {
        "duration": 8,
        "start_time": "2024-02-29T08:01:59.544Z"
      },
      {
        "duration": 61,
        "start_time": "2024-02-29T08:01:59.554Z"
      },
      {
        "duration": 14,
        "start_time": "2024-02-29T08:01:59.617Z"
      },
      {
        "duration": 20,
        "start_time": "2024-02-29T08:01:59.636Z"
      },
      {
        "duration": 32,
        "start_time": "2024-02-29T08:01:59.658Z"
      },
      {
        "duration": 38,
        "start_time": "2024-02-29T08:01:59.691Z"
      },
      {
        "duration": 12,
        "start_time": "2024-02-29T08:01:59.731Z"
      },
      {
        "duration": 47,
        "start_time": "2024-02-29T08:01:59.744Z"
      },
      {
        "duration": 12,
        "start_time": "2024-02-29T08:01:59.793Z"
      },
      {
        "duration": 37,
        "start_time": "2024-02-29T08:01:59.807Z"
      },
      {
        "duration": 13,
        "start_time": "2024-02-29T08:01:59.846Z"
      },
      {
        "duration": 7,
        "start_time": "2024-02-29T08:01:59.861Z"
      },
      {
        "duration": 26,
        "start_time": "2024-02-29T08:01:59.869Z"
      },
      {
        "duration": 27,
        "start_time": "2024-02-29T08:01:59.896Z"
      },
      {
        "duration": 6,
        "start_time": "2024-02-29T08:01:59.925Z"
      },
      {
        "duration": 60,
        "start_time": "2024-02-29T08:01:59.933Z"
      },
      {
        "duration": 3,
        "start_time": "2024-02-29T08:01:59.994Z"
      },
      {
        "duration": 68,
        "start_time": "2024-02-29T08:01:59.999Z"
      },
      {
        "duration": 107,
        "start_time": "2024-02-29T08:02:00.069Z"
      },
      {
        "duration": 142,
        "start_time": "2024-02-29T08:02:00.178Z"
      },
      {
        "duration": 71,
        "start_time": "2024-02-29T08:02:00.322Z"
      },
      {
        "duration": 47,
        "start_time": "2024-02-29T08:02:00.396Z"
      },
      {
        "duration": 172,
        "start_time": "2024-02-29T08:02:00.445Z"
      },
      {
        "duration": 129,
        "start_time": "2024-02-29T08:02:00.618Z"
      },
      {
        "duration": 45,
        "start_time": "2024-02-29T08:02:00.748Z"
      },
      {
        "duration": 65,
        "start_time": "2024-02-29T08:02:00.794Z"
      },
      {
        "duration": 57,
        "start_time": "2024-02-29T08:02:00.861Z"
      },
      {
        "duration": 982,
        "start_time": "2024-02-29T08:04:19.872Z"
      },
      {
        "duration": 134,
        "start_time": "2024-02-29T08:04:20.855Z"
      },
      {
        "duration": 28,
        "start_time": "2024-02-29T08:04:20.991Z"
      },
      {
        "duration": 3,
        "start_time": "2024-02-29T08:04:21.021Z"
      },
      {
        "duration": 32,
        "start_time": "2024-02-29T08:04:21.025Z"
      },
      {
        "duration": 22,
        "start_time": "2024-02-29T08:04:21.058Z"
      },
      {
        "duration": 14,
        "start_time": "2024-02-29T08:04:21.081Z"
      },
      {
        "duration": 39,
        "start_time": "2024-02-29T08:04:21.097Z"
      },
      {
        "duration": 81,
        "start_time": "2024-02-29T08:04:21.138Z"
      },
      {
        "duration": 14,
        "start_time": "2024-02-29T08:04:21.222Z"
      },
      {
        "duration": 46,
        "start_time": "2024-02-29T08:04:21.238Z"
      },
      {
        "duration": 51,
        "start_time": "2024-02-29T08:04:21.285Z"
      },
      {
        "duration": 12,
        "start_time": "2024-02-29T08:04:21.337Z"
      },
      {
        "duration": 7,
        "start_time": "2024-02-29T08:04:21.350Z"
      },
      {
        "duration": 18,
        "start_time": "2024-02-29T08:04:21.358Z"
      },
      {
        "duration": 24,
        "start_time": "2024-02-29T08:04:21.378Z"
      },
      {
        "duration": 21,
        "start_time": "2024-02-29T08:04:21.404Z"
      },
      {
        "duration": 477,
        "start_time": "2024-02-29T08:04:21.427Z"
      },
      {
        "duration": 12,
        "start_time": "2024-02-29T08:04:21.906Z"
      },
      {
        "duration": 98,
        "start_time": "2024-02-29T08:04:21.920Z"
      },
      {
        "duration": 884,
        "start_time": "2024-02-29T08:04:22.020Z"
      },
      {
        "duration": 12,
        "start_time": "2024-02-29T08:04:22.906Z"
      },
      {
        "duration": 44,
        "start_time": "2024-02-29T08:04:22.920Z"
      },
      {
        "duration": 215,
        "start_time": "2024-02-29T08:04:22.966Z"
      },
      {
        "duration": 13,
        "start_time": "2024-02-29T08:04:23.183Z"
      },
      {
        "duration": 35,
        "start_time": "2024-02-29T08:04:23.198Z"
      },
      {
        "duration": 19,
        "start_time": "2024-02-29T08:04:23.235Z"
      },
      {
        "duration": 15,
        "start_time": "2024-02-29T08:04:23.257Z"
      },
      {
        "duration": 24,
        "start_time": "2024-02-29T08:04:23.274Z"
      },
      {
        "duration": 24,
        "start_time": "2024-02-29T08:04:23.299Z"
      },
      {
        "duration": 13,
        "start_time": "2024-02-29T08:04:23.324Z"
      },
      {
        "duration": 49,
        "start_time": "2024-02-29T08:04:23.339Z"
      },
      {
        "duration": 13,
        "start_time": "2024-02-29T08:04:23.390Z"
      },
      {
        "duration": 29,
        "start_time": "2024-02-29T08:04:23.406Z"
      },
      {
        "duration": 21,
        "start_time": "2024-02-29T08:04:23.437Z"
      },
      {
        "duration": 23,
        "start_time": "2024-02-29T08:04:23.460Z"
      },
      {
        "duration": 27,
        "start_time": "2024-02-29T08:04:23.486Z"
      },
      {
        "duration": 35,
        "start_time": "2024-02-29T08:04:23.515Z"
      },
      {
        "duration": 19,
        "start_time": "2024-02-29T08:04:23.552Z"
      },
      {
        "duration": 58,
        "start_time": "2024-02-29T08:04:23.573Z"
      },
      {
        "duration": 3,
        "start_time": "2024-02-29T08:04:23.633Z"
      },
      {
        "duration": 19,
        "start_time": "2024-02-29T08:04:23.638Z"
      },
      {
        "duration": 63,
        "start_time": "2024-02-29T08:04:23.659Z"
      },
      {
        "duration": 23,
        "start_time": "2024-02-29T08:04:23.724Z"
      },
      {
        "duration": 36,
        "start_time": "2024-02-29T08:04:23.749Z"
      },
      {
        "duration": 12,
        "start_time": "2024-02-29T08:04:23.787Z"
      },
      {
        "duration": 8,
        "start_time": "2024-02-29T08:04:23.801Z"
      },
      {
        "duration": 28,
        "start_time": "2024-02-29T08:04:23.811Z"
      },
      {
        "duration": 28,
        "start_time": "2024-02-29T08:04:23.841Z"
      },
      {
        "duration": 39,
        "start_time": "2024-02-29T08:04:23.871Z"
      },
      {
        "duration": 22,
        "start_time": "2024-02-29T08:04:23.912Z"
      },
      {
        "duration": 945,
        "start_time": "2024-02-29T15:58:14.237Z"
      },
      {
        "duration": 136,
        "start_time": "2024-02-29T15:58:15.184Z"
      },
      {
        "duration": 30,
        "start_time": "2024-02-29T15:58:15.322Z"
      },
      {
        "duration": 3,
        "start_time": "2024-02-29T15:58:15.353Z"
      },
      {
        "duration": 73,
        "start_time": "2024-02-29T15:58:15.358Z"
      },
      {
        "duration": 31,
        "start_time": "2024-02-29T15:58:15.433Z"
      },
      {
        "duration": 14,
        "start_time": "2024-02-29T15:58:15.466Z"
      },
      {
        "duration": 33,
        "start_time": "2024-02-29T15:58:15.481Z"
      },
      {
        "duration": 12,
        "start_time": "2024-02-29T15:58:15.515Z"
      },
      {
        "duration": 12,
        "start_time": "2024-02-29T15:58:15.529Z"
      },
      {
        "duration": 71,
        "start_time": "2024-02-29T15:58:15.542Z"
      },
      {
        "duration": 12,
        "start_time": "2024-02-29T15:58:15.615Z"
      },
      {
        "duration": 12,
        "start_time": "2024-02-29T15:58:15.629Z"
      },
      {
        "duration": 8,
        "start_time": "2024-02-29T15:58:15.644Z"
      },
      {
        "duration": 41,
        "start_time": "2024-02-29T15:58:15.653Z"
      },
      {
        "duration": 9,
        "start_time": "2024-02-29T15:58:15.696Z"
      },
      {
        "duration": 16,
        "start_time": "2024-02-29T15:58:15.706Z"
      },
      {
        "duration": 708,
        "start_time": "2024-02-29T15:58:15.723Z"
      },
      {
        "duration": 33,
        "start_time": "2024-02-29T15:58:16.433Z"
      },
      {
        "duration": 111,
        "start_time": "2024-02-29T15:58:16.468Z"
      },
      {
        "duration": 727,
        "start_time": "2024-02-29T15:58:16.580Z"
      },
      {
        "duration": 14,
        "start_time": "2024-02-29T15:58:17.309Z"
      },
      {
        "duration": 25,
        "start_time": "2024-02-29T15:58:17.325Z"
      },
      {
        "duration": 156,
        "start_time": "2024-02-29T15:58:17.366Z"
      },
      {
        "duration": 8,
        "start_time": "2024-02-29T15:58:17.524Z"
      },
      {
        "duration": 31,
        "start_time": "2024-02-29T15:58:17.534Z"
      },
      {
        "duration": 10,
        "start_time": "2024-02-29T15:58:17.567Z"
      },
      {
        "duration": 12,
        "start_time": "2024-02-29T15:58:17.579Z"
      },
      {
        "duration": 11,
        "start_time": "2024-02-29T15:58:17.593Z"
      },
      {
        "duration": 24,
        "start_time": "2024-02-29T15:58:17.606Z"
      },
      {
        "duration": 43,
        "start_time": "2024-02-29T15:58:17.632Z"
      },
      {
        "duration": 30,
        "start_time": "2024-02-29T15:58:17.677Z"
      },
      {
        "duration": 10,
        "start_time": "2024-02-29T15:58:17.709Z"
      },
      {
        "duration": 10,
        "start_time": "2024-02-29T15:58:17.721Z"
      },
      {
        "duration": 8,
        "start_time": "2024-02-29T15:58:17.765Z"
      },
      {
        "duration": 9,
        "start_time": "2024-02-29T15:58:17.774Z"
      },
      {
        "duration": 18,
        "start_time": "2024-02-29T15:58:17.784Z"
      },
      {
        "duration": 16,
        "start_time": "2024-02-29T15:58:17.803Z"
      },
      {
        "duration": 7,
        "start_time": "2024-02-29T15:58:17.820Z"
      },
      {
        "duration": 69,
        "start_time": "2024-02-29T15:58:17.828Z"
      },
      {
        "duration": 2,
        "start_time": "2024-02-29T15:58:17.901Z"
      },
      {
        "duration": 15,
        "start_time": "2024-02-29T15:58:17.904Z"
      },
      {
        "duration": 49,
        "start_time": "2024-02-29T15:58:17.921Z"
      },
      {
        "duration": 20,
        "start_time": "2024-02-29T15:58:17.972Z"
      },
      {
        "duration": 11,
        "start_time": "2024-02-29T15:58:17.993Z"
      },
      {
        "duration": 12,
        "start_time": "2024-02-29T15:58:18.006Z"
      },
      {
        "duration": 9,
        "start_time": "2024-02-29T15:58:18.020Z"
      },
      {
        "duration": 45,
        "start_time": "2024-02-29T15:58:18.031Z"
      },
      {
        "duration": 15,
        "start_time": "2024-02-29T15:58:18.077Z"
      },
      {
        "duration": 22,
        "start_time": "2024-02-29T15:58:18.093Z"
      },
      {
        "duration": 8,
        "start_time": "2024-02-29T15:58:18.116Z"
      },
      {
        "duration": 863,
        "start_time": "2024-02-29T16:39:25.582Z"
      },
      {
        "duration": 466,
        "start_time": "2024-02-29T16:39:26.447Z"
      },
      {
        "duration": 87,
        "start_time": "2024-02-29T16:39:26.914Z"
      },
      {
        "duration": 3,
        "start_time": "2024-02-29T16:39:27.003Z"
      },
      {
        "duration": 26,
        "start_time": "2024-02-29T16:39:27.008Z"
      },
      {
        "duration": 20,
        "start_time": "2024-02-29T16:39:27.035Z"
      },
      {
        "duration": 6,
        "start_time": "2024-02-29T16:39:27.057Z"
      },
      {
        "duration": 23,
        "start_time": "2024-02-29T16:39:27.064Z"
      },
      {
        "duration": 10,
        "start_time": "2024-02-29T16:39:27.089Z"
      },
      {
        "duration": 5,
        "start_time": "2024-02-29T16:39:27.101Z"
      },
      {
        "duration": 60,
        "start_time": "2024-02-29T16:39:27.107Z"
      },
      {
        "duration": 11,
        "start_time": "2024-02-29T16:39:27.169Z"
      },
      {
        "duration": 28,
        "start_time": "2024-02-29T16:39:27.181Z"
      },
      {
        "duration": 16,
        "start_time": "2024-02-29T16:39:27.211Z"
      },
      {
        "duration": 15,
        "start_time": "2024-02-29T16:39:27.228Z"
      },
      {
        "duration": 8,
        "start_time": "2024-02-29T16:39:27.245Z"
      },
      {
        "duration": 14,
        "start_time": "2024-02-29T16:39:27.254Z"
      },
      {
        "duration": 411,
        "start_time": "2024-02-29T16:39:27.270Z"
      },
      {
        "duration": 11,
        "start_time": "2024-02-29T16:39:27.682Z"
      },
      {
        "duration": 55,
        "start_time": "2024-02-29T16:39:27.695Z"
      },
      {
        "duration": 765,
        "start_time": "2024-02-29T16:39:27.751Z"
      },
      {
        "duration": 11,
        "start_time": "2024-02-29T16:39:28.518Z"
      },
      {
        "duration": 29,
        "start_time": "2024-02-29T16:39:28.530Z"
      },
      {
        "duration": 157,
        "start_time": "2024-02-29T16:39:28.561Z"
      },
      {
        "duration": 7,
        "start_time": "2024-02-29T16:39:28.720Z"
      },
      {
        "duration": 46,
        "start_time": "2024-02-29T16:39:28.728Z"
      },
      {
        "duration": 10,
        "start_time": "2024-02-29T16:39:28.775Z"
      },
      {
        "duration": 11,
        "start_time": "2024-02-29T16:39:28.788Z"
      },
      {
        "duration": 9,
        "start_time": "2024-02-29T16:39:28.800Z"
      },
      {
        "duration": 25,
        "start_time": "2024-02-29T16:39:28.810Z"
      },
      {
        "duration": 13,
        "start_time": "2024-02-29T16:39:28.836Z"
      },
      {
        "duration": 27,
        "start_time": "2024-02-29T16:39:28.850Z"
      },
      {
        "duration": 9,
        "start_time": "2024-02-29T16:39:28.878Z"
      },
      {
        "duration": 26,
        "start_time": "2024-02-29T16:39:28.888Z"
      },
      {
        "duration": 21,
        "start_time": "2024-02-29T16:39:28.915Z"
      },
      {
        "duration": 14,
        "start_time": "2024-02-29T16:39:28.937Z"
      },
      {
        "duration": 23,
        "start_time": "2024-02-29T16:39:28.952Z"
      },
      {
        "duration": 18,
        "start_time": "2024-02-29T16:39:28.976Z"
      },
      {
        "duration": 5,
        "start_time": "2024-02-29T16:39:28.995Z"
      },
      {
        "duration": 41,
        "start_time": "2024-02-29T16:39:29.001Z"
      },
      {
        "duration": 3,
        "start_time": "2024-02-29T16:39:29.043Z"
      },
      {
        "duration": 10,
        "start_time": "2024-02-29T16:39:29.047Z"
      },
      {
        "duration": 52,
        "start_time": "2024-02-29T16:39:29.058Z"
      },
      {
        "duration": 30,
        "start_time": "2024-02-29T16:39:29.112Z"
      },
      {
        "duration": 26,
        "start_time": "2024-02-29T16:39:29.145Z"
      },
      {
        "duration": 19,
        "start_time": "2024-02-29T16:39:29.173Z"
      },
      {
        "duration": 32,
        "start_time": "2024-02-29T16:39:29.194Z"
      },
      {
        "duration": 62,
        "start_time": "2024-02-29T16:39:29.227Z"
      },
      {
        "duration": 18,
        "start_time": "2024-02-29T16:39:29.290Z"
      },
      {
        "duration": 28,
        "start_time": "2024-02-29T16:39:29.310Z"
      },
      {
        "duration": 28,
        "start_time": "2024-02-29T16:39:29.339Z"
      },
      {
        "duration": 1043,
        "start_time": "2024-03-01T07:08:17.348Z"
      },
      {
        "duration": 451,
        "start_time": "2024-03-01T07:08:18.393Z"
      },
      {
        "duration": 90,
        "start_time": "2024-03-01T07:08:18.846Z"
      },
      {
        "duration": 4,
        "start_time": "2024-03-01T07:08:18.938Z"
      },
      {
        "duration": 60,
        "start_time": "2024-03-01T07:08:18.944Z"
      },
      {
        "duration": 35,
        "start_time": "2024-03-01T07:08:19.005Z"
      },
      {
        "duration": 5,
        "start_time": "2024-03-01T07:08:19.042Z"
      },
      {
        "duration": 36,
        "start_time": "2024-03-01T07:08:19.049Z"
      },
      {
        "duration": 11,
        "start_time": "2024-03-01T07:08:19.087Z"
      },
      {
        "duration": 22,
        "start_time": "2024-03-01T07:08:19.101Z"
      },
      {
        "duration": 60,
        "start_time": "2024-03-01T07:08:19.125Z"
      },
      {
        "duration": 11,
        "start_time": "2024-03-01T07:08:19.187Z"
      },
      {
        "duration": 23,
        "start_time": "2024-03-01T07:08:19.199Z"
      },
      {
        "duration": 26,
        "start_time": "2024-03-01T07:08:19.224Z"
      },
      {
        "duration": 32,
        "start_time": "2024-03-01T07:08:19.252Z"
      },
      {
        "duration": 18,
        "start_time": "2024-03-01T07:08:19.285Z"
      },
      {
        "duration": 19,
        "start_time": "2024-03-01T07:08:19.305Z"
      },
      {
        "duration": 474,
        "start_time": "2024-03-01T07:08:19.326Z"
      },
      {
        "duration": 11,
        "start_time": "2024-03-01T07:08:19.802Z"
      },
      {
        "duration": 103,
        "start_time": "2024-03-01T07:08:19.816Z"
      },
      {
        "duration": 851,
        "start_time": "2024-03-01T07:08:19.924Z"
      },
      {
        "duration": 10,
        "start_time": "2024-03-01T07:08:20.777Z"
      },
      {
        "duration": 30,
        "start_time": "2024-03-01T07:08:20.788Z"
      },
      {
        "duration": 163,
        "start_time": "2024-03-01T07:08:20.820Z"
      },
      {
        "duration": 8,
        "start_time": "2024-03-01T07:08:20.985Z"
      },
      {
        "duration": 18,
        "start_time": "2024-03-01T07:08:20.994Z"
      },
      {
        "duration": 27,
        "start_time": "2024-03-01T07:08:21.013Z"
      },
      {
        "duration": 21,
        "start_time": "2024-03-01T07:08:21.044Z"
      },
      {
        "duration": 19,
        "start_time": "2024-03-01T07:08:21.067Z"
      },
      {
        "duration": 39,
        "start_time": "2024-03-01T07:08:21.087Z"
      },
      {
        "duration": 12,
        "start_time": "2024-03-01T07:08:21.128Z"
      },
      {
        "duration": 40,
        "start_time": "2024-03-01T07:08:21.142Z"
      },
      {
        "duration": 15,
        "start_time": "2024-03-01T07:08:21.184Z"
      },
      {
        "duration": 12,
        "start_time": "2024-03-01T07:08:21.201Z"
      },
      {
        "duration": 26,
        "start_time": "2024-03-01T07:08:21.215Z"
      },
      {
        "duration": 10,
        "start_time": "2024-03-01T07:08:21.243Z"
      },
      {
        "duration": 30,
        "start_time": "2024-03-01T07:08:21.255Z"
      },
      {
        "duration": 33,
        "start_time": "2024-03-01T07:08:21.286Z"
      },
      {
        "duration": 7,
        "start_time": "2024-03-01T07:08:21.321Z"
      },
      {
        "duration": 69,
        "start_time": "2024-03-01T07:08:21.329Z"
      },
      {
        "duration": 2,
        "start_time": "2024-03-01T07:08:21.399Z"
      },
      {
        "duration": 17,
        "start_time": "2024-03-01T07:08:21.402Z"
      },
      {
        "duration": 64,
        "start_time": "2024-03-01T07:08:21.420Z"
      },
      {
        "duration": 32,
        "start_time": "2024-03-01T07:08:21.486Z"
      },
      {
        "duration": 11,
        "start_time": "2024-03-01T07:08:21.519Z"
      },
      {
        "duration": 10,
        "start_time": "2024-03-01T07:08:21.531Z"
      },
      {
        "duration": 8,
        "start_time": "2024-03-01T07:08:21.542Z"
      },
      {
        "duration": 31,
        "start_time": "2024-03-01T07:08:21.552Z"
      },
      {
        "duration": 18,
        "start_time": "2024-03-01T07:08:21.585Z"
      },
      {
        "duration": 17,
        "start_time": "2024-03-01T07:08:21.605Z"
      },
      {
        "duration": 12,
        "start_time": "2024-03-01T07:08:21.624Z"
      },
      {
        "duration": 937,
        "start_time": "2024-03-01T10:01:53.792Z"
      },
      {
        "duration": 487,
        "start_time": "2024-03-01T10:01:54.730Z"
      },
      {
        "duration": 88,
        "start_time": "2024-03-01T10:01:55.219Z"
      },
      {
        "duration": 3,
        "start_time": "2024-03-01T10:01:55.309Z"
      },
      {
        "duration": 37,
        "start_time": "2024-03-01T10:01:55.314Z"
      },
      {
        "duration": 21,
        "start_time": "2024-03-01T10:01:55.352Z"
      },
      {
        "duration": 6,
        "start_time": "2024-03-01T10:01:55.375Z"
      },
      {
        "duration": 28,
        "start_time": "2024-03-01T10:01:55.382Z"
      },
      {
        "duration": 11,
        "start_time": "2024-03-01T10:01:55.412Z"
      },
      {
        "duration": 16,
        "start_time": "2024-03-01T10:01:55.425Z"
      },
      {
        "duration": 55,
        "start_time": "2024-03-01T10:01:55.443Z"
      },
      {
        "duration": 11,
        "start_time": "2024-03-01T10:01:55.499Z"
      },
      {
        "duration": 12,
        "start_time": "2024-03-01T10:01:55.512Z"
      },
      {
        "duration": 23,
        "start_time": "2024-03-01T10:01:55.526Z"
      },
      {
        "duration": 31,
        "start_time": "2024-03-01T10:01:55.550Z"
      },
      {
        "duration": 13,
        "start_time": "2024-03-01T10:01:55.583Z"
      },
      {
        "duration": 18,
        "start_time": "2024-03-01T10:01:55.597Z"
      },
      {
        "duration": 473,
        "start_time": "2024-03-01T10:01:55.617Z"
      },
      {
        "duration": 9,
        "start_time": "2024-03-01T10:01:56.092Z"
      },
      {
        "duration": 89,
        "start_time": "2024-03-01T10:01:56.103Z"
      },
      {
        "duration": 848,
        "start_time": "2024-03-01T10:01:56.193Z"
      },
      {
        "duration": 10,
        "start_time": "2024-03-01T10:01:57.042Z"
      },
      {
        "duration": 60,
        "start_time": "2024-03-01T10:01:57.053Z"
      },
      {
        "duration": 147,
        "start_time": "2024-03-01T10:01:57.115Z"
      },
      {
        "duration": 7,
        "start_time": "2024-03-01T10:01:57.265Z"
      },
      {
        "duration": 14,
        "start_time": "2024-03-01T10:01:57.274Z"
      },
      {
        "duration": 9,
        "start_time": "2024-03-01T10:01:57.290Z"
      },
      {
        "duration": 12,
        "start_time": "2024-03-01T10:01:57.304Z"
      },
      {
        "duration": 16,
        "start_time": "2024-03-01T10:01:57.318Z"
      },
      {
        "duration": 51,
        "start_time": "2024-03-01T10:01:57.336Z"
      },
      {
        "duration": 13,
        "start_time": "2024-03-01T10:01:57.388Z"
      },
      {
        "duration": 32,
        "start_time": "2024-03-01T10:01:57.403Z"
      },
      {
        "duration": 39,
        "start_time": "2024-03-01T10:01:57.437Z"
      },
      {
        "duration": 18,
        "start_time": "2024-03-01T10:01:57.478Z"
      },
      {
        "duration": 9,
        "start_time": "2024-03-01T10:01:57.498Z"
      },
      {
        "duration": 4,
        "start_time": "2024-03-01T10:01:57.509Z"
      },
      {
        "duration": 18,
        "start_time": "2024-03-01T10:01:57.514Z"
      },
      {
        "duration": 37,
        "start_time": "2024-03-01T10:01:57.533Z"
      },
      {
        "duration": 5,
        "start_time": "2024-03-01T10:01:57.572Z"
      },
      {
        "duration": 58,
        "start_time": "2024-03-01T10:01:57.579Z"
      },
      {
        "duration": 7,
        "start_time": "2024-03-01T10:01:57.639Z"
      },
      {
        "duration": 21,
        "start_time": "2024-03-01T10:01:57.647Z"
      },
      {
        "duration": 61,
        "start_time": "2024-03-01T10:01:57.670Z"
      },
      {
        "duration": 43,
        "start_time": "2024-03-01T10:01:57.733Z"
      },
      {
        "duration": 12,
        "start_time": "2024-03-01T10:01:57.778Z"
      },
      {
        "duration": 30,
        "start_time": "2024-03-01T10:01:57.792Z"
      },
      {
        "duration": 25,
        "start_time": "2024-03-01T10:01:57.824Z"
      },
      {
        "duration": 31,
        "start_time": "2024-03-01T10:01:57.851Z"
      },
      {
        "duration": 17,
        "start_time": "2024-03-01T10:01:57.884Z"
      },
      {
        "duration": 57,
        "start_time": "2024-03-01T10:01:57.903Z"
      },
      {
        "duration": 10,
        "start_time": "2024-03-01T10:01:57.962Z"
      },
      {
        "duration": 975,
        "start_time": "2024-05-15T18:43:19.825Z"
      },
      {
        "duration": 479,
        "start_time": "2024-05-15T18:43:20.802Z"
      },
      {
        "duration": 77,
        "start_time": "2024-05-15T18:43:21.283Z"
      },
      {
        "duration": 3,
        "start_time": "2024-05-15T18:43:21.363Z"
      },
      {
        "duration": 59,
        "start_time": "2024-05-15T18:43:21.368Z"
      },
      {
        "duration": 55,
        "start_time": "2024-05-15T18:43:21.429Z"
      },
      {
        "duration": 29,
        "start_time": "2024-05-15T18:43:21.485Z"
      },
      {
        "duration": 75,
        "start_time": "2024-05-15T18:43:21.516Z"
      },
      {
        "duration": 13,
        "start_time": "2024-05-15T18:43:21.593Z"
      },
      {
        "duration": 34,
        "start_time": "2024-05-15T18:43:21.608Z"
      },
      {
        "duration": 92,
        "start_time": "2024-05-15T18:43:21.644Z"
      },
      {
        "duration": 13,
        "start_time": "2024-05-15T18:43:21.738Z"
      },
      {
        "duration": 38,
        "start_time": "2024-05-15T18:43:21.752Z"
      },
      {
        "duration": 43,
        "start_time": "2024-05-15T18:43:21.791Z"
      },
      {
        "duration": 40,
        "start_time": "2024-05-15T18:43:21.836Z"
      },
      {
        "duration": 9,
        "start_time": "2024-05-15T18:43:21.878Z"
      },
      {
        "duration": 14,
        "start_time": "2024-05-15T18:43:21.889Z"
      },
      {
        "duration": 448,
        "start_time": "2024-05-15T18:43:21.905Z"
      },
      {
        "duration": 9,
        "start_time": "2024-05-15T18:43:22.354Z"
      },
      {
        "duration": 55,
        "start_time": "2024-05-15T18:43:22.365Z"
      },
      {
        "duration": 791,
        "start_time": "2024-05-15T18:43:22.422Z"
      },
      {
        "duration": 10,
        "start_time": "2024-05-15T18:43:23.214Z"
      },
      {
        "duration": 27,
        "start_time": "2024-05-15T18:43:23.226Z"
      },
      {
        "duration": 170,
        "start_time": "2024-05-15T18:43:23.255Z"
      },
      {
        "duration": 9,
        "start_time": "2024-05-15T18:43:23.426Z"
      },
      {
        "duration": 38,
        "start_time": "2024-05-15T18:43:23.437Z"
      },
      {
        "duration": 19,
        "start_time": "2024-05-15T18:43:23.477Z"
      },
      {
        "duration": 39,
        "start_time": "2024-05-15T18:43:23.501Z"
      },
      {
        "duration": 28,
        "start_time": "2024-05-15T18:43:23.542Z"
      },
      {
        "duration": 44,
        "start_time": "2024-05-15T18:43:23.572Z"
      },
      {
        "duration": 19,
        "start_time": "2024-05-15T18:43:23.619Z"
      },
      {
        "duration": 56,
        "start_time": "2024-05-15T18:43:23.639Z"
      },
      {
        "duration": 10,
        "start_time": "2024-05-15T18:43:23.697Z"
      },
      {
        "duration": 17,
        "start_time": "2024-05-15T18:43:23.709Z"
      },
      {
        "duration": 22,
        "start_time": "2024-05-15T18:43:23.727Z"
      },
      {
        "duration": 4,
        "start_time": "2024-05-15T18:43:23.751Z"
      },
      {
        "duration": 50,
        "start_time": "2024-05-15T18:43:23.756Z"
      },
      {
        "duration": 15,
        "start_time": "2024-05-15T18:43:23.807Z"
      },
      {
        "duration": 5,
        "start_time": "2024-05-15T18:43:23.823Z"
      },
      {
        "duration": 45,
        "start_time": "2024-05-15T18:43:23.829Z"
      },
      {
        "duration": 18,
        "start_time": "2024-05-15T18:43:23.876Z"
      },
      {
        "duration": 9,
        "start_time": "2024-05-15T18:43:23.896Z"
      },
      {
        "duration": 50,
        "start_time": "2024-05-15T18:43:23.906Z"
      },
      {
        "duration": 41,
        "start_time": "2024-05-15T18:43:23.957Z"
      },
      {
        "duration": 12,
        "start_time": "2024-05-15T18:43:23.999Z"
      },
      {
        "duration": 28,
        "start_time": "2024-05-15T18:43:24.012Z"
      },
      {
        "duration": 23,
        "start_time": "2024-05-15T18:43:24.042Z"
      },
      {
        "duration": 30,
        "start_time": "2024-05-15T18:43:24.066Z"
      },
      {
        "duration": 67,
        "start_time": "2024-05-15T18:43:24.098Z"
      },
      {
        "duration": 16,
        "start_time": "2024-05-15T18:43:24.167Z"
      },
      {
        "duration": 11,
        "start_time": "2024-05-15T18:43:24.184Z"
      },
      {
        "duration": 879,
        "start_time": "2024-05-16T19:05:02.492Z"
      },
      {
        "duration": 183,
        "start_time": "2024-05-16T19:05:03.373Z"
      },
      {
        "duration": 120,
        "start_time": "2024-05-16T19:05:03.557Z"
      },
      {
        "duration": 7,
        "start_time": "2024-05-16T19:05:03.680Z"
      },
      {
        "duration": 27,
        "start_time": "2024-05-16T19:05:03.688Z"
      },
      {
        "duration": 20,
        "start_time": "2024-05-16T19:05:03.717Z"
      },
      {
        "duration": 5,
        "start_time": "2024-05-16T19:05:03.738Z"
      },
      {
        "duration": 27,
        "start_time": "2024-05-16T19:05:03.744Z"
      },
      {
        "duration": 9,
        "start_time": "2024-05-16T19:05:03.773Z"
      },
      {
        "duration": 19,
        "start_time": "2024-05-16T19:05:03.784Z"
      },
      {
        "duration": 36,
        "start_time": "2024-05-16T19:05:03.804Z"
      },
      {
        "duration": 9,
        "start_time": "2024-05-16T19:05:03.841Z"
      },
      {
        "duration": 33,
        "start_time": "2024-05-16T19:05:03.851Z"
      },
      {
        "duration": 22,
        "start_time": "2024-05-16T19:05:03.886Z"
      },
      {
        "duration": 18,
        "start_time": "2024-05-16T19:05:03.910Z"
      },
      {
        "duration": 21,
        "start_time": "2024-05-16T19:05:03.929Z"
      },
      {
        "duration": 29,
        "start_time": "2024-05-16T19:05:03.951Z"
      },
      {
        "duration": 341,
        "start_time": "2024-05-16T19:05:03.982Z"
      },
      {
        "duration": 10,
        "start_time": "2024-05-16T19:05:04.325Z"
      },
      {
        "duration": 74,
        "start_time": "2024-05-16T19:05:04.337Z"
      },
      {
        "duration": 704,
        "start_time": "2024-05-16T19:05:04.413Z"
      },
      {
        "duration": 10,
        "start_time": "2024-05-16T19:05:05.118Z"
      },
      {
        "duration": 22,
        "start_time": "2024-05-16T19:05:05.130Z"
      },
      {
        "duration": 144,
        "start_time": "2024-05-16T19:05:05.153Z"
      },
      {
        "duration": 6,
        "start_time": "2024-05-16T19:05:05.301Z"
      },
      {
        "duration": 38,
        "start_time": "2024-05-16T19:05:05.308Z"
      },
      {
        "duration": 14,
        "start_time": "2024-05-16T19:05:05.347Z"
      },
      {
        "duration": 11,
        "start_time": "2024-05-16T19:05:05.364Z"
      },
      {
        "duration": 9,
        "start_time": "2024-05-16T19:05:05.376Z"
      },
      {
        "duration": 20,
        "start_time": "2024-05-16T19:05:05.387Z"
      },
      {
        "duration": 10,
        "start_time": "2024-05-16T19:05:05.408Z"
      },
      {
        "duration": 35,
        "start_time": "2024-05-16T19:05:05.419Z"
      },
      {
        "duration": 10,
        "start_time": "2024-05-16T19:05:05.455Z"
      },
      {
        "duration": 16,
        "start_time": "2024-05-16T19:05:05.466Z"
      },
      {
        "duration": 13,
        "start_time": "2024-05-16T19:05:05.483Z"
      },
      {
        "duration": 9,
        "start_time": "2024-05-16T19:05:05.497Z"
      },
      {
        "duration": 32,
        "start_time": "2024-05-16T19:05:05.507Z"
      },
      {
        "duration": 13,
        "start_time": "2024-05-16T19:05:05.540Z"
      },
      {
        "duration": 13,
        "start_time": "2024-05-16T19:05:05.554Z"
      },
      {
        "duration": 62,
        "start_time": "2024-05-16T19:05:05.568Z"
      },
      {
        "duration": 2,
        "start_time": "2024-05-16T19:05:05.631Z"
      },
      {
        "duration": 39,
        "start_time": "2024-05-16T19:05:05.634Z"
      },
      {
        "duration": 48,
        "start_time": "2024-05-16T19:05:05.675Z"
      },
      {
        "duration": 17,
        "start_time": "2024-05-16T19:05:05.725Z"
      },
      {
        "duration": 8,
        "start_time": "2024-05-16T19:05:05.743Z"
      },
      {
        "duration": 9,
        "start_time": "2024-05-16T19:05:05.752Z"
      },
      {
        "duration": 7,
        "start_time": "2024-05-16T19:05:05.762Z"
      },
      {
        "duration": 8,
        "start_time": "2024-05-16T19:05:05.771Z"
      },
      {
        "duration": 28,
        "start_time": "2024-05-16T19:05:05.780Z"
      },
      {
        "duration": 17,
        "start_time": "2024-05-16T19:05:05.810Z"
      },
      {
        "duration": 8,
        "start_time": "2024-05-16T19:05:05.828Z"
      }
    ],
    "toc": {
      "base_numbering": 1,
      "nav_menu": {},
      "number_sections": true,
      "sideBar": true,
      "skip_h1_title": true,
      "title_cell": "Table of Contents",
      "title_sidebar": "Contents",
      "toc_cell": false,
      "toc_position": {},
      "toc_section_display": true,
      "toc_window_display": false
    }
  },
  "nbformat_minor": 4,
  "nbformat": 4,
  "cells": [
    {
      "cell_type": "markdown",
      "source": "# Анализ поведения пользователей в мобильном приложении: основная часть.",
      "metadata": {}
    },
    {
      "cell_type": "markdown",
      "source": "## Описание проекта",
      "metadata": {}
    },
    {
      "cell_type": "markdown",
      "source": "В роли аналитика необходимо по заданию менеджера по продукту произвести анализ поведения пользователей в мобильном приложении - \"Ненужные Вещи\", аналоге \"Авито\".",
      "metadata": {}
    },
    {
      "cell_type": "markdown",
      "source": "## Цель исследования",
      "metadata": {}
    },
    {
      "cell_type": "markdown",
      "source": "Управление вовлеченностью клиентов - адаптация приложения по целевой и смежной аудитории. Это будет возможно только на основе данных о поведении пользователей.<br>\nПолучить на основе поведения пользователей гипотезы о том, как можно было бы улучшить приложение с точки зрения пользовательского опыта.",
      "metadata": {}
    },
    {
      "cell_type": "markdown",
      "source": "## Обзор данных",
      "metadata": {}
    },
    {
      "cell_type": "code",
      "source": "#Загрузим необходимые для работы модули и библиотеки\nimport pandas as pd\nimport plotly.express as px\nfrom plotly import graph_objects as go\nfrom scipy import stats as st\nimport numpy as np\nimport math as mth",
      "metadata": {
        "trusted": true
      },
      "outputs": [],
      "execution_count": null
    },
    {
      "cell_type": "code",
      "source": "#Загрузим датасет mobile_dataset.csv, просмотрим основную информацию\ndata = pd.read_csv('/datasets/mobile_dataset.csv')\ndata.info()\ndata.sample(5)",
      "metadata": {
        "trusted": true
      },
      "outputs": [],
      "execution_count": null
    },
    {
      "cell_type": "markdown",
      "source": "Пропуски в данных отсутствуют, но названия столбцов не соответствуют стандартам. А также наблюдаем, что столбец event.time c неверным типом данных.",
      "metadata": {}
    },
    {
      "cell_type": "code",
      "source": "#Загрузим датасет mobile_sources.csv, просмотрим основную информацию\nsource = pd.read_csv('/datasets/mobile_sources.csv')\nsource.info()\nsource.sample(5)",
      "metadata": {
        "trusted": true
      },
      "outputs": [],
      "execution_count": null
    },
    {
      "cell_type": "markdown",
      "source": "Наблюдается аналогичное отсутствие пропусков, но столбец userId потребуется переименовать.",
      "metadata": {}
    },
    {
      "cell_type": "markdown",
      "source": "## Предобработка данных",
      "metadata": {}
    },
    {
      "cell_type": "code",
      "source": "#Приведем названия столбцов в обоих датасетах к \"змеиному\" регистру\ndata.columns = ['event_time', 'event_name', 'user_id']\nsource.columns = ['user_id', 'source']",
      "metadata": {
        "trusted": true
      },
      "outputs": [],
      "execution_count": null
    },
    {
      "cell_type": "code",
      "source": "#Приведем столбец event_time к корректному типу, а также уберем миллисекунды\ndata['event_time'] = pd.to_datetime(data['event_time'], format ='%Y-%m-%d %H:%M:%S')\ndata['event_time'] = data['event_time'].dt.round('S')",
      "metadata": {
        "trusted": true
      },
      "outputs": [],
      "execution_count": null
    },
    {
      "cell_type": "code",
      "source": "#Проверим количество явных дубликатов\ndata.duplicated().sum()",
      "metadata": {
        "trusted": true
      },
      "outputs": [],
      "execution_count": null
    },
    {
      "cell_type": "code",
      "source": "#Проверим количество явных дубликатов\nsource.duplicated().sum()",
      "metadata": {
        "trusted": true
      },
      "outputs": [],
      "execution_count": null
    },
    {
      "cell_type": "markdown",
      "source": "В датасете с источниками установки приложения явные дубликаты остутствуют, в основсном же датасете их количество составляет не более 1,5% от общего - избавимся от них.",
      "metadata": {}
    },
    {
      "cell_type": "code",
      "source": "data = data.drop_duplicates().reset_index(drop=True)",
      "metadata": {
        "trusted": true
      },
      "outputs": [],
      "execution_count": null
    },
    {
      "cell_type": "code",
      "source": "#Выведем список уникальных значений действий пользователя\ndata['event_name'].value_counts()",
      "metadata": {
        "trusted": true
      },
      "outputs": [],
      "execution_count": null
    },
    {
      "cell_type": "markdown",
      "source": "Наблюдаются неявные дубликаты в виде действия 'посмотрел номер телефона'. Также имеются разные действия, связанные с поиском по сайту, которые затруднительно охарактеризовать.",
      "metadata": {}
    },
    {
      "cell_type": "code",
      "source": "#Удалим неявные дубликаты, объединив действия в 'contacts_show'\ndata['event_name'] = data['event_name'].replace('show_contacts','contacts_show')",
      "metadata": {
        "trusted": true
      },
      "outputs": [],
      "execution_count": null
    },
    {
      "cell_type": "code",
      "source": "#Объединим search_1 - search_7 в одно действие\ndata['event_name'] = data['event_name'].str.replace(r'search_\\d+', 'search', regex=True)",
      "metadata": {
        "trusted": true
      },
      "outputs": [],
      "execution_count": null
    },
    {
      "cell_type": "code",
      "source": "#Проверим результат\ndata['event_name'].value_counts()",
      "metadata": {
        "trusted": true
      },
      "outputs": [],
      "execution_count": null
    },
    {
      "cell_type": "markdown",
      "source": "## Исследовательский анализ данных",
      "metadata": {}
    },
    {
      "cell_type": "code",
      "source": "#Уточним отрезок времени исследуемых данных\ndata['event_time'].max() - data['event_time'].min()",
      "metadata": {
        "trusted": true
      },
      "outputs": [],
      "execution_count": null
    },
    {
      "cell_type": "code",
      "source": "#А также минимальную и максимальную дату зафиксированных действий в данных\ndisplay(data['event_time'].min())\ndisplay(data['event_time'].max())",
      "metadata": {
        "trusted": true
      },
      "outputs": [],
      "execution_count": null
    },
    {
      "cell_type": "markdown",
      "source": "Имеются данные за ~28 дней - с 7 октября 00:00:00 по 3 ноября 23:58:13 2019 года.",
      "metadata": {}
    },
    {
      "cell_type": "code",
      "source": "#Количество уникальных пользователей\nprint('Количество уникальных пользователей:', data['user_id'].nunique())",
      "metadata": {
        "trusted": true
      },
      "outputs": [],
      "execution_count": null
    },
    {
      "cell_type": "code",
      "source": "#Количество событий\nprint('Количество событий в датасете:',data['event_name'].count())",
      "metadata": {
        "trusted": true
      },
      "outputs": [],
      "execution_count": null
    },
    {
      "cell_type": "code",
      "source": "event_count = data['event_name'].value_counts()",
      "metadata": {
        "trusted": true
      },
      "outputs": [],
      "execution_count": null
    },
    {
      "cell_type": "code",
      "source": "fig = px.bar(event_count,\n             y='event_name',\n             text='event_name',\n             color_discrete_sequence = px.colors.sequential.Aggrnyl\n            )\nfig.update_layout(title='Распределение событий',\n                  xaxis_title='Название события',\n                  yaxis_title='Количество событий')\nfig.show()",
      "metadata": {
        "trusted": true
      },
      "outputs": [],
      "execution_count": null
    },
    {
      "cell_type": "markdown",
      "source": "Самым частым событием является tips_show (показ рекомендованных объявлений).",
      "metadata": {}
    },
    {
      "cell_type": "code",
      "source": "#Проверим, из каких источников пришли пользователи\nsource.groupby('source').agg({'user_id':'count'}).sort_values(by='user_id', ascending=False)",
      "metadata": {
        "trusted": true
      },
      "outputs": [],
      "execution_count": null
    },
    {
      "cell_type": "markdown",
      "source": "Наибольшее количество пользователей пришло в приложение из источника yandex.",
      "metadata": {}
    },
    {
      "cell_type": "markdown",
      "source": "## Выделение пользовательских сессий и построение воронок по популярным сценариям",
      "metadata": {}
    },
    {
      "cell_type": "code",
      "source": "#Перед процедурой выделения сессий отсортируем датасет по 'user_id' и 'event_time'\ndata = data.sort_values(['user_id', 'event_time'])",
      "metadata": {
        "trusted": true
      },
      "outputs": [],
      "execution_count": null
    },
    {
      "cell_type": "code",
      "source": "#Определим тайм-аут между событиями, равный 30 мин\ng = (data.groupby('user_id')['event_time'].diff() > pd.Timedelta('30Min')).cumsum()\n#Добавим столбец с номером сессии\ndata['session_id'] = data.groupby(['user_id', g], sort=False).ngroup() + 1\ndata",
      "metadata": {
        "trusted": true
      },
      "outputs": [],
      "execution_count": null
    },
    {
      "cell_type": "markdown",
      "source": "За основу взяты тайм-ауты по умолчанию из сервисов, предназначенных для оценки посещаемости веб-сайтов и анализа поведения пользователей - Яндекс.Метрика и GoogleAnalytics.<br>\n1) https://yandex.ru/support/metrica/general/glossary.html?ysclid=lt4s60nroe897625040<br>\n2) https://support.google.com/analytics/answer/2731565?hl=ru#zippy=%2C%D1%81%D0%BE%D0%B4%D0%B5%D1%80%D0%B6%D0%B0%D0%BD%D0%B8%D0%B5",
      "metadata": {}
    },
    {
      "cell_type": "code",
      "source": "#Выявим количество дубликатов\ndata.duplicated(subset=['session_id', 'event_name']).sum()",
      "metadata": {
        "trusted": true
      },
      "outputs": [],
      "execution_count": null
    },
    {
      "cell_type": "code",
      "source": "#Удалим повторяющиеся события внутри одной сессии\nclear_data = data.drop_duplicates(subset=['session_id', 'event_name'])\n#Удалим 'tips_show' для построения воронок по активных действиям пользователей\nclear_data = clear_data.drop(clear_data[clear_data['event_name'] == 'tips_show'].index)\nclear_data",
      "metadata": {
        "trusted": true
      },
      "outputs": [],
      "execution_count": null
    },
    {
      "cell_type": "code",
      "source": "#Создадим датафрейм с последовательностью событий, совершенными уникальными пользователями\nsessions = clear_data.groupby('session_id')['event_name'].apply(tuple).to_frame().reset_index()\nsessions",
      "metadata": {
        "trusted": true
      },
      "outputs": [],
      "execution_count": null
    },
    {
      "cell_type": "code",
      "source": "sessions['event_name'].value_counts()",
      "metadata": {
        "trusted": true
      },
      "outputs": [],
      "execution_count": null
    },
    {
      "cell_type": "code",
      "source": "#Выведем сессии, в которые просмотрели контакты\nsessions['contacts_show'] = sessions['event_name'].apply(lambda x: ('contacts_show' in x))\ndisplay(sessions[sessions['contacts_show']==True].head(10))",
      "metadata": {
        "trusted": true
      },
      "outputs": [],
      "execution_count": null
    },
    {
      "cell_type": "code",
      "source": "clear_data.query('session_id == 6')",
      "metadata": {
        "trusted": true
      },
      "outputs": [],
      "execution_count": null
    },
    {
      "cell_type": "code",
      "source": "session_contacts_show = sessions.query('contacts_show == True')\nsession_contacts_show",
      "metadata": {
        "trusted": true
      },
      "outputs": [],
      "execution_count": null
    },
    {
      "cell_type": "code",
      "source": "#Посмотрим, какие сценарии встречаются чаще\nscript = session_contacts_show.groupby('event_name')['session_id'].count().sort_values(ascending=False).reset_index()\nscript.head(10)",
      "metadata": {
        "trusted": true
      },
      "outputs": [],
      "execution_count": null
    },
    {
      "cell_type": "markdown",
      "source": "Рассмотрим распространенные сценарии. Выберем для построения воронок следующие сценарии, оканчивающиеся целевым событием: 1) открыл карту - посмотрел контакт и 2) воспользовался поиском - посмотрел фото - посмотрел контакт.",
      "metadata": {}
    },
    {
      "cell_type": "code",
      "source": "user_map = (data[data['event_name'] == 'map']['user_id']).unique()\nuser_map_cnt = len(user_map)\n\nuser_contacts_show = (data[(data['event_name'] == 'contacts_show') & (data['user_id'].isin(user_map))]['user_id']).unique()\nuser_contacts_show_cnt = len(user_contacts_show)\n\nfunnel_1 = pd.DataFrame({'event_name' : ['map', 'contacts_show'],\n                           'user_count' : [user_map_cnt, user_contacts_show_cnt]})\nfunnel_1",
      "metadata": {
        "trusted": true
      },
      "outputs": [],
      "execution_count": null
    },
    {
      "cell_type": "code",
      "source": "fig = go.Figure()\nfig.add_trace(go.Funnel(y = funnel_1[\"event_name\"],\n    x = funnel_1['user_count'], textposition = \"inside\", \n    textinfo = \"value+percent previous\"))\nfig.update_layout(title='Воронка \"map -> contacts_show\"')",
      "metadata": {
        "trusted": true
      },
      "outputs": [],
      "execution_count": null
    },
    {
      "cell_type": "markdown",
      "source": "От просмотревших карту дошли до просмотра номера телефона 19,8% или 289 пользователей.",
      "metadata": {}
    },
    {
      "cell_type": "code",
      "source": "user_search = data[data['event_name'] == 'search']['user_id'].unique()\nuser_search_cnt = len(user_search)\n\nuser_photos_show = (data[(data['event_name'] == 'photos_show') & (data['user_id'].isin(user_search))]['user_id']).unique()\nuser_photos_show_cnt = len(user_photos_show)\n\nuser_contacts_show_2 = (data[(data['event_name'] == 'contacts_show') & (data['user_id'].isin(user_photos_show))]['user_id']).unique()\nuser_contacts_show_2_cnt = len(user_contacts_show_2)\n\nfunnel_2 = pd.DataFrame({'event_name' : ['search', 'photos_show', 'contacts_show'],\n                           'user_count' : [user_search_cnt, user_photos_show_cnt, user_contacts_show_2_cnt]})\nfunnel_2",
      "metadata": {
        "trusted": true
      },
      "outputs": [],
      "execution_count": null
    },
    {
      "cell_type": "code",
      "source": "fig = go.Figure()\nfig.add_trace(go.Funnel(y = funnel_2[\"event_name\"],\n    x = funnel_2['user_count'],textposition = \"inside\", \n    textinfo = \"value+percent previous\"))\nfig.update_layout(title='Воронка \"search -> photos_show -> contacts_show\"')",
      "metadata": {
        "trusted": true
      },
      "outputs": [],
      "execution_count": null
    },
    {
      "cell_type": "markdown",
      "source": "После поиска фото просмотрели 647 пользователей, что является 38,8% от изначального количества. Что же касается целевого события, то завершили действия данного сценария 192 человека - 11,5% от изначального количества.",
      "metadata": {}
    },
    {
      "cell_type": "markdown",
      "source": "## Расчет относительной частоты событий в разрезе двух групп пользователей",
      "metadata": {}
    },
    {
      "cell_type": "code",
      "source": "#Запишем общее количество уникальных пользователей в новую переменную\nuser_total = data['user_id'].unique()",
      "metadata": {
        "trusted": true
      },
      "outputs": [],
      "execution_count": null
    },
    {
      "cell_type": "code",
      "source": "#Проверим количество пользователей, совершивших целевое событие - просмотр контактов\nuser_contacts_show = data.query('event_name==\"contacts_show\"')['user_id'].unique().tolist()\nprint(\"Количество пользователей, просмотревших контакты =\", len(user_contacts_show))",
      "metadata": {
        "trusted": true
      },
      "outputs": [],
      "execution_count": null
    },
    {
      "cell_type": "code",
      "source": "#Проверим количество пользователей, не совершавших целевое событие - просмотр контактов\nuser_no_contacts_show = list( set(user_total) - set(user_contacts_show) )\nprint(\"Количество пользователей, не просмотревших контакты =\", len(user_no_contacts_show))",
      "metadata": {
        "trusted": true
      },
      "outputs": [],
      "execution_count": null
    },
    {
      "cell_type": "code",
      "source": "#Количество действий, совершаемое пользователями, просмотревших контакты\nyes_contacts_show = data.query('user_id==@user_contacts_show')['event_name'].value_counts().to_frame()\n#Для более корректного сравнения количества дейтсвий исключим из первой таблицы просмотры контактов и сопровождающие их звонки по номеру\nyes_contacts_show = yes_contacts_show.drop(['contacts_call','contacts_show'])\nyes_contacts_show",
      "metadata": {
        "trusted": true
      },
      "outputs": [],
      "execution_count": null
    },
    {
      "cell_type": "code",
      "source": "#Количество действий, совершаемое пользователями, не просмотревших контакты\nno_contacts_show = data.query('user_id==@user_no_contacts_show')['event_name'].value_counts().to_frame()\nno_contacts_show",
      "metadata": {
        "trusted": true
      },
      "outputs": [],
      "execution_count": null
    },
    {
      "cell_type": "code",
      "source": "#Добавим столбец с долей совершаемых действий\nyes_contacts_show['percent'] = (yes_contacts_show['event_name']/yes_contacts_show['event_name'].sum()*100).round(1)\nno_contacts_show['percent'] = (no_contacts_show['event_name']/no_contacts_show['event_name'].sum()*100).round(1)",
      "metadata": {
        "trusted": true
      },
      "outputs": [],
      "execution_count": null
    },
    {
      "cell_type": "code",
      "source": "fig = px.bar(yes_contacts_show,\n             y='event_name',\n             text='percent',\n             color_discrete_sequence = px.colors.sequential.Aggrnyl\n            )\nfig.update_layout(title='Доля и количество действий, совершаемых пользователями, просмотревших контакты',\n                  xaxis_title='Название события',\n                  yaxis_title='Количество событий')\nfig.show()",
      "metadata": {
        "trusted": true
      },
      "outputs": [],
      "execution_count": null
    },
    {
      "cell_type": "code",
      "source": "fig = px.bar(no_contacts_show,\n             y='event_name',\n             text='percent',\n             color_discrete_sequence = px.colors.sequential.Aggrnyl\n            )\nfig.update_layout(title='Доля и количество действий, совершаемых пользователями, не просмотревших контакты',\n                  xaxis_title='Название события',\n                  yaxis_title='Количество событий')\nfig.show()",
      "metadata": {
        "scrolled": true,
        "trusted": true
      },
      "outputs": [],
      "execution_count": null
    },
    {
      "cell_type": "markdown",
      "source": "Наибольшее различие связано с действием 'просмотр фото объявления' - в группе, просмотревших контакты, этот показатель на 3,5% больше.\nВ остальном, разницы относительной частоты событий в разрезе двух групп пользователей - пользователей, которые смотрели/не смотрели контакты, практически не обнаружено. ",
      "metadata": {}
    },
    {
      "cell_type": "markdown",
      "source": "## Проверка гипотез",
      "metadata": {}
    },
    {
      "cell_type": "markdown",
      "source": "### **Одни пользователи совершают действия tips_show и tips_click , другие - только tips_show.**<br>\nН0: Конверсия в просмотры контактов не\nразличается у этих двух групп.<br>\nН1: Конверсия в просмотры контактов у этих двух групп различается.",
      "metadata": {}
    },
    {
      "cell_type": "code",
      "source": "#Распределим пользователей по группам\ntips_show_total = data.query('event_name ==\"tips_show\"')['user_id'].unique().tolist()\nprint('Общее количество уникальных пользователей, совершивших действие tips_show:', len(tips_show_total))\nh_tips_show_click = data.query('event_name ==\"tips_click\" and user_id==@tips_show_total')['user_id'].unique().tolist()\nprint('Количество уникальных пользователей, совершивших действия tips_show и tips_click:', len(h_tips_show_click))\nh_tips_show = list(set(tips_show_total) - set(h_tips_show_click))\nprint('Количество уникальных пользователей, совершивших только действие tips_show:', len(h_tips_show))",
      "metadata": {
        "trusted": true
      },
      "outputs": [],
      "execution_count": null
    },
    {
      "cell_type": "code",
      "source": "tips_show_goal = data.query('user_id in @h_tips_show and event_name == \"contacts_show\"')['user_id'].unique()\nprint('Количество уникальных пользователей, совершивших только действие tips_show и contacts_show:', len(tips_show_goal))",
      "metadata": {
        "trusted": true
      },
      "outputs": [],
      "execution_count": null
    },
    {
      "cell_type": "code",
      "source": "tips_show_click_goal = data.query('user_id in @h_tips_show_click and event_name == \"contacts_show\"')['user_id'].unique()\nprint('Количество уникальных пользователей, совершивших действия tips_show, tips_click и contacts_show:',\n      len(tips_show_click_goal))",
      "metadata": {
        "trusted": true
      },
      "outputs": [],
      "execution_count": null
    },
    {
      "cell_type": "code",
      "source": "#Проверка гипотезы о равенстве конверсий двух групп \nalpha = 0.05  #Критический уровень статистической значимости\n\nsuccesses = np.array([len(tips_show_goal),len(tips_show_click_goal)])\ntrials = np.array([len(h_tips_show),len(h_tips_show_click)])\n\n#Пропорция успехов в первой группе\np1 = successes[0]/trials[0]\n\n#Пропорция успехов во второй группе\np2 = successes[1]/trials[1]\n\n#Пропорция успехов в комбинированном датасете\np_combined = (successes[0] + successes[1]) / (trials[0] + trials[1])\n\n#Разница пропорций в датасетах\ndifference = p1 - p2 \n\n#Посчитаем статистику в ст.отклонениях стандартного нормального распределения\nz_value = difference / mth.sqrt(p_combined * (1 - p_combined) * (1 / trials[0] + 1 / trials[1]))\n\n#Зададим стандартное нормальное распределение (среднее 0, ст.отклонение 1)\ndistr = st.norm(0, 1)  \n\np_value = (1 - distr.cdf(abs(z_value))) * 2\n\nprint('p-value: ', p_value)\nprint('Конверсии:',p1, 'и', p2)\n\nif p_value < alpha:\n    print('Отвергаем нулевую гипотезу')\nelse:\n    print(\n        'Не удалось отвергнуть нулевую гипотезу'\n    )",
      "metadata": {
        "trusted": true
      },
      "outputs": [],
      "execution_count": null
    },
    {
      "cell_type": "markdown",
      "source": "Конверсии в просмотры контактов между пользователями, которые совершили события tips_show и tips_click и теми, кто совершил только tips_show, имеют статистически значимое различие.",
      "metadata": {}
    },
    {
      "cell_type": "markdown",
      "source": "### **Конверсия в целевое событие между группами, пришедших из источников google и yandex.**<br>\nН0: Конверсия в просмотры контактов не\nразличается у этих двух групп.<br>\nН1: Конверсия в просмотры контактов у этих двух групп различается.<br>",
      "metadata": {}
    },
    {
      "cell_type": "code",
      "source": "#Выделим группы\nyandex = source.query('source ==\"yandex\"')['user_id'].unique().tolist()\nprint('Количество уникальных пользователей, пришедших из yandex:', len(yandex))\ngoogle = source.query('source ==\"google\"')['user_id'].unique().tolist()\nprint('Количество уникальных пользователей, пришедших из google:', len(google))",
      "metadata": {
        "trusted": true
      },
      "outputs": [],
      "execution_count": null
    },
    {
      "cell_type": "code",
      "source": "#Выявим количество пользователей из yandex, которые совершали целевое действие - просмотр контактов\nyandex_contacts = data.query('user_id in @yandex and event_name == \"contacts_show\"')['user_id'].unique()\nprint('Количество пользователей из yandex, просмотревших контакты:', len(yandex_contacts))",
      "metadata": {
        "trusted": true
      },
      "outputs": [],
      "execution_count": null
    },
    {
      "cell_type": "code",
      "source": "#Выявим количество пользователей из google, которые совершали целевое действие - просмотр контактов\ngoogle_contacts = data.query('user_id in @google and event_name == \"contacts_show\"')['user_id'].unique()\nprint('Количество пользователей из google, просмотревших контакты:', len(google_contacts))",
      "metadata": {
        "trusted": true
      },
      "outputs": [],
      "execution_count": null
    },
    {
      "cell_type": "code",
      "source": "#Проверка гипотезы о равенстве конверсий двух групп\nalpha = 0.05  #Критический уровень статистической значимости\n\nsuccesses = np.array([len(yandex_contacts), len(google_contacts)])\ntrials = np.array([len(yandex),len(google)])\n\n#Пропорция успехов в первой группе:\np1 = successes[0]/trials[0]\n\n#Пропорция успехов во второй группе:\np2 = successes[1]/trials[1]\n\n#Пропорция успехов в комбинированном датасете:\np_combined = (successes[0] + successes[1]) / (trials[0] + trials[1])\n\n#Разница пропорций в датасетах\ndifference = p1 - p2 \n\n#Посчитаем статистику в ст.отклонениях стандартного нормального распределения\nz_value = difference / mth.sqrt(p_combined * (1 - p_combined) * (1 / trials[0] + 1 / trials[1]))\n\n#Зададим стандартное нормальное распределение (среднее 0, ст.отклонение 1)\ndistr = st.norm(0, 1)  \n\np_value = (1 - distr.cdf(abs(z_value))) * 2\n\nprint('p-value: ', p_value)\nprint('Конверсии:',p1, 'и', p2)\n\nif p_value < alpha:\n    print('Отвергаем нулевую гипотезу')\nelse:\n    print(\n        'Не удалось отвергнуть нулевую гипотезу'\n    )",
      "metadata": {
        "trusted": true
      },
      "outputs": [],
      "execution_count": null
    },
    {
      "cell_type": "markdown",
      "source": "Не выявлено статистически значимого различия между конверсиями пользователей из источников yandex и google.",
      "metadata": {}
    },
    {
      "cell_type": "markdown",
      "source": "## Выводы и рекомендации",
      "metadata": {}
    },
    {
      "cell_type": "markdown",
      "source": "**В ходе анализа поведения пользователей приложения \"Ненужные вещи\" загружены необходимые данные, произведена предобработка и исследовательский анализ данных.\nВыявлено, что имеются данные за ~28 дней - с 7 октября по 3 ноября 2019 года, количество уникальных пользователей - 4293, а количество событий в датасете - 73079.<br>\nСамым частым событием является tips_show (показ рекомендованных объявлений). Наибольшее количество пользователей пришло в приложение из источника yandex.<br>\nБыл определен тайм-аут между событиями, равный 30 мин и рассмотрены самые распространенные сценарии. Выбраны для построения воронок сценарии, оканчивающиеся целевым событием.\nВ сценарии №1 \"открыл карту - посмотрел контакт\" было обнаружено: От просмотревших карту дошли до просмотра номера телефона 19,8% или 289 пользователей.<br>\nВ сценарии №2 \"воспользовался поиском - посмотрел фото - посмотрел контакт\" установлено, что после поиска фото просмотрели 647 пользователей, что является 38,8% от изначального количества. Что же касается целевого события, то завершили действия данного сценария 192 человека - 11,5% от изначального количества.<br>\nВыявлено, что разницы относительной частоты событий в разрезе двух групп пользователей - пользователей, которые смотрели/не смотрели контакты, практически не обнаружено.\nНаибольшее различие связано с действием 'просмотр фото объявления' - в группе, просмотревших контакты, этот показатель на 3,5% больше.<br>\nБыли проверены 2 гипотезы:<br>\nВ конверсиях группы, совершившей действия tips_show и tips_click, и группы, совершившей только tips_show - есть статистически значимая разница.\nВ конверсиях групп пользователей, пришедших из разных источников (yandex и google), статистической разницы конверсии в просмотры контактов обнаружено не было.<br>\n<br>\nТребуется уделить особое внимание функциям поиска в целях повышении конверсии в целевое событие.\nТакже, возможно, потребуется пересмотреть алгоритм подбора рекомендованных объявлений для различных пользователей.\nОчевидно, что наличие фото в объявлениях увеличивает вероятность того, что пользователь дойдёт до просмотра контактов, стоит подумать над исключением возможности проходить модерацию объявлениям без фотографий.**",
      "metadata": {}
    }
  ]
}